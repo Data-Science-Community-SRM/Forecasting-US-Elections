{
 "cells": [
  {
   "cell_type": "markdown",
   "metadata": {},
   "source": [
    "## Importing Libraries"
   ]
  },
  {
   "cell_type": "code",
   "execution_count": 3,
   "metadata": {},
   "outputs": [],
   "source": [
    "import re\n",
    "import numpy as np\n",
    "\n",
    "import matplotlib.pyplot as plt\n",
    "import seaborn as sns\n",
    "\n",
    "import pandas as pd\n",
    "\n",
    "import datetime as dt\n",
    "from collections import Counter\n",
    "\n",
    "import nltk\n",
    "from nltk.tokenize import sent_tokenize\n",
    "from nltk.tokenize import TweetTokenizer\n",
    "from nltk.tokenize import word_tokenize\n",
    "from nltk.corpus import words\n",
    "from nltk.corpus import stopwords\n",
    "from nltk.stem import PorterStemmer\n",
    "from nltk.stem import WordNetLemmatizer"
   ]
  },
  {
   "cell_type": "code",
   "execution_count": 4,
   "metadata": {},
   "outputs": [],
   "source": [
    "df = pd.read_csv(r'C:\\Users\\ROSHAN\\Documents\\GitHub\\extracting-tweets-forecasting-the-upcoming-elections-in-the-us\\Rohan\\New Extraction\\Data\\Biden_No_Retweet_Full_Text.csv',error_bad_lines=False)"
   ]
  },
  {
   "cell_type": "code",
   "execution_count": 5,
   "metadata": {},
   "outputs": [
    {
     "data": {
      "text/html": [
       "<div>\n",
       "<style scoped>\n",
       "    .dataframe tbody tr th:only-of-type {\n",
       "        vertical-align: middle;\n",
       "    }\n",
       "\n",
       "    .dataframe tbody tr th {\n",
       "        vertical-align: top;\n",
       "    }\n",
       "\n",
       "    .dataframe thead th {\n",
       "        text-align: right;\n",
       "    }\n",
       "</style>\n",
       "<table border=\"1\" class=\"dataframe\">\n",
       "  <thead>\n",
       "    <tr style=\"text-align: right;\">\n",
       "      <th></th>\n",
       "      <th>Date</th>\n",
       "      <th>Tweet_id</th>\n",
       "      <th>Verified</th>\n",
       "      <th>Tweet</th>\n",
       "      <th>User</th>\n",
       "      <th>Location</th>\n",
       "      <th>Source</th>\n",
       "      <th>Likes</th>\n",
       "      <th>Followers</th>\n",
       "      <th>Following</th>\n",
       "      <th>Retweets</th>\n",
       "    </tr>\n",
       "  </thead>\n",
       "  <tbody>\n",
       "    <tr>\n",
       "      <th>0</th>\n",
       "      <td>2020-07-21 23:59:43</td>\n",
       "      <td>1285726179907993601</td>\n",
       "      <td>False</td>\n",
       "      <td>@JoeBiden VP Biden I wish you wouldn't debate ...</td>\n",
       "      <td>BballmomEjZay</td>\n",
       "      <td>United States</td>\n",
       "      <td>Twitter for Android</td>\n",
       "      <td>0</td>\n",
       "      <td>54</td>\n",
       "      <td>192</td>\n",
       "      <td>0</td>\n",
       "    </tr>\n",
       "    <tr>\n",
       "      <th>1</th>\n",
       "      <td>2020-07-21 23:59:27</td>\n",
       "      <td>1285726110513344520</td>\n",
       "      <td>False</td>\n",
       "      <td>#GeorgeWill , it’s so sad you wake up everyday...</td>\n",
       "      <td>TalbotMac</td>\n",
       "      <td>East Aurora, NY</td>\n",
       "      <td>Twitter for iPhone</td>\n",
       "      <td>0</td>\n",
       "      <td>882</td>\n",
       "      <td>1554</td>\n",
       "      <td>0</td>\n",
       "    </tr>\n",
       "    <tr>\n",
       "      <th>2</th>\n",
       "      <td>2020-07-21 23:59:24</td>\n",
       "      <td>1285726099239055361</td>\n",
       "      <td>False</td>\n",
       "      <td>Question:\\nIf @JoeBiden doesn’t pick a woman o...</td>\n",
       "      <td>bk_middleclass</td>\n",
       "      <td>Nashville, TN</td>\n",
       "      <td>Twitter for iPhone</td>\n",
       "      <td>0</td>\n",
       "      <td>1294</td>\n",
       "      <td>1213</td>\n",
       "      <td>0</td>\n",
       "    </tr>\n",
       "    <tr>\n",
       "      <th>3</th>\n",
       "      <td>2020-07-21 23:58:47</td>\n",
       "      <td>1285725945849151490</td>\n",
       "      <td>False</td>\n",
       "      <td>Right? 🤣🤣🤣 #Biden formally implicated in #Ukra...</td>\n",
       "      <td>MMorganBlair</td>\n",
       "      <td>United States</td>\n",
       "      <td>Twitter for iPhone</td>\n",
       "      <td>1</td>\n",
       "      <td>2476</td>\n",
       "      <td>3334</td>\n",
       "      <td>1</td>\n",
       "    </tr>\n",
       "    <tr>\n",
       "      <th>4</th>\n",
       "      <td>2020-07-21 23:58:02</td>\n",
       "      <td>1285725754961965056</td>\n",
       "      <td>False</td>\n",
       "      <td>These idiots let Trump do anything he wants. W...</td>\n",
       "      <td>realfacade1</td>\n",
       "      <td>Purgatory</td>\n",
       "      <td>Twitter for Android</td>\n",
       "      <td>0</td>\n",
       "      <td>2764</td>\n",
       "      <td>3799</td>\n",
       "      <td>0</td>\n",
       "    </tr>\n",
       "  </tbody>\n",
       "</table>\n",
       "</div>"
      ],
      "text/plain": [
       "                  Date             Tweet_id  Verified  \\\n",
       "0  2020-07-21 23:59:43  1285726179907993601     False   \n",
       "1  2020-07-21 23:59:27  1285726110513344520     False   \n",
       "2  2020-07-21 23:59:24  1285726099239055361     False   \n",
       "3  2020-07-21 23:58:47  1285725945849151490     False   \n",
       "4  2020-07-21 23:58:02  1285725754961965056     False   \n",
       "\n",
       "                                               Tweet            User  \\\n",
       "0  @JoeBiden VP Biden I wish you wouldn't debate ...   BballmomEjZay   \n",
       "1  #GeorgeWill , it’s so sad you wake up everyday...       TalbotMac   \n",
       "2  Question:\\nIf @JoeBiden doesn’t pick a woman o...  bk_middleclass   \n",
       "3  Right? 🤣🤣🤣 #Biden formally implicated in #Ukra...    MMorganBlair   \n",
       "4  These idiots let Trump do anything he wants. W...     realfacade1   \n",
       "\n",
       "          Location               Source  Likes  Followers  Following  Retweets  \n",
       "0    United States  Twitter for Android      0         54        192         0  \n",
       "1  East Aurora, NY   Twitter for iPhone      0        882       1554         0  \n",
       "2    Nashville, TN   Twitter for iPhone      0       1294       1213         0  \n",
       "3    United States   Twitter for iPhone      1       2476       3334         1  \n",
       "4       Purgatory   Twitter for Android      0       2764       3799         0  "
      ]
     },
     "execution_count": 5,
     "metadata": {},
     "output_type": "execute_result"
    }
   ],
   "source": [
    "df.head()"
   ]
  },
  {
   "cell_type": "code",
   "execution_count": 6,
   "metadata": {},
   "outputs": [
    {
     "name": "stdout",
     "output_type": "stream",
     "text": [
      "<class 'pandas.core.frame.DataFrame'>\n",
      "RangeIndex: 15098 entries, 0 to 15097\n",
      "Data columns (total 11 columns):\n",
      " #   Column     Non-Null Count  Dtype \n",
      "---  ------     --------------  ----- \n",
      " 0   Date       15098 non-null  object\n",
      " 1   Tweet_id   15098 non-null  int64 \n",
      " 2   Verified   15098 non-null  bool  \n",
      " 3   Tweet      15098 non-null  object\n",
      " 4   User       15098 non-null  object\n",
      " 5   Location   11032 non-null  object\n",
      " 6   Source     15098 non-null  object\n",
      " 7   Likes      15098 non-null  int64 \n",
      " 8   Followers  15098 non-null  int64 \n",
      " 9   Following  15098 non-null  int64 \n",
      " 10  Retweets   15098 non-null  int64 \n",
      "dtypes: bool(1), int64(5), object(5)\n",
      "memory usage: 1.2+ MB\n"
     ]
    }
   ],
   "source": [
    "df.info()"
   ]
  },
  {
   "cell_type": "code",
   "execution_count": 7,
   "metadata": {},
   "outputs": [
    {
     "data": {
      "text/plain": [
       "(15098, 11)"
      ]
     },
     "execution_count": 7,
     "metadata": {},
     "output_type": "execute_result"
    }
   ],
   "source": [
    "df.shape"
   ]
  },
  {
   "cell_type": "markdown",
   "metadata": {},
   "source": [
    "# Data Preprocessing & Cleaning"
   ]
  },
  {
   "cell_type": "markdown",
   "metadata": {},
   "source": [
    "The Date column is an object type. Let us convert it to datetime using datetime module."
   ]
  },
  {
   "cell_type": "code",
   "execution_count": 8,
   "metadata": {},
   "outputs": [],
   "source": [
    "df['Date'] = df['Date'].apply(lambda x: dt.datetime.strptime(x,'%Y-%m-%d %H:%M:%S')) #Convert to date time format"
   ]
  },
  {
   "cell_type": "code",
   "execution_count": 9,
   "metadata": {},
   "outputs": [
    {
     "data": {
      "text/plain": [
       "Date         datetime64[ns]\n",
       "Tweet_id              int64\n",
       "Verified               bool\n",
       "Tweet                object\n",
       "User                 object\n",
       "Location             object\n",
       "Source               object\n",
       "Likes                 int64\n",
       "Followers             int64\n",
       "Following             int64\n",
       "Retweets              int64\n",
       "dtype: object"
      ]
     },
     "execution_count": 9,
     "metadata": {},
     "output_type": "execute_result"
    }
   ],
   "source": [
    "df.dtypes"
   ]
  },
  {
   "cell_type": "markdown",
   "metadata": {},
   "source": [
    "Let us check for any null values in our dataset"
   ]
  },
  {
   "cell_type": "code",
   "execution_count": 10,
   "metadata": {},
   "outputs": [
    {
     "data": {
      "text/plain": [
       "Date            0\n",
       "Tweet_id        0\n",
       "Verified        0\n",
       "Tweet           0\n",
       "User            0\n",
       "Location     4066\n",
       "Source          0\n",
       "Likes           0\n",
       "Followers       0\n",
       "Following       0\n",
       "Retweets        0\n",
       "dtype: int64"
      ]
     },
     "execution_count": 10,
     "metadata": {},
     "output_type": "execute_result"
    }
   ],
   "source": [
    "df.isnull().sum()"
   ]
  },
  {
   "cell_type": "markdown",
   "metadata": {},
   "source": [
    "The location column has upto 4066 values as null. This may be the case since many users didn't voluntarily put it up. However this is not of much concern for our project. Hence we would leave it to null only"
   ]
  },
  {
   "cell_type": "code",
   "execution_count": 11,
   "metadata": {},
   "outputs": [
    {
     "data": {
      "text/plain": [
       "Twitter Web App        5910\n",
       "Twitter for iPhone     4565\n",
       "Twitter for Android    3267\n",
       "Twitter for iPad        705\n",
       "TweetDeck               150\n",
       "                       ... \n",
       "Restream.io               1\n",
       "Periscope                 1\n",
       "Moa Bridge                1\n",
       "Socialbakers              1\n",
       "Rememberthosetimes        1\n",
       "Name: Source, Length: 87, dtype: int64"
      ]
     },
     "execution_count": 11,
     "metadata": {},
     "output_type": "execute_result"
    }
   ],
   "source": [
    "df['Source'].value_counts()"
   ]
  },
  {
   "cell_type": "markdown",
   "metadata": {},
   "source": [
    "About 10,000 users tweeted from the web app & from iphone"
   ]
  },
  {
   "cell_type": "code",
   "execution_count": 12,
   "metadata": {},
   "outputs": [
    {
     "data": {
      "text/plain": [
       "3200"
      ]
     },
     "execution_count": 12,
     "metadata": {},
     "output_type": "execute_result"
    }
   ],
   "source": [
    "df['Location'].nunique()"
   ]
  },
  {
   "cell_type": "markdown",
   "metadata": {},
   "source": [
    "Tweets gathered were from 3200 different locations around the world."
   ]
  },
  {
   "cell_type": "code",
   "execution_count": 13,
   "metadata": {},
   "outputs": [
    {
     "data": {
      "text/plain": [
       "15098"
      ]
     },
     "execution_count": 13,
     "metadata": {},
     "output_type": "execute_result"
    }
   ],
   "source": [
    "tweets_list = df['Tweet'].tolist()\n",
    "len(tweets_list)"
   ]
  },
  {
   "cell_type": "code",
   "execution_count": 14,
   "metadata": {},
   "outputs": [
    {
     "data": {
      "text/plain": [
       "15046"
      ]
     },
     "execution_count": 14,
     "metadata": {},
     "output_type": "execute_result"
    }
   ],
   "source": [
    "tweets_list_updated = set(tweets_list)\n",
    "len(tweets_list_updated)"
   ]
  },
  {
   "cell_type": "markdown",
   "metadata": {},
   "source": [
    "There seems to be some duplicates in our dataset. Let us remove these using the set function"
   ]
  },
  {
   "cell_type": "code",
   "execution_count": 15,
   "metadata": {},
   "outputs": [
    {
     "data": {
      "text/plain": [
       "list"
      ]
     },
     "execution_count": 15,
     "metadata": {},
     "output_type": "execute_result"
    }
   ],
   "source": [
    "tweets_list_updated  = list(tweets_list_updated)\n",
    "type(tweets_list_updated)"
   ]
  },
  {
   "cell_type": "code",
   "execution_count": 16,
   "metadata": {},
   "outputs": [
    {
     "data": {
      "text/plain": [
       "52"
      ]
     },
     "execution_count": 16,
     "metadata": {},
     "output_type": "execute_result"
    }
   ],
   "source": [
    "df['Tweet'].duplicated().sum()"
   ]
  },
  {
   "cell_type": "code",
   "execution_count": 17,
   "metadata": {},
   "outputs": [
    {
     "data": {
      "text/plain": [
       "(15046, 11)"
      ]
     },
     "execution_count": 17,
     "metadata": {},
     "output_type": "execute_result"
    }
   ],
   "source": [
    "df = df.drop_duplicates(subset = 'Tweet', keep = 'first',ignore_index = True)\n",
    "df.shape"
   ]
  },
  {
   "cell_type": "markdown",
   "metadata": {},
   "source": [
    "Removed all the duplicates using the drop_duplicates function"
   ]
  },
  {
   "cell_type": "code",
   "execution_count": 18,
   "metadata": {},
   "outputs": [
    {
     "data": {
      "text/plain": [
       "0"
      ]
     },
     "execution_count": 18,
     "metadata": {},
     "output_type": "execute_result"
    }
   ],
   "source": [
    "df['Tweet'].duplicated().sum()"
   ]
  },
  {
   "cell_type": "markdown",
   "metadata": {},
   "source": [
    "### Remove Emojis"
   ]
  },
  {
   "cell_type": "code",
   "execution_count": 19,
   "metadata": {},
   "outputs": [],
   "source": [
    "def remove_emoji(tweet):\n",
    "    emoji_pattern = re.compile(\"[\"\n",
    "            u\"\\U0001F600-\\U0001F64F\"  # emoticons\n",
    "            u\"\\U0001F300-\\U0001F5FF\"  # symbols & pictographs\n",
    "            u\"\\U0001F680-\\U0001F6FF\"  # transport & map symbols\n",
    "            u\"\\U0001F1E0-\\U0001F1FF\"  # flags (iOS)\n",
    "                               \"]+\", flags=re.UNICODE)\n",
    "    return emoji_pattern.sub(r'', tweet)\n",
    "\n",
    "df['Processed_Tweet']=df.Tweet.apply(remove_emoji)"
   ]
  },
  {
   "cell_type": "markdown",
   "metadata": {},
   "source": [
    "From now on, all the preprocessing & modelling on tweets will be stored in the data column called 'Processed_Tweet'"
   ]
  },
  {
   "cell_type": "code",
   "execution_count": 20,
   "metadata": {},
   "outputs": [
    {
     "data": {
      "text/plain": [
       "0"
      ]
     },
     "execution_count": 20,
     "metadata": {},
     "output_type": "execute_result"
    }
   ],
   "source": [
    "count = 0\n",
    "for i in df['Processed_Tweet']:\n",
    "    if re.match(r'^RT', i):  #remove any rows that contain RT\n",
    "        df.drop(df.loc[df['Processed_Tweet']==i].index,inplace = True)\n",
    "        count+=1\n",
    "    \n",
    "count"
   ]
  },
  {
   "cell_type": "markdown",
   "metadata": {},
   "source": [
    "The above code is to ensure that there are no retweets in our dataset. Using Regex, this has been confirmed."
   ]
  },
  {
   "cell_type": "code",
   "execution_count": 21,
   "metadata": {},
   "outputs": [
    {
     "data": {
      "text/plain": [
       "(15046, 12)"
      ]
     },
     "execution_count": 21,
     "metadata": {},
     "output_type": "execute_result"
    }
   ],
   "source": [
    "df.shape"
   ]
  },
  {
   "cell_type": "code",
   "execution_count": 22,
   "metadata": {},
   "outputs": [
    {
     "data": {
      "text/plain": [
       "0        @JoeBiden VP Biden I wish you wouldn't debate ...\n",
       "1        #GeorgeWill , it’s so sad you wake up everyday...\n",
       "2        Question:\\nIf @JoeBiden doesn’t pick a woman o...\n",
       "3        Right? 🤣🤣🤣 #Biden formally implicated in #Ukra...\n",
       "4        These idiots let Trump do anything he wants. W...\n",
       "                               ...                        \n",
       "15041    Other than going big by eulogizing #StromThurm...\n",
       "15042    Don't want to leave out the left! Show your su...\n",
       "15043    Some chatter about #Biden maybe activating res...\n",
       "15044    Fake #Polls? Why #Biden's 'Nationwide Lead' Ov...\n",
       "15045    #Joe #Biden #Trump police should not be armed ...\n",
       "Name: Processed_Tweet, Length: 15046, dtype: object"
      ]
     },
     "execution_count": 22,
     "metadata": {},
     "output_type": "execute_result"
    }
   ],
   "source": [
    "df['Processed_Tweet']"
   ]
  },
  {
   "cell_type": "markdown",
   "metadata": {},
   "source": [
    "### Remove Retweets"
   ]
  },
  {
   "cell_type": "code",
   "execution_count": 23,
   "metadata": {},
   "outputs": [],
   "source": [
    "df['Processed_Tweet'] = [re.sub('^RT[\\s]','',i) for i in df['Processed_Tweet']]  #Remove RT substring"
   ]
  },
  {
   "cell_type": "code",
   "execution_count": 24,
   "metadata": {},
   "outputs": [
    {
     "data": {
      "text/plain": [
       "0        @JoeBiden VP Biden I wish you wouldn't debate ...\n",
       "1        #GeorgeWill , it’s so sad you wake up everyday...\n",
       "2        Question:\\nIf @JoeBiden doesn’t pick a woman o...\n",
       "3        Right? 🤣🤣🤣 #Biden formally implicated in #Ukra...\n",
       "4        These idiots let Trump do anything he wants. W...\n",
       "                               ...                        \n",
       "15041    Other than going big by eulogizing #StromThurm...\n",
       "15042    Don't want to leave out the left! Show your su...\n",
       "15043    Some chatter about #Biden maybe activating res...\n",
       "15044    Fake #Polls? Why #Biden's 'Nationwide Lead' Ov...\n",
       "15045    #Joe #Biden #Trump police should not be armed ...\n",
       "Name: Processed_Tweet, Length: 15046, dtype: object"
      ]
     },
     "execution_count": 24,
     "metadata": {},
     "output_type": "execute_result"
    }
   ],
   "source": [
    "df['Processed_Tweet']"
   ]
  },
  {
   "cell_type": "markdown",
   "metadata": {},
   "source": [
    "## Remove Usernames"
   ]
  },
  {
   "cell_type": "code",
   "execution_count": 25,
   "metadata": {},
   "outputs": [],
   "source": [
    "df['Processed_Tweet'] = [re.sub('@[^\\s]+', ' ', i) for i in df['Processed_Tweet']] #remove usernames"
   ]
  },
  {
   "cell_type": "code",
   "execution_count": 26,
   "metadata": {},
   "outputs": [
    {
     "data": {
      "text/plain": [
       "0          VP Biden I wish you wouldn't debate Trump un...\n",
       "1        #GeorgeWill , it’s so sad you wake up everyday...\n",
       "2        Question:\\nIf   doesn’t pick a woman of color,...\n",
       "3        Right? 🤣🤣🤣 #Biden formally implicated in #Ukra...\n",
       "4        These idiots let Trump do anything he wants. W...\n",
       "                               ...                        \n",
       "15041    Other than going big by eulogizing #StromThurm...\n",
       "15042    Don't want to leave out the left! Show your su...\n",
       "15043    Some chatter about #Biden maybe activating res...\n",
       "15044    Fake #Polls? Why #Biden's 'Nationwide Lead' Ov...\n",
       "15045    #Joe #Biden #Trump police should not be armed ...\n",
       "Name: Processed_Tweet, Length: 15046, dtype: object"
      ]
     },
     "execution_count": 26,
     "metadata": {},
     "output_type": "execute_result"
    }
   ],
   "source": [
    "df['Processed_Tweet']"
   ]
  },
  {
   "cell_type": "markdown",
   "metadata": {},
   "source": [
    "## Remove Any URLs "
   ]
  },
  {
   "cell_type": "code",
   "execution_count": 27,
   "metadata": {},
   "outputs": [],
   "source": [
    "df['Processed_Tweet'] = [re.sub('((www\\.[^\\s]+)|(https?://[^\\s]+))', '', i) for i in df['Processed_Tweet']] #Remove urls"
   ]
  },
  {
   "cell_type": "code",
   "execution_count": 28,
   "metadata": {},
   "outputs": [
    {
     "data": {
      "text/plain": [
       "0          VP Biden I wish you wouldn't debate Trump un...\n",
       "1        #GeorgeWill , it’s so sad you wake up everyday...\n",
       "2        Question:\\nIf   doesn’t pick a woman of color,...\n",
       "3        Right? 🤣🤣🤣 #Biden formally implicated in #Ukra...\n",
       "4        These idiots let Trump do anything he wants. W...\n",
       "                               ...                        \n",
       "15041    Other than going big by eulogizing #StromThurm...\n",
       "15042    Don't want to leave out the left! Show your su...\n",
       "15043    Some chatter about #Biden maybe activating res...\n",
       "15044    Fake #Polls? Why #Biden's 'Nationwide Lead' Ov...\n",
       "15045    #Joe #Biden #Trump police should not be armed ...\n",
       "Name: Processed_Tweet, Length: 15046, dtype: object"
      ]
     },
     "execution_count": 28,
     "metadata": {},
     "output_type": "execute_result"
    }
   ],
   "source": [
    "df['Processed_Tweet']"
   ]
  },
  {
   "cell_type": "markdown",
   "metadata": {},
   "source": [
    "## Removing Hashtags & Keeping The Word"
   ]
  },
  {
   "cell_type": "code",
   "execution_count": 29,
   "metadata": {},
   "outputs": [],
   "source": [
    "df['Processed_Tweet'] = [re.sub(r'#([^\\s]+)', r'\\1', i) for i in df['Processed_Tweet']] # remove the # in #hashtag"
   ]
  },
  {
   "cell_type": "code",
   "execution_count": 30,
   "metadata": {},
   "outputs": [
    {
     "data": {
      "text/plain": [
       "0          VP Biden I wish you wouldn't debate Trump un...\n",
       "1        GeorgeWill , it’s so sad you wake up everyday ...\n",
       "2        Question:\\nIf   doesn’t pick a woman of color,...\n",
       "3        Right? 🤣🤣🤣 Biden formally implicated in Ukrain...\n",
       "4        These idiots let Trump do anything he wants. W...\n",
       "                               ...                        \n",
       "15041    Other than going big by eulogizing StromThurmo...\n",
       "15042    Don't want to leave out the left! Show your su...\n",
       "15043    Some chatter about Biden maybe activating reso...\n",
       "15044    Fake Polls? Why Biden's 'Nationwide Lead' Over...\n",
       "15045    Joe Biden Trump police should not be armed to ...\n",
       "Name: Processed_Tweet, Length: 15046, dtype: object"
      ]
     },
     "execution_count": 30,
     "metadata": {},
     "output_type": "execute_result"
    }
   ],
   "source": [
    "df['Processed_Tweet']"
   ]
  },
  {
   "cell_type": "markdown",
   "metadata": {},
   "source": [
    "## Using Preprocessor Library"
   ]
  },
  {
   "cell_type": "code",
   "execution_count": 31,
   "metadata": {},
   "outputs": [],
   "source": [
    "import preprocessor as p #Module for faster preprocessing specifically for tweets"
   ]
  },
  {
   "cell_type": "code",
   "execution_count": 32,
   "metadata": {},
   "outputs": [],
   "source": [
    "df['Processed_Tweet'] = [p.clean(i) for i in df['Processed_Tweet']]"
   ]
  },
  {
   "cell_type": "code",
   "execution_count": 33,
   "metadata": {},
   "outputs": [
    {
     "data": {
      "text/plain": [
       "0        VP Biden I wish you wouldn't debate Trump unle...\n",
       "1        GeorgeWill , its so sad you wake up everyday f...\n",
       "2        Question:If doesnt pick a woman of color, woul...\n",
       "3        Right? Biden formally implicated in Ukraine sc...\n",
       "4        These idiots let Trump do anything he wants. W...\n",
       "                               ...                        \n",
       "15041    Other than going big by eulogizing StromThurmo...\n",
       "15042    Don't want to leave out the left! Show your su...\n",
       "15043    Some chatter about Biden maybe activating reso...\n",
       "15044    Fake Polls? Why Biden's 'Nationwide Lead' Over...\n",
       "15045    Joe Biden Trump police should not be armed to ...\n",
       "Name: Processed_Tweet, Length: 15046, dtype: object"
      ]
     },
     "execution_count": 33,
     "metadata": {},
     "output_type": "execute_result"
    }
   ],
   "source": [
    "df['Processed_Tweet']"
   ]
  },
  {
   "cell_type": "markdown",
   "metadata": {},
   "source": [
    "## Removing Any Special Characters, Numbers, Punctuations etc."
   ]
  },
  {
   "cell_type": "code",
   "execution_count": 34,
   "metadata": {},
   "outputs": [],
   "source": [
    "#removing unnecessary special characters, numbers, punctuations in tweets\n",
    "df.Processed_Tweet = df.Processed_Tweet.str.replace(\"[^a-zA-Z]\", \" \")\n"
   ]
  },
  {
   "cell_type": "code",
   "execution_count": 35,
   "metadata": {},
   "outputs": [
    {
     "data": {
      "text/plain": [
       "0        VP Biden I wish you wouldn t debate Trump unle...\n",
       "1        GeorgeWill   its so sad you wake up everyday f...\n",
       "2        Question If doesnt pick a woman of color  woul...\n",
       "3        Right  Biden formally implicated in Ukraine sc...\n",
       "4        These idiots let Trump do anything he wants  W...\n",
       "                               ...                        \n",
       "15041    Other than going big by eulogizing StromThurmo...\n",
       "15042    Don t want to leave out the left  Show your su...\n",
       "15043    Some chatter about Biden maybe activating reso...\n",
       "15044    Fake Polls  Why Biden s  Nationwide Lead  Over...\n",
       "15045    Joe Biden Trump police should not be armed to ...\n",
       "Name: Processed_Tweet, Length: 15046, dtype: object"
      ]
     },
     "execution_count": 35,
     "metadata": {},
     "output_type": "execute_result"
    }
   ],
   "source": [
    "df[\"Processed_Tweet\"]"
   ]
  },
  {
   "cell_type": "markdown",
   "metadata": {},
   "source": [
    "## Converting To Lower Case"
   ]
  },
  {
   "cell_type": "code",
   "execution_count": 36,
   "metadata": {},
   "outputs": [],
   "source": [
    "df.Processed_Tweet = [low.lower() for low in df.Processed_Tweet] #Converting into lower case "
   ]
  },
  {
   "cell_type": "code",
   "execution_count": 37,
   "metadata": {},
   "outputs": [
    {
     "data": {
      "text/plain": [
       "0        vp biden i wish you wouldn t debate trump unle...\n",
       "1        georgewill   its so sad you wake up everyday f...\n",
       "2        question if doesnt pick a woman of color  woul...\n",
       "3        right  biden formally implicated in ukraine sc...\n",
       "4        these idiots let trump do anything he wants  w...\n",
       "                               ...                        \n",
       "15041    other than going big by eulogizing stromthurmo...\n",
       "15042    don t want to leave out the left  show your su...\n",
       "15043    some chatter about biden maybe activating reso...\n",
       "15044    fake polls  why biden s  nationwide lead  over...\n",
       "15045    joe biden trump police should not be armed to ...\n",
       "Name: Processed_Tweet, Length: 15046, dtype: object"
      ]
     },
     "execution_count": 37,
     "metadata": {},
     "output_type": "execute_result"
    }
   ],
   "source": [
    "df[\"Processed_Tweet\"]"
   ]
  },
  {
   "cell_type": "code",
   "execution_count": 38,
   "metadata": {},
   "outputs": [],
   "source": [
    "df.Processed_Tweet =  df.Processed_Tweet.str.replace(\"amp\", \"\")"
   ]
  },
  {
   "cell_type": "code",
   "execution_count": 39,
   "metadata": {},
   "outputs": [
    {
     "data": {
      "text/plain": [
       "'biden took know questions so he could tell you know lies  of course the lies would make absolutely no sense because he has no idea where he is or what hes doing  incontinent twit '"
      ]
     },
     "execution_count": 39,
     "metadata": {},
     "output_type": "execute_result"
    }
   ],
   "source": [
    "df['Processed_Tweet'][12] #Sample tweet"
   ]
  },
  {
   "cell_type": "markdown",
   "metadata": {},
   "source": [
    "# Exploratory Data Analysis"
   ]
  },
  {
   "cell_type": "code",
   "execution_count": 40,
   "metadata": {},
   "outputs": [
    {
     "data": {
      "text/plain": [
       "Hotpage_News      544\n",
       "jacketrose86      174\n",
       "mobygrapefan       71\n",
       "defeatthedevil     67\n",
       "deepen915          61\n",
       "                 ... \n",
       "carita_paige        1\n",
       "California_Boy      1\n",
       "doberlife           1\n",
       "AhmedJaf            1\n",
       "dhershiser          1\n",
       "Name: User, Length: 8270, dtype: int64"
      ]
     },
     "execution_count": 40,
     "metadata": {},
     "output_type": "execute_result"
    }
   ],
   "source": [
    "df['User'].value_counts()"
   ]
  },
  {
   "cell_type": "markdown",
   "metadata": {},
   "source": [
    "A whopping 544 tweets from Hotpage_News. This seems to be an account owned by an organization. Let us have a look at jacketrose86."
   ]
  },
  {
   "cell_type": "code",
   "execution_count": 41,
   "metadata": {},
   "outputs": [
    {
     "data": {
      "text/plain": [
       "['the can be no order when the laws remain unjust  trump s tyranny runs rant while we die by the thousands   vote joe   liar  liar pants on fire  you re on the wrong side i d history  fk donniedollhands cheetomcasshat biden    landslide istandwithfauci fauciisahero biden',\n",
       " 'it is our duty to protect the world from trump  we can t let him win another term  donniedollhands cheetomcasshat biden    landslide tangerinetyrant istandwithfauci fauciisahero biden trumpislosing trumpfailedamerica',\n",
       " 'there are more reasons to not vote for him  staying alive is one of them  biden cares if we live or die   fk donniedollhands cheetomcasshat biden    landslide tangerinetyrant istandwithfauci fauciisahero biden trumpislosing trumpfailedamerica',\n",
       " 'aww thanks for adding me fk donniedollhands cheetomcasshat biden    landslide tangerinetyrant istandwithfauci fauciisahero biden trumpislosing trumpfailedamerica',\n",
       " 'thanks so much   have some snacks for cocktail hour  they re about the same size as his cocktail fk donniedollhands cheetomcasshat biden    landslide tangerinetyrant istandwithfauci fauciisahero biden trumpislosing trumpfailedamerica',\n",
       " 'nobody lives him not even his wife  fk that guy right hin his stupid face   fk donniedollhands cheetomcasshat biden    landslide tangerinetyrant istandwithfauci fauciisahero biden trumpislosing trumpfailedamerica',\n",
       " 'you tell em bro  thanks for the mention you rock   fk donniedollhands cheetomcasshat biden    landslide tangerinetyrant istandwithfauci fauciisahero biden trumpislosing trumpfailedamerica',\n",
       " 'too little too late   y all have massive amounts of blood on your hands   fk donniedollhands cheetomcasshat biden    landslide tangerinetyrant istandwithfauci fauciisahero biden trumpislosing trumpfailedamerica',\n",
       " 'this one   he wants us all to die   fk donniedollhands cheetomcasshat biden    landslide tangerinetyrant istandwithfauci fauciisahero biden trumpislosing trumpfailedamerica',\n",
       " 'shame on all of them   vote joe to save america   fk donniedollhands cheetomcasshat biden    landslide tangerinetyrant istandwithfauci fauciisahero biden trumpislosing trumpfailedamerica',\n",
       " 'hey he s my least favorite president too  fk donniedollhands cheetomcasshat biden    landslide tangerinetyrant istandwithfauci fauciisahero biden trumpislosing trumpfailedamerica',\n",
       " 'thank you so much cris   let s put the pressure on and be loud   fk donniedollhands cheetomcasshat biden    landslide tangerinetyrant istandwithfauci fauciisahero biden trumpislosing trumpfailedamerica',\n",
       " 'thanks king more to     come on blue wave let s take down the orange fuhrer  fk donniedollhands cheetomcasshat biden    landslide tangerinetyrant istandwithfauci fauciisahero biden trumpislosing trumpfailedamerica',\n",
       " 'yes yes we are  tiny little dollhands fk donniedollhands cheetomcasshat biden    landslide tangerinetyrant istandwithfauci fauciisahero biden trumpislosing trumpfailedamerica',\n",
       " 'we will not sacrifice anyone to trump s america  you don t care about our safety so stop pretending   the blue wave is coming   fk donniedollhands cheetomcasshat biden    landslide tangerinetyrant istandwithfauci fauciisahero biden trumpislosing trumpfailedamerica',\n",
       " 'stop it   we do not want a dictator and that s all you are pushing  we will not sacrifice anyone for trump s america   vote joe to save us all   fk donniedollhands cheetomcasshat biden    landslide istandwithfauci fauciisahero biden trumpislosing trumpfailedamerica',\n",
       " 'we must keep resisting  we cannot survive a and term of this reign of terror   vote joe to save america   fk donniedollhands cheetomcasshat biden    landslide tangerinetyrant istandwithfauci fauciisahero biden trumpislosing trumpfailedamerica',\n",
       " 'the only mob we worry about right now is putin s gop you all are actively trying to subdue and or kill us  fk donniedollhands cheetomcasshat biden    landslide tangerinetyrant istandwithfauci fauciisahero biden trumpislosing trumpfailedamerica',\n",
       " 'oh so now you re not ok with the tyranny and facism you complicit traitors have brought upon this once great nation    vote joe to save america  fk donniedollhands cheetomcasshat biden    landslide istandwithfauci fauciisahero biden trumpislosing trumpfailedamerica',\n",
       " 'good  we all need protection from trump s america  vote joe to save humanity  fk donniedollhands cheetomcasshat biden    landslide tangerinetyrant istandwithfauci fauciisahero biden trumpislosing trumpfailedamerica',\n",
       " 'thank you so much carmen we must keep persisting and resisting to get the tangerine tyrant out  fk donniedollhands cheetomcasshat biden    landslide tangerinetyrant istandwithfauci fauciisahero biden trumpislosing trumpfailedamerica',\n",
       " 'hypocrisy at its finest  fk donniedollhands cheetomcasshat biden    landslide tangerinetyrant istandwithfauci fauciisahero biden trumpislosing trumpfailedamerica',\n",
       " 'not my favorite president   obamawasbetterateverything fk donniedollhands cheetomcasshat biden    landslide tangerinetyrant istandwithfauci fauciisahero biden trumpislosing trumpfailedamerica',\n",
       " 'we are no longer a free nation  we must oust the tangerine tyrant  fk donniedollhands cheetomcasshat biden    landslide tangerinetyrant istandwithfauci fauciisahero biden trumpislosing trumpfailedamerica',\n",
       " 'thank you let s get the cheeto out   fk donniedollhands cheetomcasshat biden    landslide tangerinetyrant istandwithfauci fauciisahero biden trumpislosing trumpfailedamerica',\n",
       " 'he refused to take responsibility but it s all his fault   fk donniedollhands cheetomcasshat biden    landslide tangerinetyrant istandwithfauci fauciisahero biden trumpislosing trumpfailedamerica',\n",
       " 'dont let him talk  we want fauci   fk donniedollhands cheetomcasshat biden    landslide tangerinetyrant istandwithfauci fauciisahero biden trumpislosing trumpfailedamerica',\n",
       " 'if they re maga governors  unequivocally yes   fk donniedollhands cheetomcasshat biden    landslide tangerinetyrant istandwithfauci fauciisahero biden trumpislosing trumpfailedamerica',\n",
       " 'thank you twitter mom we must persist and resist and blow the imposters house down  fk donniedollhands cheetomcasshat biden    landslide tangerinetyrant istandwithfauci fauciisahero biden trumpislosing trumpfailedamerica',\n",
       " 'you are what is destroying america  your tyranny will end   vote joe to save our country  fk donniedollhands cheetomcasshat biden    landslide tangerinetyrant istandwithfauci fauciisahero biden trumpislosing trumpfailedamerica',\n",
       " 'under the trump administration we all end up dead  he doesn t care about us  he is incompetent  vote for sleepy joe to save america  fk donniedollhands cheetomcasshat biden    landslide tangerinetyrant istandwithfauci fauciisahero biden trumpislosing trumpfailedamerica',\n",
       " 'so disappointed  fk donniedollhands cheetomcasshat biden    landslide tangerinetyrant istandwithfauci fauciisahero biden trumpislosing trumpfailedamerica',\n",
       " 'not my president lol  fk donniedollhands cheetomcasshat biden    landslide tangerinetyrant istandwithfauci fauciisahero biden trumpislosing trumpfailedamerica',\n",
       " 'damn straight   our next president leads with compassion  science  and reason  go sleepy joe   fk donniedollhands cheetomcasshat biden    landslide tangerinetyrant istandwithfauci fauciisahero biden trumpislosing trumpfailedamerica',\n",
       " 'thanks king   top health officials say the cheeto is unreachable because he rejects logic and reason  lock him in the bunker   fk donniedollhands cheetomcasshat biden    landslide tangerinetyrant istandwithfauci fauciisahero biden trumpislosing trumpfailedamerica',\n",
       " 'oh we are beyond sick of the whining and the winning  are we great again  fk donniedollhands cheetomcasshat biden    landslide tangerinetyrant istandwithfauci fauciisahero biden trumpislosing trumpfailedamerica',\n",
       " 'he doesn t care how high that pile of bodies becomes  fk donniedollhands cheetomcasshat biden    landslide tangerinetyrant istandwithfauci fauciisahero biden trumpislosing trumpfailedamerica',\n",
       " 'thank you king let s go sleepy joe  take down the little bunker baby  fk donniedollhands cheetomcasshat biden    landslide tangerinetyrant istandwithfauci fauciisahero biden trumpislosing trumpfailedamerica',\n",
       " 'aww thanks for the mention   hope you have a good day  resist and persist  fk donniedollhands cheetomcasshat biden    landslide tangerinetyrant istandwithfauci fauciisahero biden trumpislosing trumpfailedamerica',\n",
       " 'good morning thanks for the mention have a bunker baby  donniedollhands cheetomcasshat biden    landslide tangerinetyrant istandwithfauci fauciisahero biden trumpislosing trumpfailedamerica',\n",
       " 'does anyone care about him  fk donniedollhands cheetomcasshat biden    landslide tangerinetyrant istandwithfauci fauciisahero biden trumpislosing trumpfailedamerica',\n",
       " 'let s go sleepy joe  fk donniedollhands cheetomcasshat biden    landslide tangerinetyrant istandwithfauci fauciisahero biden trumpislosing trumpfailedamerica',\n",
       " 'they found a way to safely open  it s called get the pandemic under control before sending our kids back to school  we will not sacrifice them for trump s america  donniedollhands cheetomcasshat biden    landslide tangerinetyrant istandwithfauci fauciisahero biden',\n",
       " 'every politician who stands by silently or directly contributes to trump s perversion  cruelty  racism  and destruction of america should not be allowed the privilege of holding office  donniedollhandscheetomcasshat biden biden    tosaveamerica',\n",
       " 'thanks king let s take down the cheeto in chief   fk donniedollhands cheetomcasshat biden    landslide tangerinetyrant istandwithfauci fauciisahero biden trumpislosing trumpfailedamerica',\n",
       " 'he thinks we will sacrifice our kids for his america  show him he is wrong   donniedollhands cheetomcasshat biden    landslide tangerinetyrant istandwithfauci fauciisahero biden trumpislosing trumpfailedamerica',\n",
       " 'we are quickly losing our freedom as the right screams that the left is the one destroying america  fk donniedollhands cheetomcasshat biden    landslide tangerinetyrant istandwithfauci fauciisahero biden trumpislosing trumpfailedamerica',\n",
       " 'lock him in the bunker   fk donniedollhands cheetomcasshat biden    landslide tangerinetyrant istandwithfauci fauciisahero biden trumpislosing trumpfailedamerica',\n",
       " 'thank you chloe   we do want joe    we need joe  fk donniedollhands cheetomcasshat biden    landslide tangerinetyrant istandwithfauci fauciisahero biden trumpislosing trumpfailedamerica',\n",
       " 'thanks for the mention  we must resist and persist and take our country back  fk donniedollhands cheetomcasshat biden    landslide tangerinetyrant istandwithfauci fauciisahero biden trumpislosing trumpfailedamerica',\n",
       " 'he needs a time out  donniedollhands cheetomcasshat biden    landslide tangerinetyrant istandwithfauci fauciisahero biden trumpislosing trumpfailedamerica',\n",
       " 'thank you so much   he sure did  lock him in the bunker  fk donniedollhands cheetomcasshat biden    landslide tangerinetyrant istandwithfauci fauciisahero biden trumpislosing trumpfailedamerica',\n",
       " 'aww thank you fk donniedollhands cheetomcasshat biden    landslide tangerinetyrant istandwithfauci fauciisahero biden trumpislosing trumpfailedamerica',\n",
       " 'i raise you a putin in a trump mask  fk donniedollhands cheetomcasshat biden    landslide tangerinetyrant istandwithfauci fauciisahero biden trumpislosing trumpfailedamerica',\n",
       " 'how about you erase yourself  no one wants to hear from you  complicit traitor   donniedollhands cheetomcasshat biden    landslide tangerinetyrant istandwithfauci fauciisahero biden trumpislosing trumpfailedamerica',\n",
       " 'we love you joe   we will make sure you take down the death star  donniedollhands cheetomcasshat biden    landslide tangerinetyrant istandwithfauci fauciisahero biden trumpislosing trumpfailedamerica',\n",
       " 'terrifying times we are living in  vote joe because he has humanity  donniedollhands cheetomcasshat biden    landslide tangerinetyrant istandwithfauci fauciisahero biden trumpislosing trumpfailedamerica',\n",
       " 'all the sane people not paid off by trump or drinking his kool aid  fk donniedollhands cheetomcasshat biden    landslide tangerinetyrant istandwithfauci fauciisahero biden trumpislosing trumpfailedamerica',\n",
       " 'indeed he is a crook  fk donniedollhands cheetomcasshat biden    landslide tangerinetyrant istandwithfauci fauciisahero biden trumpislosing trumpfailedamerica',\n",
       " 'lot of skeletons in that closet  fk donniedollhands cheetomcasshat biden    landslide tangerinetyrant istandwithfauci fauciisahero biden trumpislosing trumpfailedamerica',\n",
       " 'the animal that will usher in his final plan  vote joe to save the world  fk donniedollhands cheetomcasshat biden    landslide tangerinetyrant istandwithfauci fauciisahero biden trumpislosing trumpfailedamerica',\n",
       " 'you are the traitor   you re selling everyone out including our grandmothers   you don t deserve the mantle of president  fk donniedollhands cheetomcasshat biden    landslide tangerinetyrant istandwithfauci fauciisahero biden trumpislosing trumpfailedamerica',\n",
       " 'he thinks he is god  which is funny since he doesn t believe in him  fk donniedollhands cheetomcasshat biden    landslide tangerinetyrant istandwithfauci fauciisahero biden trumpislosing trumpfailedamerica',\n",
       " 'and yet the people that can and should do something about it stand by and do nothing  letting evil triumph  fk donniedollhands cheetomcasshat biden    landslide tangerinetyrant istandwithfauci fauciisahero biden trumpislosing trumpfailedamerica',\n",
       " 'indeed he is   i don t think he even knows what s true and what s not anymore  fk donniedollhands cheetomcasshat biden    landslide tangerinetyrant istandwithfauci fauciisahero biden trumpislosing trumpfailedamerica',\n",
       " 'you mean the sharpies he defaced federal property with  hmm i could have sworn there s a big penalty for that fk donniedollhands cheetomcasshat biden    landslide tangerinetyrant istandwithfauci fauciisahero biden trumpislosing trumpfailedamerica',\n",
       " 'a vote for trump is a vote for death  he doesn t care who lives or dies  vote joe   fk donniedollhands cheetomcasshat biden    landslide tangerinetyrant istandwithfauci fauciisahero biden trumpislosing trumpfailedamerica',\n",
       " 'he wont accept the results  he s already proving he will sic his  army  on us  fk donniedollhands cheetomcasshat biden    landslide tangerinetyrant istandwithfauci fauciisahero biden trumpislosing trumpfailedamerica',\n",
       " 'when did he ever have it  vote joe to save america  donniedollhands cheetomcasshat biden    landslide tangerinetyrant istandwithfauci fauciisahero biden trumpislosing trumpfailedamerica',\n",
       " 'lies  lies  and more lies   this nation is the worst it s ever been   vote joe to save america  fk donniedollhands cheetomcasshat biden    landslide tangerinetyrant istandwithfauci fauciisahero biden trumpislosing trumpfailedamerica',\n",
       " 'sending in the gestapo is not sending help  no one wants nor asks for your help   fk donniedollhands cheetomcasshat biden    landslide tangerinetyrant istandwithfauci fauciisahero biden trumpislosing trumpfailedamerica',\n",
       " 'remind me again why it s not great already  we will reclaim our country from your tyranny  fk donniedollhands cheetomcasshat biden    landslide tangerinetyrant istandwithfauci fauciisahero biden trumpislosing trumpfailedamerica',\n",
       " 'aww thanks for including me jami let s do the thing since trump is probably at  church  fk donniedollhands cheetomcasshat biden    landslide tangerinetyrant istandwithfauci fauciisahero biden trumpislosing trumpfailedamerica',\n",
       " 'liar  liar pants on fire  you re on the wrong side of history  is destroying america really how you want to be remembered fk donniedollhands cheetomcasshat biden    landslide tangerinetyrant istandwithfauci fauciisahero biden trumpislosing trumpfailedamerica',\n",
       " 'we cannot silently accept the rule of tyranny  vote joe to save our country  fk donniedollhands cheetomcasshat biden    landslide tangerinetyrant istandwithfauci fauciisahero biden trumpislosing trumpfailedamerica',\n",
       " 'can t reach your potential if you re dead  vote joe  our lives depend on it  donniedollhands cheetomcasshat biden    landslide tangerinetyrant istandwithfauci fauciisahero biden trumpislosing trumpfailedamerica',\n",
       " 'tyranny is taking over  end this reign of terror and vote joe to save us all  fk donniedollhands cheetomcasshat biden    landslide tangerinetyrant istandwithfauci fauciisahero biden trumpislosing trumpfailedamerica',\n",
       " 'it is an easy choice  trump s america will kill us all  biden s won t  donniedollhands cheetomcasshat biden    landslide tangerinetyrant istandwithfauci fauciisahero biden trumpislosing trumpfailedamerica',\n",
       " 'we must root out the evil plaguing our country   the blue wave is coming   fk donniedollhands cheetomcasshat biden    landslide tangerinetyrant istandwithfauci fauciisahero biden trumpislosing trumpfailedamerica',\n",
       " 'because we are expendable in his mind  he hates us  he will do everything he can to destroy america and kill more americans  fk donniedollhands cheetomcasshat biden    landslide tangerinetyrant istandwithfauci fauciisahero biden trumpislosing trumpfailedamerica',\n",
       " 'everything that comes from this administration and its propaganda machine is a lie  trump s lies kill  donniedollhands cheetomcasshat biden    landslide tangerinetyrant istandwithfauci fauciisahero biden trumpislosing trumpfailedamerica',\n",
       " 'absolutely  we need to oust the triumvirate of evil and every complicit coward in the gop  donniedollhands cheetomcasshat biden    landslide tangerinetyrant istandwithfauci fauciisahero biden trumpislosing trumpfailedamerica',\n",
       " 'nope  he s taking any chance he can to distract from his true endgame  he wants us dead  it s the only explanation that makes sense  fk donniedollhands cheetomcasshat biden    landslide tangerinetyrant istandwithfauci fauciisahero biden trumpislosing trumpfailedamerica',\n",
       " 'so tired of trump s america  vote joe to end this nightmare  fk donniedollhands cheetomcasshat biden    landslide tangerinetyrant istandwithfauci fauciisahero biden trumpislosing trumpfailedamerica',\n",
       " 'he will take our country by force  we must vote him out   vote joe to save america  fk donniedollhands cheetomcasshat biden    landslide tangerinetyrant istandwithfauci fauciisahero biden trumpislosing trumpfailedamerica',\n",
       " 'we are no longer a free nation  trump s reign of tyranny must end   vote joe to save us all  fk donniedollhands cheetomcasshat biden    landslide tangerinetyrant istandwithfauci fauciisahero biden trumpislosing trumpfailedamerica',\n",
       " 'there truly is no decency in the trump administration  vote joe to save our lives  fk donniedollhands cheetomcasshat biden    landslide tangerinetyrant istandwithfauci fauciisahero biden trumpislosing trumpfailedamerica',\n",
       " 'its obvious what his endgame is  he needs to be locked up and the key thrown away   vote joe to save us all   donniedollhands cheetomcasshat biden    landslide tangerinetyrant istandwithfauci fauciisahero biden trumpislosing trumpfailedamerica',\n",
       " 'worked out pretty great do not sacrifice yourselves  your children  or your grandparents  vote joe  fk donniedollhands cheetomcasshat biden    landslide tangerinetyrant istandwithfauci fauciisahero biden trumpislosing trumpfailedamerica',\n",
       " 'nope    he said it was a  hoax  vote joe to end this nightmare  fk donniedollhands cheetomcasshat biden    landslide tangerinetyrant istandwithfauci fauciisahero biden trumpislosing trumpfailedamerica',\n",
       " 'because us living is not in his game plan  it s time everyone wakes up and sees what his true intentions are  vote joe to save us all  fk donniedollhands cheetomcasshat biden    landslide tangerinetyrant istandwithfauci fauciisahero biden trumpislosing trumpfailedamerica',\n",
       " 'thanks for the mention   keep persisting and resisting  we can take our country back  fk donniedollhands cheetomcasshat biden    landslide tangerinetyrant istandwithfauci fauciisahero biden trumpislosing trumpfailedamerica',\n",
       " 'no it s trump s america  we get our country back in january with niden at the helm  fk donniedollhands cheetomcasshat biden    landslide tangerinetyrant istandwithfauci fauciisahero biden trumpislosing trumpfailedamerica',\n",
       " 'he needs to go  for all our sales  vote joe to save us all   fk donniedollhands cheetomcasshat biden    landslide tangerinetyrant istandwithfauci fauciisahero biden trumpislosing trumpfailedamerica',\n",
       " 'rip lil angel they are trying to sacrifice us all  no one is safe while the gop and trump have control  fk donniedollhands cheetomcasshat biden    landslide tangerinetyrant istandwithfauci fauciisahero biden trumpislosing trumpfailedamerica',\n",
       " 'he wants to make it impossible for anyone to physically live  our lives mean nothing to him or the gop   fk donniedollhands cheetomcasshat biden    landslide tangerinetyrant istandwithfauci fauciisahero biden trumpislosing trumpfailedamerica',\n",
       " 'i would  but it seems our  president  has another solution  fk donniedollhands cheetomcasshat biden    landslide tangerinetyrant istandwithfauci fauciisahero biden trumpislosing trumpfailedamerica',\n",
       " 'trumps the one locking kids away  now he wants to sacrifice our children  our grandparents  the military   hell probably the whole world  donniedollhands cheetomcasshat biden    landslide tangerinetyrant istandwithfauci fauciisahero biden trumpislosing trumpfailedamerica',\n",
       " 'i really really hope that is true   we need to get him and them out  our lives depend on it  fk donniedollhands cheetomcasshat biden    landslide tangerinetyrant istandwithfauci fauciisahero biden trumpislosing trumpfailedamerica',\n",
       " 'if you need more evidence that the gop and trump want us dead look no further than trump s cronavirus testing and contact tracing plan  donniedollhands cheetomcasshat biden    landslide tangerinetyrant istandwithfauci fauciisahero biden trumpislosing trumpfailedamerica',\n",
       " 'indeed brother   they think we re just going to blindly follow and let them kill us all  vote joe for freedom  fk donniedollhands cheetomcasshat biden    landslide tangerinetyrant istandwithfauci fauciisahero biden trumpislosing trumpfailedamerica',\n",
       " 'all they do is lie  they don t care about us  it s obvious they want us all dead   vote joe to save america  vote joe for freedom  fk donniedollhands cheetomcasshat biden    landslide tangerinetyrant istandwithfauci fauciisahero biden trumpislosing trumpfailedamerica',\n",
       " 'i think it may be his goal to be written in history books as the worst person ever   fk donniedollhands cheetomcasshat biden    landslide tangerinetyrant istandwithfauci fauciisahero biden trumpislosing trumpfailedamerica',\n",
       " 'more lies from the trump crime syndicate   vote joe to save america  fk donniedollhands cheetomcasshat biden    landslide tangerinetyrant istandwithfauci fauciisahero biden trumpislosing trumpfailedamerica',\n",
       " 'thanks king   fk donniedollhands cheetomcasshat biden    landslide tangerinetyrant istandwithfauci fauciisahero biden trumpislosing trumpfailedamerica',\n",
       " 'trump is on a mission to eliminate as many people as possible  fk donniedollhands cheetomcasshat biden    landslide tangerinetyrant istandwithfauci fauciisahero biden trumpislosing trumpfailedamerica',\n",
       " 'thanks king   you have helped me so much  let s get that murdering mfer out of office   fk donniedollhands cheetomcasshat biden    landslide tangerinetyrant istandwithfauci fauciisahero biden trumpislosing trumpfailedamerica',\n",
       " 'that s not all he has on his tiny little hands     fk donniedollhands cheetomcasshat biden    landslide tangerinetyrant istandwithfauci fauciisahero biden trumpislosing trumpfailedamerica',\n",
       " 'thanks king  he touches his cheeto with his dollhands fk donniedollhands cheetomcasshat biden    landslide tangerinetyrant istandwithfauci fauciisahero biden trumpislosing trumpfailedamerica',\n",
       " 'they have been bamboozled  fk donniedollhands cheetomcasshat biden    landslide tangerinetyrant istandwithfauci fauciisahero biden trumpislosing trumpfailedamerica',\n",
       " 'oh yeah this is some weird dystopian apocalypse for sure with echoes from the revolution and hitler era  fk donniedollhands cheetomcasshat biden    landslide tangerinetyrant istandwithfauci fauciisahero biden trumpislosing trumpfailedamerica',\n",
       " 'i dunno i m surprised the boogaloo boys haven t started the nd civil war yet  but i fear it is coming  fk donniedollhands cheetomcasshat biden    landslide tangerinetyrant istandwithfauci fauciisahero biden trumpislosing trumpfailedamerica',\n",
       " 'he s from hell  he s trying and succeeding at creating hell on earth  fk donniedollhands cheetomcasshat biden    landslide tangerinetyrant istandwithfauci fauciisahero biden trumpislosing trumpfailedamerica  ',\n",
       " 'good afternoon king   away   make my day peeps fk donniedollhands cheetomcasshat biden    landslide tangerinetyrant istandwithfauci fauciisahero biden trumpislosing trumpfailedamerica',\n",
       " 'you tell em   fk donniedollhands cheetomcasshat biden    landslide tangerinetyrant istandwithfauci fauciisahero biden trumpislosing trumpfailedamerica',\n",
       " 'shame on anyone who is pro trump  if you like what he stands for move to russia   fk donniedollhands cheetomcasshat biden    landslide tangerinetyrant istandwithfauci fauciisahero biden trumpislosing trumpfailedamerica',\n",
       " 'he golfs while america burns  fk donniedollhands cheetomcasshat biden    landslide tangerinetyrant istandwithfauci fauciisahero biden trumpislosing trumpfailedamerica',\n",
       " 'this is no longer a free nation  we must continue to persist and resist  this is not the america we know and love   fk donniedollhands cheetomcasshat biden    landslide tangerinetyrant istandwithfauci fauciisahero biden trumpislosing trumpfailedamerica',\n",
       " 'more lies from the trump crime syndicate   tell your daddy to stay in his bunker   the blue wave is coming   fk donniedollhands cheetomcasshat biden    landslide tangerinetyrant istandwithfauci fauciisahero biden trumpislosing trumpfailedamerica',\n",
       " 'so true lol can we superglue that to his face  fk donniedollhands cheetomcasshat biden    landslide tangerinetyrant istandwithfauci fauciisahero biden trumpislosing trumpfailedamerica',\n",
       " 'the same people screaming that democratic governors who impose lockdown and mask restrictions are tyrants are blind to the real tyranny they are helping to usher in  fk donniedollhands cheetomcasshat biden    landslide fauciisahero biden trumpislosing trumpfailedamerica',\n",
       " 'thanks king i appreciate you  fk donniedollhands cheetomcasshat biden    landslide tangerinetyrant istandwithfauci fauciisahero biden trumpislosing trumpfailedamerica',\n",
       " 'we shall overcome  we shall overcome you  we will take our country back  fk donniedollhands cheetomcasshat biden    landslide tangerinetyrant istandwithfauci fauciisahero biden trumpislosing trumpfailedamerica',\n",
       " 'he is the worst thing to happen to america  he s attacking the united in united states  vote joe to save america   fk donniedollhands cheetomcasshat biden    landslide tangerinetyrant istandwithfauci fauciisahero biden trumpislosing trumpfailedamerica',\n",
       " 'true dat   let s go sleepy joe   fk donniedollhands cheetomcasshat biden    landslide tangerinetyrant istandwithfauci fauciisahero biden trumpislosing trumpfailedamerica',\n",
       " 'you mean the same people that are dying disproportionately to covid while you all stand by and do nothing    vote joe to save us all   fk donniedollhands cheetomcasshat biden    landslide tangerinetyrant istandwithfauci fauciisahero biden trumpislosing trumpfailedamerica',\n",
       " 'all day every day resisters will do their part  the blue wave is coming   we lend our voices to the blue roar   fk donniedollhands cheetomcasshat biden    landslide tangerinetyrant istandwithfauci fauciisahero biden trumpislosing trumpfailedamerica   ',\n",
       " 'they re not  apparently the people who claim to want their freedom are happy hanging it over to the cheese colored tyrant  fk donniedollhands cheetomcasshat biden    landslide tangerinetyrant istandwithfauci fauciisahero biden trumpislosing trumpfailedamerica',\n",
       " 'we do not want martial law   we are a free nation   we must regain our freedom  vote joe to save america  fk donniedollhands cheetomcasshat biden    landslide tangerinetyrant istandwithfauci fauciisahero biden trumpislosing trumpfailedamerica',\n",
       " 'everything that comes out of his mouth is a lie  are we sure his name is even donald trump   vote jke to save our future   fk donniedollhands cheetomcasshat biden    landslide tangerinetyrant istandwithfauci fauciisahero biden trumpislosing trumpfailedamerica',\n",
       " 'the triumvirate of evil fk donniedollhands cheetomcasshat biden    landslide tangerinetyrant istandwithfauci fauciisahero biden trumpislosing trumpfailedamerica',\n",
       " 'because he really has nothing better to do    vote joe to save america  vote joe to save our freedom  fk donniedollhands cheetomcasshat biden    landslide tangerinetyrant istandwithfauci fauciisahero biden trumpislosing trumpfailedamerica',\n",
       " 'projection   trump is a tyrant  vote joe to save america   fk donniedollhands cheetomcasshat biden    landslide tangerinetyrant istandwithfauci fauciisahero biden trumpislosing trumpfailedamerica',\n",
       " 'we fight for both truth and victory   because both matter to biden   fk donniedollhands cheetomcasshat biden    landslide tangerinetyrant istandwithfauci fauciisahero biden trumpislosing trumpfailedamerica',\n",
       " 'we will   persist and resist   this is not the america so many have fought and died for we cannot let trump keep killing us  fk donniedollhands cheetomcasshat biden    landslide tangerinetyrant istandwithfauci fauciisahero biden trumpislosing trumpfailedamerica',\n",
       " 'he is disgusting and we will get him out   rip john lewis fk donniedollhands cheetomcasshat biden    landslide tangerinetyrant istandwithfauci fauciisahero biden trumpislosing trumpfailedamerica',\n",
       " 'you want to sacrifice our children  our grandparents  democracy  and our troops  why fight for unborn people  when you wont even fight for the living ones    fk donniedollhands cheetomcasshat biden    landslide istandwithfauci fauciisahero biden trumpfailedamerica',\n",
       " 'let s flip texas   donniedollhands cheetomcasshat biden    landslide tangerinetyrant istandwithfauci fauciisahero biden trumpislosing trumpfailedamerica',\n",
       " 'hi twitter mom i m away from k  i d love to break it today if possible follow me  i have memes  some of them are good lol donniedollhands cheetomcasshat biden    landslide tangerinetyrant istandwithfauci fauciisahero biden trumpislosing trumpfailedamerica',\n",
       " 'well you sent your personal gestapo to portland so    i d take defunding over a murder squad  fk you donniedollhands cheetomcasshat biden    landslide tangerinetyrant istandwithfauci fauciisahero biden trumpislosing trumpfailedamerica',\n",
       " 'followed all i wasnt following fk donniedollhands cheetomcasshat biden    landslide tangerinetyrant istandwithfauci fauciisahero biden trumpislosing trumpfailedamerica',\n",
       " 'thanks for all your help brother  away from k let s see if i can make it today   fk donniedollhands cheetomcasshat biden    landslide tangerinetyrant istandwithfauci fauciisahero biden trumpislosing trumpfailedamerica',\n",
       " 'good morning  thanks king resisters fk donniedollhands cheetomcasshat    we re gonna take our country back   donniedollhands cheetomcasshat biden    landslide tangerinetyrant istandwithfauci fauciisahero biden trumpislosing trumpfailedamerica',\n",
       " 'heck yes   we will elect biden to save america  he is worthy  fk donniedollhands cheetomcasshat biden    landslide tangerinetyrant istandwithfauci fauciisahero biden trumpislosing trumpfailedamerica',\n",
       " 'oh no you said it  i firmly believe it  i think we all need to prepare for the very real possibility of a civil war  fk donniedollhands cheetomcasshat biden    landslide tangerinetyrant istandwithfauci fauciisahero biden trumpislosing trumpfailedamerica',\n",
       " 'let s not let this happen fk donniedollhands cheetomcasshat biden    landslide tangerinetyrant istandwithfauci fauciisahero biden trumpislosing trumpfailedamerica',\n",
       " 'his covid  response  will lead to this   fk donniedollhands cheetomcasshat biden    landslide tangerinetyrant istandwithfauci fauciisahero biden trumpislosing trumpfailedamerica',\n",
       " 'you dont know how to read book of the month club my fk donniedollhands cheetomcasshat biden    landslide tangerinetyrant istandwithfauci fauciisahero biden trumpislosing trumpfailedamerica',\n",
       " 'why bother  we know his plan  donniedollhands cheetomcasshat biden    landslide tangerinetyrant istandwithfauci fauciisahero biden trumpislosing trumpfailedamerica',\n",
       " 'this is his plan  donniedollhands cheetomcasshat biden    landslide tangerinetyrant istandwithfauci fauciisahero biden trumpislosing trumpfailedamerica',\n",
       " 'the trump administration is a criminal network   the blue wave is coming   fk donniedollhands cheetomcasshat biden    landslide tangerinetyrant istandwithfauci fauciisahero biden trumpislosing trumpfailedamerica',\n",
       " 'the end if democracy and freedom  vote joe to save the world   fk donniedollhands cheetomcasshat biden    landslide tangerinetyrant istandwithfauci fauciisahero biden trumpislosing trumpfailedamerica',\n",
       " 'under his eye  we are living in a dystopian novel  vote joe to save us all   fk donniedollhands cheetomcasshat biden    landslide tangerinetyrant istandwithfauci fauciisahero biden trumpislosing trumpfailedamerica americaortrump',\n",
       " 'just gonna say   vote biden he s worthy  donniedollhands cheetomcasshat biden    landslide tangerinetyrant istandwithfauci fauciisahero biden trumpislosing trumpfailedamerica',\n",
       " 'pretty sure putin is the one who trojan horsed america   gtfoh with your lies    donniedollhands cheetomcasshat biden    landslide tangerinetyrant istandwithfauci fauciisahero biden trumpislosing trumpfailedamerica',\n",
       " 'we must take our country back   trump s america must not prevail  donniedollhands cheetomcasshatamericaortrump biden    landslide tangerinetyrant istandwithfauci fauciisahero biden trumpislosing trumpfailedamerica',\n",
       " 'it s clear trump s policies are shaped by putin  they are trying to kill us  fk donniedollhands cheetomcasshat biden    landslide tangerinetyrant istandwithfauci fauciisahero biden trumpislosing trumpfailedamerica',\n",
       " 'agreed   fk donniedollhands cheetomcasshat biden    landslide tangerinetyrant istandwithfauci fauciisahero biden trumpislosing trumpfailedamerica',\n",
       " 'hell yeah sis    gonna leave this one cuz it goes haha fk donniedollhands cheetomcasshat biden    landslide tangerinetyrant istandwithfauci fauciisahero biden trumpislosing trumpfailedamerica',\n",
       " 'no he is trying to control us and wipe us out  is his favorite book mein kf  history has it s eyes on you   fk donniedollhands cheetomcasshat biden    landslide tangerinetyrant istandwithfauci fauciisahero biden trumpislosing trumpfailedamerica',\n",
       " 'fk donniedollhands   fk him and everyone who supports him  donniedollhands cheetomcasshat biden    landslide tangerinetyrant istandwithfauci fauciisahero biden trumpislosing trumpfailedamerica',\n",
       " 'call off your secret police   stop being a dictator    the blue wave is coming  donniedollhands cheetomcasshat biden    landslide tangerinetyrant istandwithfauci fauciisahero biden trumpislosing trumpfailedamerica',\n",
       " 'how strong  bidenstrong  fk donniedollhands cheetomcasshat biden    landslide tangerinetyrant istandwithfauci fauciisahero biden trumpislosing trumpfailedamerica',\n",
       " 'i stand with the protestors   we are not a dictatorship   trump s gestapo has got to go   along with him and his awful crime syndicate  donniedollhands cheetomcasshat biden    landslide tangerinetyrant istandwithfauci fauciisahero biden trumpislosing trumpfailedamerica',\n",
       " 'thanks king    we re gonna get that mfer out if it s the last thing i do   fk donniedollhands cheetomcasshat biden    landslide tangerinetyrant istandwithfauci fauciisahero biden trumpislosing trumpfailedamerica',\n",
       " 'it s a shame how you ve completely destroyed america   we will take our country back   donniedollhands cheetomcasshat biden    landslide tangerinetyrant istandwithfauci fauciisahero biden trumpislosing trumpfailedamerica',\n",
       " 'to k can i break it by monday  stay tuned    let s defeat cheetomcasshat   fk donniedollhands cheetomcasshat biden    landslide tangerinetyrant istandwithfauci fauciisahero biden trumpislosing trumpfailedamerica',\n",
       " 'thanks king   appreciate you bro let s take down that donniedollhands cheetomcasshat mfer   fk donniedollhands cheetomcasshat biden    landslide tangerinetyrant istandwithfauci fauciisahero biden trumpislosing trumpfailedamerica',\n",
       " 'has anyone reviewed the underhandedbdealings you are making with putin and china to steal the election  cheetomcasshat donniedollhands americaortrump factsoverfiction delusionaldonnie trumpisnotwell biden    landslide biden fauciisahero trumpvirus',\n",
       " 'because trump is delusional  delusions wont protect us from the virus   vote joe he believes in science  cheetomcasshat donniedollhands americaortrump factsoverfiction delusionaldonnie trumpisnotwell byedonjr kidslivesmatter trumpvirus biden    landslide biden',\n",
       " 'children are not sacrifices  they are our future and must be protected   cheetomcasshat donniedollhands americaortrump factsoverfiction delusionaldonnie trumpisnotwell byedonjr kidslivesmatter trumpvirus biden    landslide biden',\n",
       " 'maybe tell your husband that  we need a leader who actually care if we live or die   vote joe to save america   cheetomcasshat donniedollhands americaortrump factsoverfiction delusionaldonnie trumpisnotwell byedonjr kidslivesmatter trumpvirus biden    landslide biden',\n",
       " 'today trump killed a bunch more people with his callous disregard for science  cheetomcasshat donniedollhands americaortrump factsoverfiction delusionaldonnie trumpisnotwell byedonjr kidslivesmatter trumpvirus biden    landslide biden',\n",
       " 'bidenpledgesallegiancetous we need a leader who cares if we live or die  cheetomcasshat donniedollhands americaortrump factsoverfiction delusionaldonnie trumpisnotwell byedonjr kidslivesmatter trumpvirus biden    landslide biden']"
      ]
     },
     "execution_count": 41,
     "metadata": {},
     "output_type": "execute_result"
    }
   ],
   "source": [
    "df.query('User == \"jacketrose86\"').Processed_Tweet.tolist()"
   ]
  },
  {
   "cell_type": "markdown",
   "metadata": {},
   "source": [
    "A manual inspection clearly indicates a negative sentiment towards the candidature of Joe Biden"
   ]
  },
  {
   "cell_type": "code",
   "execution_count": 42,
   "metadata": {},
   "outputs": [
    {
     "data": {
      "image/png": "[encoded data removed]",
      "text/plain": [
       "<Figure size 432x288 with 1 Axes>"
      ]
     },
     "metadata": {
      "needs_background": "light"
     },
     "output_type": "display_data"
    }
   ],
   "source": [
    "bar = sns.countplot(df['Verified'])"
   ]
  },
  {
   "cell_type": "code",
   "execution_count": 43,
   "metadata": {},
   "outputs": [
    {
     "data": {
      "text/plain": [
       "False    14830\n",
       "True       216\n",
       "Name: Verified, dtype: int64"
      ]
     },
     "execution_count": 43,
     "metadata": {},
     "output_type": "execute_result"
    }
   ],
   "source": [
    "df['Verified'].value_counts()"
   ]
  },
  {
   "cell_type": "markdown",
   "metadata": {},
   "source": [
    "Only 216 verified accounts were extracted. This shouldn't be a problem while calculating our sentiment."
   ]
  },
  {
   "cell_type": "code",
   "execution_count": 44,
   "metadata": {},
   "outputs": [],
   "source": [
    "df_verified = df.query('Verified == True')"
   ]
  },
  {
   "cell_type": "code",
   "execution_count": 45,
   "metadata": {},
   "outputs": [
    {
     "data": {
      "text/plain": [
       "AndyOstroy        15\n",
       "JudicialWatch      9\n",
       "The_NewArab        7\n",
       "Varneyco           7\n",
       "DemsAbroad         7\n",
       "                  ..\n",
       "brentgofftv        1\n",
       "robenfarzad        1\n",
       "matisaksk          1\n",
       "GordonRepinski     1\n",
       "RobertLusetich     1\n",
       "Name: User, Length: 121, dtype: int64"
      ]
     },
     "execution_count": 45,
     "metadata": {},
     "output_type": "execute_result"
    }
   ],
   "source": [
    "df_verified['User'].value_counts()"
   ]
  },
  {
   "cell_type": "markdown",
   "metadata": {},
   "source": [
    "A user by the name AndyOstroy has 15 tweets about Joe Biden in the time-period of extraction. Let us look at some of his tweets."
   ]
  },
  {
   "cell_type": "code",
   "execution_count": 46,
   "metadata": {},
   "outputs": [
    {
     "data": {
      "text/plain": [
       "['its intellectually dishonest  and quite hypocritical  for liberals who preach unity and bipartisanship to be losing their damn minds because one republican is gonna speak at the democratic convention    johnkasich kasich biden',\n",
       " 'we are now at a new cray cray low in the trump presidency where he s challenged biden to a duel to see who can  ace  the  is this a lion or a monkey   cognitive test    chriswallace',\n",
       " 'humiliating   historic    landslide  its coming     trump election     biden',\n",
       " 'hey like how you cried daddy  daddy  please dont let them make me go to vietnam  before he bought you those deferments  coward    trump chriswallace biden',\n",
       " 'how do you feel about susanrice as biden s vp ',\n",
       " 'i believe on nov rd were going to witness the biggest  most humiliating  most historic backlash against and republicans this country has ever seen and could ever have imagined    election     biden trump',\n",
       " 'hey moron   all of this darkness  despair  dysfunction  disease  death you re showing here happened on your watch  great ad for biden     trump election    ',\n",
       " 'kudos chriswallace  manbaby just hates being caught in his pathetic lies    trump biden',\n",
       " 'hey its over  resign  youre gonna lose in the biggest  most humiliating landslide in american history    trump biden',\n",
       " 'you do realize the chaos  violence  looting  riots and fires you show warn about in your biden ad actually happened on your watch  right trump',\n",
       " 'hey if fauci  the nations top virus expert  is lying  then fire him  stop tweeting  stop spewing oppo research  stop acting like a coward in a bunker  grow some balls and fire him  so that biden can hire him    we can get the daily briefings we deserve   ',\n",
       " 'chance   i love ya   but ya gotta do better than this   whoever you vote for   really  do you think there s a  chance  in hell trump would push real prison reform  reparations  aid to native americans and give a crap about the homeless  we need you to help elect biden   ',\n",
       " 'yes  it is  because is not an ignorant  incompetent  pathologically lying sexist  racist  dangerous  corrupt coward traitor whos killed thousands of americans and put our troops in grave danger overseas  got it  trump biden election    ',\n",
       " 'hey while you can before youre dealt the biggest  most humiliating landslide in american history    trump biden election    ',\n",
       " 'he still tweets that covid  s a hoax and has yet to confront putin for bountygate  if you vote for this sick twisted gaslighting coward traitor theres something very wrong with you    trump election     coronavirus biden']"
      ]
     },
     "execution_count": 46,
     "metadata": {},
     "output_type": "execute_result"
    }
   ],
   "source": [
    "df_verified.query('User == \"AndyOstroy\"').Processed_Tweet.tolist()"
   ]
  },
  {
   "cell_type": "markdown",
   "metadata": {},
   "source": [
    "He seems to be very angry towards Joe Biden & clearly has no positive sentiment "
   ]
  },
  {
   "cell_type": "markdown",
   "metadata": {},
   "source": [
    "Let us look at another, JudicialWatch"
   ]
  },
  {
   "cell_type": "code",
   "execution_count": 47,
   "metadata": {},
   "outputs": [
    {
     "data": {
      "text/plain": [
       "['judicial watch announced it received records from the u s  secret service showing that  for the and a half years of the obama administration  hunter biden traveled extensively while receiving a secret service protective detail  read ',\n",
       " '  president  theres no lawful reason for the university of delaware to withhold biden records  read more at',\n",
       " ' judicial watch investigators uncovered records from the u s  secret service showing that  for the first and a half years of the obama admin  hunter biden traveled extensively with a secret service protective detail  in newsmax  read ',\n",
       " 'judicial watch announced it received records from the u s  secret service showing that  for the and a half years of the obama administration  hunter biden traveled extensively while receiving a secret service protective detail  read ',\n",
       " 'judicial watch announced it received records from the u s  secret service showing that  for the and a half years of the obama administration  hunter biden traveled extensively while receiving a secret service protective detail  read ',\n",
       " 'the university of delaware should stop protecting joe biden and release his senate records  biden should authorize to release these records as well   watch ',\n",
       " 'joebiden has a china problem  his son got a sweetheart deal from the chinese communists  it will be held over biden throughout his caign and beyond   president watch ',\n",
       " '  president  theres no lawful reason for the university of delaware to withhold biden records  read more at',\n",
       " ' judicial watch investigators uncovered records from the u s  secret service showing that  for the first and a half years of the obama admin  hunter biden traveled extensively with a secret service protective detail  in newsmax  read ']"
      ]
     },
     "execution_count": 47,
     "metadata": {},
     "output_type": "execute_result"
    }
   ],
   "source": [
    "df_verified.query('User == \"JudicialWatch\"').Processed_Tweet.tolist()"
   ]
  },
  {
   "cell_type": "markdown",
   "metadata": {},
   "source": [
    "On manual inspection, there seems to be sentiment towards Joe Biden. Can be classified as a Neutral user."
   ]
  },
  {
   "cell_type": "markdown",
   "metadata": {},
   "source": [
    "Let us observe the dates & how they fair out. Let us observe how many tweets were extracted on which date"
   ]
  },
  {
   "cell_type": "code",
   "execution_count": 48,
   "metadata": {},
   "outputs": [],
   "source": [
    "days = df['Date'].dt.day.tolist()"
   ]
  },
  {
   "cell_type": "code",
   "execution_count": 49,
   "metadata": {},
   "outputs": [
    {
     "data": {
      "text/plain": [
       "Counter({21: 2084,\n",
       "         20: 1862,\n",
       "         19: 1712,\n",
       "         18: 1322,\n",
       "         17: 1573,\n",
       "         16: 1638,\n",
       "         15: 2020,\n",
       "         14: 1884,\n",
       "         13: 951})"
      ]
     },
     "execution_count": 49,
     "metadata": {},
     "output_type": "execute_result"
    }
   ],
   "source": [
    "no_of_days = Counter(days)\n",
    "no_of_days"
   ]
  },
  {
   "cell_type": "code",
   "execution_count": 50,
   "metadata": {},
   "outputs": [
    {
     "data": {
      "text/plain": [
       "Text(0.5, 1.0, 'Count Of Extracted Tweets On Each Day')"
      ]
     },
     "execution_count": 50,
     "metadata": {},
     "output_type": "execute_result"
    },
    {
     "data": {
      "image/png": "[encoded data removed]",
      "text/plain": [
       "<Figure size 1080x504 with 1 Axes>"
      ]
     },
     "metadata": {
      "needs_background": "light"
     },
     "output_type": "display_data"
    }
   ],
   "source": [
    "fig = plt.figure(figsize = (15,7))\n",
    "plt.bar(range(len(no_of_days)), list(no_of_days.values()), align='center', alpha = 0.5,color = 'red')\n",
    "plt.xticks(range(len(no_of_days)), list(no_of_days.keys()))\n",
    "plt.xlabel(\"Day\")\n",
    "plt.ylabel(\"Count Of Tweets\")\n",
    "plt.title(\"Count Of Extracted Tweets On Each Day\")"
   ]
  },
  {
   "cell_type": "markdown",
   "metadata": {},
   "source": [
    "We had a maximum of approx 2000 tweets extracted on the 21st July & the 15th of July.\n",
    "\n",
    "Let us also look at the times (hours) at which the most tweets were extracted."
   ]
  },
  {
   "cell_type": "code",
   "execution_count": 51,
   "metadata": {},
   "outputs": [],
   "source": [
    "hours = df['Date'].dt.hour.tolist()"
   ]
  },
  {
   "cell_type": "code",
   "execution_count": 52,
   "metadata": {},
   "outputs": [
    {
     "data": {
      "text/plain": [
       "Counter({23: 857,\n",
       "         22: 917,\n",
       "         21: 891,\n",
       "         20: 829,\n",
       "         19: 828,\n",
       "         18: 1107,\n",
       "         17: 938,\n",
       "         16: 953,\n",
       "         15: 867,\n",
       "         14: 834,\n",
       "         13: 740,\n",
       "         12: 560,\n",
       "         11: 423,\n",
       "         10: 260,\n",
       "         9: 156,\n",
       "         8: 157,\n",
       "         7: 198,\n",
       "         6: 237,\n",
       "         5: 290,\n",
       "         4: 397,\n",
       "         3: 475,\n",
       "         2: 628,\n",
       "         1: 780,\n",
       "         0: 724})"
      ]
     },
     "execution_count": 52,
     "metadata": {},
     "output_type": "execute_result"
    }
   ],
   "source": [
    "no_of_hours = Counter(hours)\n",
    "no_of_hours"
   ]
  },
  {
   "cell_type": "code",
   "execution_count": 53,
   "metadata": {},
   "outputs": [
    {
     "data": {
      "text/plain": [
       "Text(0.5, 1.0, 'Count Of Extracted Tweets On Each Hour')"
      ]
     },
     "execution_count": 53,
     "metadata": {},
     "output_type": "execute_result"
    },
    {
     "data": {
      "image/png": "[encoded data removed]",
      "text/plain": [
       "<Figure size 1080x576 with 1 Axes>"
      ]
     },
     "metadata": {
      "needs_background": "light"
     },
     "output_type": "display_data"
    }
   ],
   "source": [
    "fig = plt.figure(figsize = (15,8))\n",
    "plt.bar(range(len(no_of_hours)), list(no_of_hours.values()), align='center', alpha = 0.5,color = 'red')\n",
    "plt.xticks(range(len(no_of_hours)), list(no_of_hours.keys()))\n",
    "plt.xlabel(\"Hour\")\n",
    "plt.ylabel(\"Count Of Tweets\")\n",
    "plt.title(\"Count Of Extracted Tweets On Each Hour\")"
   ]
  },
  {
   "cell_type": "markdown",
   "metadata": {},
   "source": [
    "Lots of tweets at the 18:00 - 19:00 hour period followed by 16:00 - 17:00 hour"
   ]
  },
  {
   "cell_type": "code",
   "execution_count": 54,
   "metadata": {},
   "outputs": [],
   "source": [
    "from wordcloud import WordCloud\n",
    "tokenizer = TweetTokenizer()\n"
   ]
  },
  {
   "cell_type": "markdown",
   "metadata": {},
   "source": [
    "We still have to remove stopwords, perform lemmatization & do stemming. So let us proceed with that"
   ]
  },
  {
   "cell_type": "markdown",
   "metadata": {},
   "source": [
    "## Removing Stop Words"
   ]
  },
  {
   "cell_type": "code",
   "execution_count": 55,
   "metadata": {},
   "outputs": [
    {
     "name": "stdout",
     "output_type": "stream",
     "text": [
      "['then', 'or', 'from', 'under', 'has', 'o', 'themselves', \"wasn't\", 'shan', 'down', 'how', 'such', 'hers', 'with', 'for', 's', 'when', 'only', 'weren', 'd', \"weren't\", 'off', 'me', 'are', 'll', 'itself', 'each', 'does', \"won't\", 'aren', 're', 'should', 'my', 'other', 'yourself', 'before', 'too', \"should've\", 'he', 'they', \"that'll\", \"it's\", 'while', 'doing', 'about', 'where', 'did', 'same', 'than', \"didn't\", 'i', 'hasn', 'on', 'your', 'until', \"mightn't\", 'shouldn', 'his', \"isn't\", 'so', 'be', 'wouldn', 'over', 've', 'have', \"hadn't\", 'needn', 'above', 'here', 'it', 'doesn', \"she's\", 'mightn', 'further', 'nor', 'few', 'own', 'very', 'once', \"shouldn't\", 'an', 'were', 'more', 'being', 'these', 'all', \"shan't\", \"you've\", 'why', \"aren't\", 'will', 'this', \"you'll\", 'ours', 'not', 'herself', \"doesn't\", 'don', 'below', 'now', 'them', 'the', 'can', 'wasn', 'myself', 'because', 'any', 'himself', 'ma', 'against', \"couldn't\", 'its', 'and', 'is', 'those', 'between', 'our', 'ain', 'you', 'him', 'hadn', 'after', 'won', 'during', 'but', 'at', \"needn't\", 'she', 'we', 'just', 'as', 'do', \"wouldn't\", 'a', 'both', 't', 'her', 'that', 'what', \"hasn't\", \"you're\", 'out', 'mustn', 'again', 'haven', \"don't\", 'yourselves', 'their', 'into', 'had', 'some', 'was', 'couldn', 'theirs', 'ourselves', 'isn', 'having', 'through', 'no', 'who', 'up', 'by', 'in', 'most', \"haven't\", 'of', \"you'd\", 'whom', 'am', 'if', 'been', 'to', 'm', \"mustn't\", 'y', 'there', 'didn', 'yours', 'which']\n"
     ]
    }
   ],
   "source": [
    "stop_words = set(stopwords.words('english')) \n",
    "stop_words = list(stop_words)\n",
    "print(stop_words)"
   ]
  },
  {
   "cell_type": "code",
   "execution_count": 56,
   "metadata": {},
   "outputs": [],
   "source": [
    "df['Processed_Tweet'] = df.Processed_Tweet.apply(lambda x: ' '.join(w for w in x.split() if w not in stop_words))   #Remove stopwords"
   ]
  },
  {
   "cell_type": "code",
   "execution_count": 57,
   "metadata": {},
   "outputs": [
    {
     "data": {
      "text/plain": [
       "0        vp biden wish debate trump unless debate trump...\n",
       "1        georgewill sad wake everyday forgetting george...\n",
       "2        question doesnt pick woman color would black c...\n",
       "3        right biden formally implicated ukraine scanda...\n",
       "4        idiots let trump anything wants biden gets ele...\n",
       "                               ...                        \n",
       "15041    going big eulogizing stromthurmond look right ...\n",
       "15042    want leave left show support election hearts f...\n",
       "15043    chatter biden maybe activating resources fight...\n",
       "15044    fake polls biden nationwide lead trump says no...\n",
       "15045                   joe biden trump police armed teeth\n",
       "Name: Processed_Tweet, Length: 15046, dtype: object"
      ]
     },
     "execution_count": 57,
     "metadata": {},
     "output_type": "execute_result"
    }
   ],
   "source": [
    "df['Processed_Tweet']"
   ]
  },
  {
   "cell_type": "markdown",
   "metadata": {},
   "source": [
    "## Tokenizing"
   ]
  },
  {
   "cell_type": "code",
   "execution_count": 58,
   "metadata": {},
   "outputs": [],
   "source": [
    "df['Processed_Tweet'] = df['Processed_Tweet'].apply(lambda x: tokenizer.tokenize(x))"
   ]
  },
  {
   "cell_type": "code",
   "execution_count": 59,
   "metadata": {},
   "outputs": [
    {
     "data": {
      "text/plain": [
       "0        [vp, biden, wish, debate, trump, unless, debat...\n",
       "1        [georgewill, sad, wake, everyday, forgetting, ...\n",
       "2        [question, doesnt, pick, woman, color, would, ...\n",
       "3        [right, biden, formally, implicated, ukraine, ...\n",
       "4        [idiots, let, trump, anything, wants, biden, g...\n",
       "                               ...                        \n",
       "15041    [going, big, eulogizing, stromthurmond, look, ...\n",
       "15042    [want, leave, left, show, support, election, h...\n",
       "15043    [chatter, biden, maybe, activating, resources,...\n",
       "15044    [fake, polls, biden, nationwide, lead, trump, ...\n",
       "15045            [joe, biden, trump, police, armed, teeth]\n",
       "Name: Processed_Tweet, Length: 15046, dtype: object"
      ]
     },
     "execution_count": 59,
     "metadata": {},
     "output_type": "execute_result"
    }
   ],
   "source": [
    "df['Processed_Tweet']"
   ]
  },
  {
   "cell_type": "markdown",
   "metadata": {},
   "source": [
    "## Stemming "
   ]
  },
  {
   "cell_type": "code",
   "execution_count": 60,
   "metadata": {},
   "outputs": [],
   "source": [
    "def lemmatize_stemming(text):\n",
    "    stemmer=PorterStemmer()\n",
    "    return stemmer.stem(text)"
   ]
  },
  {
   "cell_type": "code",
   "execution_count": 61,
   "metadata": {},
   "outputs": [],
   "source": [
    "df['Processed_Tweet'] = df['Processed_Tweet'].apply(lambda x: [lemmatize_stemming(i) for i in x]) # stemming"
   ]
  },
  {
   "cell_type": "code",
   "execution_count": 62,
   "metadata": {
    "scrolled": true
   },
   "outputs": [
    {
     "data": {
      "text/plain": [
       "0        [vp, biden, wish, debat, trump, unless, debat,...\n",
       "1        [georgewil, sad, wake, everyday, forget, georg...\n",
       "2        [question, doesnt, pick, woman, color, would, ...\n",
       "3        [right, biden, formal, implic, ukrain, scandal...\n",
       "4        [idiot, let, trump, anyth, want, biden, get, e...\n",
       "                               ...                        \n",
       "15041    [go, big, eulog, stromthurmond, look, right, l...\n",
       "15042    [want, leav, left, show, support, elect, heart...\n",
       "15043    [chatter, biden, mayb, activ, resourc, fight, ...\n",
       "15044    [fake, poll, biden, nationwid, lead, trump, sa...\n",
       "15045               [joe, biden, trump, polic, arm, teeth]\n",
       "Name: Processed_Tweet, Length: 15046, dtype: object"
      ]
     },
     "execution_count": 62,
     "metadata": {},
     "output_type": "execute_result"
    }
   ],
   "source": [
    "df['Processed_Tweet']"
   ]
  },
  {
   "cell_type": "code",
   "execution_count": 63,
   "metadata": {},
   "outputs": [],
   "source": [
    "df['Processed_Tweet'] = df.Processed_Tweet.apply(lambda x: [i for i in x if len(i)>2])"
   ]
  },
  {
   "cell_type": "code",
   "execution_count": 64,
   "metadata": {},
   "outputs": [
    {
     "data": {
      "text/html": [
       "<div>\n",
       "<style scoped>\n",
       "    .dataframe tbody tr th:only-of-type {\n",
       "        vertical-align: middle;\n",
       "    }\n",
       "\n",
       "    .dataframe tbody tr th {\n",
       "        vertical-align: top;\n",
       "    }\n",
       "\n",
       "    .dataframe thead th {\n",
       "        text-align: right;\n",
       "    }\n",
       "</style>\n",
       "<table border=\"1\" class=\"dataframe\">\n",
       "  <thead>\n",
       "    <tr style=\"text-align: right;\">\n",
       "      <th></th>\n",
       "      <th>Date</th>\n",
       "      <th>Tweet_id</th>\n",
       "      <th>Verified</th>\n",
       "      <th>Tweet</th>\n",
       "      <th>User</th>\n",
       "      <th>Location</th>\n",
       "      <th>Source</th>\n",
       "      <th>Likes</th>\n",
       "      <th>Followers</th>\n",
       "      <th>Following</th>\n",
       "      <th>Retweets</th>\n",
       "      <th>Processed_Tweet</th>\n",
       "    </tr>\n",
       "  </thead>\n",
       "  <tbody>\n",
       "    <tr>\n",
       "      <th>0</th>\n",
       "      <td>2020-07-21 23:59:43</td>\n",
       "      <td>1285726179907993601</td>\n",
       "      <td>False</td>\n",
       "      <td>@JoeBiden VP Biden I wish you wouldn't debate ...</td>\n",
       "      <td>BballmomEjZay</td>\n",
       "      <td>United States</td>\n",
       "      <td>Twitter for Android</td>\n",
       "      <td>0</td>\n",
       "      <td>54</td>\n",
       "      <td>192</td>\n",
       "      <td>0</td>\n",
       "      <td>[biden, wish, debat, trump, unless, debat, tru...</td>\n",
       "    </tr>\n",
       "    <tr>\n",
       "      <th>1</th>\n",
       "      <td>2020-07-21 23:59:27</td>\n",
       "      <td>1285726110513344520</td>\n",
       "      <td>False</td>\n",
       "      <td>#GeorgeWill , it’s so sad you wake up everyday...</td>\n",
       "      <td>TalbotMac</td>\n",
       "      <td>East Aurora, NY</td>\n",
       "      <td>Twitter for iPhone</td>\n",
       "      <td>0</td>\n",
       "      <td>882</td>\n",
       "      <td>1554</td>\n",
       "      <td>0</td>\n",
       "      <td>[georgewil, sad, wake, everyday, forget, georg...</td>\n",
       "    </tr>\n",
       "    <tr>\n",
       "      <th>2</th>\n",
       "      <td>2020-07-21 23:59:24</td>\n",
       "      <td>1285726099239055361</td>\n",
       "      <td>False</td>\n",
       "      <td>Question:\\nIf @JoeBiden doesn’t pick a woman o...</td>\n",
       "      <td>bk_middleclass</td>\n",
       "      <td>Nashville, TN</td>\n",
       "      <td>Twitter for iPhone</td>\n",
       "      <td>0</td>\n",
       "      <td>1294</td>\n",
       "      <td>1213</td>\n",
       "      <td>0</td>\n",
       "      <td>[question, doesnt, pick, woman, color, would, ...</td>\n",
       "    </tr>\n",
       "    <tr>\n",
       "      <th>3</th>\n",
       "      <td>2020-07-21 23:58:47</td>\n",
       "      <td>1285725945849151490</td>\n",
       "      <td>False</td>\n",
       "      <td>Right? 🤣🤣🤣 #Biden formally implicated in #Ukra...</td>\n",
       "      <td>MMorganBlair</td>\n",
       "      <td>United States</td>\n",
       "      <td>Twitter for iPhone</td>\n",
       "      <td>1</td>\n",
       "      <td>2476</td>\n",
       "      <td>3334</td>\n",
       "      <td>1</td>\n",
       "      <td>[right, biden, formal, implic, ukrain, scandal...</td>\n",
       "    </tr>\n",
       "    <tr>\n",
       "      <th>4</th>\n",
       "      <td>2020-07-21 23:58:02</td>\n",
       "      <td>1285725754961965056</td>\n",
       "      <td>False</td>\n",
       "      <td>These idiots let Trump do anything he wants. W...</td>\n",
       "      <td>realfacade1</td>\n",
       "      <td>Purgatory</td>\n",
       "      <td>Twitter for Android</td>\n",
       "      <td>0</td>\n",
       "      <td>2764</td>\n",
       "      <td>3799</td>\n",
       "      <td>0</td>\n",
       "      <td>[idiot, let, trump, anyth, want, biden, get, e...</td>\n",
       "    </tr>\n",
       "    <tr>\n",
       "      <th>...</th>\n",
       "      <td>...</td>\n",
       "      <td>...</td>\n",
       "      <td>...</td>\n",
       "      <td>...</td>\n",
       "      <td>...</td>\n",
       "      <td>...</td>\n",
       "      <td>...</td>\n",
       "      <td>...</td>\n",
       "      <td>...</td>\n",
       "      <td>...</td>\n",
       "      <td>...</td>\n",
       "      <td>...</td>\n",
       "    </tr>\n",
       "    <tr>\n",
       "      <th>15041</th>\n",
       "      <td>2020-07-13 10:57:58</td>\n",
       "      <td>1282630342038499329</td>\n",
       "      <td>False</td>\n",
       "      <td>Other than going big by eulogizing #StromThurm...</td>\n",
       "      <td>robertson_alton</td>\n",
       "      <td>Fort Worth, or thereabouts.</td>\n",
       "      <td>Twitter Web App</td>\n",
       "      <td>0</td>\n",
       "      <td>1004</td>\n",
       "      <td>4999</td>\n",
       "      <td>0</td>\n",
       "      <td>[big, eulog, stromthurmond, look, right, look,...</td>\n",
       "    </tr>\n",
       "    <tr>\n",
       "      <th>15042</th>\n",
       "      <td>2020-07-13 10:56:26</td>\n",
       "      <td>1282629958205145091</td>\n",
       "      <td>False</td>\n",
       "      <td>Don't want to leave out the left! Show your su...</td>\n",
       "      <td>GraphicMedia4</td>\n",
       "      <td>NaN</td>\n",
       "      <td>Twitter Web App</td>\n",
       "      <td>0</td>\n",
       "      <td>1</td>\n",
       "      <td>0</td>\n",
       "      <td>0</td>\n",
       "      <td>[want, leav, left, show, support, elect, heart...</td>\n",
       "    </tr>\n",
       "    <tr>\n",
       "      <th>15043</th>\n",
       "      <td>2020-07-13 10:53:50</td>\n",
       "      <td>1282629302199164928</td>\n",
       "      <td>False</td>\n",
       "      <td>Some chatter about #Biden maybe activating res...</td>\n",
       "      <td>copiousjawnt</td>\n",
       "      <td>Lehigh Valley, PA</td>\n",
       "      <td>Twitter for Android</td>\n",
       "      <td>0</td>\n",
       "      <td>84</td>\n",
       "      <td>210</td>\n",
       "      <td>0</td>\n",
       "      <td>[chatter, biden, mayb, activ, resourc, fight, ...</td>\n",
       "    </tr>\n",
       "    <tr>\n",
       "      <th>15044</th>\n",
       "      <td>2020-07-13 10:53:46</td>\n",
       "      <td>1282629284524433409</td>\n",
       "      <td>False</td>\n",
       "      <td>Fake #Polls? Why #Biden's 'Nationwide Lead' Ov...</td>\n",
       "      <td>blinova14</td>\n",
       "      <td>NaN</td>\n",
       "      <td>Twitter Web App</td>\n",
       "      <td>4</td>\n",
       "      <td>836</td>\n",
       "      <td>432</td>\n",
       "      <td>0</td>\n",
       "      <td>[fake, poll, biden, nationwid, lead, trump, sa...</td>\n",
       "    </tr>\n",
       "    <tr>\n",
       "      <th>15045</th>\n",
       "      <td>2020-07-13 10:45:12</td>\n",
       "      <td>1282627129172271104</td>\n",
       "      <td>False</td>\n",
       "      <td>#Joe #Biden #Trump police should not be armed ...</td>\n",
       "      <td>try4freedom</td>\n",
       "      <td>Brookline, MA</td>\n",
       "      <td>Smart Post App</td>\n",
       "      <td>1</td>\n",
       "      <td>125</td>\n",
       "      <td>612</td>\n",
       "      <td>0</td>\n",
       "      <td>[joe, biden, trump, polic, arm, teeth]</td>\n",
       "    </tr>\n",
       "  </tbody>\n",
       "</table>\n",
       "<p>15046 rows × 12 columns</p>\n",
       "</div>"
      ],
      "text/plain": [
       "                     Date             Tweet_id  Verified  \\\n",
       "0     2020-07-21 23:59:43  1285726179907993601     False   \n",
       "1     2020-07-21 23:59:27  1285726110513344520     False   \n",
       "2     2020-07-21 23:59:24  1285726099239055361     False   \n",
       "3     2020-07-21 23:58:47  1285725945849151490     False   \n",
       "4     2020-07-21 23:58:02  1285725754961965056     False   \n",
       "...                   ...                  ...       ...   \n",
       "15041 2020-07-13 10:57:58  1282630342038499329     False   \n",
       "15042 2020-07-13 10:56:26  1282629958205145091     False   \n",
       "15043 2020-07-13 10:53:50  1282629302199164928     False   \n",
       "15044 2020-07-13 10:53:46  1282629284524433409     False   \n",
       "15045 2020-07-13 10:45:12  1282627129172271104     False   \n",
       "\n",
       "                                                   Tweet             User  \\\n",
       "0      @JoeBiden VP Biden I wish you wouldn't debate ...    BballmomEjZay   \n",
       "1      #GeorgeWill , it’s so sad you wake up everyday...        TalbotMac   \n",
       "2      Question:\\nIf @JoeBiden doesn’t pick a woman o...   bk_middleclass   \n",
       "3      Right? 🤣🤣🤣 #Biden formally implicated in #Ukra...     MMorganBlair   \n",
       "4      These idiots let Trump do anything he wants. W...      realfacade1   \n",
       "...                                                  ...              ...   \n",
       "15041  Other than going big by eulogizing #StromThurm...  robertson_alton   \n",
       "15042  Don't want to leave out the left! Show your su...    GraphicMedia4   \n",
       "15043  Some chatter about #Biden maybe activating res...     copiousjawnt   \n",
       "15044  Fake #Polls? Why #Biden's 'Nationwide Lead' Ov...        blinova14   \n",
       "15045  #Joe #Biden #Trump police should not be armed ...      try4freedom   \n",
       "\n",
       "                           Location               Source  Likes  Followers  \\\n",
       "0                     United States  Twitter for Android      0         54   \n",
       "1                   East Aurora, NY   Twitter for iPhone      0        882   \n",
       "2                     Nashville, TN   Twitter for iPhone      0       1294   \n",
       "3                     United States   Twitter for iPhone      1       2476   \n",
       "4                        Purgatory   Twitter for Android      0       2764   \n",
       "...                             ...                  ...    ...        ...   \n",
       "15041  Fort Worth, or thereabouts.       Twitter Web App      0       1004   \n",
       "15042                           NaN      Twitter Web App      0          1   \n",
       "15043             Lehigh Valley, PA  Twitter for Android      0         84   \n",
       "15044                           NaN      Twitter Web App      4        836   \n",
       "15045                 Brookline, MA       Smart Post App      1        125   \n",
       "\n",
       "       Following  Retweets                                    Processed_Tweet  \n",
       "0            192         0  [biden, wish, debat, trump, unless, debat, tru...  \n",
       "1           1554         0  [georgewil, sad, wake, everyday, forget, georg...  \n",
       "2           1213         0  [question, doesnt, pick, woman, color, would, ...  \n",
       "3           3334         1  [right, biden, formal, implic, ukrain, scandal...  \n",
       "4           3799         0  [idiot, let, trump, anyth, want, biden, get, e...  \n",
       "...          ...       ...                                                ...  \n",
       "15041       4999         0  [big, eulog, stromthurmond, look, right, look,...  \n",
       "15042          0         0  [want, leav, left, show, support, elect, heart...  \n",
       "15043        210         0  [chatter, biden, mayb, activ, resourc, fight, ...  \n",
       "15044        432         0  [fake, poll, biden, nationwid, lead, trump, sa...  \n",
       "15045        612         0             [joe, biden, trump, polic, arm, teeth]  \n",
       "\n",
       "[15046 rows x 12 columns]"
      ]
     },
     "execution_count": 64,
     "metadata": {},
     "output_type": "execute_result"
    }
   ],
   "source": [
    "df"
   ]
  },
  {
   "cell_type": "markdown",
   "metadata": {},
   "source": [
    "Creating strings for each tweet for putting in the model"
   ]
  },
  {
   "cell_type": "code",
   "execution_count": 65,
   "metadata": {},
   "outputs": [],
   "source": [
    "texts = []\n",
    "texts = df.Processed_Tweet.apply(lambda x: [i for i in x] )"
   ]
  },
  {
   "cell_type": "code",
   "execution_count": 66,
   "metadata": {},
   "outputs": [],
   "source": [
    "all_words = []\n",
    "for i in texts:\n",
    "    all_words.append(\" \".join(i))"
   ]
  },
  {
   "cell_type": "code",
   "execution_count": 67,
   "metadata": {},
   "outputs": [],
   "source": [
    "text = []\n",
    "for i in texts:\n",
    "    for j in i:\n",
    "        text.append(j)"
   ]
  },
  {
   "cell_type": "code",
   "execution_count": 68,
   "metadata": {},
   "outputs": [
    {
     "data": {
      "text/plain": [
       "227438"
      ]
     },
     "execution_count": 68,
     "metadata": {},
     "output_type": "execute_result"
    }
   ],
   "source": [
    "len(text)"
   ]
  },
  {
   "cell_type": "code",
   "execution_count": 69,
   "metadata": {},
   "outputs": [],
   "source": [
    "wordcloud = WordCloud(width=800, height=500, random_state=21, max_font_size=110).generate(' '.join(text))"
   ]
  },
  {
   "cell_type": "code",
   "execution_count": 70,
   "metadata": {},
   "outputs": [
    {
     "data": {
      "image/png": "[encoded data removed]",
      "text/plain": [
       "<Figure size 864x864 with 1 Axes>"
      ]
     },
     "metadata": {
      "needs_background": "light"
     },
     "output_type": "display_data"
    }
   ],
   "source": [
    "plt.figure(figsize = (12, 12), facecolor=\"None\") \n",
    "plt.imshow(wordcloud,interpolation='bilinear') \n",
    "plt.axis(\"off\") \n",
    "plt.title(\"WordCloud of Biden Tweets\")\n",
    "plt.show()"
   ]
  },
  {
   "cell_type": "markdown",
   "metadata": {},
   "source": [
    "## Sentiment Analysis"
   ]
  },
  {
   "cell_type": "code",
   "execution_count": 71,
   "metadata": {},
   "outputs": [],
   "source": [
    "from textblob import TextBlob"
   ]
  },
  {
   "cell_type": "code",
   "execution_count": 72,
   "metadata": {},
   "outputs": [],
   "source": [
    "pol=[]\n",
    "for Tweet in all_words:\n",
    "    blob = TextBlob(Tweet)\n",
    "    pol.append(blob.sentiment.polarity)"
   ]
  },
  {
   "cell_type": "code",
   "execution_count": 73,
   "metadata": {},
   "outputs": [
    {
     "data": {
      "text/plain": [
       "15046"
      ]
     },
     "execution_count": 73,
     "metadata": {},
     "output_type": "execute_result"
    }
   ],
   "source": [
    "len(pol)"
   ]
  },
  {
   "cell_type": "code",
   "execution_count": 74,
   "metadata": {},
   "outputs": [
    {
     "data": {
      "text/plain": [
       "227438"
      ]
     },
     "execution_count": 74,
     "metadata": {},
     "output_type": "execute_result"
    }
   ],
   "source": [
    "len(text)"
   ]
  },
  {
   "cell_type": "code",
   "execution_count": 75,
   "metadata": {},
   "outputs": [
    {
     "data": {
      "text/plain": [
       "0        [biden, wish, debat, trump, unless, debat, tru...\n",
       "1        [georgewil, sad, wake, everyday, forget, georg...\n",
       "2        [question, doesnt, pick, woman, color, would, ...\n",
       "3        [right, biden, formal, implic, ukrain, scandal...\n",
       "4        [idiot, let, trump, anyth, want, biden, get, e...\n",
       "                               ...                        \n",
       "15041    [big, eulog, stromthurmond, look, right, look,...\n",
       "15042    [want, leav, left, show, support, elect, heart...\n",
       "15043    [chatter, biden, mayb, activ, resourc, fight, ...\n",
       "15044    [fake, poll, biden, nationwid, lead, trump, sa...\n",
       "15045               [joe, biden, trump, polic, arm, teeth]\n",
       "Name: Processed_Tweet, Length: 15046, dtype: object"
      ]
     },
     "execution_count": 75,
     "metadata": {},
     "output_type": "execute_result"
    }
   ],
   "source": [
    "df['Processed_Tweet']"
   ]
  },
  {
   "cell_type": "markdown",
   "metadata": {},
   "source": [
    "Classifying tweets as neutral, positive, negative"
   ]
  },
  {
   "cell_type": "code",
   "execution_count": 76,
   "metadata": {},
   "outputs": [
    {
     "name": "stdout",
     "output_type": "stream",
     "text": [
      "Positive Tweets: 5953\n",
      "Negative Tweets: 3050\n",
      "Neutral Tweets 6043\n"
     ]
    }
   ],
   "source": [
    "positive=0\n",
    "negative=0\n",
    "neutral=0\n",
    "for i in pol:\n",
    "    if i>0:\n",
    "        positive+=1\n",
    "    elif i<0:\n",
    "        negative+=1\n",
    "    else:\n",
    "        neutral+=1\n",
    "print(\"Positive Tweets:\",positive)\n",
    "print(\"Negative Tweets:\",negative)\n",
    "print(\"Neutral Tweets\",neutral)"
   ]
  },
  {
   "cell_type": "code",
   "execution_count": 77,
   "metadata": {},
   "outputs": [
    {
     "name": "stderr",
     "output_type": "stream",
     "text": [
      "[nltk_data] Downloading package vader_lexicon to\n",
      "[nltk_data]     C:\\Users\\ROSHAN\\AppData\\Roaming\\nltk_data...\n",
      "[nltk_data]   Package vader_lexicon is already up-to-date!\n"
     ]
    },
    {
     "data": {
      "text/plain": [
       "True"
      ]
     },
     "execution_count": 77,
     "metadata": {},
     "output_type": "execute_result"
    }
   ],
   "source": [
    "import nltk\n",
    "nltk.download('vader_lexicon')"
   ]
  },
  {
   "cell_type": "code",
   "execution_count": 78,
   "metadata": {},
   "outputs": [],
   "source": [
    "from nltk.sentiment.vader import SentimentIntensityAnalyzer\n",
    "sid = SentimentIntensityAnalyzer()\n",
    "sentiment_scores= []\n",
    "for i in all_words:\n",
    "    sentiment_scores.append([sid.polarity_scores(i)])"
   ]
  },
  {
   "cell_type": "code",
   "execution_count": 79,
   "metadata": {},
   "outputs": [],
   "source": [
    "value = []\n",
    "for i in sentiment_scores:\n",
    "    for dict1 in i:\n",
    "        value.append(list(dict1.values()))\n",
    "\n"
   ]
  },
  {
   "cell_type": "code",
   "execution_count": 80,
   "metadata": {},
   "outputs": [
    {
     "data": {
      "text/html": [
       "<div>\n",
       "<style scoped>\n",
       "    .dataframe tbody tr th:only-of-type {\n",
       "        vertical-align: middle;\n",
       "    }\n",
       "\n",
       "    .dataframe tbody tr th {\n",
       "        vertical-align: top;\n",
       "    }\n",
       "\n",
       "    .dataframe thead th {\n",
       "        text-align: right;\n",
       "    }\n",
       "</style>\n",
       "<table border=\"1\" class=\"dataframe\">\n",
       "  <thead>\n",
       "    <tr style=\"text-align: right;\">\n",
       "      <th></th>\n",
       "      <th>Negative</th>\n",
       "      <th>Neutral</th>\n",
       "      <th>Positive</th>\n",
       "      <th>Compound</th>\n",
       "    </tr>\n",
       "  </thead>\n",
       "  <tbody>\n",
       "    <tr>\n",
       "      <th>0</th>\n",
       "      <td>0.214</td>\n",
       "      <td>0.619</td>\n",
       "      <td>0.167</td>\n",
       "      <td>-0.3612</td>\n",
       "    </tr>\n",
       "    <tr>\n",
       "      <th>1</th>\n",
       "      <td>0.204</td>\n",
       "      <td>0.694</td>\n",
       "      <td>0.102</td>\n",
       "      <td>-0.3612</td>\n",
       "    </tr>\n",
       "    <tr>\n",
       "      <th>2</th>\n",
       "      <td>0.000</td>\n",
       "      <td>1.000</td>\n",
       "      <td>0.000</td>\n",
       "      <td>0.0000</td>\n",
       "    </tr>\n",
       "    <tr>\n",
       "      <th>3</th>\n",
       "      <td>0.266</td>\n",
       "      <td>0.734</td>\n",
       "      <td>0.000</td>\n",
       "      <td>-0.4404</td>\n",
       "    </tr>\n",
       "    <tr>\n",
       "      <th>4</th>\n",
       "      <td>0.148</td>\n",
       "      <td>0.493</td>\n",
       "      <td>0.359</td>\n",
       "      <td>0.4019</td>\n",
       "    </tr>\n",
       "    <tr>\n",
       "      <th>...</th>\n",
       "      <td>...</td>\n",
       "      <td>...</td>\n",
       "      <td>...</td>\n",
       "      <td>...</td>\n",
       "    </tr>\n",
       "    <tr>\n",
       "      <th>15041</th>\n",
       "      <td>0.180</td>\n",
       "      <td>0.820</td>\n",
       "      <td>0.000</td>\n",
       "      <td>-0.6808</td>\n",
       "    </tr>\n",
       "    <tr>\n",
       "      <th>15042</th>\n",
       "      <td>0.000</td>\n",
       "      <td>0.810</td>\n",
       "      <td>0.190</td>\n",
       "      <td>0.4588</td>\n",
       "    </tr>\n",
       "    <tr>\n",
       "      <th>15043</th>\n",
       "      <td>0.206</td>\n",
       "      <td>0.794</td>\n",
       "      <td>0.000</td>\n",
       "      <td>-0.6369</td>\n",
       "    </tr>\n",
       "    <tr>\n",
       "      <th>15044</th>\n",
       "      <td>0.121</td>\n",
       "      <td>0.623</td>\n",
       "      <td>0.257</td>\n",
       "      <td>0.5423</td>\n",
       "    </tr>\n",
       "    <tr>\n",
       "      <th>15045</th>\n",
       "      <td>0.000</td>\n",
       "      <td>1.000</td>\n",
       "      <td>0.000</td>\n",
       "      <td>0.0000</td>\n",
       "    </tr>\n",
       "  </tbody>\n",
       "</table>\n",
       "<p>15046 rows × 4 columns</p>\n",
       "</div>"
      ],
      "text/plain": [
       "       Negative  Neutral  Positive  Compound\n",
       "0         0.214    0.619     0.167   -0.3612\n",
       "1         0.204    0.694     0.102   -0.3612\n",
       "2         0.000    1.000     0.000    0.0000\n",
       "3         0.266    0.734     0.000   -0.4404\n",
       "4         0.148    0.493     0.359    0.4019\n",
       "...         ...      ...       ...       ...\n",
       "15041     0.180    0.820     0.000   -0.6808\n",
       "15042     0.000    0.810     0.190    0.4588\n",
       "15043     0.206    0.794     0.000   -0.6369\n",
       "15044     0.121    0.623     0.257    0.5423\n",
       "15045     0.000    1.000     0.000    0.0000\n",
       "\n",
       "[15046 rows x 4 columns]"
      ]
     },
     "execution_count": 80,
     "metadata": {},
     "output_type": "execute_result"
    }
   ],
   "source": [
    "sentimental_score_df = pd.DataFrame(data = value, columns = ['Negative','Neutral','Positive','Compound'])\n",
    "sentimental_score_df"
   ]
  },
  {
   "cell_type": "code",
   "execution_count": 81,
   "metadata": {},
   "outputs": [
    {
     "data": {
      "text/html": [
       "<div>\n",
       "<style scoped>\n",
       "    .dataframe tbody tr th:only-of-type {\n",
       "        vertical-align: middle;\n",
       "    }\n",
       "\n",
       "    .dataframe tbody tr th {\n",
       "        vertical-align: top;\n",
       "    }\n",
       "\n",
       "    .dataframe thead th {\n",
       "        text-align: right;\n",
       "    }\n",
       "</style>\n",
       "<table border=\"1\" class=\"dataframe\">\n",
       "  <thead>\n",
       "    <tr style=\"text-align: right;\">\n",
       "      <th></th>\n",
       "      <th>Negative</th>\n",
       "      <th>Neutral</th>\n",
       "      <th>Positive</th>\n",
       "      <th>Compound</th>\n",
       "      <th>val</th>\n",
       "    </tr>\n",
       "  </thead>\n",
       "  <tbody>\n",
       "    <tr>\n",
       "      <th>0</th>\n",
       "      <td>0.214</td>\n",
       "      <td>0.619</td>\n",
       "      <td>0.167</td>\n",
       "      <td>-0.3612</td>\n",
       "      <td>Negative</td>\n",
       "    </tr>\n",
       "    <tr>\n",
       "      <th>1</th>\n",
       "      <td>0.204</td>\n",
       "      <td>0.694</td>\n",
       "      <td>0.102</td>\n",
       "      <td>-0.3612</td>\n",
       "      <td>Negative</td>\n",
       "    </tr>\n",
       "    <tr>\n",
       "      <th>2</th>\n",
       "      <td>0.000</td>\n",
       "      <td>1.000</td>\n",
       "      <td>0.000</td>\n",
       "      <td>0.0000</td>\n",
       "      <td>Neutral</td>\n",
       "    </tr>\n",
       "    <tr>\n",
       "      <th>3</th>\n",
       "      <td>0.266</td>\n",
       "      <td>0.734</td>\n",
       "      <td>0.000</td>\n",
       "      <td>-0.4404</td>\n",
       "      <td>Negative</td>\n",
       "    </tr>\n",
       "    <tr>\n",
       "      <th>4</th>\n",
       "      <td>0.148</td>\n",
       "      <td>0.493</td>\n",
       "      <td>0.359</td>\n",
       "      <td>0.4019</td>\n",
       "      <td>Positive</td>\n",
       "    </tr>\n",
       "  </tbody>\n",
       "</table>\n",
       "</div>"
      ],
      "text/plain": [
       "   Negative  Neutral  Positive  Compound       val\n",
       "0     0.214    0.619     0.167   -0.3612  Negative\n",
       "1     0.204    0.694     0.102   -0.3612  Negative\n",
       "2     0.000    1.000     0.000    0.0000   Neutral\n",
       "3     0.266    0.734     0.000   -0.4404  Negative\n",
       "4     0.148    0.493     0.359    0.4019  Positive"
      ]
     },
     "execution_count": 81,
     "metadata": {},
     "output_type": "execute_result"
    }
   ],
   "source": [
    "sentimental_score_df['val'] = sentimental_score_df['Compound'].apply(lambda x: 'Neutral' if x == 0 else ('Positive' if x > 0 else 'Negative'))\n",
    "sentimental_score_df.head()"
   ]
  },
  {
   "cell_type": "code",
   "execution_count": 82,
   "metadata": {},
   "outputs": [
    {
     "data": {
      "text/plain": [
       "<matplotlib.axes._subplots.AxesSubplot at 0x1f33f7a91c8>"
      ]
     },
     "execution_count": 82,
     "metadata": {},
     "output_type": "execute_result"
    },
    {
     "data": {
      "image/png": "[encoded data removed]",
      "text/plain": [
       "<Figure size 432x288 with 1 Axes>"
      ]
     },
     "metadata": {
      "needs_background": "light"
     },
     "output_type": "display_data"
    }
   ],
   "source": [
    "sent_count = pd.DataFrame.from_dict(Counter(sentimental_score_df['val']), orient = 'index').reset_index()\n",
    "sent_count.columns = ['sentiment', 'count']\n",
    "\n",
    "sns.barplot(y=\"count\", x='sentiment', data=sent_count)"
   ]
  },
  {
   "cell_type": "code",
   "execution_count": 84,
   "metadata": {},
   "outputs": [
    {
     "data": {
      "text/plain": [
       "86343"
      ]
     },
     "execution_count": 84,
     "metadata": {},
     "output_type": "execute_result"
    }
   ],
   "source": [
    "filepath = r\"C:\\Users\\ROSHAN\\Documents\\GitHub\\extracting-tweets-forecasting-the-upcoming-elections-in-the-us\\Rohan\\NRC Emotion Lexicon.txt\"\n",
    "emolex_df = pd.read_csv(filepath,  names=[\"word\", \"emotion\", \"association\"], skiprows=45, sep='\\t')\n",
    "emolex_df.head(12)\n",
    "len(emolex_df)"
   ]
  },
  {
   "cell_type": "code",
   "execution_count": 85,
   "metadata": {},
   "outputs": [],
   "source": [
    "emotions={'positive':0, 'negative':0, 'surprise':0,'sadness':0,\n",
    "          'anger':0,'joy':0,'negative':0,'trust':0,'fear':0,'anticipation':0,'disgust':0}"
   ]
  },
  {
   "cell_type": "code",
   "execution_count": 86,
   "metadata": {},
   "outputs": [],
   "source": [
    "word_emotion=dict()\n",
    "for i in range(0,86343):\n",
    "    emotion=emolex_df['emotion'][i]\n",
    "    word=emolex_df['word'][i]\n",
    "    association=emolex_df['association'][i]\n",
    "    \n",
    "    if word not in word_emotion:\n",
    "        word_emotion[word]=dict()\n",
    "    word_emotion[word][emotion]=association  "
   ]
  },
  {
   "cell_type": "code",
   "execution_count": 87,
   "metadata": {},
   "outputs": [],
   "source": [
    "for i in range(0,15046):\n",
    "    text=df['Tweet'][i]\n",
    "    for j in text.split():\n",
    "        if j in word_emotion:\n",
    "            for k in word_emotion[j]:\n",
    "                emotions[k]+=word_emotion[j][k]"
   ]
  },
  {
   "cell_type": "code",
   "execution_count": 88,
   "metadata": {},
   "outputs": [
    {
     "data": {
      "text/plain": [
       "{'positive': 5752.0,\n",
       " 'negative': 5936.0,\n",
       " 'surprise': 1491.0,\n",
       " 'sadness': 2759.0,\n",
       " 'anger': 3044.0,\n",
       " 'joy': 1994.0,\n",
       " 'trust': 3538.0,\n",
       " 'fear': 3265.0,\n",
       " 'anticipation': 2296.0,\n",
       " 'disgust': 1944.0}"
      ]
     },
     "execution_count": 88,
     "metadata": {},
     "output_type": "execute_result"
    }
   ],
   "source": [
    "emotions"
   ]
  },
  {
   "cell_type": "code",
   "execution_count": 89,
   "metadata": {},
   "outputs": [
    {
     "data": {
      "image/png": "[encoded data removed]",
      "text/plain": [
       "<Figure size 1080x360 with 1 Axes>"
      ]
     },
     "metadata": {},
     "output_type": "display_data"
    }
   ],
   "source": [
    "plt.style.use('fivethirtyeight')\n",
    "plt.rcParams[\"figure.figsize\"] = [15,5]\n",
    "plt.bar(list(emotions.keys()),list(emotions.values()),color='red',alpha = 0.6)\n",
    "plt.xlabel('Emotions')\n",
    "plt.ylabel('Count')\n",
    "plt.title('Calculated Emotions Of Users ')\n",
    "plt.show()"
   ]
  },
  {
   "cell_type": "code",
   "execution_count": 90,
   "metadata": {},
   "outputs": [],
   "source": [
    "df.Location  = df.Location.fillna('USA')"
   ]
  },
  {
   "cell_type": "code",
   "execution_count": 91,
   "metadata": {},
   "outputs": [
    {
     "data": {
      "text/plain": [
       "[]"
      ]
     },
     "execution_count": 91,
     "metadata": {},
     "output_type": "execute_result"
    }
   ],
   "source": [
    "f = [i for i in df['Location'] if type(i) != str]\n",
    "f"
   ]
  },
  {
   "cell_type": "code",
   "execution_count": 92,
   "metadata": {},
   "outputs": [],
   "source": [
    "df.Location = df.Location.apply(lambda x: x.replace('United States','USA'))"
   ]
  },
  {
   "cell_type": "code",
   "execution_count": 93,
   "metadata": {},
   "outputs": [
    {
     "data": {
      "text/plain": [
       "USA                          5487\n",
       "First star to the right       174\n",
       "Florida, USA                  158\n",
       "Washington, DC                157\n",
       "Earth                         136\n",
       "                             ... \n",
       "Port St. Lucie, FL. 34983       1\n",
       "Yee Haw State                   1\n",
       "Statesboro, GA                  1\n",
       "Behind a log, NC                1\n",
       "The USA of America              1\n",
       "Name: Location, Length: 3195, dtype: int64"
      ]
     },
     "execution_count": 93,
     "metadata": {},
     "output_type": "execute_result"
    }
   ],
   "source": [
    "df.Location.value_counts()"
   ]
  },
  {
   "cell_type": "code",
   "execution_count": 94,
   "metadata": {},
   "outputs": [
    {
     "data": {
      "text/html": [
       "<div>\n",
       "<style scoped>\n",
       "    .dataframe tbody tr th:only-of-type {\n",
       "        vertical-align: middle;\n",
       "    }\n",
       "\n",
       "    .dataframe tbody tr th {\n",
       "        vertical-align: top;\n",
       "    }\n",
       "\n",
       "    .dataframe thead th {\n",
       "        text-align: right;\n",
       "    }\n",
       "</style>\n",
       "<table border=\"1\" class=\"dataframe\">\n",
       "  <thead>\n",
       "    <tr style=\"text-align: right;\">\n",
       "      <th></th>\n",
       "      <th>Date</th>\n",
       "      <th>Tweet_id</th>\n",
       "      <th>Verified</th>\n",
       "      <th>Tweet</th>\n",
       "      <th>User</th>\n",
       "      <th>Location</th>\n",
       "      <th>Source</th>\n",
       "      <th>Likes</th>\n",
       "      <th>Followers</th>\n",
       "      <th>Following</th>\n",
       "      <th>Retweets</th>\n",
       "      <th>Processed_Tweet</th>\n",
       "      <th>Processed_Location</th>\n",
       "    </tr>\n",
       "  </thead>\n",
       "  <tbody>\n",
       "    <tr>\n",
       "      <th>0</th>\n",
       "      <td>2020-07-21 23:59:43</td>\n",
       "      <td>1285726179907993601</td>\n",
       "      <td>False</td>\n",
       "      <td>@JoeBiden VP Biden I wish you wouldn't debate ...</td>\n",
       "      <td>BballmomEjZay</td>\n",
       "      <td>USA</td>\n",
       "      <td>Twitter for Android</td>\n",
       "      <td>0</td>\n",
       "      <td>54</td>\n",
       "      <td>192</td>\n",
       "      <td>0</td>\n",
       "      <td>[biden, wish, debat, trump, unless, debat, tru...</td>\n",
       "      <td>USA</td>\n",
       "    </tr>\n",
       "    <tr>\n",
       "      <th>1</th>\n",
       "      <td>2020-07-21 23:59:27</td>\n",
       "      <td>1285726110513344520</td>\n",
       "      <td>False</td>\n",
       "      <td>#GeorgeWill , it’s so sad you wake up everyday...</td>\n",
       "      <td>TalbotMac</td>\n",
       "      <td>East Aurora, NY</td>\n",
       "      <td>Twitter for iPhone</td>\n",
       "      <td>0</td>\n",
       "      <td>882</td>\n",
       "      <td>1554</td>\n",
       "      <td>0</td>\n",
       "      <td>[georgewil, sad, wake, everyday, forget, georg...</td>\n",
       "      <td>East Aurora</td>\n",
       "    </tr>\n",
       "    <tr>\n",
       "      <th>2</th>\n",
       "      <td>2020-07-21 23:59:24</td>\n",
       "      <td>1285726099239055361</td>\n",
       "      <td>False</td>\n",
       "      <td>Question:\\nIf @JoeBiden doesn’t pick a woman o...</td>\n",
       "      <td>bk_middleclass</td>\n",
       "      <td>Nashville, TN</td>\n",
       "      <td>Twitter for iPhone</td>\n",
       "      <td>0</td>\n",
       "      <td>1294</td>\n",
       "      <td>1213</td>\n",
       "      <td>0</td>\n",
       "      <td>[question, doesnt, pick, woman, color, would, ...</td>\n",
       "      <td>Nashville</td>\n",
       "    </tr>\n",
       "    <tr>\n",
       "      <th>3</th>\n",
       "      <td>2020-07-21 23:58:47</td>\n",
       "      <td>1285725945849151490</td>\n",
       "      <td>False</td>\n",
       "      <td>Right? 🤣🤣🤣 #Biden formally implicated in #Ukra...</td>\n",
       "      <td>MMorganBlair</td>\n",
       "      <td>USA</td>\n",
       "      <td>Twitter for iPhone</td>\n",
       "      <td>1</td>\n",
       "      <td>2476</td>\n",
       "      <td>3334</td>\n",
       "      <td>1</td>\n",
       "      <td>[right, biden, formal, implic, ukrain, scandal...</td>\n",
       "      <td>USA</td>\n",
       "    </tr>\n",
       "    <tr>\n",
       "      <th>4</th>\n",
       "      <td>2020-07-21 23:58:02</td>\n",
       "      <td>1285725754961965056</td>\n",
       "      <td>False</td>\n",
       "      <td>These idiots let Trump do anything he wants. W...</td>\n",
       "      <td>realfacade1</td>\n",
       "      <td>Purgatory</td>\n",
       "      <td>Twitter for Android</td>\n",
       "      <td>0</td>\n",
       "      <td>2764</td>\n",
       "      <td>3799</td>\n",
       "      <td>0</td>\n",
       "      <td>[idiot, let, trump, anyth, want, biden, get, e...</td>\n",
       "      <td>Purgatory</td>\n",
       "    </tr>\n",
       "    <tr>\n",
       "      <th>...</th>\n",
       "      <td>...</td>\n",
       "      <td>...</td>\n",
       "      <td>...</td>\n",
       "      <td>...</td>\n",
       "      <td>...</td>\n",
       "      <td>...</td>\n",
       "      <td>...</td>\n",
       "      <td>...</td>\n",
       "      <td>...</td>\n",
       "      <td>...</td>\n",
       "      <td>...</td>\n",
       "      <td>...</td>\n",
       "      <td>...</td>\n",
       "    </tr>\n",
       "    <tr>\n",
       "      <th>15041</th>\n",
       "      <td>2020-07-13 10:57:58</td>\n",
       "      <td>1282630342038499329</td>\n",
       "      <td>False</td>\n",
       "      <td>Other than going big by eulogizing #StromThurm...</td>\n",
       "      <td>robertson_alton</td>\n",
       "      <td>Fort Worth, or thereabouts.</td>\n",
       "      <td>Twitter Web App</td>\n",
       "      <td>0</td>\n",
       "      <td>1004</td>\n",
       "      <td>4999</td>\n",
       "      <td>0</td>\n",
       "      <td>[big, eulog, stromthurmond, look, right, look,...</td>\n",
       "      <td>Fort Worth</td>\n",
       "    </tr>\n",
       "    <tr>\n",
       "      <th>15042</th>\n",
       "      <td>2020-07-13 10:56:26</td>\n",
       "      <td>1282629958205145091</td>\n",
       "      <td>False</td>\n",
       "      <td>Don't want to leave out the left! Show your su...</td>\n",
       "      <td>GraphicMedia4</td>\n",
       "      <td>USA</td>\n",
       "      <td>Twitter Web App</td>\n",
       "      <td>0</td>\n",
       "      <td>1</td>\n",
       "      <td>0</td>\n",
       "      <td>0</td>\n",
       "      <td>[want, leav, left, show, support, elect, heart...</td>\n",
       "      <td>USA</td>\n",
       "    </tr>\n",
       "    <tr>\n",
       "      <th>15043</th>\n",
       "      <td>2020-07-13 10:53:50</td>\n",
       "      <td>1282629302199164928</td>\n",
       "      <td>False</td>\n",
       "      <td>Some chatter about #Biden maybe activating res...</td>\n",
       "      <td>copiousjawnt</td>\n",
       "      <td>Lehigh Valley, PA</td>\n",
       "      <td>Twitter for Android</td>\n",
       "      <td>0</td>\n",
       "      <td>84</td>\n",
       "      <td>210</td>\n",
       "      <td>0</td>\n",
       "      <td>[chatter, biden, mayb, activ, resourc, fight, ...</td>\n",
       "      <td>Lehigh Valley</td>\n",
       "    </tr>\n",
       "    <tr>\n",
       "      <th>15044</th>\n",
       "      <td>2020-07-13 10:53:46</td>\n",
       "      <td>1282629284524433409</td>\n",
       "      <td>False</td>\n",
       "      <td>Fake #Polls? Why #Biden's 'Nationwide Lead' Ov...</td>\n",
       "      <td>blinova14</td>\n",
       "      <td>USA</td>\n",
       "      <td>Twitter Web App</td>\n",
       "      <td>4</td>\n",
       "      <td>836</td>\n",
       "      <td>432</td>\n",
       "      <td>0</td>\n",
       "      <td>[fake, poll, biden, nationwid, lead, trump, sa...</td>\n",
       "      <td>USA</td>\n",
       "    </tr>\n",
       "    <tr>\n",
       "      <th>15045</th>\n",
       "      <td>2020-07-13 10:45:12</td>\n",
       "      <td>1282627129172271104</td>\n",
       "      <td>False</td>\n",
       "      <td>#Joe #Biden #Trump police should not be armed ...</td>\n",
       "      <td>try4freedom</td>\n",
       "      <td>Brookline, MA</td>\n",
       "      <td>Smart Post App</td>\n",
       "      <td>1</td>\n",
       "      <td>125</td>\n",
       "      <td>612</td>\n",
       "      <td>0</td>\n",
       "      <td>[joe, biden, trump, polic, arm, teeth]</td>\n",
       "      <td>Brookline</td>\n",
       "    </tr>\n",
       "  </tbody>\n",
       "</table>\n",
       "<p>15046 rows × 13 columns</p>\n",
       "</div>"
      ],
      "text/plain": [
       "                     Date             Tweet_id  Verified  \\\n",
       "0     2020-07-21 23:59:43  1285726179907993601     False   \n",
       "1     2020-07-21 23:59:27  1285726110513344520     False   \n",
       "2     2020-07-21 23:59:24  1285726099239055361     False   \n",
       "3     2020-07-21 23:58:47  1285725945849151490     False   \n",
       "4     2020-07-21 23:58:02  1285725754961965056     False   \n",
       "...                   ...                  ...       ...   \n",
       "15041 2020-07-13 10:57:58  1282630342038499329     False   \n",
       "15042 2020-07-13 10:56:26  1282629958205145091     False   \n",
       "15043 2020-07-13 10:53:50  1282629302199164928     False   \n",
       "15044 2020-07-13 10:53:46  1282629284524433409     False   \n",
       "15045 2020-07-13 10:45:12  1282627129172271104     False   \n",
       "\n",
       "                                                   Tweet             User  \\\n",
       "0      @JoeBiden VP Biden I wish you wouldn't debate ...    BballmomEjZay   \n",
       "1      #GeorgeWill , it’s so sad you wake up everyday...        TalbotMac   \n",
       "2      Question:\\nIf @JoeBiden doesn’t pick a woman o...   bk_middleclass   \n",
       "3      Right? 🤣🤣🤣 #Biden formally implicated in #Ukra...     MMorganBlair   \n",
       "4      These idiots let Trump do anything he wants. W...      realfacade1   \n",
       "...                                                  ...              ...   \n",
       "15041  Other than going big by eulogizing #StromThurm...  robertson_alton   \n",
       "15042  Don't want to leave out the left! Show your su...    GraphicMedia4   \n",
       "15043  Some chatter about #Biden maybe activating res...     copiousjawnt   \n",
       "15044  Fake #Polls? Why #Biden's 'Nationwide Lead' Ov...        blinova14   \n",
       "15045  #Joe #Biden #Trump police should not be armed ...      try4freedom   \n",
       "\n",
       "                           Location               Source  Likes  Followers  \\\n",
       "0                               USA  Twitter for Android      0         54   \n",
       "1                   East Aurora, NY   Twitter for iPhone      0        882   \n",
       "2                     Nashville, TN   Twitter for iPhone      0       1294   \n",
       "3                               USA   Twitter for iPhone      1       2476   \n",
       "4                        Purgatory   Twitter for Android      0       2764   \n",
       "...                             ...                  ...    ...        ...   \n",
       "15041  Fort Worth, or thereabouts.       Twitter Web App      0       1004   \n",
       "15042                           USA      Twitter Web App      0          1   \n",
       "15043             Lehigh Valley, PA  Twitter for Android      0         84   \n",
       "15044                           USA      Twitter Web App      4        836   \n",
       "15045                 Brookline, MA       Smart Post App      1        125   \n",
       "\n",
       "       Following  Retweets                                    Processed_Tweet  \\\n",
       "0            192         0  [biden, wish, debat, trump, unless, debat, tru...   \n",
       "1           1554         0  [georgewil, sad, wake, everyday, forget, georg...   \n",
       "2           1213         0  [question, doesnt, pick, woman, color, would, ...   \n",
       "3           3334         1  [right, biden, formal, implic, ukrain, scandal...   \n",
       "4           3799         0  [idiot, let, trump, anyth, want, biden, get, e...   \n",
       "...          ...       ...                                                ...   \n",
       "15041       4999         0  [big, eulog, stromthurmond, look, right, look,...   \n",
       "15042          0         0  [want, leav, left, show, support, elect, heart...   \n",
       "15043        210         0  [chatter, biden, mayb, activ, resourc, fight, ...   \n",
       "15044        432         0  [fake, poll, biden, nationwid, lead, trump, sa...   \n",
       "15045        612         0             [joe, biden, trump, polic, arm, teeth]   \n",
       "\n",
       "      Processed_Location  \n",
       "0                    USA  \n",
       "1            East Aurora  \n",
       "2              Nashville  \n",
       "3                    USA  \n",
       "4             Purgatory   \n",
       "...                  ...  \n",
       "15041         Fort Worth  \n",
       "15042                USA  \n",
       "15043      Lehigh Valley  \n",
       "15044                USA  \n",
       "15045          Brookline  \n",
       "\n",
       "[15046 rows x 13 columns]"
      ]
     },
     "execution_count": 94,
     "metadata": {},
     "output_type": "execute_result"
    }
   ],
   "source": [
    "locations = []\n",
    "locations_1 = []\n",
    "\n",
    "locations = [i.split(',')[-1] for i in df['Location']]\n",
    "locations_1 =  [i.split(',')[0] for i in df['Location']]\n",
    "df['Processed_Location'] = locations_1\n",
    "df"
   ]
  },
  {
   "cell_type": "code",
   "execution_count": 95,
   "metadata": {},
   "outputs": [],
   "source": [
    "df1 = df"
   ]
  },
  {
   "cell_type": "code",
   "execution_count": 96,
   "metadata": {},
   "outputs": [],
   "source": [
    "df1['sentiment'] = sentimental_score_df['val']"
   ]
  },
  {
   "cell_type": "code",
   "execution_count": 97,
   "metadata": {},
   "outputs": [
    {
     "data": {
      "text/html": [
       "<div>\n",
       "<style scoped>\n",
       "    .dataframe tbody tr th:only-of-type {\n",
       "        vertical-align: middle;\n",
       "    }\n",
       "\n",
       "    .dataframe tbody tr th {\n",
       "        vertical-align: top;\n",
       "    }\n",
       "\n",
       "    .dataframe thead th {\n",
       "        text-align: right;\n",
       "    }\n",
       "</style>\n",
       "<table border=\"1\" class=\"dataframe\">\n",
       "  <thead>\n",
       "    <tr style=\"text-align: right;\">\n",
       "      <th></th>\n",
       "      <th>Date</th>\n",
       "      <th>Tweet_id</th>\n",
       "      <th>Verified</th>\n",
       "      <th>Tweet</th>\n",
       "      <th>User</th>\n",
       "      <th>Location</th>\n",
       "      <th>Source</th>\n",
       "      <th>Likes</th>\n",
       "      <th>Followers</th>\n",
       "      <th>Following</th>\n",
       "      <th>Retweets</th>\n",
       "      <th>Processed_Tweet</th>\n",
       "      <th>Processed_Location</th>\n",
       "      <th>sentiment</th>\n",
       "    </tr>\n",
       "  </thead>\n",
       "  <tbody>\n",
       "    <tr>\n",
       "      <th>0</th>\n",
       "      <td>2020-07-21 23:59:43</td>\n",
       "      <td>1285726179907993601</td>\n",
       "      <td>False</td>\n",
       "      <td>@JoeBiden VP Biden I wish you wouldn't debate ...</td>\n",
       "      <td>BballmomEjZay</td>\n",
       "      <td>USA</td>\n",
       "      <td>Twitter for Android</td>\n",
       "      <td>0</td>\n",
       "      <td>54</td>\n",
       "      <td>192</td>\n",
       "      <td>0</td>\n",
       "      <td>[biden, wish, debat, trump, unless, debat, tru...</td>\n",
       "      <td>USA</td>\n",
       "      <td>Negative</td>\n",
       "    </tr>\n",
       "    <tr>\n",
       "      <th>1</th>\n",
       "      <td>2020-07-21 23:59:27</td>\n",
       "      <td>1285726110513344520</td>\n",
       "      <td>False</td>\n",
       "      <td>#GeorgeWill , it’s so sad you wake up everyday...</td>\n",
       "      <td>TalbotMac</td>\n",
       "      <td>East Aurora, NY</td>\n",
       "      <td>Twitter for iPhone</td>\n",
       "      <td>0</td>\n",
       "      <td>882</td>\n",
       "      <td>1554</td>\n",
       "      <td>0</td>\n",
       "      <td>[georgewil, sad, wake, everyday, forget, georg...</td>\n",
       "      <td>East Aurora</td>\n",
       "      <td>Negative</td>\n",
       "    </tr>\n",
       "    <tr>\n",
       "      <th>2</th>\n",
       "      <td>2020-07-21 23:59:24</td>\n",
       "      <td>1285726099239055361</td>\n",
       "      <td>False</td>\n",
       "      <td>Question:\\nIf @JoeBiden doesn’t pick a woman o...</td>\n",
       "      <td>bk_middleclass</td>\n",
       "      <td>Nashville, TN</td>\n",
       "      <td>Twitter for iPhone</td>\n",
       "      <td>0</td>\n",
       "      <td>1294</td>\n",
       "      <td>1213</td>\n",
       "      <td>0</td>\n",
       "      <td>[question, doesnt, pick, woman, color, would, ...</td>\n",
       "      <td>Nashville</td>\n",
       "      <td>Neutral</td>\n",
       "    </tr>\n",
       "    <tr>\n",
       "      <th>3</th>\n",
       "      <td>2020-07-21 23:58:47</td>\n",
       "      <td>1285725945849151490</td>\n",
       "      <td>False</td>\n",
       "      <td>Right? 🤣🤣🤣 #Biden formally implicated in #Ukra...</td>\n",
       "      <td>MMorganBlair</td>\n",
       "      <td>USA</td>\n",
       "      <td>Twitter for iPhone</td>\n",
       "      <td>1</td>\n",
       "      <td>2476</td>\n",
       "      <td>3334</td>\n",
       "      <td>1</td>\n",
       "      <td>[right, biden, formal, implic, ukrain, scandal...</td>\n",
       "      <td>USA</td>\n",
       "      <td>Negative</td>\n",
       "    </tr>\n",
       "    <tr>\n",
       "      <th>4</th>\n",
       "      <td>2020-07-21 23:58:02</td>\n",
       "      <td>1285725754961965056</td>\n",
       "      <td>False</td>\n",
       "      <td>These idiots let Trump do anything he wants. W...</td>\n",
       "      <td>realfacade1</td>\n",
       "      <td>Purgatory</td>\n",
       "      <td>Twitter for Android</td>\n",
       "      <td>0</td>\n",
       "      <td>2764</td>\n",
       "      <td>3799</td>\n",
       "      <td>0</td>\n",
       "      <td>[idiot, let, trump, anyth, want, biden, get, e...</td>\n",
       "      <td>Purgatory</td>\n",
       "      <td>Positive</td>\n",
       "    </tr>\n",
       "  </tbody>\n",
       "</table>\n",
       "</div>"
      ],
      "text/plain": [
       "                 Date             Tweet_id  Verified  \\\n",
       "0 2020-07-21 23:59:43  1285726179907993601     False   \n",
       "1 2020-07-21 23:59:27  1285726110513344520     False   \n",
       "2 2020-07-21 23:59:24  1285726099239055361     False   \n",
       "3 2020-07-21 23:58:47  1285725945849151490     False   \n",
       "4 2020-07-21 23:58:02  1285725754961965056     False   \n",
       "\n",
       "                                               Tweet            User  \\\n",
       "0  @JoeBiden VP Biden I wish you wouldn't debate ...   BballmomEjZay   \n",
       "1  #GeorgeWill , it’s so sad you wake up everyday...       TalbotMac   \n",
       "2  Question:\\nIf @JoeBiden doesn’t pick a woman o...  bk_middleclass   \n",
       "3  Right? 🤣🤣🤣 #Biden formally implicated in #Ukra...    MMorganBlair   \n",
       "4  These idiots let Trump do anything he wants. W...     realfacade1   \n",
       "\n",
       "          Location               Source  Likes  Followers  Following  \\\n",
       "0              USA  Twitter for Android      0         54        192   \n",
       "1  East Aurora, NY   Twitter for iPhone      0        882       1554   \n",
       "2    Nashville, TN   Twitter for iPhone      0       1294       1213   \n",
       "3              USA   Twitter for iPhone      1       2476       3334   \n",
       "4       Purgatory   Twitter for Android      0       2764       3799   \n",
       "\n",
       "   Retweets                                    Processed_Tweet  \\\n",
       "0         0  [biden, wish, debat, trump, unless, debat, tru...   \n",
       "1         0  [georgewil, sad, wake, everyday, forget, georg...   \n",
       "2         0  [question, doesnt, pick, woman, color, would, ...   \n",
       "3         1  [right, biden, formal, implic, ukrain, scandal...   \n",
       "4         0  [idiot, let, trump, anyth, want, biden, get, e...   \n",
       "\n",
       "  Processed_Location sentiment  \n",
       "0                USA  Negative  \n",
       "1        East Aurora  Negative  \n",
       "2          Nashville   Neutral  \n",
       "3                USA  Negative  \n",
       "4         Purgatory   Positive  "
      ]
     },
     "execution_count": 97,
     "metadata": {},
     "output_type": "execute_result"
    }
   ],
   "source": [
    "df1.head()"
   ]
  },
  {
   "cell_type": "code",
   "execution_count": 98,
   "metadata": {},
   "outputs": [],
   "source": [
    "df1.to_csv('Location.csv',index = False)"
   ]
  },
  {
   "cell_type": "code",
   "execution_count": 99,
   "metadata": {},
   "outputs": [
    {
     "data": {
      "text/html": [
       "<div>\n",
       "<style scoped>\n",
       "    .dataframe tbody tr th:only-of-type {\n",
       "        vertical-align: middle;\n",
       "    }\n",
       "\n",
       "    .dataframe tbody tr th {\n",
       "        vertical-align: top;\n",
       "    }\n",
       "\n",
       "    .dataframe thead th {\n",
       "        text-align: right;\n",
       "    }\n",
       "</style>\n",
       "<table border=\"1\" class=\"dataframe\">\n",
       "  <thead>\n",
       "    <tr style=\"text-align: right;\">\n",
       "      <th></th>\n",
       "      <th>Date</th>\n",
       "      <th>Tweet_id</th>\n",
       "      <th>Verified</th>\n",
       "      <th>Tweet</th>\n",
       "      <th>User</th>\n",
       "      <th>Location</th>\n",
       "      <th>Source</th>\n",
       "      <th>Likes</th>\n",
       "      <th>Followers</th>\n",
       "      <th>Following</th>\n",
       "      <th>Retweets</th>\n",
       "      <th>Processed_Tweet</th>\n",
       "      <th>Processed_Location</th>\n",
       "      <th>sentiment</th>\n",
       "      <th>day</th>\n",
       "    </tr>\n",
       "  </thead>\n",
       "  <tbody>\n",
       "    <tr>\n",
       "      <th>0</th>\n",
       "      <td>2020-07-21 23:59:43</td>\n",
       "      <td>1285726179907993601</td>\n",
       "      <td>False</td>\n",
       "      <td>@JoeBiden VP Biden I wish you wouldn't debate ...</td>\n",
       "      <td>BballmomEjZay</td>\n",
       "      <td>USA</td>\n",
       "      <td>Twitter for Android</td>\n",
       "      <td>0</td>\n",
       "      <td>54</td>\n",
       "      <td>192</td>\n",
       "      <td>0</td>\n",
       "      <td>[biden, wish, debat, trump, unless, debat, tru...</td>\n",
       "      <td>USA</td>\n",
       "      <td>Negative</td>\n",
       "      <td>21</td>\n",
       "    </tr>\n",
       "    <tr>\n",
       "      <th>1</th>\n",
       "      <td>2020-07-21 23:59:27</td>\n",
       "      <td>1285726110513344520</td>\n",
       "      <td>False</td>\n",
       "      <td>#GeorgeWill , it’s so sad you wake up everyday...</td>\n",
       "      <td>TalbotMac</td>\n",
       "      <td>East Aurora, NY</td>\n",
       "      <td>Twitter for iPhone</td>\n",
       "      <td>0</td>\n",
       "      <td>882</td>\n",
       "      <td>1554</td>\n",
       "      <td>0</td>\n",
       "      <td>[georgewil, sad, wake, everyday, forget, georg...</td>\n",
       "      <td>East Aurora</td>\n",
       "      <td>Negative</td>\n",
       "      <td>21</td>\n",
       "    </tr>\n",
       "    <tr>\n",
       "      <th>2</th>\n",
       "      <td>2020-07-21 23:59:24</td>\n",
       "      <td>1285726099239055361</td>\n",
       "      <td>False</td>\n",
       "      <td>Question:\\nIf @JoeBiden doesn’t pick a woman o...</td>\n",
       "      <td>bk_middleclass</td>\n",
       "      <td>Nashville, TN</td>\n",
       "      <td>Twitter for iPhone</td>\n",
       "      <td>0</td>\n",
       "      <td>1294</td>\n",
       "      <td>1213</td>\n",
       "      <td>0</td>\n",
       "      <td>[question, doesnt, pick, woman, color, would, ...</td>\n",
       "      <td>Nashville</td>\n",
       "      <td>Neutral</td>\n",
       "      <td>21</td>\n",
       "    </tr>\n",
       "    <tr>\n",
       "      <th>3</th>\n",
       "      <td>2020-07-21 23:58:47</td>\n",
       "      <td>1285725945849151490</td>\n",
       "      <td>False</td>\n",
       "      <td>Right? 🤣🤣🤣 #Biden formally implicated in #Ukra...</td>\n",
       "      <td>MMorganBlair</td>\n",
       "      <td>USA</td>\n",
       "      <td>Twitter for iPhone</td>\n",
       "      <td>1</td>\n",
       "      <td>2476</td>\n",
       "      <td>3334</td>\n",
       "      <td>1</td>\n",
       "      <td>[right, biden, formal, implic, ukrain, scandal...</td>\n",
       "      <td>USA</td>\n",
       "      <td>Negative</td>\n",
       "      <td>21</td>\n",
       "    </tr>\n",
       "    <tr>\n",
       "      <th>4</th>\n",
       "      <td>2020-07-21 23:58:02</td>\n",
       "      <td>1285725754961965056</td>\n",
       "      <td>False</td>\n",
       "      <td>These idiots let Trump do anything he wants. W...</td>\n",
       "      <td>realfacade1</td>\n",
       "      <td>Purgatory</td>\n",
       "      <td>Twitter for Android</td>\n",
       "      <td>0</td>\n",
       "      <td>2764</td>\n",
       "      <td>3799</td>\n",
       "      <td>0</td>\n",
       "      <td>[idiot, let, trump, anyth, want, biden, get, e...</td>\n",
       "      <td>Purgatory</td>\n",
       "      <td>Positive</td>\n",
       "      <td>21</td>\n",
       "    </tr>\n",
       "  </tbody>\n",
       "</table>\n",
       "</div>"
      ],
      "text/plain": [
       "                 Date             Tweet_id  Verified  \\\n",
       "0 2020-07-21 23:59:43  1285726179907993601     False   \n",
       "1 2020-07-21 23:59:27  1285726110513344520     False   \n",
       "2 2020-07-21 23:59:24  1285726099239055361     False   \n",
       "3 2020-07-21 23:58:47  1285725945849151490     False   \n",
       "4 2020-07-21 23:58:02  1285725754961965056     False   \n",
       "\n",
       "                                               Tweet            User  \\\n",
       "0  @JoeBiden VP Biden I wish you wouldn't debate ...   BballmomEjZay   \n",
       "1  #GeorgeWill , it’s so sad you wake up everyday...       TalbotMac   \n",
       "2  Question:\\nIf @JoeBiden doesn’t pick a woman o...  bk_middleclass   \n",
       "3  Right? 🤣🤣🤣 #Biden formally implicated in #Ukra...    MMorganBlair   \n",
       "4  These idiots let Trump do anything he wants. W...     realfacade1   \n",
       "\n",
       "          Location               Source  Likes  Followers  Following  \\\n",
       "0              USA  Twitter for Android      0         54        192   \n",
       "1  East Aurora, NY   Twitter for iPhone      0        882       1554   \n",
       "2    Nashville, TN   Twitter for iPhone      0       1294       1213   \n",
       "3              USA   Twitter for iPhone      1       2476       3334   \n",
       "4       Purgatory   Twitter for Android      0       2764       3799   \n",
       "\n",
       "   Retweets                                    Processed_Tweet  \\\n",
       "0         0  [biden, wish, debat, trump, unless, debat, tru...   \n",
       "1         0  [georgewil, sad, wake, everyday, forget, georg...   \n",
       "2         0  [question, doesnt, pick, woman, color, would, ...   \n",
       "3         1  [right, biden, formal, implic, ukrain, scandal...   \n",
       "4         0  [idiot, let, trump, anyth, want, biden, get, e...   \n",
       "\n",
       "  Processed_Location sentiment  day  \n",
       "0                USA  Negative   21  \n",
       "1        East Aurora  Negative   21  \n",
       "2          Nashville   Neutral   21  \n",
       "3                USA  Negative   21  \n",
       "4         Purgatory   Positive   21  "
      ]
     },
     "execution_count": 99,
     "metadata": {},
     "output_type": "execute_result"
    }
   ],
   "source": [
    "df1['day'] = df.Date.dt.day\n",
    "df1.head()"
   ]
  },
  {
   "cell_type": "code",
   "execution_count": 100,
   "metadata": {},
   "outputs": [
    {
     "data": {
      "text/plain": [
       "<matplotlib.axes._subplots.AxesSubplot at 0x1f3393e4308>"
      ]
     },
     "execution_count": 100,
     "metadata": {},
     "output_type": "execute_result"
    },
    {
     "data": {
      "image/png": "[encoded data removed]",
      "text/plain": [
       "<Figure size 1080x360 with 1 Axes>"
      ]
     },
     "metadata": {},
     "output_type": "display_data"
    }
   ],
   "source": [
    "sns.countplot(df['day'],hue = df['sentiment'])"
   ]
  },
  {
   "cell_type": "code",
   "execution_count": 101,
   "metadata": {},
   "outputs": [],
   "source": [
    "#df1.to_excel(\"output.xlsx\") "
   ]
  },
  {
   "cell_type": "markdown",
   "metadata": {},
   "source": [
    "## Predictions"
   ]
  },
  {
   "cell_type": "code",
   "execution_count": 132,
   "metadata": {},
   "outputs": [],
   "source": [
    "from sklearn.feature_extraction.text import CountVectorizer\n",
    "from sklearn.model_selection import train_test_split\n",
    "from sklearn.naive_bayes import GaussianNB\n",
    "from sklearn.naive_bayes import MultinomialNB\n",
    "from sklearn.metrics import confusion_matrix\n",
    "from sklearn.tree import DecisionTreeClassifier\n",
    "from sklearn.ensemble import RandomForestClassifier\n",
    "from sklearn.preprocessing import LabelEncoder \n",
    "from sklearn.model_selection import GridSearchCV\n",
    "from sklearn import model_selection\n",
    "\n",
    "from sklearn.model_selection import cross_val_score\n",
    "from sklearn.metrics import accuracy_score\n",
    "from sklearn.metrics import precision_score\n",
    "from sklearn.metrics import recall_score\n",
    "from sklearn.metrics import f1_score"
   ]
  },
  {
   "cell_type": "markdown",
   "metadata": {},
   "source": [
    "## Label Encoding The Sentiments"
   ]
  },
  {
   "cell_type": "code",
   "execution_count": 103,
   "metadata": {},
   "outputs": [],
   "source": [
    "le = LabelEncoder() \n",
    "  \n",
    "df1['sentiment_1']= le.fit_transform(df1['sentiment']) "
   ]
  },
  {
   "cell_type": "code",
   "execution_count": 104,
   "metadata": {},
   "outputs": [
    {
     "data": {
      "text/html": [
       "<div>\n",
       "<style scoped>\n",
       "    .dataframe tbody tr th:only-of-type {\n",
       "        vertical-align: middle;\n",
       "    }\n",
       "\n",
       "    .dataframe tbody tr th {\n",
       "        vertical-align: top;\n",
       "    }\n",
       "\n",
       "    .dataframe thead th {\n",
       "        text-align: right;\n",
       "    }\n",
       "</style>\n",
       "<table border=\"1\" class=\"dataframe\">\n",
       "  <thead>\n",
       "    <tr style=\"text-align: right;\">\n",
       "      <th></th>\n",
       "      <th>Date</th>\n",
       "      <th>Tweet_id</th>\n",
       "      <th>Verified</th>\n",
       "      <th>Tweet</th>\n",
       "      <th>User</th>\n",
       "      <th>Location</th>\n",
       "      <th>Source</th>\n",
       "      <th>Likes</th>\n",
       "      <th>Followers</th>\n",
       "      <th>Following</th>\n",
       "      <th>Retweets</th>\n",
       "      <th>Processed_Tweet</th>\n",
       "      <th>Processed_Location</th>\n",
       "      <th>sentiment</th>\n",
       "      <th>day</th>\n",
       "      <th>sentiment_1</th>\n",
       "    </tr>\n",
       "  </thead>\n",
       "  <tbody>\n",
       "    <tr>\n",
       "      <th>0</th>\n",
       "      <td>2020-07-21 23:59:43</td>\n",
       "      <td>1285726179907993601</td>\n",
       "      <td>False</td>\n",
       "      <td>@JoeBiden VP Biden I wish you wouldn't debate ...</td>\n",
       "      <td>BballmomEjZay</td>\n",
       "      <td>USA</td>\n",
       "      <td>Twitter for Android</td>\n",
       "      <td>0</td>\n",
       "      <td>54</td>\n",
       "      <td>192</td>\n",
       "      <td>0</td>\n",
       "      <td>[biden, wish, debat, trump, unless, debat, tru...</td>\n",
       "      <td>USA</td>\n",
       "      <td>Negative</td>\n",
       "      <td>21</td>\n",
       "      <td>0</td>\n",
       "    </tr>\n",
       "    <tr>\n",
       "      <th>1</th>\n",
       "      <td>2020-07-21 23:59:27</td>\n",
       "      <td>1285726110513344520</td>\n",
       "      <td>False</td>\n",
       "      <td>#GeorgeWill , it’s so sad you wake up everyday...</td>\n",
       "      <td>TalbotMac</td>\n",
       "      <td>East Aurora, NY</td>\n",
       "      <td>Twitter for iPhone</td>\n",
       "      <td>0</td>\n",
       "      <td>882</td>\n",
       "      <td>1554</td>\n",
       "      <td>0</td>\n",
       "      <td>[georgewil, sad, wake, everyday, forget, georg...</td>\n",
       "      <td>East Aurora</td>\n",
       "      <td>Negative</td>\n",
       "      <td>21</td>\n",
       "      <td>0</td>\n",
       "    </tr>\n",
       "    <tr>\n",
       "      <th>2</th>\n",
       "      <td>2020-07-21 23:59:24</td>\n",
       "      <td>1285726099239055361</td>\n",
       "      <td>False</td>\n",
       "      <td>Question:\\nIf @JoeBiden doesn’t pick a woman o...</td>\n",
       "      <td>bk_middleclass</td>\n",
       "      <td>Nashville, TN</td>\n",
       "      <td>Twitter for iPhone</td>\n",
       "      <td>0</td>\n",
       "      <td>1294</td>\n",
       "      <td>1213</td>\n",
       "      <td>0</td>\n",
       "      <td>[question, doesnt, pick, woman, color, would, ...</td>\n",
       "      <td>Nashville</td>\n",
       "      <td>Neutral</td>\n",
       "      <td>21</td>\n",
       "      <td>1</td>\n",
       "    </tr>\n",
       "    <tr>\n",
       "      <th>3</th>\n",
       "      <td>2020-07-21 23:58:47</td>\n",
       "      <td>1285725945849151490</td>\n",
       "      <td>False</td>\n",
       "      <td>Right? 🤣🤣🤣 #Biden formally implicated in #Ukra...</td>\n",
       "      <td>MMorganBlair</td>\n",
       "      <td>USA</td>\n",
       "      <td>Twitter for iPhone</td>\n",
       "      <td>1</td>\n",
       "      <td>2476</td>\n",
       "      <td>3334</td>\n",
       "      <td>1</td>\n",
       "      <td>[right, biden, formal, implic, ukrain, scandal...</td>\n",
       "      <td>USA</td>\n",
       "      <td>Negative</td>\n",
       "      <td>21</td>\n",
       "      <td>0</td>\n",
       "    </tr>\n",
       "    <tr>\n",
       "      <th>4</th>\n",
       "      <td>2020-07-21 23:58:02</td>\n",
       "      <td>1285725754961965056</td>\n",
       "      <td>False</td>\n",
       "      <td>These idiots let Trump do anything he wants. W...</td>\n",
       "      <td>realfacade1</td>\n",
       "      <td>Purgatory</td>\n",
       "      <td>Twitter for Android</td>\n",
       "      <td>0</td>\n",
       "      <td>2764</td>\n",
       "      <td>3799</td>\n",
       "      <td>0</td>\n",
       "      <td>[idiot, let, trump, anyth, want, biden, get, e...</td>\n",
       "      <td>Purgatory</td>\n",
       "      <td>Positive</td>\n",
       "      <td>21</td>\n",
       "      <td>2</td>\n",
       "    </tr>\n",
       "    <tr>\n",
       "      <th>...</th>\n",
       "      <td>...</td>\n",
       "      <td>...</td>\n",
       "      <td>...</td>\n",
       "      <td>...</td>\n",
       "      <td>...</td>\n",
       "      <td>...</td>\n",
       "      <td>...</td>\n",
       "      <td>...</td>\n",
       "      <td>...</td>\n",
       "      <td>...</td>\n",
       "      <td>...</td>\n",
       "      <td>...</td>\n",
       "      <td>...</td>\n",
       "      <td>...</td>\n",
       "      <td>...</td>\n",
       "      <td>...</td>\n",
       "    </tr>\n",
       "    <tr>\n",
       "      <th>15041</th>\n",
       "      <td>2020-07-13 10:57:58</td>\n",
       "      <td>1282630342038499329</td>\n",
       "      <td>False</td>\n",
       "      <td>Other than going big by eulogizing #StromThurm...</td>\n",
       "      <td>robertson_alton</td>\n",
       "      <td>Fort Worth, or thereabouts.</td>\n",
       "      <td>Twitter Web App</td>\n",
       "      <td>0</td>\n",
       "      <td>1004</td>\n",
       "      <td>4999</td>\n",
       "      <td>0</td>\n",
       "      <td>[big, eulog, stromthurmond, look, right, look,...</td>\n",
       "      <td>Fort Worth</td>\n",
       "      <td>Negative</td>\n",
       "      <td>13</td>\n",
       "      <td>0</td>\n",
       "    </tr>\n",
       "    <tr>\n",
       "      <th>15042</th>\n",
       "      <td>2020-07-13 10:56:26</td>\n",
       "      <td>1282629958205145091</td>\n",
       "      <td>False</td>\n",
       "      <td>Don't want to leave out the left! Show your su...</td>\n",
       "      <td>GraphicMedia4</td>\n",
       "      <td>USA</td>\n",
       "      <td>Twitter Web App</td>\n",
       "      <td>0</td>\n",
       "      <td>1</td>\n",
       "      <td>0</td>\n",
       "      <td>0</td>\n",
       "      <td>[want, leav, left, show, support, elect, heart...</td>\n",
       "      <td>USA</td>\n",
       "      <td>Positive</td>\n",
       "      <td>13</td>\n",
       "      <td>2</td>\n",
       "    </tr>\n",
       "    <tr>\n",
       "      <th>15043</th>\n",
       "      <td>2020-07-13 10:53:50</td>\n",
       "      <td>1282629302199164928</td>\n",
       "      <td>False</td>\n",
       "      <td>Some chatter about #Biden maybe activating res...</td>\n",
       "      <td>copiousjawnt</td>\n",
       "      <td>Lehigh Valley, PA</td>\n",
       "      <td>Twitter for Android</td>\n",
       "      <td>0</td>\n",
       "      <td>84</td>\n",
       "      <td>210</td>\n",
       "      <td>0</td>\n",
       "      <td>[chatter, biden, mayb, activ, resourc, fight, ...</td>\n",
       "      <td>Lehigh Valley</td>\n",
       "      <td>Negative</td>\n",
       "      <td>13</td>\n",
       "      <td>0</td>\n",
       "    </tr>\n",
       "    <tr>\n",
       "      <th>15044</th>\n",
       "      <td>2020-07-13 10:53:46</td>\n",
       "      <td>1282629284524433409</td>\n",
       "      <td>False</td>\n",
       "      <td>Fake #Polls? Why #Biden's 'Nationwide Lead' Ov...</td>\n",
       "      <td>blinova14</td>\n",
       "      <td>USA</td>\n",
       "      <td>Twitter Web App</td>\n",
       "      <td>4</td>\n",
       "      <td>836</td>\n",
       "      <td>432</td>\n",
       "      <td>0</td>\n",
       "      <td>[fake, poll, biden, nationwid, lead, trump, sa...</td>\n",
       "      <td>USA</td>\n",
       "      <td>Positive</td>\n",
       "      <td>13</td>\n",
       "      <td>2</td>\n",
       "    </tr>\n",
       "    <tr>\n",
       "      <th>15045</th>\n",
       "      <td>2020-07-13 10:45:12</td>\n",
       "      <td>1282627129172271104</td>\n",
       "      <td>False</td>\n",
       "      <td>#Joe #Biden #Trump police should not be armed ...</td>\n",
       "      <td>try4freedom</td>\n",
       "      <td>Brookline, MA</td>\n",
       "      <td>Smart Post App</td>\n",
       "      <td>1</td>\n",
       "      <td>125</td>\n",
       "      <td>612</td>\n",
       "      <td>0</td>\n",
       "      <td>[joe, biden, trump, polic, arm, teeth]</td>\n",
       "      <td>Brookline</td>\n",
       "      <td>Neutral</td>\n",
       "      <td>13</td>\n",
       "      <td>1</td>\n",
       "    </tr>\n",
       "  </tbody>\n",
       "</table>\n",
       "<p>15046 rows × 16 columns</p>\n",
       "</div>"
      ],
      "text/plain": [
       "                     Date             Tweet_id  Verified  \\\n",
       "0     2020-07-21 23:59:43  1285726179907993601     False   \n",
       "1     2020-07-21 23:59:27  1285726110513344520     False   \n",
       "2     2020-07-21 23:59:24  1285726099239055361     False   \n",
       "3     2020-07-21 23:58:47  1285725945849151490     False   \n",
       "4     2020-07-21 23:58:02  1285725754961965056     False   \n",
       "...                   ...                  ...       ...   \n",
       "15041 2020-07-13 10:57:58  1282630342038499329     False   \n",
       "15042 2020-07-13 10:56:26  1282629958205145091     False   \n",
       "15043 2020-07-13 10:53:50  1282629302199164928     False   \n",
       "15044 2020-07-13 10:53:46  1282629284524433409     False   \n",
       "15045 2020-07-13 10:45:12  1282627129172271104     False   \n",
       "\n",
       "                                                   Tweet             User  \\\n",
       "0      @JoeBiden VP Biden I wish you wouldn't debate ...    BballmomEjZay   \n",
       "1      #GeorgeWill , it’s so sad you wake up everyday...        TalbotMac   \n",
       "2      Question:\\nIf @JoeBiden doesn’t pick a woman o...   bk_middleclass   \n",
       "3      Right? 🤣🤣🤣 #Biden formally implicated in #Ukra...     MMorganBlair   \n",
       "4      These idiots let Trump do anything he wants. W...      realfacade1   \n",
       "...                                                  ...              ...   \n",
       "15041  Other than going big by eulogizing #StromThurm...  robertson_alton   \n",
       "15042  Don't want to leave out the left! Show your su...    GraphicMedia4   \n",
       "15043  Some chatter about #Biden maybe activating res...     copiousjawnt   \n",
       "15044  Fake #Polls? Why #Biden's 'Nationwide Lead' Ov...        blinova14   \n",
       "15045  #Joe #Biden #Trump police should not be armed ...      try4freedom   \n",
       "\n",
       "                           Location               Source  Likes  Followers  \\\n",
       "0                               USA  Twitter for Android      0         54   \n",
       "1                   East Aurora, NY   Twitter for iPhone      0        882   \n",
       "2                     Nashville, TN   Twitter for iPhone      0       1294   \n",
       "3                               USA   Twitter for iPhone      1       2476   \n",
       "4                        Purgatory   Twitter for Android      0       2764   \n",
       "...                             ...                  ...    ...        ...   \n",
       "15041  Fort Worth, or thereabouts.       Twitter Web App      0       1004   \n",
       "15042                           USA      Twitter Web App      0          1   \n",
       "15043             Lehigh Valley, PA  Twitter for Android      0         84   \n",
       "15044                           USA      Twitter Web App      4        836   \n",
       "15045                 Brookline, MA       Smart Post App      1        125   \n",
       "\n",
       "       Following  Retweets                                    Processed_Tweet  \\\n",
       "0            192         0  [biden, wish, debat, trump, unless, debat, tru...   \n",
       "1           1554         0  [georgewil, sad, wake, everyday, forget, georg...   \n",
       "2           1213         0  [question, doesnt, pick, woman, color, would, ...   \n",
       "3           3334         1  [right, biden, formal, implic, ukrain, scandal...   \n",
       "4           3799         0  [idiot, let, trump, anyth, want, biden, get, e...   \n",
       "...          ...       ...                                                ...   \n",
       "15041       4999         0  [big, eulog, stromthurmond, look, right, look,...   \n",
       "15042          0         0  [want, leav, left, show, support, elect, heart...   \n",
       "15043        210         0  [chatter, biden, mayb, activ, resourc, fight, ...   \n",
       "15044        432         0  [fake, poll, biden, nationwid, lead, trump, sa...   \n",
       "15045        612         0             [joe, biden, trump, polic, arm, teeth]   \n",
       "\n",
       "      Processed_Location sentiment  day  sentiment_1  \n",
       "0                    USA  Negative   21            0  \n",
       "1            East Aurora  Negative   21            0  \n",
       "2              Nashville   Neutral   21            1  \n",
       "3                    USA  Negative   21            0  \n",
       "4             Purgatory   Positive   21            2  \n",
       "...                  ...       ...  ...          ...  \n",
       "15041         Fort Worth  Negative   13            0  \n",
       "15042                USA  Positive   13            2  \n",
       "15043      Lehigh Valley  Negative   13            0  \n",
       "15044                USA  Positive   13            2  \n",
       "15045          Brookline   Neutral   13            1  \n",
       "\n",
       "[15046 rows x 16 columns]"
      ]
     },
     "execution_count": 104,
     "metadata": {},
     "output_type": "execute_result"
    }
   ],
   "source": [
    "df1"
   ]
  },
  {
   "cell_type": "code",
   "execution_count": 105,
   "metadata": {},
   "outputs": [],
   "source": [
    "#from sklearn.feature_extraction.text import TfidfVectorizer\n",
    "\n",
    "# Defining the vectorizer \n",
    "#vect = TfidfVectorizer(ngram_range=(1,1), max_features=1500).fit(all_words)\n",
    "\n",
    "# Transform the vectorizer\n",
    "#X_tfidf = vect.transform(all_words).toarray()\n"
   ]
  },
  {
   "cell_type": "code",
   "execution_count": 106,
   "metadata": {},
   "outputs": [],
   "source": [
    "cv = CountVectorizer(max_features = 1500)\n",
    "X = cv.fit_transform(all_words).toarray()\n",
    "y = df1['sentiment_1']"
   ]
  },
  {
   "cell_type": "code",
   "execution_count": 107,
   "metadata": {},
   "outputs": [],
   "source": [
    "X_train, X_test, y_train, y_test = train_test_split(X, y, test_size = 0.3, random_state = 0)\n",
    "# NEGATIVE == 0\n",
    "# NEUTRAL == 1\n",
    "# POSITIVE == 2"
   ]
  },
  {
   "cell_type": "code",
   "execution_count": 108,
   "metadata": {},
   "outputs": [],
   "source": [
    "#X_train, X_test, y_train, y_test = train_test_split(X_tfidf, y, test_size = 0.3, random_state = 0)"
   ]
  },
  {
   "cell_type": "markdown",
   "metadata": {},
   "source": [
    "# Decision Tree"
   ]
  },
  {
   "cell_type": "code",
   "execution_count": 109,
   "metadata": {},
   "outputs": [],
   "source": [
    "classifier_DT = DecisionTreeClassifier()\n",
    "classifier_DT.fit(X_train, y_train)\n",
    "y_pred_DT = classifier_DT.predict(X_test)"
   ]
  },
  {
   "cell_type": "code",
   "execution_count": 110,
   "metadata": {},
   "outputs": [
    {
     "name": "stdout",
     "output_type": "stream",
     "text": [
      "Accuracy Score:  0.8143553389455028\n",
      "Precision Score:  0.8143553389455028\n",
      "Recall Score:  0.8143553389455028\n",
      "F1 Score:  0.8143553389455028\n"
     ]
    }
   ],
   "source": [
    "accuracy_score_DT = accuracy_score(y_test, y_pred_DT)\n",
    "precision_score_DT = precision_score(y_test, y_pred_DT , average = 'micro')\n",
    "recall_score_DT = recall_score(y_test, y_pred_DT , average = 'micro')\n",
    "f1_score_DT = f1_score(y_test, y_pred_DT , average = 'micro')\n",
    "print(\"Accuracy Score: \" , accuracy_score_DT)\n",
    "print(\"Precision Score: \" , precision_score_DT)\n",
    "print(\"Recall Score: \" , recall_score_DT)\n",
    "print(\"F1 Score: \" , f1_score_DT)"
   ]
  },
  {
   "cell_type": "code",
   "execution_count": 111,
   "metadata": {},
   "outputs": [
    {
     "data": {
      "image/png": "[encoded data removed]",
      "text/plain": [
       "<Figure size 720x432 with 2 Axes>"
      ]
     },
     "metadata": {},
     "output_type": "display_data"
    }
   ],
   "source": [
    "cm_DT = confusion_matrix(y_test, y_pred_DT)\n",
    "\n",
    "      # neg # neutr  # pos\n",
    "# pos #  232   65      1397\n",
    "# neu #  87   1175     51\n",
    "# neg # 1104   82      321\n",
    "\n",
    "df_cm_DT = pd.DataFrame(cm_DT, range(3), range(3))\n",
    "plt.figure(figsize=(10,6))\n",
    "categories = ['Negative','Neutral','Positive']\n",
    "sns.set(font_scale=1.2) # for label size\n",
    "sns.heatmap(df_cm_DT, annot=True, annot_kws={\"size\": 18}, xticklabels = categories,\n",
    "            yticklabels = categories ,fmt=\"d\") # font size\n",
    "plt.ylim(0, 3)\n",
    "plt.show()"
   ]
  },
  {
   "cell_type": "markdown",
   "metadata": {},
   "source": [
    "## Hyperparameter Tuning For Decision Trees"
   ]
  },
  {
   "cell_type": "code",
   "execution_count": 112,
   "metadata": {},
   "outputs": [
    {
     "data": {
      "text/plain": [
       "dict_keys(['class_weight', 'criterion', 'max_depth', 'max_features', 'max_leaf_nodes', 'min_impurity_decrease', 'min_impurity_split', 'min_samples_leaf', 'min_samples_split', 'min_weight_fraction_leaf', 'presort', 'random_state', 'splitter'])"
      ]
     },
     "execution_count": 112,
     "metadata": {},
     "output_type": "execute_result"
    }
   ],
   "source": [
    "#Getting the parameters of the particular model \n",
    "classifier_DT.get_params().keys()"
   ]
  },
  {
   "cell_type": "code",
   "execution_count": 113,
   "metadata": {},
   "outputs": [],
   "source": [
    "classifier_DT_opti = DecisionTreeClassifier() \n",
    "\n",
    "param_grid = {\"max_depth\" : [1,3,5,7],     #Setting the parameters for the model\n",
    "               \"criterion\" : [\"gini\",\"entropy\"],\n",
    "              \"min_samples_split\" : [2,3,4],\n",
    "              \"max_leaf_nodes\" : [7,8,9],\n",
    "              \"min_samples_leaf\": [2,3,4],\n",
    "             }"
   ]
  },
  {
   "cell_type": "code",
   "execution_count": 115,
   "metadata": {},
   "outputs": [
    {
     "name": "stdout",
     "output_type": "stream",
     "text": [
      "0.45917204709456894\n",
      "{'class_weight': None, 'criterion': 'entropy', 'max_depth': 7, 'max_features': None, 'max_leaf_nodes': 9, 'min_impurity_decrease': 0.0, 'min_impurity_split': None, 'min_samples_leaf': 2, 'min_samples_split': 2, 'min_weight_fraction_leaf': 0.0, 'presort': False, 'random_state': None, 'splitter': 'best'}\n"
     ]
    }
   ],
   "source": [
    "model_DT = model_selection.GridSearchCV(estimator=classifier_DT_opti, #GridSearch\n",
    "                                    param_grid=param_grid, \n",
    "                                        cv=10)\n",
    "model_DT.fit(X_train,y_train)\n",
    "print(model_DT.best_score_) #Gives the best score of the model\n",
    "print(model_DT.best_estimator_.get_params()) #Gives the best parameters"
   ]
  },
  {
   "cell_type": "code",
   "execution_count": 117,
   "metadata": {},
   "outputs": [
    {
     "name": "stdout",
     "output_type": "stream",
     "text": [
      "Accuracy Score:  0.46344705361098804\n",
      "Precision Score:  0.46344705361098804\n",
      "Recall Score:  0.46344705361098804\n",
      "F1 Score:  0.46344705361098804\n"
     ]
    }
   ],
   "source": [
    "y_pred_model_DT = model_DT.predict(X_test)\n",
    "\n",
    "accuracy_score_model_DT = accuracy_score(y_test, y_pred_model_DT)\n",
    "precision_score_model_DT = precision_score(y_test, y_pred_model_DT , average = 'micro')\n",
    "recall_score_model_DT = recall_score(y_test, y_pred_model_DT , average = 'micro')\n",
    "f1_score_model_DT = f1_score(y_test, y_pred_model_DT , average = 'micro')\n",
    "print(\"Accuracy Score: \" , accuracy_score_model_DT)\n",
    "print(\"Precision Score: \" , precision_score_model_DT)\n",
    "print(\"Recall Score: \" , recall_score_model_DT)\n",
    "print(\"F1 Score: \" , f1_score_model_DT)"
   ]
  },
  {
   "cell_type": "code",
   "execution_count": 118,
   "metadata": {},
   "outputs": [
    {
     "data": {
      "image/png": "[encoded data removed]",
      "text/plain": [
       "<Figure size 720x432 with 2 Axes>"
      ]
     },
     "metadata": {},
     "output_type": "display_data"
    }
   ],
   "source": [
    "cm_model_DT = confusion_matrix(y_test, y_pred_model_DT)\n",
    "\n",
    "      # neg # neutr  # pos\n",
    "# pos #  0    920      774\n",
    "# neu #  0   1311       2\n",
    "# neg #  7    1210     290\n",
    "\n",
    "df_cm_model_DT = pd.DataFrame(cm_model_DT, range(3), range(3))\n",
    "plt.figure(figsize=(10,6))\n",
    "categories = ['Negative','Neutral','Positive']\n",
    "sns.set(font_scale=1.2) # for label size\n",
    "sns.heatmap(df_cm_model_DT, annot=True, annot_kws={\"size\": 18}, xticklabels = categories,\n",
    "            yticklabels = categories ,fmt=\"d\") # font size\n",
    "plt.ylim(0, 3)\n",
    "plt.show()"
   ]
  },
  {
   "cell_type": "markdown",
   "metadata": {},
   "source": [
    "## Random Forest"
   ]
  },
  {
   "cell_type": "code",
   "execution_count": 119,
   "metadata": {},
   "outputs": [
    {
     "name": "stderr",
     "output_type": "stream",
     "text": [
      "C:\\Users\\ROSHAN\\Anaconda3\\lib\\site-packages\\sklearn\\ensemble\\forest.py:245: FutureWarning: The default value of n_estimators will change from 10 in version 0.20 to 100 in 0.22.\n",
      "  \"10 in version 0.20 to 100 in 0.22.\", FutureWarning)\n"
     ]
    }
   ],
   "source": [
    "classifier_RF = RandomForestClassifier()\n",
    "classifier_RF.fit(X_train, y_train)\n",
    "y_pred_RF = classifier_RF.predict(X_test)"
   ]
  },
  {
   "cell_type": "code",
   "execution_count": 120,
   "metadata": {},
   "outputs": [
    {
     "name": "stdout",
     "output_type": "stream",
     "text": [
      "Accuracy Score:  0.8322995126273814\n",
      "Precision Score:  0.8322995126273814\n",
      "Recall Score:  0.8322995126273814\n",
      "F1 Score:  0.8322995126273814\n"
     ]
    }
   ],
   "source": [
    "accuracy_score_RF = accuracy_score(y_test, y_pred_RF)\n",
    "precision_score_RF = precision_score(y_test, y_pred_RF , average = 'micro')\n",
    "recall_score_RF = recall_score(y_test, y_pred_RF, average = 'micro')\n",
    "f1_score_RF = f1_score(y_test, y_pred_RF, average = 'micro')\n",
    "print(\"Accuracy Score: \" , accuracy_score_RF)\n",
    "print(\"Precision Score: \" , precision_score_RF)\n",
    "print(\"Recall Score: \" , recall_score_RF)\n",
    "print(\"F1 Score: \" , f1_score_RF)"
   ]
  },
  {
   "cell_type": "code",
   "execution_count": 121,
   "metadata": {},
   "outputs": [
    {
     "data": {
      "image/png": "[encoded data removed]",
      "text/plain": [
       "<Figure size 720x432 with 2 Axes>"
      ]
     },
     "metadata": {},
     "output_type": "display_data"
    }
   ],
   "source": [
    "cm_RF = confusion_matrix(y_test, y_pred_RF)\n",
    "\n",
    "      # neg # neutr  # pos\n",
    "# pos # 198    92     1404\n",
    "# neu #  53   1233      27\n",
    "# neg # 1120   121     266\n",
    "\n",
    "df_cm_RF = pd.DataFrame(cm_RF, range(3), range(3))\n",
    "categories = ['Negative','Neutral','Positive']\n",
    "plt.figure(figsize=(10,6))\n",
    "sns.set(font_scale=1.2) # for label size\n",
    "sns.heatmap(df_cm_RF, annot=True, annot_kws={\"size\": 18}, xticklabels = categories,\n",
    "            yticklabels = categories,fmt=\"d\") # font size\n",
    "plt.ylim(0, 3)\n",
    "plt.show()"
   ]
  },
  {
   "cell_type": "markdown",
   "metadata": {},
   "source": [
    "## Hyperparameter Tuning For Random Forest"
   ]
  },
  {
   "cell_type": "code",
   "execution_count": 122,
   "metadata": {},
   "outputs": [
    {
     "data": {
      "text/plain": [
       "dict_keys(['bootstrap', 'class_weight', 'criterion', 'max_depth', 'max_features', 'max_leaf_nodes', 'min_impurity_decrease', 'min_impurity_split', 'min_samples_leaf', 'min_samples_split', 'min_weight_fraction_leaf', 'n_estimators', 'n_jobs', 'oob_score', 'random_state', 'verbose', 'warm_start'])"
      ]
     },
     "execution_count": 122,
     "metadata": {},
     "output_type": "execute_result"
    }
   ],
   "source": [
    "#Getting the parameters of the particular model \n",
    "classifier_RF.get_params().keys()"
   ]
  },
  {
   "cell_type": "code",
   "execution_count": 123,
   "metadata": {},
   "outputs": [],
   "source": [
    "classifier_RF_opti = RandomForestClassifier()\n",
    "param_grid = {\"n_estimators\": np.arange(100,1500,100), #Selecting the parameters\n",
    "               \"max_depth\": np.arange(1,20),\n",
    "               \"criterion\": [\"gini\",\"entropy\"], \n",
    "              }"
   ]
  },
  {
   "cell_type": "code",
   "execution_count": 124,
   "metadata": {},
   "outputs": [
    {
     "name": "stdout",
     "output_type": "stream",
     "text": [
      "Fitting 5 folds for each of 10 candidates, totalling 50 fits\n",
      "[CV] n_estimators=300, max_depth=6, criterion=entropy ................\n"
     ]
    },
    {
     "name": "stderr",
     "output_type": "stream",
     "text": [
      "[Parallel(n_jobs=1)]: Using backend SequentialBackend with 1 concurrent workers.\n"
     ]
    },
    {
     "name": "stdout",
     "output_type": "stream",
     "text": [
      "[CV]  n_estimators=300, max_depth=6, criterion=entropy, score=0.564, total=   6.3s\n",
      "[CV] n_estimators=300, max_depth=6, criterion=entropy ................\n"
     ]
    },
    {
     "name": "stderr",
     "output_type": "stream",
     "text": [
      "[Parallel(n_jobs=1)]: Done   1 out of   1 | elapsed:    6.2s remaining:    0.0s\n"
     ]
    },
    {
     "name": "stdout",
     "output_type": "stream",
     "text": [
      "[CV]  n_estimators=300, max_depth=6, criterion=entropy, score=0.545, total=   6.1s\n",
      "[CV] n_estimators=300, max_depth=6, criterion=entropy ................\n"
     ]
    },
    {
     "name": "stderr",
     "output_type": "stream",
     "text": [
      "[Parallel(n_jobs=1)]: Done   2 out of   2 | elapsed:   12.3s remaining:    0.0s\n"
     ]
    },
    {
     "name": "stdout",
     "output_type": "stream",
     "text": [
      "[CV]  n_estimators=300, max_depth=6, criterion=entropy, score=0.544, total=   6.0s\n",
      "[CV] n_estimators=300, max_depth=6, criterion=entropy ................\n"
     ]
    },
    {
     "name": "stderr",
     "output_type": "stream",
     "text": [
      "[Parallel(n_jobs=1)]: Done   3 out of   3 | elapsed:   18.3s remaining:    0.0s\n"
     ]
    },
    {
     "name": "stdout",
     "output_type": "stream",
     "text": [
      "[CV]  n_estimators=300, max_depth=6, criterion=entropy, score=0.556, total=   6.0s\n",
      "[CV] n_estimators=300, max_depth=6, criterion=entropy ................\n"
     ]
    },
    {
     "name": "stderr",
     "output_type": "stream",
     "text": [
      "[Parallel(n_jobs=1)]: Done   4 out of   4 | elapsed:   24.3s remaining:    0.0s\n"
     ]
    },
    {
     "name": "stdout",
     "output_type": "stream",
     "text": [
      "[CV]  n_estimators=300, max_depth=6, criterion=entropy, score=0.550, total=   6.0s\n",
      "[CV] n_estimators=1300, max_depth=19, criterion=gini .................\n"
     ]
    },
    {
     "name": "stderr",
     "output_type": "stream",
     "text": [
      "[Parallel(n_jobs=1)]: Done   5 out of   5 | elapsed:   30.3s remaining:    0.0s\n"
     ]
    },
    {
     "name": "stdout",
     "output_type": "stream",
     "text": [
      "[CV]  n_estimators=1300, max_depth=19, criterion=gini, score=0.772, total= 1.3min\n",
      "[CV] n_estimators=1300, max_depth=19, criterion=gini .................\n"
     ]
    },
    {
     "name": "stderr",
     "output_type": "stream",
     "text": [
      "[Parallel(n_jobs=1)]: Done   6 out of   6 | elapsed:  1.8min remaining:    0.0s\n"
     ]
    },
    {
     "name": "stdout",
     "output_type": "stream",
     "text": [
      "[CV]  n_estimators=1300, max_depth=19, criterion=gini, score=0.760, total= 1.2min\n",
      "[CV] n_estimators=1300, max_depth=19, criterion=gini .................\n"
     ]
    },
    {
     "name": "stderr",
     "output_type": "stream",
     "text": [
      "[Parallel(n_jobs=1)]: Done   7 out of   7 | elapsed:  3.1min remaining:    0.0s\n"
     ]
    },
    {
     "name": "stdout",
     "output_type": "stream",
     "text": [
      "[CV]  n_estimators=1300, max_depth=19, criterion=gini, score=0.773, total= 1.2min\n",
      "[CV] n_estimators=1300, max_depth=19, criterion=gini .................\n"
     ]
    },
    {
     "name": "stderr",
     "output_type": "stream",
     "text": [
      "[Parallel(n_jobs=1)]: Done   8 out of   8 | elapsed:  4.3min remaining:    0.0s\n"
     ]
    },
    {
     "name": "stdout",
     "output_type": "stream",
     "text": [
      "[CV]  n_estimators=1300, max_depth=19, criterion=gini, score=0.753, total= 1.2min\n",
      "[CV] n_estimators=1300, max_depth=19, criterion=gini .................\n"
     ]
    },
    {
     "name": "stderr",
     "output_type": "stream",
     "text": [
      "[Parallel(n_jobs=1)]: Done   9 out of   9 | elapsed:  5.4min remaining:    0.0s\n"
     ]
    },
    {
     "name": "stdout",
     "output_type": "stream",
     "text": [
      "[CV]  n_estimators=1300, max_depth=19, criterion=gini, score=0.786, total= 1.2min\n",
      "[CV] n_estimators=700, max_depth=1, criterion=entropy ................\n",
      "[CV]  n_estimators=700, max_depth=1, criterion=entropy, score=0.421, total=   3.5s\n",
      "[CV] n_estimators=700, max_depth=1, criterion=entropy ................\n",
      "[CV]  n_estimators=700, max_depth=1, criterion=entropy, score=0.396, total=   3.5s\n",
      "[CV] n_estimators=700, max_depth=1, criterion=entropy ................\n",
      "[CV]  n_estimators=700, max_depth=1, criterion=entropy, score=0.399, total=   3.5s\n",
      "[CV] n_estimators=700, max_depth=1, criterion=entropy ................\n",
      "[CV]  n_estimators=700, max_depth=1, criterion=entropy, score=0.406, total=   3.5s\n",
      "[CV] n_estimators=700, max_depth=1, criterion=entropy ................\n",
      "[CV]  n_estimators=700, max_depth=1, criterion=entropy, score=0.413, total=   3.6s\n",
      "[CV] n_estimators=900, max_depth=14, criterion=gini ..................\n",
      "[CV]  n_estimators=900, max_depth=14, criterion=gini, score=0.791, total=  37.6s\n",
      "[CV] n_estimators=900, max_depth=14, criterion=gini ..................\n",
      "[CV]  n_estimators=900, max_depth=14, criterion=gini, score=0.772, total=  37.6s\n",
      "[CV] n_estimators=900, max_depth=14, criterion=gini ..................\n",
      "[CV]  n_estimators=900, max_depth=14, criterion=gini, score=0.767, total=  37.8s\n",
      "[CV] n_estimators=900, max_depth=14, criterion=gini ..................\n",
      "[CV]  n_estimators=900, max_depth=14, criterion=gini, score=0.754, total=  37.5s\n",
      "[CV] n_estimators=900, max_depth=14, criterion=gini ..................\n",
      "[CV]  n_estimators=900, max_depth=14, criterion=gini, score=0.792, total=  37.5s\n",
      "[CV] n_estimators=700, max_depth=18, criterion=entropy ...............\n",
      "[CV]  n_estimators=700, max_depth=18, criterion=entropy, score=0.779, total=  36.8s\n",
      "[CV] n_estimators=700, max_depth=18, criterion=entropy ...............\n",
      "[CV]  n_estimators=700, max_depth=18, criterion=entropy, score=0.773, total=  37.0s\n",
      "[CV] n_estimators=700, max_depth=18, criterion=entropy ...............\n",
      "[CV]  n_estimators=700, max_depth=18, criterion=entropy, score=0.774, total=  36.8s\n",
      "[CV] n_estimators=700, max_depth=18, criterion=entropy ...............\n",
      "[CV]  n_estimators=700, max_depth=18, criterion=entropy, score=0.757, total=  36.5s\n",
      "[CV] n_estimators=700, max_depth=18, criterion=entropy ...............\n",
      "[CV]  n_estimators=700, max_depth=18, criterion=entropy, score=0.784, total=  36.8s\n",
      "[CV] n_estimators=300, max_depth=13, criterion=gini ..................\n",
      "[CV]  n_estimators=300, max_depth=13, criterion=gini, score=0.791, total=  12.6s\n",
      "[CV] n_estimators=300, max_depth=13, criterion=gini ..................\n",
      "[CV]  n_estimators=300, max_depth=13, criterion=gini, score=0.763, total=  11.8s\n",
      "[CV] n_estimators=300, max_depth=13, criterion=gini ..................\n",
      "[CV]  n_estimators=300, max_depth=13, criterion=gini, score=0.765, total=  11.8s\n",
      "[CV] n_estimators=300, max_depth=13, criterion=gini ..................\n",
      "[CV]  n_estimators=300, max_depth=13, criterion=gini, score=0.764, total=  11.9s\n",
      "[CV] n_estimators=300, max_depth=13, criterion=gini ..................\n",
      "[CV]  n_estimators=300, max_depth=13, criterion=gini, score=0.795, total=  11.8s\n",
      "[CV] n_estimators=900, max_depth=16, criterion=gini ..................\n",
      "[CV]  n_estimators=900, max_depth=16, criterion=gini, score=0.783, total=  42.4s\n",
      "[CV] n_estimators=900, max_depth=16, criterion=gini ..................\n",
      "[CV]  n_estimators=900, max_depth=16, criterion=gini, score=0.762, total=  42.1s\n",
      "[CV] n_estimators=900, max_depth=16, criterion=gini ..................\n",
      "[CV]  n_estimators=900, max_depth=16, criterion=gini, score=0.769, total=  42.1s\n",
      "[CV] n_estimators=900, max_depth=16, criterion=gini ..................\n",
      "[CV]  n_estimators=900, max_depth=16, criterion=gini, score=0.760, total=  42.6s\n",
      "[CV] n_estimators=900, max_depth=16, criterion=gini ..................\n",
      "[CV]  n_estimators=900, max_depth=16, criterion=gini, score=0.787, total=  44.1s\n",
      "[CV] n_estimators=1400, max_depth=16, criterion=gini .................\n",
      "[CV]  n_estimators=1400, max_depth=16, criterion=gini, score=0.781, total= 1.1min\n",
      "[CV] n_estimators=1400, max_depth=16, criterion=gini .................\n",
      "[CV]  n_estimators=1400, max_depth=16, criterion=gini, score=0.761, total= 1.1min\n",
      "[CV] n_estimators=1400, max_depth=16, criterion=gini .................\n",
      "[CV]  n_estimators=1400, max_depth=16, criterion=gini, score=0.769, total= 1.1min\n",
      "[CV] n_estimators=1400, max_depth=16, criterion=gini .................\n",
      "[CV]  n_estimators=1400, max_depth=16, criterion=gini, score=0.761, total= 1.1min\n",
      "[CV] n_estimators=1400, max_depth=16, criterion=gini .................\n",
      "[CV]  n_estimators=1400, max_depth=16, criterion=gini, score=0.790, total= 1.2min\n",
      "[CV] n_estimators=500, max_depth=15, criterion=entropy ...............\n",
      "[CV]  n_estimators=500, max_depth=15, criterion=entropy, score=0.776, total=  23.4s\n",
      "[CV] n_estimators=500, max_depth=15, criterion=entropy ...............\n",
      "[CV]  n_estimators=500, max_depth=15, criterion=entropy, score=0.778, total=  22.4s\n",
      "[CV] n_estimators=500, max_depth=15, criterion=entropy ...............\n",
      "[CV]  n_estimators=500, max_depth=15, criterion=entropy, score=0.776, total=  23.0s\n",
      "[CV] n_estimators=500, max_depth=15, criterion=entropy ...............\n",
      "[CV]  n_estimators=500, max_depth=15, criterion=entropy, score=0.765, total=  24.0s\n",
      "[CV] n_estimators=500, max_depth=15, criterion=entropy ...............\n",
      "[CV]  n_estimators=500, max_depth=15, criterion=entropy, score=0.794, total=  22.6s\n",
      "[CV] n_estimators=500, max_depth=18, criterion=gini ..................\n",
      "[CV]  n_estimators=500, max_depth=18, criterion=gini, score=0.783, total=  26.1s\n",
      "[CV] n_estimators=500, max_depth=18, criterion=gini ..................\n",
      "[CV]  n_estimators=500, max_depth=18, criterion=gini, score=0.763, total=  26.4s\n",
      "[CV] n_estimators=500, max_depth=18, criterion=gini ..................\n",
      "[CV]  n_estimators=500, max_depth=18, criterion=gini, score=0.768, total=  26.2s\n",
      "[CV] n_estimators=500, max_depth=18, criterion=gini ..................\n",
      "[CV]  n_estimators=500, max_depth=18, criterion=gini, score=0.751, total=  26.5s\n",
      "[CV] n_estimators=500, max_depth=18, criterion=gini ..................\n",
      "[CV]  n_estimators=500, max_depth=18, criterion=gini, score=0.781, total=  26.1s\n"
     ]
    },
    {
     "name": "stderr",
     "output_type": "stream",
     "text": [
      "[Parallel(n_jobs=1)]: Done  50 out of  50 | elapsed: 27.4min finished\n"
     ]
    },
    {
     "name": "stdout",
     "output_type": "stream",
     "text": [
      "0.7779149259399925\n",
      "{'bootstrap': True, 'class_weight': None, 'criterion': 'entropy', 'max_depth': 15, 'max_features': 'auto', 'max_leaf_nodes': None, 'min_impurity_decrease': 0.0, 'min_impurity_split': None, 'min_samples_leaf': 1, 'min_samples_split': 2, 'min_weight_fraction_leaf': 0.0, 'n_estimators': 500, 'n_jobs': None, 'oob_score': False, 'random_state': None, 'verbose': 0, 'warm_start': False}\n"
     ]
    }
   ],
   "source": [
    "classifier_model_RF = model_selection.RandomizedSearchCV(estimator=classifier_RF_opti, #RandomizedSearch\n",
    "                                    param_distributions=param_grid,\n",
    "                                    n_iter=10,\n",
    "                                    scoring='accuracy',\n",
    "                                    verbose=10,\n",
    "                                    n_jobs=1,\n",
    "                                    cv=5)\n",
    "\n",
    "classifier_model_RF.fit(X_train,y_train)\n",
    "print(classifier_model_RF.best_score_) #Gives the best score of the model\n",
    "print(classifier_model_RF.best_estimator_.get_params()) #Gives the best parameters of the model"
   ]
  },
  {
   "cell_type": "code",
   "execution_count": 125,
   "metadata": {},
   "outputs": [
    {
     "name": "stdout",
     "output_type": "stream",
     "text": [
      "Accuracy Score:  0.7817899867080195\n",
      "Precision Score:  0.7817899867080195\n",
      "Recall Score:  0.7817899867080195\n",
      "F1 Score:  0.7817899867080195\n"
     ]
    }
   ],
   "source": [
    "y_pred_model_RF = classifier_model_RF.predict(X_test)\n",
    "\n",
    "accuracy_score_model_RF = accuracy_score(y_test, y_pred_model_RF)\n",
    "precision_score_model_RF = precision_score(y_test, y_pred_model_RF , average = 'micro')\n",
    "recall_score_model_RF = recall_score(y_test, y_pred_model_RF , average = 'micro')\n",
    "f1_score_model_RF = f1_score(y_test, y_pred_model_RF , average = 'micro')\n",
    "print(\"Accuracy Score: \" , accuracy_score_model_RF)\n",
    "print(\"Precision Score: \" , precision_score_model_RF)\n",
    "print(\"Recall Score: \" , recall_score_model_RF)\n",
    "print(\"F1 Score: \" , f1_score_model_RF)"
   ]
  },
  {
   "cell_type": "code",
   "execution_count": 126,
   "metadata": {},
   "outputs": [
    {
     "data": {
      "image/png": "[encoded data removed]",
      "text/plain": [
       "<Figure size 720x432 with 2 Axes>"
      ]
     },
     "metadata": {},
     "output_type": "display_data"
    }
   ],
   "source": [
    "cm_model_RF = confusion_matrix(y_test, y_pred_model_RF)\n",
    "\n",
    "      # neg # neutr  # pos\n",
    "# pos #  89    246     1359\n",
    "# neu #  43   1253     17\n",
    "# neg #  917   292     298\n",
    "\n",
    "df_cm_model_RF = pd.DataFrame(cm_model_RF, range(3), range(3))\n",
    "plt.figure(figsize=(10,6))\n",
    "categories = ['Negative','Neutral','Positive']\n",
    "sns.set(font_scale=1.2) # for label size\n",
    "sns.heatmap(df_cm_model_RF, annot=True, annot_kws={\"size\": 18}, xticklabels = categories,\n",
    "            yticklabels = categories ,fmt=\"d\") # font size\n",
    "plt.ylim(0, 3)\n",
    "plt.show()"
   ]
  },
  {
   "cell_type": "markdown",
   "metadata": {},
   "source": [
    "## Naive Bayes"
   ]
  },
  {
   "cell_type": "code",
   "execution_count": 133,
   "metadata": {},
   "outputs": [],
   "source": [
    "classifier_NB = MultinomialNB()\n",
    "classifier_NB.fit(X_train, y_train)\n",
    "y_pred_NB = classifier_NB.predict(X_test)"
   ]
  },
  {
   "cell_type": "code",
   "execution_count": 134,
   "metadata": {},
   "outputs": [
    {
     "name": "stdout",
     "output_type": "stream",
     "text": [
      "Accuracy Score:  0.745680106335844\n",
      "Precision Score:  0.745680106335844\n",
      "Recall Score:  0.745680106335844\n",
      "F1 Score:  0.745680106335844\n"
     ]
    }
   ],
   "source": [
    "accuracy_score_NB = accuracy_score(y_test, y_pred_NB)\n",
    "precision_score_NB = precision_score(y_test, y_pred_NB , average = 'micro')\n",
    "recall_score_NB = recall_score(y_test, y_pred_NB, average = 'micro')\n",
    "f1_score_NB = f1_score(y_test, y_pred_NB, average = 'micro')\n",
    "print(\"Accuracy Score: \" , accuracy_score_NB)\n",
    "print(\"Precision Score: \" , precision_score_NB)\n",
    "print(\"Recall Score: \" , recall_score_NB)\n",
    "print(\"F1 Score: \" , f1_score_NB)"
   ]
  },
  {
   "cell_type": "code",
   "execution_count": 135,
   "metadata": {},
   "outputs": [
    {
     "data": {
      "image/png": "[encoded data removed]",
      "text/plain": [
       "<Figure size 720x432 with 2 Axes>"
      ]
     },
     "metadata": {},
     "output_type": "display_data"
    }
   ],
   "source": [
    "cm_NB = confusion_matrix(y_test, y_pred_NB)\n",
    "\n",
    "      # neg # neutr  # pos\n",
    "# pos # 202    133     1359\n",
    "# neu # 137   931      245\n",
    "# neg # 1076  160      271\n",
    "\n",
    "df_cm_NB = pd.DataFrame(cm_NB, range(3), range(3))\n",
    "plt.figure(figsize=(10,6))\n",
    "categories = ['Negative','Neutral','Positive']\n",
    "sns.set(font_scale=1.2) # for label size\n",
    "sns.heatmap(df_cm_NB, annot=True, annot_kws={\"size\": 18}, xticklabels = categories,\n",
    "            yticklabels = categories,fmt=\"d\") # font size\n",
    "plt.ylim(0, 3)\n",
    "plt.show()"
   ]
  },
  {
   "cell_type": "markdown",
   "metadata": {},
   "source": [
    "## Hyperparameter Tuning For Naive Bayes"
   ]
  },
  {
   "cell_type": "code",
   "execution_count": 136,
   "metadata": {},
   "outputs": [
    {
     "data": {
      "text/plain": [
       "dict_keys(['alpha', 'class_prior', 'fit_prior'])"
      ]
     },
     "execution_count": 136,
     "metadata": {},
     "output_type": "execute_result"
    }
   ],
   "source": [
    "#Getting the parameters of the particular model \n",
    "classifier_NB.get_params().keys()"
   ]
  },
  {
   "cell_type": "code",
   "execution_count": 137,
   "metadata": {},
   "outputs": [],
   "source": [
    "classifier_NB_opti = MultinomialNB() #Using the MultinomialNB\n",
    "param_grid = {'alpha':[1,2,3,4], } #Selecting the parameters"
   ]
  },
  {
   "cell_type": "code",
   "execution_count": 139,
   "metadata": {},
   "outputs": [
    {
     "name": "stdout",
     "output_type": "stream",
     "text": [
      "0.7444929737941511\n",
      "{'alpha': 1, 'class_prior': None, 'fit_prior': True}\n"
     ]
    }
   ],
   "source": [
    "classifier_model_NB = model_selection.GridSearchCV(estimator=classifier_NB_opti, #GridSearch\n",
    "                                    param_grid=param_grid,\n",
    "                                        cv=10)\n",
    "classifier_model_NB.fit(X_train,y_train)\n",
    "print(classifier_model_NB.best_score_) #Gives the best score of the model\n",
    "print(classifier_model_NB.best_estimator_.get_params()) #Gives the best parameters of the model"
   ]
  },
  {
   "cell_type": "code",
   "execution_count": 140,
   "metadata": {},
   "outputs": [
    {
     "name": "stdout",
     "output_type": "stream",
     "text": [
      "Accuracy Score:  0.745680106335844\n",
      "Precision Score:  0.745680106335844\n",
      "Recall Score:  0.745680106335844\n",
      "F1 Score:  0.745680106335844\n"
     ]
    }
   ],
   "source": [
    "y_pred_model_NB = classifier_model_NB.predict(X_test)\n",
    "\n",
    "accuracy_score_model_NB = accuracy_score(y_test, y_pred_model_NB)\n",
    "precision_score_model_NB = precision_score(y_test, y_pred_model_NB , average = 'micro')\n",
    "recall_score_model_NB = recall_score(y_test, y_pred_model_NB , average = 'micro')\n",
    "f1_score_model_NB = f1_score(y_test, y_pred_model_NB, average = 'micro')\n",
    "print(\"Accuracy Score: \" , accuracy_score_model_NB)\n",
    "print(\"Precision Score: \" , precision_score_model_NB)\n",
    "print(\"Recall Score: \" , recall_score_model_NB)\n",
    "print(\"F1 Score: \" , f1_score_model_NB)"
   ]
  },
  {
   "cell_type": "code",
   "execution_count": 141,
   "metadata": {},
   "outputs": [
    {
     "data": {
      "image/png": "[encoded data removed]",
      "text/plain": [
       "<Figure size 720x432 with 2 Axes>"
      ]
     },
     "metadata": {},
     "output_type": "display_data"
    }
   ],
   "source": [
    "cm_model_NB = confusion_matrix(y_test, y_pred_model_NB)\n",
    "\n",
    "      # neg # neutr  # pos\n",
    "# pos #  202   133     1359\n",
    "# neu #  137   931     245\n",
    "# neg #  1076  160     271\n",
    "\n",
    "df_cm_model_NB = pd.DataFrame(cm_model_NB, range(3), range(3))\n",
    "plt.figure(figsize=(10,6))\n",
    "categories = ['Negative','Neutral','Positive']\n",
    "sns.set(font_scale=1.2) # for label size\n",
    "sns.heatmap(df_cm_model_NB, annot=True, annot_kws={\"size\": 18}, xticklabels = categories,\n",
    "            yticklabels = categories ,fmt=\"d\") # font size\n",
    "plt.ylim(0, 3)\n",
    "plt.show()"
   ]
  },
  {
   "cell_type": "markdown",
   "metadata": {},
   "source": [
    "All the hyperparameter tunings resulted in not much improvements, except Naive Bayes. So we will be taking the best model for comparison"
   ]
  },
  {
   "cell_type": "markdown",
   "metadata": {},
   "source": [
    "## Comparing The Models"
   ]
  },
  {
   "cell_type": "code",
   "execution_count": 142,
   "metadata": {},
   "outputs": [
    {
     "data": {
      "image/png": "[encoded data removed]",
      "text/plain": [
       "<Figure size 1080x360 with 1 Axes>"
      ]
     },
     "metadata": {},
     "output_type": "display_data"
    }
   ],
   "source": [
    "Accuracy = [accuracy_score_RF, accuracy_score_DT, accuracy_score_model_NB]\n",
    "Methods = ['Random_Forest', 'Decision_Trees', 'Naive_Bayes']\n",
    "Accuracy_pos = np.arange(len(Methods))\n",
    "plt.bar(Accuracy_pos, Accuracy)\n",
    "plt.xticks(Accuracy_pos, Methods)\n",
    "plt.title('Comparing Accuracy Score')\n",
    "plt.show()"
   ]
  },
  {
   "cell_type": "code",
   "execution_count": 147,
   "metadata": {},
   "outputs": [
    {
     "data": {
      "image/png": "[encoded data removed]",
      "text/plain": [
       "<Figure size 1080x360 with 1 Axes>"
      ]
     },
     "metadata": {},
     "output_type": "display_data"
    }
   ],
   "source": [
    "Precision = [precision_score_RF, precision_score_DT, precision_score_model_NB]\n",
    "Methods = ['Random_Forest', 'Decision_Trees', 'Naive_Bayes']\n",
    "Precision_pos = np.arange(len(Methods))\n",
    "plt.bar(Precision_pos, Precision)\n",
    "plt.xticks(Precision_pos, Methods)\n",
    "plt.title('Comparing Precision Score')\n",
    "plt.show()"
   ]
  },
  {
   "cell_type": "code",
   "execution_count": 145,
   "metadata": {},
   "outputs": [
    {
     "data": {
      "image/png": "[encoded data removed]",
      "text/plain": [
       "<Figure size 1080x360 with 1 Axes>"
      ]
     },
     "metadata": {},
     "output_type": "display_data"
    }
   ],
   "source": [
    "Recall = [recall_score_RF, recall_score_DT, recall_score_model_NB]\n",
    "Methods = ['Random_Forest', 'Decision_Trees', 'Naive_Bayes']\n",
    "Recall_pos = np.arange(len(Methods))\n",
    "plt.bar(Recall_pos, Recall)\n",
    "plt.xticks(Recall_pos, Methods)\n",
    "plt.title('Comparing Recall Score')\n",
    "plt.show()"
   ]
  },
  {
   "cell_type": "code",
   "execution_count": 148,
   "metadata": {},
   "outputs": [
    {
     "data": {
      "image/png": "[encoded data removed]",
      "text/plain": [
       "<Figure size 1080x360 with 1 Axes>"
      ]
     },
     "metadata": {},
     "output_type": "display_data"
    }
   ],
   "source": [
    "F1 = [f1_score_RF,f1_score_DT,f1_score_model_NB]\n",
    "Methods = ['Random_Forest', 'Decision_Trees', 'Naive_Bayes']\n",
    "F1_pos = np.arange(len(Methods))\n",
    "plt.bar(F1_pos, F1)\n",
    "plt.xticks(F1_pos, Methods)\n",
    "plt.title('Comparing F1 Score')\n",
    "plt.show()"
   ]
  },
  {
   "cell_type": "markdown",
   "metadata": {},
   "source": [
    "It's evident that Random_Forest is workig the best among the three models used."
   ]
  },
  {
   "cell_type": "code",
   "execution_count": null,
   "metadata": {},
   "outputs": [],
   "source": []
  }
 ],
 "metadata": {
  "kernelspec": {
   "display_name": "Python 3",
   "language": "python",
   "name": "python3"
  },
  "language_info": {
   "codemirror_mode": {
    "name": "ipython",
    "version": 3
   },
   "file_extension": ".py",
   "mimetype": "text/x-python",
   "name": "python",
   "nbconvert_exporter": "python",
   "pygments_lexer": "ipython3",
   "version": "3.7.4"
  }
 },
 "nbformat": 4,
 "nbformat_minor": 2
}
