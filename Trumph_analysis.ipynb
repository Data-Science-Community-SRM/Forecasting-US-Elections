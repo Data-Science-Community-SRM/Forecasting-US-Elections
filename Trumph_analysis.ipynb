{
  "nbformat": 4,
  "nbformat_minor": 0,
  "metadata": {
    "colab": {
      "name": "Trumph_analysis",
      "provenance": [],
      "collapsed_sections": []
    },
    "kernelspec": {
      "name": "python3",
      "display_name": "Python 3"
    }
  },
  "cells": [
    {
      "cell_type": "code",
      "metadata": {
        "id": "BhaG16S2pkdg",
        "colab_type": "code",
        "colab": {}
      },
      "source": [
        "import re\n",
        "import numpy as np\n",
        "import pandas as pd\n",
        "pd.set_option('display.max_columns',None)\n",
        "\n",
        "import matplotlib.pyplot as plt\n",
        "import matplotlib.cm as cm\n",
        "import matplotlib.colors as colors\n",
        "import seaborn as sns\n",
        "import nltk\n",
        "from nltk.tokenize import sent_tokenize\n",
        "from nltk.corpus import words\n",
        "from nltk.corpus import stopwords\n",
        "from nltk.tokenize import word_tokenize\n",
        "from nltk.stem import WordNetLemmatizer\n",
        "from nltk.stem import PorterStemmer\n",
        "from nltk.sentiment.vader import SentimentIntensityAnalyzer\n",
        "from nltk.sentiment.util import *\n",
        "from textblob import TextBlob\n",
        "from sklearn.feature_extraction.text import TfidfVectorizer\n",
        "import re\n",
        "import json\n",
        "import os\n",
        "from collections import Counter\n",
        "import datetime as dt\n"
      ],
      "execution_count": 57,
      "outputs": []
    },
    {
      "cell_type": "code",
      "metadata": {
        "id": "bDD57sQ9yfHe",
        "colab_type": "code",
        "colab": {
          "resources": {
            "http://localhost:8080/nbextensions/google.colab/files.js": {
              "data": "Ly8gQ29weXJpZ2h0IDIwMTcgR29vZ2xlIExMQwovLwovLyBMaWNlbnNlZCB1bmRlciB0aGUgQXBhY2hlIExpY2Vuc2UsIFZlcnNpb24gMi4wICh0aGUgIkxpY2Vuc2UiKTsKLy8geW91IG1heSBub3QgdXNlIHRoaXMgZmlsZSBleGNlcHQgaW4gY29tcGxpYW5jZSB3aXRoIHRoZSBMaWNlbnNlLgovLyBZb3UgbWF5IG9idGFpbiBhIGNvcHkgb2YgdGhlIExpY2Vuc2UgYXQKLy8KLy8gICAgICBodHRwOi8vd3d3LmFwYWNoZS5vcmcvbGljZW5zZXMvTElDRU5TRS0yLjAKLy8KLy8gVW5sZXNzIHJlcXVpcmVkIGJ5IGFwcGxpY2FibGUgbGF3IG9yIGFncmVlZCB0byBpbiB3cml0aW5nLCBzb2Z0d2FyZQovLyBkaXN0cmlidXRlZCB1bmRlciB0aGUgTGljZW5zZSBpcyBkaXN0cmlidXRlZCBvbiBhbiAiQVMgSVMiIEJBU0lTLAovLyBXSVRIT1VUIFdBUlJBTlRJRVMgT1IgQ09ORElUSU9OUyBPRiBBTlkgS0lORCwgZWl0aGVyIGV4cHJlc3Mgb3IgaW1wbGllZC4KLy8gU2VlIHRoZSBMaWNlbnNlIGZvciB0aGUgc3BlY2lmaWMgbGFuZ3VhZ2UgZ292ZXJuaW5nIHBlcm1pc3Npb25zIGFuZAovLyBsaW1pdGF0aW9ucyB1bmRlciB0aGUgTGljZW5zZS4KCi8qKgogKiBAZmlsZW92ZXJ2aWV3IEhlbHBlcnMgZm9yIGdvb2dsZS5jb2xhYiBQeXRob24gbW9kdWxlLgogKi8KKGZ1bmN0aW9uKHNjb3BlKSB7CmZ1bmN0aW9uIHNwYW4odGV4dCwgc3R5bGVBdHRyaWJ1dGVzID0ge30pIHsKICBjb25zdCBlbGVtZW50ID0gZG9jdW1lbnQuY3JlYXRlRWxlbWVudCgnc3BhbicpOwogIGVsZW1lbnQudGV4dENvbnRlbnQgPSB0ZXh0OwogIGZvciAoY29uc3Qga2V5IG9mIE9iamVjdC5rZXlzKHN0eWxlQXR0cmlidXRlcykpIHsKICAgIGVsZW1lbnQuc3R5bGVba2V5XSA9IHN0eWxlQXR0cmlidXRlc1trZXldOwogIH0KICByZXR1cm4gZWxlbWVudDsKfQoKLy8gTWF4IG51bWJlciBvZiBieXRlcyB3aGljaCB3aWxsIGJlIHVwbG9hZGVkIGF0IGEgdGltZS4KY29uc3QgTUFYX1BBWUxPQURfU0laRSA9IDEwMCAqIDEwMjQ7CgpmdW5jdGlvbiBfdXBsb2FkRmlsZXMoaW5wdXRJZCwgb3V0cHV0SWQpIHsKICBjb25zdCBzdGVwcyA9IHVwbG9hZEZpbGVzU3RlcChpbnB1dElkLCBvdXRwdXRJZCk7CiAgY29uc3Qgb3V0cHV0RWxlbWVudCA9IGRvY3VtZW50LmdldEVsZW1lbnRCeUlkKG91dHB1dElkKTsKICAvLyBDYWNoZSBzdGVwcyBvbiB0aGUgb3V0cHV0RWxlbWVudCB0byBtYWtlIGl0IGF2YWlsYWJsZSBmb3IgdGhlIG5leHQgY2FsbAogIC8vIHRvIHVwbG9hZEZpbGVzQ29udGludWUgZnJvbSBQeXRob24uCiAgb3V0cHV0RWxlbWVudC5zdGVwcyA9IHN0ZXBzOwoKICByZXR1cm4gX3VwbG9hZEZpbGVzQ29udGludWUob3V0cHV0SWQpOwp9CgovLyBUaGlzIGlzIHJvdWdobHkgYW4gYXN5bmMgZ2VuZXJhdG9yIChub3Qgc3VwcG9ydGVkIGluIHRoZSBicm93c2VyIHlldCksCi8vIHdoZXJlIHRoZXJlIGFyZSBtdWx0aXBsZSBhc3luY2hyb25vdXMgc3RlcHMgYW5kIHRoZSBQeXRob24gc2lkZSBpcyBnb2luZwovLyB0byBwb2xsIGZvciBjb21wbGV0aW9uIG9mIGVhY2ggc3RlcC4KLy8gVGhpcyB1c2VzIGEgUHJvbWlzZSB0byBibG9jayB0aGUgcHl0aG9uIHNpZGUgb24gY29tcGxldGlvbiBvZiBlYWNoIHN0ZXAsCi8vIHRoZW4gcGFzc2VzIHRoZSByZXN1bHQgb2YgdGhlIHByZXZpb3VzIHN0ZXAgYXMgdGhlIGlucHV0IHRvIHRoZSBuZXh0IHN0ZXAuCmZ1bmN0aW9uIF91cGxvYWRGaWxlc0NvbnRpbnVlKG91dHB1dElkKSB7CiAgY29uc3Qgb3V0cHV0RWxlbWVudCA9IGRvY3VtZW50LmdldEVsZW1lbnRCeUlkKG91dHB1dElkKTsKICBjb25zdCBzdGVwcyA9IG91dHB1dEVsZW1lbnQuc3RlcHM7CgogIGNvbnN0IG5leHQgPSBzdGVwcy5uZXh0KG91dHB1dEVsZW1lbnQubGFzdFByb21pc2VWYWx1ZSk7CiAgcmV0dXJuIFByb21pc2UucmVzb2x2ZShuZXh0LnZhbHVlLnByb21pc2UpLnRoZW4oKHZhbHVlKSA9PiB7CiAgICAvLyBDYWNoZSB0aGUgbGFzdCBwcm9taXNlIHZhbHVlIHRvIG1ha2UgaXQgYXZhaWxhYmxlIHRvIHRoZSBuZXh0CiAgICAvLyBzdGVwIG9mIHRoZSBnZW5lcmF0b3IuCiAgICBvdXRwdXRFbGVtZW50Lmxhc3RQcm9taXNlVmFsdWUgPSB2YWx1ZTsKICAgIHJldHVybiBuZXh0LnZhbHVlLnJlc3BvbnNlOwogIH0pOwp9CgovKioKICogR2VuZXJhdG9yIGZ1bmN0aW9uIHdoaWNoIGlzIGNhbGxlZCBiZXR3ZWVuIGVhY2ggYXN5bmMgc3RlcCBvZiB0aGUgdXBsb2FkCiAqIHByb2Nlc3MuCiAqIEBwYXJhbSB7c3RyaW5nfSBpbnB1dElkIEVsZW1lbnQgSUQgb2YgdGhlIGlucHV0IGZpbGUgcGlja2VyIGVsZW1lbnQuCiAqIEBwYXJhbSB7c3RyaW5nfSBvdXRwdXRJZCBFbGVtZW50IElEIG9mIHRoZSBvdXRwdXQgZGlzcGxheS4KICogQHJldHVybiB7IUl0ZXJhYmxlPCFPYmplY3Q+fSBJdGVyYWJsZSBvZiBuZXh0IHN0ZXBzLgogKi8KZnVuY3Rpb24qIHVwbG9hZEZpbGVzU3RlcChpbnB1dElkLCBvdXRwdXRJZCkgewogIGNvbnN0IGlucHV0RWxlbWVudCA9IGRvY3VtZW50LmdldEVsZW1lbnRCeUlkKGlucHV0SWQpOwogIGlucHV0RWxlbWVudC5kaXNhYmxlZCA9IGZhbHNlOwoKICBjb25zdCBvdXRwdXRFbGVtZW50ID0gZG9jdW1lbnQuZ2V0RWxlbWVudEJ5SWQob3V0cHV0SWQpOwogIG91dHB1dEVsZW1lbnQuaW5uZXJIVE1MID0gJyc7CgogIGNvbnN0IHBpY2tlZFByb21pc2UgPSBuZXcgUHJvbWlzZSgocmVzb2x2ZSkgPT4gewogICAgaW5wdXRFbGVtZW50LmFkZEV2ZW50TGlzdGVuZXIoJ2NoYW5nZScsIChlKSA9PiB7CiAgICAgIHJlc29sdmUoZS50YXJnZXQuZmlsZXMpOwogICAgfSk7CiAgfSk7CgogIGNvbnN0IGNhbmNlbCA9IGRvY3VtZW50LmNyZWF0ZUVsZW1lbnQoJ2J1dHRvbicpOwogIGlucHV0RWxlbWVudC5wYXJlbnRFbGVtZW50LmFwcGVuZENoaWxkKGNhbmNlbCk7CiAgY2FuY2VsLnRleHRDb250ZW50ID0gJ0NhbmNlbCB1cGxvYWQnOwogIGNvbnN0IGNhbmNlbFByb21pc2UgPSBuZXcgUHJvbWlzZSgocmVzb2x2ZSkgPT4gewogICAgY2FuY2VsLm9uY2xpY2sgPSAoKSA9PiB7CiAgICAgIHJlc29sdmUobnVsbCk7CiAgICB9OwogIH0pOwoKICAvLyBXYWl0IGZvciB0aGUgdXNlciB0byBwaWNrIHRoZSBmaWxlcy4KICBjb25zdCBmaWxlcyA9IHlpZWxkIHsKICAgIHByb21pc2U6IFByb21pc2UucmFjZShbcGlja2VkUHJvbWlzZSwgY2FuY2VsUHJvbWlzZV0pLAogICAgcmVzcG9uc2U6IHsKICAgICAgYWN0aW9uOiAnc3RhcnRpbmcnLAogICAgfQogIH07CgogIGNhbmNlbC5yZW1vdmUoKTsKCiAgLy8gRGlzYWJsZSB0aGUgaW5wdXQgZWxlbWVudCBzaW5jZSBmdXJ0aGVyIHBpY2tzIGFyZSBub3QgYWxsb3dlZC4KICBpbnB1dEVsZW1lbnQuZGlzYWJsZWQgPSB0cnVlOwoKICBpZiAoIWZpbGVzKSB7CiAgICByZXR1cm4gewogICAgICByZXNwb25zZTogewogICAgICAgIGFjdGlvbjogJ2NvbXBsZXRlJywKICAgICAgfQogICAgfTsKICB9CgogIGZvciAoY29uc3QgZmlsZSBvZiBmaWxlcykgewogICAgY29uc3QgbGkgPSBkb2N1bWVudC5jcmVhdGVFbGVtZW50KCdsaScpOwogICAgbGkuYXBwZW5kKHNwYW4oZmlsZS5uYW1lLCB7Zm9udFdlaWdodDogJ2JvbGQnfSkpOwogICAgbGkuYXBwZW5kKHNwYW4oCiAgICAgICAgYCgke2ZpbGUudHlwZSB8fCAnbi9hJ30pIC0gJHtmaWxlLnNpemV9IGJ5dGVzLCBgICsKICAgICAgICBgbGFzdCBtb2RpZmllZDogJHsKICAgICAgICAgICAgZmlsZS5sYXN0TW9kaWZpZWREYXRlID8gZmlsZS5sYXN0TW9kaWZpZWREYXRlLnRvTG9jYWxlRGF0ZVN0cmluZygpIDoKICAgICAgICAgICAgICAgICAgICAgICAgICAgICAgICAgICAgJ24vYSd9IC0gYCkpOwogICAgY29uc3QgcGVyY2VudCA9IHNwYW4oJzAlIGRvbmUnKTsKICAgIGxpLmFwcGVuZENoaWxkKHBlcmNlbnQpOwoKICAgIG91dHB1dEVsZW1lbnQuYXBwZW5kQ2hpbGQobGkpOwoKICAgIGNvbnN0IGZpbGVEYXRhUHJvbWlzZSA9IG5ldyBQcm9taXNlKChyZXNvbHZlKSA9PiB7CiAgICAgIGNvbnN0IHJlYWRlciA9IG5ldyBGaWxlUmVhZGVyKCk7CiAgICAgIHJlYWRlci5vbmxvYWQgPSAoZSkgPT4gewogICAgICAgIHJlc29sdmUoZS50YXJnZXQucmVzdWx0KTsKICAgICAgfTsKICAgICAgcmVhZGVyLnJlYWRBc0FycmF5QnVmZmVyKGZpbGUpOwogICAgfSk7CiAgICAvLyBXYWl0IGZvciB0aGUgZGF0YSB0byBiZSByZWFkeS4KICAgIGxldCBmaWxlRGF0YSA9IHlpZWxkIHsKICAgICAgcHJvbWlzZTogZmlsZURhdGFQcm9taXNlLAogICAgICByZXNwb25zZTogewogICAgICAgIGFjdGlvbjogJ2NvbnRpbnVlJywKICAgICAgfQogICAgfTsKCiAgICAvLyBVc2UgYSBjaHVua2VkIHNlbmRpbmcgdG8gYXZvaWQgbWVzc2FnZSBzaXplIGxpbWl0cy4gU2VlIGIvNjIxMTU2NjAuCiAgICBsZXQgcG9zaXRpb24gPSAwOwogICAgd2hpbGUgKHBvc2l0aW9uIDwgZmlsZURhdGEuYnl0ZUxlbmd0aCkgewogICAgICBjb25zdCBsZW5ndGggPSBNYXRoLm1pbihmaWxlRGF0YS5ieXRlTGVuZ3RoIC0gcG9zaXRpb24sIE1BWF9QQVlMT0FEX1NJWkUpOwogICAgICBjb25zdCBjaHVuayA9IG5ldyBVaW50OEFycmF5KGZpbGVEYXRhLCBwb3NpdGlvbiwgbGVuZ3RoKTsKICAgICAgcG9zaXRpb24gKz0gbGVuZ3RoOwoKICAgICAgY29uc3QgYmFzZTY0ID0gYnRvYShTdHJpbmcuZnJvbUNoYXJDb2RlLmFwcGx5KG51bGwsIGNodW5rKSk7CiAgICAgIHlpZWxkIHsKICAgICAgICByZXNwb25zZTogewogICAgICAgICAgYWN0aW9uOiAnYXBwZW5kJywKICAgICAgICAgIGZpbGU6IGZpbGUubmFtZSwKICAgICAgICAgIGRhdGE6IGJhc2U2NCwKICAgICAgICB9LAogICAgICB9OwogICAgICBwZXJjZW50LnRleHRDb250ZW50ID0KICAgICAgICAgIGAke01hdGgucm91bmQoKHBvc2l0aW9uIC8gZmlsZURhdGEuYnl0ZUxlbmd0aCkgKiAxMDApfSUgZG9uZWA7CiAgICB9CiAgfQoKICAvLyBBbGwgZG9uZS4KICB5aWVsZCB7CiAgICByZXNwb25zZTogewogICAgICBhY3Rpb246ICdjb21wbGV0ZScsCiAgICB9CiAgfTsKfQoKc2NvcGUuZ29vZ2xlID0gc2NvcGUuZ29vZ2xlIHx8IHt9OwpzY29wZS5nb29nbGUuY29sYWIgPSBzY29wZS5nb29nbGUuY29sYWIgfHwge307CnNjb3BlLmdvb2dsZS5jb2xhYi5fZmlsZXMgPSB7CiAgX3VwbG9hZEZpbGVzLAogIF91cGxvYWRGaWxlc0NvbnRpbnVlLAp9Owp9KShzZWxmKTsK",
              "ok": true,
              "headers": [
                [
                  "content-type",
                  "application/javascript"
                ]
              ],
              "status": 200,
              "status_text": ""
            }
          },
          "base_uri": "https://localhost:8080/",
          "height": 73
        },
        "outputId": "a682c6f8-e1e6-41f8-b095-ffc04c013fd2"
      },
      "source": [
        "from google.colab import files\n",
        "uploaded = files.upload()"
      ],
      "execution_count": 59,
      "outputs": [
        {
          "output_type": "display_data",
          "data": {
            "text/html": [
              "\n",
              "     <input type=\"file\" id=\"files-69c30665-5596-42b3-8dc5-98517c8fc2c2\" name=\"files[]\" multiple disabled\n",
              "        style=\"border:none\" />\n",
              "     <output id=\"result-69c30665-5596-42b3-8dc5-98517c8fc2c2\">\n",
              "      Upload widget is only available when the cell has been executed in the\n",
              "      current browser session. Please rerun this cell to enable.\n",
              "      </output>\n",
              "      <script src=\"/nbextensions/google.colab/files.js\"></script> "
            ],
            "text/plain": [
              "<IPython.core.display.HTML object>"
            ]
          },
          "metadata": {
            "tags": []
          }
        },
        {
          "output_type": "stream",
          "text": [
            "Saving trumph.csv to trumph (2).csv\n"
          ],
          "name": "stdout"
        }
      ]
    },
    {
      "cell_type": "code",
      "metadata": {
        "id": "1POEUV7P69NL",
        "colab_type": "code",
        "colab": {}
      },
      "source": [
        "import io\n",
        "df2 = pd.read_csv(io.BytesIO(uploaded['trumph.csv']))"
      ],
      "execution_count": 60,
      "outputs": []
    },
    {
      "cell_type": "code",
      "metadata": {
        "id": "US2H5-bk7Fcs",
        "colab_type": "code",
        "colab": {
          "base_uri": "https://localhost:8080/",
          "height": 534
        },
        "outputId": "620060c2-83fc-4462-c8bd-3c72ab55bcaf"
      },
      "source": [
        "df2.head(5)"
      ],
      "execution_count": 92,
      "outputs": [
        {
          "output_type": "execute_result",
          "data": {
            "text/html": [
              "<div>\n",
              "<style scoped>\n",
              "    .dataframe tbody tr th:only-of-type {\n",
              "        vertical-align: middle;\n",
              "    }\n",
              "\n",
              "    .dataframe tbody tr th {\n",
              "        vertical-align: top;\n",
              "    }\n",
              "\n",
              "    .dataframe thead th {\n",
              "        text-align: right;\n",
              "    }\n",
              "</style>\n",
              "<table border=\"1\" class=\"dataframe\">\n",
              "  <thead>\n",
              "    <tr style=\"text-align: right;\">\n",
              "      <th></th>\n",
              "      <th>Unnamed: 0</th>\n",
              "      <th>Date</th>\n",
              "      <th>Tweet_id</th>\n",
              "      <th>Verified</th>\n",
              "      <th>Tweet</th>\n",
              "      <th>User</th>\n",
              "      <th>Location</th>\n",
              "      <th>Source</th>\n",
              "      <th>Likes</th>\n",
              "      <th>Followers</th>\n",
              "      <th>Following</th>\n",
              "      <th>Retweets</th>\n",
              "      <th>Polarity</th>\n",
              "    </tr>\n",
              "  </thead>\n",
              "  <tbody>\n",
              "    <tr>\n",
              "      <th>0</th>\n",
              "      <td>0</td>\n",
              "      <td>2020-07-18 23:59:56</td>\n",
              "      <td>1284639069906010113</td>\n",
              "      <td>False</td>\n",
              "      <td>parisdennard realdonaldtrump joebiden trump am...</td>\n",
              "      <td>sistermazel</td>\n",
              "      <td>NaN</td>\n",
              "      <td>Twitter for iPhone</td>\n",
              "      <td>0</td>\n",
              "      <td>0</td>\n",
              "      <td>32</td>\n",
              "      <td>0</td>\n",
              "      <td>-0.2</td>\n",
              "    </tr>\n",
              "    <tr>\n",
              "      <th>1</th>\n",
              "      <td>1</td>\n",
              "      <td>2020-07-18 23:59:54</td>\n",
              "      <td>1284639060544241664</td>\n",
              "      <td>False</td>\n",
              "      <td>ritapanahi http co cebqrurt j donald trump dee...</td>\n",
              "      <td>grub12321</td>\n",
              "      <td>NaN</td>\n",
              "      <td>Twitter Web App</td>\n",
              "      <td>1</td>\n",
              "      <td>21</td>\n",
              "      <td>76</td>\n",
              "      <td>0</td>\n",
              "      <td>0.0</td>\n",
              "    </tr>\n",
              "    <tr>\n",
              "      <th>2</th>\n",
              "      <td>2</td>\n",
              "      <td>2020-07-18 23:59:53</td>\n",
              "      <td>1284639057285394433</td>\n",
              "      <td>False</td>\n",
              "      <td>rt mayawiley nationwid mask kidnap protest thr...</td>\n",
              "      <td>QuantumHumanity</td>\n",
              "      <td>Global</td>\n",
              "      <td>Twitter Web App</td>\n",
              "      <td>0</td>\n",
              "      <td>3854</td>\n",
              "      <td>4942</td>\n",
              "      <td>3284</td>\n",
              "      <td>0.0</td>\n",
              "    </tr>\n",
              "    <tr>\n",
              "      <th>3</th>\n",
              "      <td>3</td>\n",
              "      <td>2020-07-18 23:59:47</td>\n",
              "      <td>1284639034522972161</td>\n",
              "      <td>False</td>\n",
              "      <td>rt howardfineman ask author whose command trum...</td>\n",
              "      <td>JohnalanJames2</td>\n",
              "      <td>Red City, KS</td>\n",
              "      <td>Twitter for Android</td>\n",
              "      <td>0</td>\n",
              "      <td>20839</td>\n",
              "      <td>22556</td>\n",
              "      <td>13678</td>\n",
              "      <td>0.0</td>\n",
              "    </tr>\n",
              "    <tr>\n",
              "      <th>4</th>\n",
              "      <td>4</td>\n",
              "      <td>2020-07-18 23:59:44</td>\n",
              "      <td>1284639021654671360</td>\n",
              "      <td>False</td>\n",
              "      <td>poshtwo charliekirk god never promis send u po...</td>\n",
              "      <td>DanSmit21326682</td>\n",
              "      <td>California, USA</td>\n",
              "      <td>Twitter for iPhone</td>\n",
              "      <td>5</td>\n",
              "      <td>2573</td>\n",
              "      <td>5001</td>\n",
              "      <td>4</td>\n",
              "      <td>0.0</td>\n",
              "    </tr>\n",
              "  </tbody>\n",
              "</table>\n",
              "</div>"
            ],
            "text/plain": [
              "   Unnamed: 0                 Date             Tweet_id  Verified  \\\n",
              "0           0  2020-07-18 23:59:56  1284639069906010113     False   \n",
              "1           1  2020-07-18 23:59:54  1284639060544241664     False   \n",
              "2           2  2020-07-18 23:59:53  1284639057285394433     False   \n",
              "3           3  2020-07-18 23:59:47  1284639034522972161     False   \n",
              "4           4  2020-07-18 23:59:44  1284639021654671360     False   \n",
              "\n",
              "                                               Tweet             User  \\\n",
              "0  parisdennard realdonaldtrump joebiden trump am...      sistermazel   \n",
              "1  ritapanahi http co cebqrurt j donald trump dee...        grub12321   \n",
              "2  rt mayawiley nationwid mask kidnap protest thr...  QuantumHumanity   \n",
              "3  rt howardfineman ask author whose command trum...   JohnalanJames2   \n",
              "4  poshtwo charliekirk god never promis send u po...  DanSmit21326682   \n",
              "\n",
              "          Location               Source  Likes  Followers  Following  \\\n",
              "0              NaN   Twitter for iPhone      0          0         32   \n",
              "1              NaN      Twitter Web App      1         21         76   \n",
              "2           Global      Twitter Web App      0       3854       4942   \n",
              "3     Red City, KS  Twitter for Android      0      20839      22556   \n",
              "4  California, USA   Twitter for iPhone      5       2573       5001   \n",
              "\n",
              "   Retweets  Polarity  \n",
              "0         0      -0.2  \n",
              "1         0       0.0  \n",
              "2      3284       0.0  \n",
              "3     13678       0.0  \n",
              "4         4       0.0  "
            ]
          },
          "metadata": {
            "tags": []
          },
          "execution_count": 92
        }
      ]
    },
    {
      "cell_type": "code",
      "metadata": {
        "id": "cAkXmeqS7Pfl",
        "colab_type": "code",
        "colab": {
          "base_uri": "https://localhost:8080/",
          "height": 347
        },
        "outputId": "25a96ba7-2910-474d-c5b4-43a3ba4519ef"
      },
      "source": [
        "df2.info()"
      ],
      "execution_count": 62,
      "outputs": [
        {
          "output_type": "stream",
          "text": [
            "<class 'pandas.core.frame.DataFrame'>\n",
            "RangeIndex: 28878 entries, 0 to 28877\n",
            "Data columns (total 12 columns):\n",
            " #   Column      Non-Null Count  Dtype \n",
            "---  ------      --------------  ----- \n",
            " 0   Unnamed: 0  28878 non-null  int64 \n",
            " 1   Date        28878 non-null  object\n",
            " 2   Tweet_id    28878 non-null  int64 \n",
            " 3   Verified    28878 non-null  bool  \n",
            " 4   Tweet       28878 non-null  object\n",
            " 5   User        28878 non-null  object\n",
            " 6   Location    18738 non-null  object\n",
            " 7   Source      28872 non-null  object\n",
            " 8   Likes       28878 non-null  int64 \n",
            " 9   Followers   28878 non-null  int64 \n",
            " 10  Following   28878 non-null  int64 \n",
            " 11  Retweets    28878 non-null  int64 \n",
            "dtypes: bool(1), int64(6), object(5)\n",
            "memory usage: 2.5+ MB\n"
          ],
          "name": "stdout"
        }
      ]
    },
    {
      "cell_type": "code",
      "metadata": {
        "id": "JO0kcbKQ7kMa",
        "colab_type": "code",
        "colab": {
          "base_uri": "https://localhost:8080/",
          "height": 35
        },
        "outputId": "fe151690-1301-49ff-9e73-b1883d455146"
      },
      "source": [
        "df2.shape"
      ],
      "execution_count": 63,
      "outputs": [
        {
          "output_type": "execute_result",
          "data": {
            "text/plain": [
              "(28878, 12)"
            ]
          },
          "metadata": {
            "tags": []
          },
          "execution_count": 63
        }
      ]
    },
    {
      "cell_type": "code",
      "metadata": {
        "id": "hT1oTfyK7ooF",
        "colab_type": "code",
        "colab": {
          "base_uri": "https://localhost:8080/",
          "height": 69
        },
        "outputId": "629e95e9-8bab-48ef-87af-c8593d2cf815"
      },
      "source": [
        "df2.Verified.value_counts()"
      ],
      "execution_count": 64,
      "outputs": [
        {
          "output_type": "execute_result",
          "data": {
            "text/plain": [
              "False    28752\n",
              "True       126\n",
              "Name: Verified, dtype: int64"
            ]
          },
          "metadata": {
            "tags": []
          },
          "execution_count": 64
        }
      ]
    },
    {
      "cell_type": "code",
      "metadata": {
        "id": "PXBYXAdM759E",
        "colab_type": "code",
        "colab": {
          "base_uri": "https://localhost:8080/",
          "height": 225
        },
        "outputId": "91c6cdfc-45af-46bc-9966-6b91355958f9"
      },
      "source": [
        "df2.Date.value_counts()"
      ],
      "execution_count": 65,
      "outputs": [
        {
          "output_type": "execute_result",
          "data": {
            "text/plain": [
              "2020-07-18 17:46:04    7\n",
              "2020-07-18 20:57:38    6\n",
              "2020-07-18 19:37:31    5\n",
              "2020-07-18 13:13:13    5\n",
              "2020-07-18 23:07:05    5\n",
              "                      ..\n",
              "2020-07-18 22:28:16    1\n",
              "2020-07-18 12:03:27    1\n",
              "2020-07-18 21:55:28    1\n",
              "2020-07-18 16:55:05    1\n",
              "2020-07-18 21:13:07    1\n",
              "Name: Date, Length: 23049, dtype: int64"
            ]
          },
          "metadata": {
            "tags": []
          },
          "execution_count": 65
        }
      ]
    },
    {
      "cell_type": "code",
      "metadata": {
        "id": "Iqu3ZCnRbnZT",
        "colab_type": "code",
        "colab": {
          "base_uri": "https://localhost:8080/",
          "height": 371
        },
        "outputId": "a896f404-42a9-4603-9e75-7121c95c8803"
      },
      "source": [
        "\n",
        "df2.Verified.value_counts()\n",
        "fig = plt.figure()\n",
        "ax = fig.add_axes([0,0,1,1])\n",
        "# count the occurrence of each class \n",
        "data = df2[\"Verified\"].value_counts() \n",
        "# get x and y data \n",
        "points = data.index\n",
        "frequency = data.values\n",
        "#plot graph\n",
        "ax.barh(points,frequency)\n",
        "ax.set_yticks([0,1,2])\n",
        "ax.set_yticklabels([\"False\",\"True\"])\n",
        "plt.xlabel(\"Number of Tweets\")\n",
        "plt.ylabel(\"Type of Account\")\n",
        "plt.title(\"Tweets from verfied/ normal account\")\n",
        "plt.show()"
      ],
      "execution_count": 66,
      "outputs": [
        {
          "output_type": "display_data",
          "data": {
            "image/png": "[encoded data removed]",
            "text/plain": [
              "<Figure size 432x288 with 1 Axes>"
            ]
          },
          "metadata": {
            "tags": []
          }
        }
      ]
    },
    {
      "cell_type": "code",
      "metadata": {
        "id": "YdfgeeiOXg9K",
        "colab_type": "code",
        "colab": {
          "base_uri": "https://localhost:8080/",
          "height": 225
        },
        "outputId": "70d637b7-0c20-4234-d023-6fb926e1a6c5"
      },
      "source": [
        "df2.Tweet_id.value_counts()"
      ],
      "execution_count": 67,
      "outputs": [
        {
          "output_type": "execute_result",
          "data": {
            "text/plain": [
              "1284492531972083712    1\n",
              "1284581885897842689    1\n",
              "1284547215185317889    1\n",
              "1284504722947416064    1\n",
              "1284529644222513152    1\n",
              "                      ..\n",
              "1284548053110841349    1\n",
              "1284530546706575364    1\n",
              "1284600877635035138    1\n",
              "1284636092298190848    1\n",
              "1284493495005261825    1\n",
              "Name: Tweet_id, Length: 28878, dtype: int64"
            ]
          },
          "metadata": {
            "tags": []
          },
          "execution_count": 67
        }
      ]
    },
    {
      "cell_type": "code",
      "metadata": {
        "id": "BRy69iu5Wh_O",
        "colab_type": "code",
        "colab": {
          "base_uri": "https://localhost:8080/",
          "height": 52
        },
        "outputId": "c8915d68-7617-4329-95d6-436a6252b45a"
      },
      "source": [
        "df2[df2.Tweet_id==1284492531972083712]['User']"
      ],
      "execution_count": 68,
      "outputs": [
        {
          "output_type": "execute_result",
          "data": {
            "text/plain": [
              "18196    nycquinn\n",
              "Name: User, dtype: object"
            ]
          },
          "metadata": {
            "tags": []
          },
          "execution_count": 68
        }
      ]
    },
    {
      "cell_type": "code",
      "metadata": {
        "id": "qGpA1E28gz0H",
        "colab_type": "code",
        "colab": {
          "base_uri": "https://localhost:8080/",
          "height": 35
        },
        "outputId": "3364ae09-51f0-4415-d893-a5fc27b2d692"
      },
      "source": [
        "tweet_list=df2['Tweet'].tolist()\n",
        "len(tweet_list)"
      ],
      "execution_count": 69,
      "outputs": [
        {
          "output_type": "execute_result",
          "data": {
            "text/plain": [
              "28878"
            ]
          },
          "metadata": {
            "tags": []
          },
          "execution_count": 69
        }
      ]
    },
    {
      "cell_type": "code",
      "metadata": {
        "id": "7y-yJO8ThR-b",
        "colab_type": "code",
        "colab": {
          "base_uri": "https://localhost:8080/",
          "height": 35
        },
        "outputId": "64d8b084-5e4e-4bff-8953-93a9e6340987"
      },
      "source": [
        "tweet_list_updated=set(tweet_list)\n",
        "len(tweet_list_updated)"
      ],
      "execution_count": 70,
      "outputs": [
        {
          "output_type": "execute_result",
          "data": {
            "text/plain": [
              "8902"
            ]
          },
          "metadata": {
            "tags": []
          },
          "execution_count": 70
        }
      ]
    },
    {
      "cell_type": "code",
      "metadata": {
        "id": "BbAKYqYbhWmf",
        "colab_type": "code",
        "colab": {
          "base_uri": "https://localhost:8080/",
          "height": 35
        },
        "outputId": "cce66768-b537-47de-cbb5-b632ae84e3e1"
      },
      "source": [
        "tweet_list_updated= list(tweet_list_updated)\n",
        "type(tweet_list_updated)"
      ],
      "execution_count": 71,
      "outputs": [
        {
          "output_type": "execute_result",
          "data": {
            "text/plain": [
              "list"
            ]
          },
          "metadata": {
            "tags": []
          },
          "execution_count": 71
        }
      ]
    },
    {
      "cell_type": "code",
      "metadata": {
        "id": "wRdX4KlihcTf",
        "colab_type": "code",
        "colab": {
          "base_uri": "https://localhost:8080/",
          "height": 35
        },
        "outputId": "2a9f4840-2184-408c-9def-edfdd98e55ad"
      },
      "source": [
        "df2['Tweet'].duplicated().sum()"
      ],
      "execution_count": 72,
      "outputs": [
        {
          "output_type": "execute_result",
          "data": {
            "text/plain": [
              "19976"
            ]
          },
          "metadata": {
            "tags": []
          },
          "execution_count": 72
        }
      ]
    },
    {
      "cell_type": "code",
      "metadata": {
        "id": "FM4nH4L0hhHO",
        "colab_type": "code",
        "colab": {
          "base_uri": "https://localhost:8080/",
          "height": 35
        },
        "outputId": "6851f65a-141e-4080-ea15-bc02dcef4df4"
      },
      "source": [
        "df2=df2.drop_duplicates(subset='Tweet',keep='first')\n",
        "df2.shape"
      ],
      "execution_count": 73,
      "outputs": [
        {
          "output_type": "execute_result",
          "data": {
            "text/plain": [
              "(8902, 12)"
            ]
          },
          "metadata": {
            "tags": []
          },
          "execution_count": 73
        }
      ]
    },
    {
      "cell_type": "code",
      "metadata": {
        "id": "WTtnBa2E0xye",
        "colab_type": "code",
        "colab": {
          "base_uri": "https://localhost:8080/",
          "height": 69
        },
        "outputId": "cce257cc-d1b7-4c56-a559-83debcf76dcb"
      },
      "source": [
        "df2.Verified.value_counts()"
      ],
      "execution_count": 94,
      "outputs": [
        {
          "output_type": "execute_result",
          "data": {
            "text/plain": [
              "False    8811\n",
              "True       91\n",
              "Name: Verified, dtype: int64"
            ]
          },
          "metadata": {
            "tags": []
          },
          "execution_count": 94
        }
      ]
    },
    {
      "cell_type": "code",
      "metadata": {
        "id": "ZA1KShFO0pZc",
        "colab_type": "code",
        "colab": {
          "base_uri": "https://localhost:8080/",
          "height": 371
        },
        "outputId": "809caf59-cc94-48f5-e642-1415f474e17d"
      },
      "source": [
        "df2.Verified.value_counts()\n",
        "fig = plt.figure()\n",
        "ax = fig.add_axes([0,0,1,1])\n",
        "# count the occurrence of each class \n",
        "data = df2[\"Verified\"].value_counts() \n",
        "# get x and y data \n",
        "points = data.index\n",
        "frequency = data.values\n",
        "#plot graph\n",
        "ax.barh(points,frequency)\n",
        "ax.set_yticks([0,1,2])\n",
        "ax.set_yticklabels([\"False\",\"True\"])\n",
        "plt.xlabel(\"Number of Tweets\")\n",
        "plt.ylabel(\"Type of Account\")\n",
        "plt.title(\"Tweets from verfied/ normal account\")\n",
        "plt.show()"
      ],
      "execution_count": 93,
      "outputs": [
        {
          "output_type": "display_data",
          "data": {
            "image/png": "[encoded data removed]",
            "text/plain": [
              "<Figure size 432x288 with 1 Axes>"
            ]
          },
          "metadata": {
            "tags": []
          }
        }
      ]
    },
    {
      "cell_type": "markdown",
      "metadata": {
        "id": "Oc1T_MsH9RzW",
        "colab_type": "text"
      },
      "source": [
        "The tweets contains many unnecessary characters like html code, emojis and urls. We need to clean our data by removing these characters before we perform sentiment analysis."
      ]
    },
    {
      "cell_type": "code",
      "metadata": {
        "id": "m0oNw2I-SMvb",
        "colab_type": "code",
        "colab": {
          "base_uri": "https://localhost:8080/",
          "height": 208
        },
        "outputId": "52f01a85-eb87-4c3a-a4ec-af09dbea1bac"
      },
      "source": [
        "#removing unnecessary special characters, numbers, punctuations in a new column called clean tweets\n",
        "df2.Tweet = [re.sub('[^a-zA-Z]', ' ',i) for i in df2.Tweet]\n",
        "\n",
        "#Converting into lower case \n",
        "df2.Tweet  = [low.lower() for low in df2.Tweet ]\n",
        "\n",
        "#Removing Emojis\n",
        "def preprocess(Tweet):\n",
        "    emojis = re.findall('(?::|;|=)(?:-)?(?:\\)|\\(|D|P)',Tweet)\n",
        "    Tweet = re.sub('[\\W]+',' ', Tweet.lower()) +\\\n",
        "    ' '.join(emojis).replace('-','')\n",
        "     \n",
        "    return Tweet\n",
        "    \n",
        "df2.Tweet =df2.Tweet.apply(preprocess)\n",
        "\n",
        "#Removing URLs \n",
        "\n",
        "df2.Tweet  = df2.Tweet.apply(lambda x: re.sub(r\"https\\S+\", \"\", str(x)))\n",
        "df2.Tweet.head(10)"
      ],
      "execution_count": 74,
      "outputs": [
        {
          "output_type": "execute_result",
          "data": {
            "text/plain": [
              "0     parisdennard realdonaldtrump joebiden or in t...\n",
              "1     ritapanahi https t co cebqrurt j donald trump...\n",
              "2    rt mayawiley nationwide masked kidnappings of ...\n",
              "3    rt howardfineman i ask again by what authority...\n",
              "4     poshtwo charliekirk god never promised to sen...\n",
              "5    rt pedal dmetals the picture below is of pelos...\n",
              "6    rt alexmjordan jordansview trump s done in yea...\n",
              "7    rt jack realnews truth trump trump qanon obama...\n",
              "8    some fox news anchors and reporters as opposed...\n",
              "9    rt andyostroy realdonaldtrump hey moron all of...\n",
              "Name: Tweet, dtype: object"
            ]
          },
          "metadata": {
            "tags": []
          },
          "execution_count": 74
        }
      ]
    },
    {
      "cell_type": "markdown",
      "metadata": {
        "id": "1_ofnGo-9ZA5",
        "colab_type": "text"
      },
      "source": [
        "After removing the stopwords, the next steps performed are stemming and lemmatizations to extract the original words that are tweeted by the user and then splitting the text into individual words."
      ]
    },
    {
      "cell_type": "code",
      "metadata": {
        "id": "ygLrUBecWDmx",
        "colab_type": "code",
        "colab": {
          "base_uri": "https://localhost:8080/",
          "height": 89
        },
        "outputId": "070a10fe-daa2-470d-d2a1-7e0fa25ac6e8"
      },
      "source": [
        " from nltk.corpus import stopwords \n",
        "nltk.download('stopwords')\n",
        "cachedStopWords=set(stopwords.words(\"english\"))\n",
        "print(cachedStopWords)"
      ],
      "execution_count": 75,
      "outputs": [
        {
          "output_type": "stream",
          "text": [
            "[nltk_data] Downloading package stopwords to /root/nltk_data...\n",
            "[nltk_data]   Package stopwords is already up-to-date!\n",
            "{'your', 'while', 'most', 'having', 'who', 'to', 'which', 'doesn', 'under', 'is', 'yourself', 'of', 'yours', 'now', 'mustn', 'hasn', \"you'll\", 'myself', 'don', 't', 'own', \"hadn't\", 'be', 'themselves', 'an', 'and', 'again', 'through', 'that', 'a', 'his', 'theirs', 'out', 'into', 'off', 'no', 'their', 'haven', 'during', 'has', 'where', \"doesn't\", 'shouldn', 'does', 'wouldn', 'am', 'shan', 'so', \"wasn't\", 'them', \"isn't\", 'her', 'm', 'over', 'there', \"you'd\", 'as', 'just', 'from', 'up', \"should've\", 'can', 're', \"it's\", 'for', 'ain', 'will', 'didn', 'were', \"weren't\", 'both', 'until', 'y', 'ourselves', \"needn't\", 'him', 'was', 'on', 'at', 'only', 'being', 've', \"mightn't\", 'i', 'it', 'such', \"haven't\", 'this', 'we', 'the', 'but', 'than', 'won', 'too', 'o', 'between', 'weren', 'ours', \"that'll\", 'each', 'hadn', 'she', 'what', \"don't\", \"shouldn't\", 'why', \"you've\", 'these', 'have', \"didn't\", 'me', 'or', 'how', 'few', 'aren', 'herself', 'here', 'are', 'more', 'very', 'hers', 's', 'd', 'do', \"you're\", 'in', 'wasn', 'then', 'by', \"wouldn't\", 'll', 'its', 'same', 'itself', 'further', 'once', 'any', 'ma', 'all', \"couldn't\", \"won't\", 'with', 'been', 'not', 'down', 'yourselves', 'because', 'my', 'should', 'after', 'our', 'against', 'some', 'did', \"she's\", 'isn', 'before', \"mustn't\", \"hasn't\", 'you', \"aren't\", 'those', 'above', 'about', 'himself', 'couldn', 'when', \"shan't\", 'mightn', 'other', 'they', 'had', 'needn', 'doing', 'below', 'if', 'whom', 'nor', 'he'}\n"
          ],
          "name": "stdout"
        }
      ]
    },
    {
      "cell_type": "code",
      "metadata": {
        "id": "qqucA1aIWplf",
        "colab_type": "code",
        "colab": {}
      },
      "source": [
        "#Removing Stop Words\n",
        "df2.Tweet=df2.Tweet.apply(lambda tweet: ' '.join([word for word in tweet.split() if word not in cachedStopWords]))\n",
        "\n",
        "#Stemming\n",
        "\n",
        "porter = PorterStemmer()\n",
        "def stemWords(word):\n",
        "    return porter.stem(word)\n",
        "        \n",
        "df2[\"Tweet\"] = df2[\"Tweet\"].apply(lambda tweet: ' '.join([stemWords(word) for word in tweet.split()]))"
      ],
      "execution_count": 76,
      "outputs": []
    },
    {
      "cell_type": "code",
      "metadata": {
        "id": "i7QO3Jk2Ww3L",
        "colab_type": "code",
        "colab": {
          "base_uri": "https://localhost:8080/",
          "height": 52
        },
        "outputId": "a25bc175-5c73-41dd-e3b5-41768e338eb3"
      },
      "source": [
        "import nltk\n",
        "nltk.download('wordnet')\n",
        "lema = WordNetLemmatizer()\n",
        "def lemmatizeWords(word):\n",
        "    return lema.lemmatize(word)\n",
        "df2.Tweet = df2.Tweet.apply(lambda tweet: ' '.join([lemmatizeWords(word) for word in tweet.split()]))\n",
        "\n",
        "\n",
        "#Preparing words by splitting the text\n",
        "words=[]\n",
        "words=[word for tweet in df2.Tweet for word in tweet.split()]"
      ],
      "execution_count": 77,
      "outputs": [
        {
          "output_type": "stream",
          "text": [
            "[nltk_data] Downloading package wordnet to /root/nltk_data...\n",
            "[nltk_data]   Package wordnet is already up-to-date!\n"
          ],
          "name": "stdout"
        }
      ]
    },
    {
      "cell_type": "code",
      "metadata": {
        "id": "3dLbslgGXhOK",
        "colab_type": "code",
        "colab": {
          "base_uri": "https://localhost:8080/",
          "height": 55
        },
        "outputId": "8db40495-2e70-49e6-ec2f-0ed9e77fbc2a"
      },
      "source": [
        "print(words[0:100])"
      ],
      "execution_count": 78,
      "outputs": [
        {
          "output_type": "stream",
          "text": [
            "['parisdennard', 'realdonaldtrump', 'joebiden', 'trump', 'america', 'dead', 'choos', 'ritapanahi', 'http', 'co', 'cebqrurt', 'j', 'donald', 'trump', 'deep', 'dive', 'trump', 'aupsol', 'wwg', 'wgaworlwid', 'rt', 'mayawiley', 'nationwid', 'mask', 'kidnap', 'protest', 'thrown', 'unmark', 'van', 'trump', 'america', 'let', 'allow', 'ou', 'rt', 'howardfineman', 'ask', 'author', 'whose', 'command', 'trump', 'vigilant', 'street', 'portland', 'poshtwo', 'charliekirk', 'god', 'never', 'promis', 'send', 'u', 'polish', 'politician', 'never', 'promis', 'grace', 'u', 'pol', 'http', 'co', 'lrl', 'cvsbxu', 'rt', 'pedal', 'dmetal', 'pictur', 'pelosi', 'meet', 'privat', 'member', 'fakenewsmedia', 'includ', 'foxnewssunday', 'chri', 'wallac', 'rt', 'alexmjordan', 'jordansview', 'trump', 'done', 'year', 'biden', 'tl', 'brixea', 'karenl', 'bcn', 'eva', 'rodhilli', 'rt', 'jack', 'realnew', 'truth', 'trump', 'trump', 'qanon', 'obamag', 'best', 'news', 'day', 'fox']\n"
          ],
          "name": "stdout"
        }
      ]
    },
    {
      "cell_type": "code",
      "metadata": {
        "id": "b-XrGVaqXiiy",
        "colab_type": "code",
        "colab": {
          "base_uri": "https://localhost:8080/",
          "height": 375
        },
        "outputId": "36de6d6f-8b9b-42aa-81d7-60b0863cf276"
      },
      "source": [
        "from sklearn.feature_extraction.text import TfidfVectorizer\n",
        "\n",
        "# Definining the vectorizer \n",
        "vect = TfidfVectorizer(ngram_range=(1,1), max_features=100).fit(df2.Tweet)\n",
        "\n",
        "# Transform the vectorizer\n",
        "X_txt = vect.transform(df2.Tweet)\n",
        "\n",
        "# Transforming to a data frame \n",
        "X=pd.DataFrame(X_txt.toarray(), columns=vect.get_feature_names())\n",
        "X.head(10)"
      ],
      "execution_count": 79,
      "outputs": [
        {
          "output_type": "execute_result",
          "data": {
            "text/html": [
              "<div>\n",
              "<style scoped>\n",
              "    .dataframe tbody tr th:only-of-type {\n",
              "        vertical-align: middle;\n",
              "    }\n",
              "\n",
              "    .dataframe tbody tr th {\n",
              "        vertical-align: top;\n",
              "    }\n",
              "\n",
              "    .dataframe thead th {\n",
              "        text-align: right;\n",
              "    }\n",
              "</style>\n",
              "<table border=\"1\" class=\"dataframe\">\n",
              "  <thead>\n",
              "    <tr style=\"text-align: right;\">\n",
              "      <th></th>\n",
              "      <th>administr</th>\n",
              "      <th>america</th>\n",
              "      <th>american</th>\n",
              "      <th>amp</th>\n",
              "      <th>anoth</th>\n",
              "      <th>back</th>\n",
              "      <th>believ</th>\n",
              "      <th>biden</th>\n",
              "      <th>call</th>\n",
              "      <th>campaign</th>\n",
              "      <th>china</th>\n",
              "      <th>cnn</th>\n",
              "      <th>co</th>\n",
              "      <th>coronaviru</th>\n",
              "      <th>countri</th>\n",
              "      <th>covid</th>\n",
              "      <th>day</th>\n",
              "      <th>death</th>\n",
              "      <th>democrat</th>\n",
              "      <th>die</th>\n",
              "      <th>donald</th>\n",
              "      <th>elect</th>\n",
              "      <th>even</th>\n",
              "      <th>feder</th>\n",
              "      <th>follow</th>\n",
              "      <th>get</th>\n",
              "      <th>go</th>\n",
              "      <th>golf</th>\n",
              "      <th>good</th>\n",
              "      <th>gop</th>\n",
              "      <th>great</th>\n",
              "      <th>happen</th>\n",
              "      <th>http</th>\n",
              "      <th>joebiden</th>\n",
              "      <th>john</th>\n",
              "      <th>johnlewi</th>\n",
              "      <th>kill</th>\n",
              "      <th>know</th>\n",
              "      <th>let</th>\n",
              "      <th>lewi</th>\n",
              "      <th>lie</th>\n",
              "      <th>like</th>\n",
              "      <th>live</th>\n",
              "      <th>look</th>\n",
              "      <th>maga</th>\n",
              "      <th>make</th>\n",
              "      <th>man</th>\n",
              "      <th>mask</th>\n",
              "      <th>must</th>\n",
              "      <th>need</th>\n",
              "      <th>never</th>\n",
              "      <th>new</th>\n",
              "      <th>news</th>\n",
              "      <th>one</th>\n",
              "      <th>order</th>\n",
              "      <th>pandem</th>\n",
              "      <th>peopl</th>\n",
              "      <th>plea</th>\n",
              "      <th>polic</th>\n",
              "      <th>polit</th>\n",
              "      <th>portland</th>\n",
              "      <th>potu</th>\n",
              "      <th>presid</th>\n",
              "      <th>protest</th>\n",
              "      <th>racist</th>\n",
              "      <th>read</th>\n",
              "      <th>realdonaldtrump</th>\n",
              "      <th>realli</th>\n",
              "      <th>remov</th>\n",
              "      <th>republican</th>\n",
              "      <th>right</th>\n",
              "      <th>rt</th>\n",
              "      <th>said</th>\n",
              "      <th>say</th>\n",
              "      <th>see</th>\n",
              "      <th>show</th>\n",
              "      <th>state</th>\n",
              "      <th>still</th>\n",
              "      <th>stop</th>\n",
              "      <th>support</th>\n",
              "      <th>take</th>\n",
              "      <th>tell</th>\n",
              "      <th>th</th>\n",
              "      <th>thing</th>\n",
              "      <th>think</th>\n",
              "      <th>time</th>\n",
              "      <th>today</th>\n",
              "      <th>tri</th>\n",
              "      <th>trump</th>\n",
              "      <th>tweet</th>\n",
              "      <th>usa</th>\n",
              "      <th>use</th>\n",
              "      <th>viru</th>\n",
              "      <th>vote</th>\n",
              "      <th>want</th>\n",
              "      <th>way</th>\n",
              "      <th>white</th>\n",
              "      <th>whitehous</th>\n",
              "      <th>world</th>\n",
              "      <th>would</th>\n",
              "    </tr>\n",
              "  </thead>\n",
              "  <tbody>\n",
              "    <tr>\n",
              "      <th>0</th>\n",
              "      <td>0.0</td>\n",
              "      <td>0.565282</td>\n",
              "      <td>0.0</td>\n",
              "      <td>0.0</td>\n",
              "      <td>0.0</td>\n",
              "      <td>0.0</td>\n",
              "      <td>0.0</td>\n",
              "      <td>0.000000</td>\n",
              "      <td>0.0</td>\n",
              "      <td>0.0</td>\n",
              "      <td>0.0</td>\n",
              "      <td>0.0</td>\n",
              "      <td>0.000000</td>\n",
              "      <td>0.0</td>\n",
              "      <td>0.0</td>\n",
              "      <td>0.0</td>\n",
              "      <td>0.000000</td>\n",
              "      <td>0.000000</td>\n",
              "      <td>0.0</td>\n",
              "      <td>0.0</td>\n",
              "      <td>0.000000</td>\n",
              "      <td>0.0</td>\n",
              "      <td>0.0</td>\n",
              "      <td>0.0</td>\n",
              "      <td>0.0</td>\n",
              "      <td>0.0</td>\n",
              "      <td>0.0</td>\n",
              "      <td>0.0</td>\n",
              "      <td>0.0</td>\n",
              "      <td>0.0</td>\n",
              "      <td>0.0</td>\n",
              "      <td>0.000000</td>\n",
              "      <td>0.000000</td>\n",
              "      <td>0.662543</td>\n",
              "      <td>0.0</td>\n",
              "      <td>0.0</td>\n",
              "      <td>0.0</td>\n",
              "      <td>0.0</td>\n",
              "      <td>0.000000</td>\n",
              "      <td>0.0</td>\n",
              "      <td>0.0</td>\n",
              "      <td>0.0</td>\n",
              "      <td>0.0</td>\n",
              "      <td>0.0</td>\n",
              "      <td>0.0</td>\n",
              "      <td>0.0</td>\n",
              "      <td>0.0</td>\n",
              "      <td>0.000000</td>\n",
              "      <td>0.0</td>\n",
              "      <td>0.0</td>\n",
              "      <td>0.00000</td>\n",
              "      <td>0.0</td>\n",
              "      <td>0.000000</td>\n",
              "      <td>0.0</td>\n",
              "      <td>0.0</td>\n",
              "      <td>0.0</td>\n",
              "      <td>0.0</td>\n",
              "      <td>0.0</td>\n",
              "      <td>0.0</td>\n",
              "      <td>0.0</td>\n",
              "      <td>0.000000</td>\n",
              "      <td>0.0</td>\n",
              "      <td>0.0</td>\n",
              "      <td>0.000000</td>\n",
              "      <td>0.0</td>\n",
              "      <td>0.0</td>\n",
              "      <td>0.455595</td>\n",
              "      <td>0.0</td>\n",
              "      <td>0.0</td>\n",
              "      <td>0.0</td>\n",
              "      <td>0.0</td>\n",
              "      <td>0.000000</td>\n",
              "      <td>0.0</td>\n",
              "      <td>0.0</td>\n",
              "      <td>0.0</td>\n",
              "      <td>0.000000</td>\n",
              "      <td>0.0</td>\n",
              "      <td>0.0</td>\n",
              "      <td>0.0</td>\n",
              "      <td>0.0</td>\n",
              "      <td>0.0</td>\n",
              "      <td>0.0</td>\n",
              "      <td>0.0</td>\n",
              "      <td>0.0</td>\n",
              "      <td>0.0</td>\n",
              "      <td>0.0</td>\n",
              "      <td>0.0</td>\n",
              "      <td>0.0</td>\n",
              "      <td>0.184189</td>\n",
              "      <td>0.0</td>\n",
              "      <td>0.0</td>\n",
              "      <td>0.0</td>\n",
              "      <td>0.0</td>\n",
              "      <td>0.0</td>\n",
              "      <td>0.0</td>\n",
              "      <td>0.0</td>\n",
              "      <td>0.0</td>\n",
              "      <td>0.0</td>\n",
              "      <td>0.0</td>\n",
              "      <td>0.0</td>\n",
              "    </tr>\n",
              "    <tr>\n",
              "      <th>1</th>\n",
              "      <td>0.0</td>\n",
              "      <td>0.000000</td>\n",
              "      <td>0.0</td>\n",
              "      <td>0.0</td>\n",
              "      <td>0.0</td>\n",
              "      <td>0.0</td>\n",
              "      <td>0.0</td>\n",
              "      <td>0.000000</td>\n",
              "      <td>0.0</td>\n",
              "      <td>0.0</td>\n",
              "      <td>0.0</td>\n",
              "      <td>0.0</td>\n",
              "      <td>0.236421</td>\n",
              "      <td>0.0</td>\n",
              "      <td>0.0</td>\n",
              "      <td>0.0</td>\n",
              "      <td>0.000000</td>\n",
              "      <td>0.000000</td>\n",
              "      <td>0.0</td>\n",
              "      <td>0.0</td>\n",
              "      <td>0.820837</td>\n",
              "      <td>0.0</td>\n",
              "      <td>0.0</td>\n",
              "      <td>0.0</td>\n",
              "      <td>0.0</td>\n",
              "      <td>0.0</td>\n",
              "      <td>0.0</td>\n",
              "      <td>0.0</td>\n",
              "      <td>0.0</td>\n",
              "      <td>0.0</td>\n",
              "      <td>0.0</td>\n",
              "      <td>0.000000</td>\n",
              "      <td>0.235498</td>\n",
              "      <td>0.000000</td>\n",
              "      <td>0.0</td>\n",
              "      <td>0.0</td>\n",
              "      <td>0.0</td>\n",
              "      <td>0.0</td>\n",
              "      <td>0.000000</td>\n",
              "      <td>0.0</td>\n",
              "      <td>0.0</td>\n",
              "      <td>0.0</td>\n",
              "      <td>0.0</td>\n",
              "      <td>0.0</td>\n",
              "      <td>0.0</td>\n",
              "      <td>0.0</td>\n",
              "      <td>0.0</td>\n",
              "      <td>0.000000</td>\n",
              "      <td>0.0</td>\n",
              "      <td>0.0</td>\n",
              "      <td>0.00000</td>\n",
              "      <td>0.0</td>\n",
              "      <td>0.000000</td>\n",
              "      <td>0.0</td>\n",
              "      <td>0.0</td>\n",
              "      <td>0.0</td>\n",
              "      <td>0.0</td>\n",
              "      <td>0.0</td>\n",
              "      <td>0.0</td>\n",
              "      <td>0.0</td>\n",
              "      <td>0.000000</td>\n",
              "      <td>0.0</td>\n",
              "      <td>0.0</td>\n",
              "      <td>0.000000</td>\n",
              "      <td>0.0</td>\n",
              "      <td>0.0</td>\n",
              "      <td>0.000000</td>\n",
              "      <td>0.0</td>\n",
              "      <td>0.0</td>\n",
              "      <td>0.0</td>\n",
              "      <td>0.0</td>\n",
              "      <td>0.000000</td>\n",
              "      <td>0.0</td>\n",
              "      <td>0.0</td>\n",
              "      <td>0.0</td>\n",
              "      <td>0.000000</td>\n",
              "      <td>0.0</td>\n",
              "      <td>0.0</td>\n",
              "      <td>0.0</td>\n",
              "      <td>0.0</td>\n",
              "      <td>0.0</td>\n",
              "      <td>0.0</td>\n",
              "      <td>0.0</td>\n",
              "      <td>0.0</td>\n",
              "      <td>0.0</td>\n",
              "      <td>0.0</td>\n",
              "      <td>0.0</td>\n",
              "      <td>0.0</td>\n",
              "      <td>0.463543</td>\n",
              "      <td>0.0</td>\n",
              "      <td>0.0</td>\n",
              "      <td>0.0</td>\n",
              "      <td>0.0</td>\n",
              "      <td>0.0</td>\n",
              "      <td>0.0</td>\n",
              "      <td>0.0</td>\n",
              "      <td>0.0</td>\n",
              "      <td>0.0</td>\n",
              "      <td>0.0</td>\n",
              "      <td>0.0</td>\n",
              "    </tr>\n",
              "    <tr>\n",
              "      <th>2</th>\n",
              "      <td>0.0</td>\n",
              "      <td>0.407662</td>\n",
              "      <td>0.0</td>\n",
              "      <td>0.0</td>\n",
              "      <td>0.0</td>\n",
              "      <td>0.0</td>\n",
              "      <td>0.0</td>\n",
              "      <td>0.000000</td>\n",
              "      <td>0.0</td>\n",
              "      <td>0.0</td>\n",
              "      <td>0.0</td>\n",
              "      <td>0.0</td>\n",
              "      <td>0.000000</td>\n",
              "      <td>0.0</td>\n",
              "      <td>0.0</td>\n",
              "      <td>0.0</td>\n",
              "      <td>0.000000</td>\n",
              "      <td>0.000000</td>\n",
              "      <td>0.0</td>\n",
              "      <td>0.0</td>\n",
              "      <td>0.000000</td>\n",
              "      <td>0.0</td>\n",
              "      <td>0.0</td>\n",
              "      <td>0.0</td>\n",
              "      <td>0.0</td>\n",
              "      <td>0.0</td>\n",
              "      <td>0.0</td>\n",
              "      <td>0.0</td>\n",
              "      <td>0.0</td>\n",
              "      <td>0.0</td>\n",
              "      <td>0.0</td>\n",
              "      <td>0.000000</td>\n",
              "      <td>0.000000</td>\n",
              "      <td>0.000000</td>\n",
              "      <td>0.0</td>\n",
              "      <td>0.0</td>\n",
              "      <td>0.0</td>\n",
              "      <td>0.0</td>\n",
              "      <td>0.498124</td>\n",
              "      <td>0.0</td>\n",
              "      <td>0.0</td>\n",
              "      <td>0.0</td>\n",
              "      <td>0.0</td>\n",
              "      <td>0.0</td>\n",
              "      <td>0.0</td>\n",
              "      <td>0.0</td>\n",
              "      <td>0.0</td>\n",
              "      <td>0.491461</td>\n",
              "      <td>0.0</td>\n",
              "      <td>0.0</td>\n",
              "      <td>0.00000</td>\n",
              "      <td>0.0</td>\n",
              "      <td>0.000000</td>\n",
              "      <td>0.0</td>\n",
              "      <td>0.0</td>\n",
              "      <td>0.0</td>\n",
              "      <td>0.0</td>\n",
              "      <td>0.0</td>\n",
              "      <td>0.0</td>\n",
              "      <td>0.0</td>\n",
              "      <td>0.000000</td>\n",
              "      <td>0.0</td>\n",
              "      <td>0.0</td>\n",
              "      <td>0.522915</td>\n",
              "      <td>0.0</td>\n",
              "      <td>0.0</td>\n",
              "      <td>0.000000</td>\n",
              "      <td>0.0</td>\n",
              "      <td>0.0</td>\n",
              "      <td>0.0</td>\n",
              "      <td>0.0</td>\n",
              "      <td>0.230361</td>\n",
              "      <td>0.0</td>\n",
              "      <td>0.0</td>\n",
              "      <td>0.0</td>\n",
              "      <td>0.000000</td>\n",
              "      <td>0.0</td>\n",
              "      <td>0.0</td>\n",
              "      <td>0.0</td>\n",
              "      <td>0.0</td>\n",
              "      <td>0.0</td>\n",
              "      <td>0.0</td>\n",
              "      <td>0.0</td>\n",
              "      <td>0.0</td>\n",
              "      <td>0.0</td>\n",
              "      <td>0.0</td>\n",
              "      <td>0.0</td>\n",
              "      <td>0.0</td>\n",
              "      <td>0.132830</td>\n",
              "      <td>0.0</td>\n",
              "      <td>0.0</td>\n",
              "      <td>0.0</td>\n",
              "      <td>0.0</td>\n",
              "      <td>0.0</td>\n",
              "      <td>0.0</td>\n",
              "      <td>0.0</td>\n",
              "      <td>0.0</td>\n",
              "      <td>0.0</td>\n",
              "      <td>0.0</td>\n",
              "      <td>0.0</td>\n",
              "    </tr>\n",
              "    <tr>\n",
              "      <th>3</th>\n",
              "      <td>0.0</td>\n",
              "      <td>0.000000</td>\n",
              "      <td>0.0</td>\n",
              "      <td>0.0</td>\n",
              "      <td>0.0</td>\n",
              "      <td>0.0</td>\n",
              "      <td>0.0</td>\n",
              "      <td>0.000000</td>\n",
              "      <td>0.0</td>\n",
              "      <td>0.0</td>\n",
              "      <td>0.0</td>\n",
              "      <td>0.0</td>\n",
              "      <td>0.000000</td>\n",
              "      <td>0.0</td>\n",
              "      <td>0.0</td>\n",
              "      <td>0.0</td>\n",
              "      <td>0.000000</td>\n",
              "      <td>0.000000</td>\n",
              "      <td>0.0</td>\n",
              "      <td>0.0</td>\n",
              "      <td>0.000000</td>\n",
              "      <td>0.0</td>\n",
              "      <td>0.0</td>\n",
              "      <td>0.0</td>\n",
              "      <td>0.0</td>\n",
              "      <td>0.0</td>\n",
              "      <td>0.0</td>\n",
              "      <td>0.0</td>\n",
              "      <td>0.0</td>\n",
              "      <td>0.0</td>\n",
              "      <td>0.0</td>\n",
              "      <td>0.000000</td>\n",
              "      <td>0.000000</td>\n",
              "      <td>0.000000</td>\n",
              "      <td>0.0</td>\n",
              "      <td>0.0</td>\n",
              "      <td>0.0</td>\n",
              "      <td>0.0</td>\n",
              "      <td>0.000000</td>\n",
              "      <td>0.0</td>\n",
              "      <td>0.0</td>\n",
              "      <td>0.0</td>\n",
              "      <td>0.0</td>\n",
              "      <td>0.0</td>\n",
              "      <td>0.0</td>\n",
              "      <td>0.0</td>\n",
              "      <td>0.0</td>\n",
              "      <td>0.000000</td>\n",
              "      <td>0.0</td>\n",
              "      <td>0.0</td>\n",
              "      <td>0.00000</td>\n",
              "      <td>0.0</td>\n",
              "      <td>0.000000</td>\n",
              "      <td>0.0</td>\n",
              "      <td>0.0</td>\n",
              "      <td>0.0</td>\n",
              "      <td>0.0</td>\n",
              "      <td>0.0</td>\n",
              "      <td>0.0</td>\n",
              "      <td>0.0</td>\n",
              "      <td>0.860333</td>\n",
              "      <td>0.0</td>\n",
              "      <td>0.0</td>\n",
              "      <td>0.000000</td>\n",
              "      <td>0.0</td>\n",
              "      <td>0.0</td>\n",
              "      <td>0.000000</td>\n",
              "      <td>0.0</td>\n",
              "      <td>0.0</td>\n",
              "      <td>0.0</td>\n",
              "      <td>0.0</td>\n",
              "      <td>0.441581</td>\n",
              "      <td>0.0</td>\n",
              "      <td>0.0</td>\n",
              "      <td>0.0</td>\n",
              "      <td>0.000000</td>\n",
              "      <td>0.0</td>\n",
              "      <td>0.0</td>\n",
              "      <td>0.0</td>\n",
              "      <td>0.0</td>\n",
              "      <td>0.0</td>\n",
              "      <td>0.0</td>\n",
              "      <td>0.0</td>\n",
              "      <td>0.0</td>\n",
              "      <td>0.0</td>\n",
              "      <td>0.0</td>\n",
              "      <td>0.0</td>\n",
              "      <td>0.0</td>\n",
              "      <td>0.254624</td>\n",
              "      <td>0.0</td>\n",
              "      <td>0.0</td>\n",
              "      <td>0.0</td>\n",
              "      <td>0.0</td>\n",
              "      <td>0.0</td>\n",
              "      <td>0.0</td>\n",
              "      <td>0.0</td>\n",
              "      <td>0.0</td>\n",
              "      <td>0.0</td>\n",
              "      <td>0.0</td>\n",
              "      <td>0.0</td>\n",
              "    </tr>\n",
              "    <tr>\n",
              "      <th>4</th>\n",
              "      <td>0.0</td>\n",
              "      <td>0.000000</td>\n",
              "      <td>0.0</td>\n",
              "      <td>0.0</td>\n",
              "      <td>0.0</td>\n",
              "      <td>0.0</td>\n",
              "      <td>0.0</td>\n",
              "      <td>0.000000</td>\n",
              "      <td>0.0</td>\n",
              "      <td>0.0</td>\n",
              "      <td>0.0</td>\n",
              "      <td>0.0</td>\n",
              "      <td>0.135467</td>\n",
              "      <td>0.0</td>\n",
              "      <td>0.0</td>\n",
              "      <td>0.0</td>\n",
              "      <td>0.000000</td>\n",
              "      <td>0.000000</td>\n",
              "      <td>0.0</td>\n",
              "      <td>0.0</td>\n",
              "      <td>0.000000</td>\n",
              "      <td>0.0</td>\n",
              "      <td>0.0</td>\n",
              "      <td>0.0</td>\n",
              "      <td>0.0</td>\n",
              "      <td>0.0</td>\n",
              "      <td>0.0</td>\n",
              "      <td>0.0</td>\n",
              "      <td>0.0</td>\n",
              "      <td>0.0</td>\n",
              "      <td>0.0</td>\n",
              "      <td>0.000000</td>\n",
              "      <td>0.134938</td>\n",
              "      <td>0.000000</td>\n",
              "      <td>0.0</td>\n",
              "      <td>0.0</td>\n",
              "      <td>0.0</td>\n",
              "      <td>0.0</td>\n",
              "      <td>0.000000</td>\n",
              "      <td>0.0</td>\n",
              "      <td>0.0</td>\n",
              "      <td>0.0</td>\n",
              "      <td>0.0</td>\n",
              "      <td>0.0</td>\n",
              "      <td>0.0</td>\n",
              "      <td>0.0</td>\n",
              "      <td>0.0</td>\n",
              "      <td>0.000000</td>\n",
              "      <td>0.0</td>\n",
              "      <td>0.0</td>\n",
              "      <td>0.98155</td>\n",
              "      <td>0.0</td>\n",
              "      <td>0.000000</td>\n",
              "      <td>0.0</td>\n",
              "      <td>0.0</td>\n",
              "      <td>0.0</td>\n",
              "      <td>0.0</td>\n",
              "      <td>0.0</td>\n",
              "      <td>0.0</td>\n",
              "      <td>0.0</td>\n",
              "      <td>0.000000</td>\n",
              "      <td>0.0</td>\n",
              "      <td>0.0</td>\n",
              "      <td>0.000000</td>\n",
              "      <td>0.0</td>\n",
              "      <td>0.0</td>\n",
              "      <td>0.000000</td>\n",
              "      <td>0.0</td>\n",
              "      <td>0.0</td>\n",
              "      <td>0.0</td>\n",
              "      <td>0.0</td>\n",
              "      <td>0.000000</td>\n",
              "      <td>0.0</td>\n",
              "      <td>0.0</td>\n",
              "      <td>0.0</td>\n",
              "      <td>0.000000</td>\n",
              "      <td>0.0</td>\n",
              "      <td>0.0</td>\n",
              "      <td>0.0</td>\n",
              "      <td>0.0</td>\n",
              "      <td>0.0</td>\n",
              "      <td>0.0</td>\n",
              "      <td>0.0</td>\n",
              "      <td>0.0</td>\n",
              "      <td>0.0</td>\n",
              "      <td>0.0</td>\n",
              "      <td>0.0</td>\n",
              "      <td>0.0</td>\n",
              "      <td>0.000000</td>\n",
              "      <td>0.0</td>\n",
              "      <td>0.0</td>\n",
              "      <td>0.0</td>\n",
              "      <td>0.0</td>\n",
              "      <td>0.0</td>\n",
              "      <td>0.0</td>\n",
              "      <td>0.0</td>\n",
              "      <td>0.0</td>\n",
              "      <td>0.0</td>\n",
              "      <td>0.0</td>\n",
              "      <td>0.0</td>\n",
              "    </tr>\n",
              "    <tr>\n",
              "      <th>5</th>\n",
              "      <td>0.0</td>\n",
              "      <td>0.000000</td>\n",
              "      <td>0.0</td>\n",
              "      <td>0.0</td>\n",
              "      <td>0.0</td>\n",
              "      <td>0.0</td>\n",
              "      <td>0.0</td>\n",
              "      <td>0.000000</td>\n",
              "      <td>0.0</td>\n",
              "      <td>0.0</td>\n",
              "      <td>0.0</td>\n",
              "      <td>0.0</td>\n",
              "      <td>0.000000</td>\n",
              "      <td>0.0</td>\n",
              "      <td>0.0</td>\n",
              "      <td>0.0</td>\n",
              "      <td>0.000000</td>\n",
              "      <td>0.000000</td>\n",
              "      <td>0.0</td>\n",
              "      <td>0.0</td>\n",
              "      <td>0.000000</td>\n",
              "      <td>0.0</td>\n",
              "      <td>0.0</td>\n",
              "      <td>0.0</td>\n",
              "      <td>0.0</td>\n",
              "      <td>0.0</td>\n",
              "      <td>0.0</td>\n",
              "      <td>0.0</td>\n",
              "      <td>0.0</td>\n",
              "      <td>0.0</td>\n",
              "      <td>0.0</td>\n",
              "      <td>0.000000</td>\n",
              "      <td>0.000000</td>\n",
              "      <td>0.000000</td>\n",
              "      <td>0.0</td>\n",
              "      <td>0.0</td>\n",
              "      <td>0.0</td>\n",
              "      <td>0.0</td>\n",
              "      <td>0.000000</td>\n",
              "      <td>0.0</td>\n",
              "      <td>0.0</td>\n",
              "      <td>0.0</td>\n",
              "      <td>0.0</td>\n",
              "      <td>0.0</td>\n",
              "      <td>0.0</td>\n",
              "      <td>0.0</td>\n",
              "      <td>0.0</td>\n",
              "      <td>0.000000</td>\n",
              "      <td>0.0</td>\n",
              "      <td>0.0</td>\n",
              "      <td>0.00000</td>\n",
              "      <td>0.0</td>\n",
              "      <td>0.000000</td>\n",
              "      <td>0.0</td>\n",
              "      <td>0.0</td>\n",
              "      <td>0.0</td>\n",
              "      <td>0.0</td>\n",
              "      <td>0.0</td>\n",
              "      <td>0.0</td>\n",
              "      <td>0.0</td>\n",
              "      <td>0.000000</td>\n",
              "      <td>0.0</td>\n",
              "      <td>0.0</td>\n",
              "      <td>0.000000</td>\n",
              "      <td>0.0</td>\n",
              "      <td>0.0</td>\n",
              "      <td>0.000000</td>\n",
              "      <td>0.0</td>\n",
              "      <td>0.0</td>\n",
              "      <td>0.0</td>\n",
              "      <td>0.0</td>\n",
              "      <td>1.000000</td>\n",
              "      <td>0.0</td>\n",
              "      <td>0.0</td>\n",
              "      <td>0.0</td>\n",
              "      <td>0.000000</td>\n",
              "      <td>0.0</td>\n",
              "      <td>0.0</td>\n",
              "      <td>0.0</td>\n",
              "      <td>0.0</td>\n",
              "      <td>0.0</td>\n",
              "      <td>0.0</td>\n",
              "      <td>0.0</td>\n",
              "      <td>0.0</td>\n",
              "      <td>0.0</td>\n",
              "      <td>0.0</td>\n",
              "      <td>0.0</td>\n",
              "      <td>0.0</td>\n",
              "      <td>0.000000</td>\n",
              "      <td>0.0</td>\n",
              "      <td>0.0</td>\n",
              "      <td>0.0</td>\n",
              "      <td>0.0</td>\n",
              "      <td>0.0</td>\n",
              "      <td>0.0</td>\n",
              "      <td>0.0</td>\n",
              "      <td>0.0</td>\n",
              "      <td>0.0</td>\n",
              "      <td>0.0</td>\n",
              "      <td>0.0</td>\n",
              "    </tr>\n",
              "    <tr>\n",
              "      <th>6</th>\n",
              "      <td>0.0</td>\n",
              "      <td>0.000000</td>\n",
              "      <td>0.0</td>\n",
              "      <td>0.0</td>\n",
              "      <td>0.0</td>\n",
              "      <td>0.0</td>\n",
              "      <td>0.0</td>\n",
              "      <td>0.837566</td>\n",
              "      <td>0.0</td>\n",
              "      <td>0.0</td>\n",
              "      <td>0.0</td>\n",
              "      <td>0.0</td>\n",
              "      <td>0.000000</td>\n",
              "      <td>0.0</td>\n",
              "      <td>0.0</td>\n",
              "      <td>0.0</td>\n",
              "      <td>0.000000</td>\n",
              "      <td>0.000000</td>\n",
              "      <td>0.0</td>\n",
              "      <td>0.0</td>\n",
              "      <td>0.000000</td>\n",
              "      <td>0.0</td>\n",
              "      <td>0.0</td>\n",
              "      <td>0.0</td>\n",
              "      <td>0.0</td>\n",
              "      <td>0.0</td>\n",
              "      <td>0.0</td>\n",
              "      <td>0.0</td>\n",
              "      <td>0.0</td>\n",
              "      <td>0.0</td>\n",
              "      <td>0.0</td>\n",
              "      <td>0.000000</td>\n",
              "      <td>0.000000</td>\n",
              "      <td>0.000000</td>\n",
              "      <td>0.0</td>\n",
              "      <td>0.0</td>\n",
              "      <td>0.0</td>\n",
              "      <td>0.0</td>\n",
              "      <td>0.000000</td>\n",
              "      <td>0.0</td>\n",
              "      <td>0.0</td>\n",
              "      <td>0.0</td>\n",
              "      <td>0.0</td>\n",
              "      <td>0.0</td>\n",
              "      <td>0.0</td>\n",
              "      <td>0.0</td>\n",
              "      <td>0.0</td>\n",
              "      <td>0.000000</td>\n",
              "      <td>0.0</td>\n",
              "      <td>0.0</td>\n",
              "      <td>0.00000</td>\n",
              "      <td>0.0</td>\n",
              "      <td>0.000000</td>\n",
              "      <td>0.0</td>\n",
              "      <td>0.0</td>\n",
              "      <td>0.0</td>\n",
              "      <td>0.0</td>\n",
              "      <td>0.0</td>\n",
              "      <td>0.0</td>\n",
              "      <td>0.0</td>\n",
              "      <td>0.000000</td>\n",
              "      <td>0.0</td>\n",
              "      <td>0.0</td>\n",
              "      <td>0.000000</td>\n",
              "      <td>0.0</td>\n",
              "      <td>0.0</td>\n",
              "      <td>0.000000</td>\n",
              "      <td>0.0</td>\n",
              "      <td>0.0</td>\n",
              "      <td>0.0</td>\n",
              "      <td>0.0</td>\n",
              "      <td>0.473291</td>\n",
              "      <td>0.0</td>\n",
              "      <td>0.0</td>\n",
              "      <td>0.0</td>\n",
              "      <td>0.000000</td>\n",
              "      <td>0.0</td>\n",
              "      <td>0.0</td>\n",
              "      <td>0.0</td>\n",
              "      <td>0.0</td>\n",
              "      <td>0.0</td>\n",
              "      <td>0.0</td>\n",
              "      <td>0.0</td>\n",
              "      <td>0.0</td>\n",
              "      <td>0.0</td>\n",
              "      <td>0.0</td>\n",
              "      <td>0.0</td>\n",
              "      <td>0.0</td>\n",
              "      <td>0.272908</td>\n",
              "      <td>0.0</td>\n",
              "      <td>0.0</td>\n",
              "      <td>0.0</td>\n",
              "      <td>0.0</td>\n",
              "      <td>0.0</td>\n",
              "      <td>0.0</td>\n",
              "      <td>0.0</td>\n",
              "      <td>0.0</td>\n",
              "      <td>0.0</td>\n",
              "      <td>0.0</td>\n",
              "      <td>0.0</td>\n",
              "    </tr>\n",
              "    <tr>\n",
              "      <th>7</th>\n",
              "      <td>0.0</td>\n",
              "      <td>0.000000</td>\n",
              "      <td>0.0</td>\n",
              "      <td>0.0</td>\n",
              "      <td>0.0</td>\n",
              "      <td>0.0</td>\n",
              "      <td>0.0</td>\n",
              "      <td>0.000000</td>\n",
              "      <td>0.0</td>\n",
              "      <td>0.0</td>\n",
              "      <td>0.0</td>\n",
              "      <td>0.0</td>\n",
              "      <td>0.000000</td>\n",
              "      <td>0.0</td>\n",
              "      <td>0.0</td>\n",
              "      <td>0.0</td>\n",
              "      <td>0.639224</td>\n",
              "      <td>0.000000</td>\n",
              "      <td>0.0</td>\n",
              "      <td>0.0</td>\n",
              "      <td>0.000000</td>\n",
              "      <td>0.0</td>\n",
              "      <td>0.0</td>\n",
              "      <td>0.0</td>\n",
              "      <td>0.0</td>\n",
              "      <td>0.0</td>\n",
              "      <td>0.0</td>\n",
              "      <td>0.0</td>\n",
              "      <td>0.0</td>\n",
              "      <td>0.0</td>\n",
              "      <td>0.0</td>\n",
              "      <td>0.000000</td>\n",
              "      <td>0.000000</td>\n",
              "      <td>0.000000</td>\n",
              "      <td>0.0</td>\n",
              "      <td>0.0</td>\n",
              "      <td>0.0</td>\n",
              "      <td>0.0</td>\n",
              "      <td>0.000000</td>\n",
              "      <td>0.0</td>\n",
              "      <td>0.0</td>\n",
              "      <td>0.0</td>\n",
              "      <td>0.0</td>\n",
              "      <td>0.0</td>\n",
              "      <td>0.0</td>\n",
              "      <td>0.0</td>\n",
              "      <td>0.0</td>\n",
              "      <td>0.000000</td>\n",
              "      <td>0.0</td>\n",
              "      <td>0.0</td>\n",
              "      <td>0.00000</td>\n",
              "      <td>0.0</td>\n",
              "      <td>0.608744</td>\n",
              "      <td>0.0</td>\n",
              "      <td>0.0</td>\n",
              "      <td>0.0</td>\n",
              "      <td>0.0</td>\n",
              "      <td>0.0</td>\n",
              "      <td>0.0</td>\n",
              "      <td>0.0</td>\n",
              "      <td>0.000000</td>\n",
              "      <td>0.0</td>\n",
              "      <td>0.0</td>\n",
              "      <td>0.000000</td>\n",
              "      <td>0.0</td>\n",
              "      <td>0.0</td>\n",
              "      <td>0.000000</td>\n",
              "      <td>0.0</td>\n",
              "      <td>0.0</td>\n",
              "      <td>0.0</td>\n",
              "      <td>0.0</td>\n",
              "      <td>0.307857</td>\n",
              "      <td>0.0</td>\n",
              "      <td>0.0</td>\n",
              "      <td>0.0</td>\n",
              "      <td>0.000000</td>\n",
              "      <td>0.0</td>\n",
              "      <td>0.0</td>\n",
              "      <td>0.0</td>\n",
              "      <td>0.0</td>\n",
              "      <td>0.0</td>\n",
              "      <td>0.0</td>\n",
              "      <td>0.0</td>\n",
              "      <td>0.0</td>\n",
              "      <td>0.0</td>\n",
              "      <td>0.0</td>\n",
              "      <td>0.0</td>\n",
              "      <td>0.0</td>\n",
              "      <td>0.355032</td>\n",
              "      <td>0.0</td>\n",
              "      <td>0.0</td>\n",
              "      <td>0.0</td>\n",
              "      <td>0.0</td>\n",
              "      <td>0.0</td>\n",
              "      <td>0.0</td>\n",
              "      <td>0.0</td>\n",
              "      <td>0.0</td>\n",
              "      <td>0.0</td>\n",
              "      <td>0.0</td>\n",
              "      <td>0.0</td>\n",
              "    </tr>\n",
              "    <tr>\n",
              "      <th>8</th>\n",
              "      <td>0.0</td>\n",
              "      <td>0.000000</td>\n",
              "      <td>0.0</td>\n",
              "      <td>0.0</td>\n",
              "      <td>0.0</td>\n",
              "      <td>0.0</td>\n",
              "      <td>0.0</td>\n",
              "      <td>0.000000</td>\n",
              "      <td>0.0</td>\n",
              "      <td>0.0</td>\n",
              "      <td>0.0</td>\n",
              "      <td>0.0</td>\n",
              "      <td>0.184173</td>\n",
              "      <td>0.0</td>\n",
              "      <td>0.0</td>\n",
              "      <td>0.0</td>\n",
              "      <td>0.000000</td>\n",
              "      <td>0.000000</td>\n",
              "      <td>0.0</td>\n",
              "      <td>0.0</td>\n",
              "      <td>0.000000</td>\n",
              "      <td>0.0</td>\n",
              "      <td>0.0</td>\n",
              "      <td>0.0</td>\n",
              "      <td>0.0</td>\n",
              "      <td>0.0</td>\n",
              "      <td>0.0</td>\n",
              "      <td>0.0</td>\n",
              "      <td>0.0</td>\n",
              "      <td>0.0</td>\n",
              "      <td>0.0</td>\n",
              "      <td>0.000000</td>\n",
              "      <td>0.183454</td>\n",
              "      <td>0.000000</td>\n",
              "      <td>0.0</td>\n",
              "      <td>0.0</td>\n",
              "      <td>0.0</td>\n",
              "      <td>0.0</td>\n",
              "      <td>0.000000</td>\n",
              "      <td>0.0</td>\n",
              "      <td>0.0</td>\n",
              "      <td>0.0</td>\n",
              "      <td>0.0</td>\n",
              "      <td>0.0</td>\n",
              "      <td>0.0</td>\n",
              "      <td>0.0</td>\n",
              "      <td>0.0</td>\n",
              "      <td>0.000000</td>\n",
              "      <td>0.0</td>\n",
              "      <td>0.0</td>\n",
              "      <td>0.00000</td>\n",
              "      <td>0.0</td>\n",
              "      <td>0.619154</td>\n",
              "      <td>0.0</td>\n",
              "      <td>0.0</td>\n",
              "      <td>0.0</td>\n",
              "      <td>0.0</td>\n",
              "      <td>0.0</td>\n",
              "      <td>0.0</td>\n",
              "      <td>0.0</td>\n",
              "      <td>0.000000</td>\n",
              "      <td>0.0</td>\n",
              "      <td>0.0</td>\n",
              "      <td>0.000000</td>\n",
              "      <td>0.0</td>\n",
              "      <td>0.0</td>\n",
              "      <td>0.000000</td>\n",
              "      <td>0.0</td>\n",
              "      <td>0.0</td>\n",
              "      <td>0.0</td>\n",
              "      <td>0.0</td>\n",
              "      <td>0.000000</td>\n",
              "      <td>0.0</td>\n",
              "      <td>0.0</td>\n",
              "      <td>0.0</td>\n",
              "      <td>0.718662</td>\n",
              "      <td>0.0</td>\n",
              "      <td>0.0</td>\n",
              "      <td>0.0</td>\n",
              "      <td>0.0</td>\n",
              "      <td>0.0</td>\n",
              "      <td>0.0</td>\n",
              "      <td>0.0</td>\n",
              "      <td>0.0</td>\n",
              "      <td>0.0</td>\n",
              "      <td>0.0</td>\n",
              "      <td>0.0</td>\n",
              "      <td>0.0</td>\n",
              "      <td>0.180551</td>\n",
              "      <td>0.0</td>\n",
              "      <td>0.0</td>\n",
              "      <td>0.0</td>\n",
              "      <td>0.0</td>\n",
              "      <td>0.0</td>\n",
              "      <td>0.0</td>\n",
              "      <td>0.0</td>\n",
              "      <td>0.0</td>\n",
              "      <td>0.0</td>\n",
              "      <td>0.0</td>\n",
              "      <td>0.0</td>\n",
              "    </tr>\n",
              "    <tr>\n",
              "      <th>9</th>\n",
              "      <td>0.0</td>\n",
              "      <td>0.000000</td>\n",
              "      <td>0.0</td>\n",
              "      <td>0.0</td>\n",
              "      <td>0.0</td>\n",
              "      <td>0.0</td>\n",
              "      <td>0.0</td>\n",
              "      <td>0.000000</td>\n",
              "      <td>0.0</td>\n",
              "      <td>0.0</td>\n",
              "      <td>0.0</td>\n",
              "      <td>0.0</td>\n",
              "      <td>0.000000</td>\n",
              "      <td>0.0</td>\n",
              "      <td>0.0</td>\n",
              "      <td>0.0</td>\n",
              "      <td>0.000000</td>\n",
              "      <td>0.518842</td>\n",
              "      <td>0.0</td>\n",
              "      <td>0.0</td>\n",
              "      <td>0.000000</td>\n",
              "      <td>0.0</td>\n",
              "      <td>0.0</td>\n",
              "      <td>0.0</td>\n",
              "      <td>0.0</td>\n",
              "      <td>0.0</td>\n",
              "      <td>0.0</td>\n",
              "      <td>0.0</td>\n",
              "      <td>0.0</td>\n",
              "      <td>0.0</td>\n",
              "      <td>0.0</td>\n",
              "      <td>0.528034</td>\n",
              "      <td>0.000000</td>\n",
              "      <td>0.000000</td>\n",
              "      <td>0.0</td>\n",
              "      <td>0.0</td>\n",
              "      <td>0.0</td>\n",
              "      <td>0.0</td>\n",
              "      <td>0.000000</td>\n",
              "      <td>0.0</td>\n",
              "      <td>0.0</td>\n",
              "      <td>0.0</td>\n",
              "      <td>0.0</td>\n",
              "      <td>0.0</td>\n",
              "      <td>0.0</td>\n",
              "      <td>0.0</td>\n",
              "      <td>0.0</td>\n",
              "      <td>0.000000</td>\n",
              "      <td>0.0</td>\n",
              "      <td>0.0</td>\n",
              "      <td>0.00000</td>\n",
              "      <td>0.0</td>\n",
              "      <td>0.000000</td>\n",
              "      <td>0.0</td>\n",
              "      <td>0.0</td>\n",
              "      <td>0.0</td>\n",
              "      <td>0.0</td>\n",
              "      <td>0.0</td>\n",
              "      <td>0.0</td>\n",
              "      <td>0.0</td>\n",
              "      <td>0.000000</td>\n",
              "      <td>0.0</td>\n",
              "      <td>0.0</td>\n",
              "      <td>0.000000</td>\n",
              "      <td>0.0</td>\n",
              "      <td>0.0</td>\n",
              "      <td>0.332792</td>\n",
              "      <td>0.0</td>\n",
              "      <td>0.0</td>\n",
              "      <td>0.0</td>\n",
              "      <td>0.0</td>\n",
              "      <td>0.233329</td>\n",
              "      <td>0.0</td>\n",
              "      <td>0.0</td>\n",
              "      <td>0.0</td>\n",
              "      <td>0.535527</td>\n",
              "      <td>0.0</td>\n",
              "      <td>0.0</td>\n",
              "      <td>0.0</td>\n",
              "      <td>0.0</td>\n",
              "      <td>0.0</td>\n",
              "      <td>0.0</td>\n",
              "      <td>0.0</td>\n",
              "      <td>0.0</td>\n",
              "      <td>0.0</td>\n",
              "      <td>0.0</td>\n",
              "      <td>0.0</td>\n",
              "      <td>0.0</td>\n",
              "      <td>0.000000</td>\n",
              "      <td>0.0</td>\n",
              "      <td>0.0</td>\n",
              "      <td>0.0</td>\n",
              "      <td>0.0</td>\n",
              "      <td>0.0</td>\n",
              "      <td>0.0</td>\n",
              "      <td>0.0</td>\n",
              "      <td>0.0</td>\n",
              "      <td>0.0</td>\n",
              "      <td>0.0</td>\n",
              "      <td>0.0</td>\n",
              "    </tr>\n",
              "  </tbody>\n",
              "</table>\n",
              "</div>"
            ],
            "text/plain": [
              "   administr   america  american  amp  anoth  back  believ     biden  call  \\\n",
              "0        0.0  0.565282       0.0  0.0    0.0   0.0     0.0  0.000000   0.0   \n",
              "1        0.0  0.000000       0.0  0.0    0.0   0.0     0.0  0.000000   0.0   \n",
              "2        0.0  0.407662       0.0  0.0    0.0   0.0     0.0  0.000000   0.0   \n",
              "3        0.0  0.000000       0.0  0.0    0.0   0.0     0.0  0.000000   0.0   \n",
              "4        0.0  0.000000       0.0  0.0    0.0   0.0     0.0  0.000000   0.0   \n",
              "5        0.0  0.000000       0.0  0.0    0.0   0.0     0.0  0.000000   0.0   \n",
              "6        0.0  0.000000       0.0  0.0    0.0   0.0     0.0  0.837566   0.0   \n",
              "7        0.0  0.000000       0.0  0.0    0.0   0.0     0.0  0.000000   0.0   \n",
              "8        0.0  0.000000       0.0  0.0    0.0   0.0     0.0  0.000000   0.0   \n",
              "9        0.0  0.000000       0.0  0.0    0.0   0.0     0.0  0.000000   0.0   \n",
              "\n",
              "   campaign  china  cnn        co  coronaviru  countri  covid       day  \\\n",
              "0       0.0    0.0  0.0  0.000000         0.0      0.0    0.0  0.000000   \n",
              "1       0.0    0.0  0.0  0.236421         0.0      0.0    0.0  0.000000   \n",
              "2       0.0    0.0  0.0  0.000000         0.0      0.0    0.0  0.000000   \n",
              "3       0.0    0.0  0.0  0.000000         0.0      0.0    0.0  0.000000   \n",
              "4       0.0    0.0  0.0  0.135467         0.0      0.0    0.0  0.000000   \n",
              "5       0.0    0.0  0.0  0.000000         0.0      0.0    0.0  0.000000   \n",
              "6       0.0    0.0  0.0  0.000000         0.0      0.0    0.0  0.000000   \n",
              "7       0.0    0.0  0.0  0.000000         0.0      0.0    0.0  0.639224   \n",
              "8       0.0    0.0  0.0  0.184173         0.0      0.0    0.0  0.000000   \n",
              "9       0.0    0.0  0.0  0.000000         0.0      0.0    0.0  0.000000   \n",
              "\n",
              "      death  democrat  die    donald  elect  even  feder  follow  get   go  \\\n",
              "0  0.000000       0.0  0.0  0.000000    0.0   0.0    0.0     0.0  0.0  0.0   \n",
              "1  0.000000       0.0  0.0  0.820837    0.0   0.0    0.0     0.0  0.0  0.0   \n",
              "2  0.000000       0.0  0.0  0.000000    0.0   0.0    0.0     0.0  0.0  0.0   \n",
              "3  0.000000       0.0  0.0  0.000000    0.0   0.0    0.0     0.0  0.0  0.0   \n",
              "4  0.000000       0.0  0.0  0.000000    0.0   0.0    0.0     0.0  0.0  0.0   \n",
              "5  0.000000       0.0  0.0  0.000000    0.0   0.0    0.0     0.0  0.0  0.0   \n",
              "6  0.000000       0.0  0.0  0.000000    0.0   0.0    0.0     0.0  0.0  0.0   \n",
              "7  0.000000       0.0  0.0  0.000000    0.0   0.0    0.0     0.0  0.0  0.0   \n",
              "8  0.000000       0.0  0.0  0.000000    0.0   0.0    0.0     0.0  0.0  0.0   \n",
              "9  0.518842       0.0  0.0  0.000000    0.0   0.0    0.0     0.0  0.0  0.0   \n",
              "\n",
              "   golf  good  gop  great    happen      http  joebiden  john  johnlewi  kill  \\\n",
              "0   0.0   0.0  0.0    0.0  0.000000  0.000000  0.662543   0.0       0.0   0.0   \n",
              "1   0.0   0.0  0.0    0.0  0.000000  0.235498  0.000000   0.0       0.0   0.0   \n",
              "2   0.0   0.0  0.0    0.0  0.000000  0.000000  0.000000   0.0       0.0   0.0   \n",
              "3   0.0   0.0  0.0    0.0  0.000000  0.000000  0.000000   0.0       0.0   0.0   \n",
              "4   0.0   0.0  0.0    0.0  0.000000  0.134938  0.000000   0.0       0.0   0.0   \n",
              "5   0.0   0.0  0.0    0.0  0.000000  0.000000  0.000000   0.0       0.0   0.0   \n",
              "6   0.0   0.0  0.0    0.0  0.000000  0.000000  0.000000   0.0       0.0   0.0   \n",
              "7   0.0   0.0  0.0    0.0  0.000000  0.000000  0.000000   0.0       0.0   0.0   \n",
              "8   0.0   0.0  0.0    0.0  0.000000  0.183454  0.000000   0.0       0.0   0.0   \n",
              "9   0.0   0.0  0.0    0.0  0.528034  0.000000  0.000000   0.0       0.0   0.0   \n",
              "\n",
              "   know       let  lewi  lie  like  live  look  maga  make  man      mask  \\\n",
              "0   0.0  0.000000   0.0  0.0   0.0   0.0   0.0   0.0   0.0  0.0  0.000000   \n",
              "1   0.0  0.000000   0.0  0.0   0.0   0.0   0.0   0.0   0.0  0.0  0.000000   \n",
              "2   0.0  0.498124   0.0  0.0   0.0   0.0   0.0   0.0   0.0  0.0  0.491461   \n",
              "3   0.0  0.000000   0.0  0.0   0.0   0.0   0.0   0.0   0.0  0.0  0.000000   \n",
              "4   0.0  0.000000   0.0  0.0   0.0   0.0   0.0   0.0   0.0  0.0  0.000000   \n",
              "5   0.0  0.000000   0.0  0.0   0.0   0.0   0.0   0.0   0.0  0.0  0.000000   \n",
              "6   0.0  0.000000   0.0  0.0   0.0   0.0   0.0   0.0   0.0  0.0  0.000000   \n",
              "7   0.0  0.000000   0.0  0.0   0.0   0.0   0.0   0.0   0.0  0.0  0.000000   \n",
              "8   0.0  0.000000   0.0  0.0   0.0   0.0   0.0   0.0   0.0  0.0  0.000000   \n",
              "9   0.0  0.000000   0.0  0.0   0.0   0.0   0.0   0.0   0.0  0.0  0.000000   \n",
              "\n",
              "   must  need    never  new      news  one  order  pandem  peopl  plea  polic  \\\n",
              "0   0.0   0.0  0.00000  0.0  0.000000  0.0    0.0     0.0    0.0   0.0    0.0   \n",
              "1   0.0   0.0  0.00000  0.0  0.000000  0.0    0.0     0.0    0.0   0.0    0.0   \n",
              "2   0.0   0.0  0.00000  0.0  0.000000  0.0    0.0     0.0    0.0   0.0    0.0   \n",
              "3   0.0   0.0  0.00000  0.0  0.000000  0.0    0.0     0.0    0.0   0.0    0.0   \n",
              "4   0.0   0.0  0.98155  0.0  0.000000  0.0    0.0     0.0    0.0   0.0    0.0   \n",
              "5   0.0   0.0  0.00000  0.0  0.000000  0.0    0.0     0.0    0.0   0.0    0.0   \n",
              "6   0.0   0.0  0.00000  0.0  0.000000  0.0    0.0     0.0    0.0   0.0    0.0   \n",
              "7   0.0   0.0  0.00000  0.0  0.608744  0.0    0.0     0.0    0.0   0.0    0.0   \n",
              "8   0.0   0.0  0.00000  0.0  0.619154  0.0    0.0     0.0    0.0   0.0    0.0   \n",
              "9   0.0   0.0  0.00000  0.0  0.000000  0.0    0.0     0.0    0.0   0.0    0.0   \n",
              "\n",
              "   polit  portland  potu  presid   protest  racist  read  realdonaldtrump  \\\n",
              "0    0.0  0.000000   0.0     0.0  0.000000     0.0   0.0         0.455595   \n",
              "1    0.0  0.000000   0.0     0.0  0.000000     0.0   0.0         0.000000   \n",
              "2    0.0  0.000000   0.0     0.0  0.522915     0.0   0.0         0.000000   \n",
              "3    0.0  0.860333   0.0     0.0  0.000000     0.0   0.0         0.000000   \n",
              "4    0.0  0.000000   0.0     0.0  0.000000     0.0   0.0         0.000000   \n",
              "5    0.0  0.000000   0.0     0.0  0.000000     0.0   0.0         0.000000   \n",
              "6    0.0  0.000000   0.0     0.0  0.000000     0.0   0.0         0.000000   \n",
              "7    0.0  0.000000   0.0     0.0  0.000000     0.0   0.0         0.000000   \n",
              "8    0.0  0.000000   0.0     0.0  0.000000     0.0   0.0         0.000000   \n",
              "9    0.0  0.000000   0.0     0.0  0.000000     0.0   0.0         0.332792   \n",
              "\n",
              "   realli  remov  republican  right        rt  said  say  see      show  \\\n",
              "0     0.0    0.0         0.0    0.0  0.000000   0.0  0.0  0.0  0.000000   \n",
              "1     0.0    0.0         0.0    0.0  0.000000   0.0  0.0  0.0  0.000000   \n",
              "2     0.0    0.0         0.0    0.0  0.230361   0.0  0.0  0.0  0.000000   \n",
              "3     0.0    0.0         0.0    0.0  0.441581   0.0  0.0  0.0  0.000000   \n",
              "4     0.0    0.0         0.0    0.0  0.000000   0.0  0.0  0.0  0.000000   \n",
              "5     0.0    0.0         0.0    0.0  1.000000   0.0  0.0  0.0  0.000000   \n",
              "6     0.0    0.0         0.0    0.0  0.473291   0.0  0.0  0.0  0.000000   \n",
              "7     0.0    0.0         0.0    0.0  0.307857   0.0  0.0  0.0  0.000000   \n",
              "8     0.0    0.0         0.0    0.0  0.000000   0.0  0.0  0.0  0.718662   \n",
              "9     0.0    0.0         0.0    0.0  0.233329   0.0  0.0  0.0  0.535527   \n",
              "\n",
              "   state  still  stop  support  take  tell   th  thing  think  time  today  \\\n",
              "0    0.0    0.0   0.0      0.0   0.0   0.0  0.0    0.0    0.0   0.0    0.0   \n",
              "1    0.0    0.0   0.0      0.0   0.0   0.0  0.0    0.0    0.0   0.0    0.0   \n",
              "2    0.0    0.0   0.0      0.0   0.0   0.0  0.0    0.0    0.0   0.0    0.0   \n",
              "3    0.0    0.0   0.0      0.0   0.0   0.0  0.0    0.0    0.0   0.0    0.0   \n",
              "4    0.0    0.0   0.0      0.0   0.0   0.0  0.0    0.0    0.0   0.0    0.0   \n",
              "5    0.0    0.0   0.0      0.0   0.0   0.0  0.0    0.0    0.0   0.0    0.0   \n",
              "6    0.0    0.0   0.0      0.0   0.0   0.0  0.0    0.0    0.0   0.0    0.0   \n",
              "7    0.0    0.0   0.0      0.0   0.0   0.0  0.0    0.0    0.0   0.0    0.0   \n",
              "8    0.0    0.0   0.0      0.0   0.0   0.0  0.0    0.0    0.0   0.0    0.0   \n",
              "9    0.0    0.0   0.0      0.0   0.0   0.0  0.0    0.0    0.0   0.0    0.0   \n",
              "\n",
              "   tri     trump  tweet  usa  use  viru  vote  want  way  white  whitehous  \\\n",
              "0  0.0  0.184189    0.0  0.0  0.0   0.0   0.0   0.0  0.0    0.0        0.0   \n",
              "1  0.0  0.463543    0.0  0.0  0.0   0.0   0.0   0.0  0.0    0.0        0.0   \n",
              "2  0.0  0.132830    0.0  0.0  0.0   0.0   0.0   0.0  0.0    0.0        0.0   \n",
              "3  0.0  0.254624    0.0  0.0  0.0   0.0   0.0   0.0  0.0    0.0        0.0   \n",
              "4  0.0  0.000000    0.0  0.0  0.0   0.0   0.0   0.0  0.0    0.0        0.0   \n",
              "5  0.0  0.000000    0.0  0.0  0.0   0.0   0.0   0.0  0.0    0.0        0.0   \n",
              "6  0.0  0.272908    0.0  0.0  0.0   0.0   0.0   0.0  0.0    0.0        0.0   \n",
              "7  0.0  0.355032    0.0  0.0  0.0   0.0   0.0   0.0  0.0    0.0        0.0   \n",
              "8  0.0  0.180551    0.0  0.0  0.0   0.0   0.0   0.0  0.0    0.0        0.0   \n",
              "9  0.0  0.000000    0.0  0.0  0.0   0.0   0.0   0.0  0.0    0.0        0.0   \n",
              "\n",
              "   world  would  \n",
              "0    0.0    0.0  \n",
              "1    0.0    0.0  \n",
              "2    0.0    0.0  \n",
              "3    0.0    0.0  \n",
              "4    0.0    0.0  \n",
              "5    0.0    0.0  \n",
              "6    0.0    0.0  \n",
              "7    0.0    0.0  \n",
              "8    0.0    0.0  \n",
              "9    0.0    0.0  "
            ]
          },
          "metadata": {
            "tags": []
          },
          "execution_count": 79
        }
      ]
    },
    {
      "cell_type": "code",
      "metadata": {
        "id": "kBn4GXzJYDQe",
        "colab_type": "code",
        "colab": {}
      },
      "source": [
        "from textblob import TextBlob"
      ],
      "execution_count": 80,
      "outputs": []
    },
    {
      "cell_type": "code",
      "metadata": {
        "id": "-jtIhJQaZPeu",
        "colab_type": "code",
        "colab": {}
      },
      "source": [
        "pol=[]\n",
        "for Tweet in df2.Tweet:\n",
        "    blob = TextBlob(Tweet)\n",
        "    pol.append(blob.sentiment.polarity)\n"
      ],
      "execution_count": 81,
      "outputs": []
    },
    {
      "cell_type": "code",
      "metadata": {
        "id": "jDbb1LlyZAeP",
        "colab_type": "code",
        "colab": {
          "base_uri": "https://localhost:8080/",
          "height": 947
        },
        "outputId": "117e43df-dfb3-431a-b213-24f569ef01ca"
      },
      "source": [
        "df2['Polarity']=pol\n",
        "df2.head(10)\n"
      ],
      "execution_count": 82,
      "outputs": [
        {
          "output_type": "execute_result",
          "data": {
            "text/html": [
              "<div>\n",
              "<style scoped>\n",
              "    .dataframe tbody tr th:only-of-type {\n",
              "        vertical-align: middle;\n",
              "    }\n",
              "\n",
              "    .dataframe tbody tr th {\n",
              "        vertical-align: top;\n",
              "    }\n",
              "\n",
              "    .dataframe thead th {\n",
              "        text-align: right;\n",
              "    }\n",
              "</style>\n",
              "<table border=\"1\" class=\"dataframe\">\n",
              "  <thead>\n",
              "    <tr style=\"text-align: right;\">\n",
              "      <th></th>\n",
              "      <th>Unnamed: 0</th>\n",
              "      <th>Date</th>\n",
              "      <th>Tweet_id</th>\n",
              "      <th>Verified</th>\n",
              "      <th>Tweet</th>\n",
              "      <th>User</th>\n",
              "      <th>Location</th>\n",
              "      <th>Source</th>\n",
              "      <th>Likes</th>\n",
              "      <th>Followers</th>\n",
              "      <th>Following</th>\n",
              "      <th>Retweets</th>\n",
              "      <th>Polarity</th>\n",
              "    </tr>\n",
              "  </thead>\n",
              "  <tbody>\n",
              "    <tr>\n",
              "      <th>0</th>\n",
              "      <td>0</td>\n",
              "      <td>2020-07-18 23:59:56</td>\n",
              "      <td>1284639069906010113</td>\n",
              "      <td>False</td>\n",
              "      <td>parisdennard realdonaldtrump joebiden trump am...</td>\n",
              "      <td>sistermazel</td>\n",
              "      <td>NaN</td>\n",
              "      <td>Twitter for iPhone</td>\n",
              "      <td>0</td>\n",
              "      <td>0</td>\n",
              "      <td>32</td>\n",
              "      <td>0</td>\n",
              "      <td>-0.200</td>\n",
              "    </tr>\n",
              "    <tr>\n",
              "      <th>1</th>\n",
              "      <td>1</td>\n",
              "      <td>2020-07-18 23:59:54</td>\n",
              "      <td>1284639060544241664</td>\n",
              "      <td>False</td>\n",
              "      <td>ritapanahi http co cebqrurt j donald trump dee...</td>\n",
              "      <td>grub12321</td>\n",
              "      <td>NaN</td>\n",
              "      <td>Twitter Web App</td>\n",
              "      <td>1</td>\n",
              "      <td>21</td>\n",
              "      <td>76</td>\n",
              "      <td>0</td>\n",
              "      <td>0.000</td>\n",
              "    </tr>\n",
              "    <tr>\n",
              "      <th>2</th>\n",
              "      <td>2</td>\n",
              "      <td>2020-07-18 23:59:53</td>\n",
              "      <td>1284639057285394433</td>\n",
              "      <td>False</td>\n",
              "      <td>rt mayawiley nationwid mask kidnap protest thr...</td>\n",
              "      <td>QuantumHumanity</td>\n",
              "      <td>Global</td>\n",
              "      <td>Twitter Web App</td>\n",
              "      <td>0</td>\n",
              "      <td>3854</td>\n",
              "      <td>4942</td>\n",
              "      <td>3284</td>\n",
              "      <td>0.000</td>\n",
              "    </tr>\n",
              "    <tr>\n",
              "      <th>3</th>\n",
              "      <td>3</td>\n",
              "      <td>2020-07-18 23:59:47</td>\n",
              "      <td>1284639034522972161</td>\n",
              "      <td>False</td>\n",
              "      <td>rt howardfineman ask author whose command trum...</td>\n",
              "      <td>JohnalanJames2</td>\n",
              "      <td>Red City, KS</td>\n",
              "      <td>Twitter for Android</td>\n",
              "      <td>0</td>\n",
              "      <td>20839</td>\n",
              "      <td>22556</td>\n",
              "      <td>13678</td>\n",
              "      <td>0.000</td>\n",
              "    </tr>\n",
              "    <tr>\n",
              "      <th>4</th>\n",
              "      <td>4</td>\n",
              "      <td>2020-07-18 23:59:44</td>\n",
              "      <td>1284639021654671360</td>\n",
              "      <td>False</td>\n",
              "      <td>poshtwo charliekirk god never promis send u po...</td>\n",
              "      <td>DanSmit21326682</td>\n",
              "      <td>California, USA</td>\n",
              "      <td>Twitter for iPhone</td>\n",
              "      <td>5</td>\n",
              "      <td>2573</td>\n",
              "      <td>5001</td>\n",
              "      <td>4</td>\n",
              "      <td>0.000</td>\n",
              "    </tr>\n",
              "    <tr>\n",
              "      <th>5</th>\n",
              "      <td>5</td>\n",
              "      <td>2020-07-18 23:59:40</td>\n",
              "      <td>1284639004504334336</td>\n",
              "      <td>False</td>\n",
              "      <td>rt pedal dmetal pictur pelosi meet privat memb...</td>\n",
              "      <td>2Illiberalality</td>\n",
              "      <td>NaN</td>\n",
              "      <td>Twitter Web App</td>\n",
              "      <td>0</td>\n",
              "      <td>611</td>\n",
              "      <td>692</td>\n",
              "      <td>1443</td>\n",
              "      <td>0.000</td>\n",
              "    </tr>\n",
              "    <tr>\n",
              "      <th>6</th>\n",
              "      <td>6</td>\n",
              "      <td>2020-07-18 23:59:40</td>\n",
              "      <td>1284639004139442176</td>\n",
              "      <td>False</td>\n",
              "      <td>rt alexmjordan jordansview trump done year bid...</td>\n",
              "      <td>Unyielding5</td>\n",
              "      <td>NaN</td>\n",
              "      <td>Twitter for Android</td>\n",
              "      <td>0</td>\n",
              "      <td>22029</td>\n",
              "      <td>22135</td>\n",
              "      <td>265</td>\n",
              "      <td>0.000</td>\n",
              "    </tr>\n",
              "    <tr>\n",
              "      <th>7</th>\n",
              "      <td>7</td>\n",
              "      <td>2020-07-18 23:59:38</td>\n",
              "      <td>1284638995306237954</td>\n",
              "      <td>False</td>\n",
              "      <td>rt jack realnew truth trump trump qanon obamag...</td>\n",
              "      <td>Honeybeehive4b1</td>\n",
              "      <td>USA</td>\n",
              "      <td>Twitter for Android</td>\n",
              "      <td>0</td>\n",
              "      <td>1802</td>\n",
              "      <td>1810</td>\n",
              "      <td>2</td>\n",
              "      <td>1.000</td>\n",
              "    </tr>\n",
              "    <tr>\n",
              "      <th>8</th>\n",
              "      <td>8</td>\n",
              "      <td>2020-07-18 23:59:31</td>\n",
              "      <td>1284638965308350464</td>\n",
              "      <td>False</td>\n",
              "      <td>fox news anchor report oppos talk show host be...</td>\n",
              "      <td>FrankPKing</td>\n",
              "      <td>Coronado, CA</td>\n",
              "      <td>Twitter for Android</td>\n",
              "      <td>2</td>\n",
              "      <td>7958</td>\n",
              "      <td>8336</td>\n",
              "      <td>1</td>\n",
              "      <td>0.000</td>\n",
              "    </tr>\n",
              "    <tr>\n",
              "      <th>9</th>\n",
              "      <td>9</td>\n",
              "      <td>2020-07-18 23:59:26</td>\n",
              "      <td>1284638945460883456</td>\n",
              "      <td>False</td>\n",
              "      <td>rt andyostroy realdonaldtrump hey moron dark d...</td>\n",
              "      <td>Patricia99801</td>\n",
              "      <td>NaN</td>\n",
              "      <td>Twitter for iPhone</td>\n",
              "      <td>0</td>\n",
              "      <td>1031</td>\n",
              "      <td>5001</td>\n",
              "      <td>338</td>\n",
              "      <td>-0.475</td>\n",
              "    </tr>\n",
              "  </tbody>\n",
              "</table>\n",
              "</div>"
            ],
            "text/plain": [
              "   Unnamed: 0                 Date             Tweet_id  Verified  \\\n",
              "0           0  2020-07-18 23:59:56  1284639069906010113     False   \n",
              "1           1  2020-07-18 23:59:54  1284639060544241664     False   \n",
              "2           2  2020-07-18 23:59:53  1284639057285394433     False   \n",
              "3           3  2020-07-18 23:59:47  1284639034522972161     False   \n",
              "4           4  2020-07-18 23:59:44  1284639021654671360     False   \n",
              "5           5  2020-07-18 23:59:40  1284639004504334336     False   \n",
              "6           6  2020-07-18 23:59:40  1284639004139442176     False   \n",
              "7           7  2020-07-18 23:59:38  1284638995306237954     False   \n",
              "8           8  2020-07-18 23:59:31  1284638965308350464     False   \n",
              "9           9  2020-07-18 23:59:26  1284638945460883456     False   \n",
              "\n",
              "                                               Tweet             User  \\\n",
              "0  parisdennard realdonaldtrump joebiden trump am...      sistermazel   \n",
              "1  ritapanahi http co cebqrurt j donald trump dee...        grub12321   \n",
              "2  rt mayawiley nationwid mask kidnap protest thr...  QuantumHumanity   \n",
              "3  rt howardfineman ask author whose command trum...   JohnalanJames2   \n",
              "4  poshtwo charliekirk god never promis send u po...  DanSmit21326682   \n",
              "5  rt pedal dmetal pictur pelosi meet privat memb...  2Illiberalality   \n",
              "6  rt alexmjordan jordansview trump done year bid...      Unyielding5   \n",
              "7  rt jack realnew truth trump trump qanon obamag...  Honeybeehive4b1   \n",
              "8  fox news anchor report oppos talk show host be...       FrankPKing   \n",
              "9  rt andyostroy realdonaldtrump hey moron dark d...    Patricia99801   \n",
              "\n",
              "          Location               Source  Likes  Followers  Following  \\\n",
              "0              NaN   Twitter for iPhone      0          0         32   \n",
              "1              NaN      Twitter Web App      1         21         76   \n",
              "2           Global      Twitter Web App      0       3854       4942   \n",
              "3     Red City, KS  Twitter for Android      0      20839      22556   \n",
              "4  California, USA   Twitter for iPhone      5       2573       5001   \n",
              "5              NaN      Twitter Web App      0        611        692   \n",
              "6              NaN  Twitter for Android      0      22029      22135   \n",
              "7              USA  Twitter for Android      0       1802       1810   \n",
              "8     Coronado, CA  Twitter for Android      2       7958       8336   \n",
              "9              NaN   Twitter for iPhone      0       1031       5001   \n",
              "\n",
              "   Retweets  Polarity  \n",
              "0         0    -0.200  \n",
              "1         0     0.000  \n",
              "2      3284     0.000  \n",
              "3     13678     0.000  \n",
              "4         4     0.000  \n",
              "5      1443     0.000  \n",
              "6       265     0.000  \n",
              "7         2     1.000  \n",
              "8         1     0.000  \n",
              "9       338    -0.475  "
            ]
          },
          "metadata": {
            "tags": []
          },
          "execution_count": 82
        }
      ]
    },
    {
      "cell_type": "code",
      "metadata": {
        "id": "0-_Sp-jFZTiV",
        "colab_type": "code",
        "colab": {
          "base_uri": "https://localhost:8080/",
          "height": 69
        },
        "outputId": "67e0f1f0-8892-4733-990b-0a99830151fa"
      },
      "source": [
        "positive=0\n",
        "negative=0\n",
        "neutral=0\n",
        "for pol in df2.Polarity:\n",
        "    if pol>0:\n",
        "        positive+=1\n",
        "    elif pol<0:\n",
        "        negative+=1\n",
        "    else:\n",
        "        neutral+=1\n",
        "print(\"Positve Tweets:\",positive)\n",
        "print(\"Negative Tweets:\",negative)\n",
        "print(\"Neutral Tweets\",neutral)"
      ],
      "execution_count": 83,
      "outputs": [
        {
          "output_type": "stream",
          "text": [
            "Positve Tweets: 2367\n",
            "Negative Tweets: 1584\n",
            "Neutral Tweets 4951\n"
          ],
          "name": "stdout"
        }
      ]
    },
    {
      "cell_type": "code",
      "metadata": {
        "id": "qbsQQoBTZd8O",
        "colab_type": "code",
        "colab": {
          "base_uri": "https://localhost:8080/",
          "height": 69
        },
        "outputId": "b4282c49-0fbf-4fba-a4d3-3447efc5a041"
      },
      "source": [
        "import nltk\n",
        "nltk.download('vader_lexicon')"
      ],
      "execution_count": 84,
      "outputs": [
        {
          "output_type": "stream",
          "text": [
            "[nltk_data] Downloading package vader_lexicon to /root/nltk_data...\n",
            "[nltk_data]   Package vader_lexicon is already up-to-date!\n"
          ],
          "name": "stdout"
        },
        {
          "output_type": "execute_result",
          "data": {
            "text/plain": [
              "True"
            ]
          },
          "metadata": {
            "tags": []
          },
          "execution_count": 84
        }
      ]
    },
    {
      "cell_type": "code",
      "metadata": {
        "id": "9QARNs_JZLfw",
        "colab_type": "code",
        "colab": {
          "base_uri": "https://localhost:8080/",
          "height": 202
        },
        "outputId": "774734a2-068e-4ea6-d32d-59ad2d4aba87"
      },
      "source": [
        "\n",
        "sid = SentimentIntensityAnalyzer()\n",
        "sentiment_scores = df2.Tweet.apply(lambda x: sid.polarity_scores(x))\n",
        "sentimental_score = pd.DataFrame(list(sentiment_scores))\n",
        "sentimental_score.tail()\n"
      ],
      "execution_count": 85,
      "outputs": [
        {
          "output_type": "execute_result",
          "data": {
            "text/html": [
              "<div>\n",
              "<style scoped>\n",
              "    .dataframe tbody tr th:only-of-type {\n",
              "        vertical-align: middle;\n",
              "    }\n",
              "\n",
              "    .dataframe tbody tr th {\n",
              "        vertical-align: top;\n",
              "    }\n",
              "\n",
              "    .dataframe thead th {\n",
              "        text-align: right;\n",
              "    }\n",
              "</style>\n",
              "<table border=\"1\" class=\"dataframe\">\n",
              "  <thead>\n",
              "    <tr style=\"text-align: right;\">\n",
              "      <th></th>\n",
              "      <th>neg</th>\n",
              "      <th>neu</th>\n",
              "      <th>pos</th>\n",
              "      <th>compound</th>\n",
              "    </tr>\n",
              "  </thead>\n",
              "  <tbody>\n",
              "    <tr>\n",
              "      <th>8897</th>\n",
              "      <td>0.744</td>\n",
              "      <td>0.256</td>\n",
              "      <td>0.000</td>\n",
              "      <td>-0.4404</td>\n",
              "    </tr>\n",
              "    <tr>\n",
              "      <th>8898</th>\n",
              "      <td>0.133</td>\n",
              "      <td>0.867</td>\n",
              "      <td>0.000</td>\n",
              "      <td>-0.2500</td>\n",
              "    </tr>\n",
              "    <tr>\n",
              "      <th>8899</th>\n",
              "      <td>0.148</td>\n",
              "      <td>0.769</td>\n",
              "      <td>0.082</td>\n",
              "      <td>-0.2960</td>\n",
              "    </tr>\n",
              "    <tr>\n",
              "      <th>8900</th>\n",
              "      <td>0.323</td>\n",
              "      <td>0.677</td>\n",
              "      <td>0.000</td>\n",
              "      <td>-0.7351</td>\n",
              "    </tr>\n",
              "    <tr>\n",
              "      <th>8901</th>\n",
              "      <td>0.000</td>\n",
              "      <td>0.838</td>\n",
              "      <td>0.162</td>\n",
              "      <td>0.4019</td>\n",
              "    </tr>\n",
              "  </tbody>\n",
              "</table>\n",
              "</div>"
            ],
            "text/plain": [
              "        neg    neu    pos  compound\n",
              "8897  0.744  0.256  0.000   -0.4404\n",
              "8898  0.133  0.867  0.000   -0.2500\n",
              "8899  0.148  0.769  0.082   -0.2960\n",
              "8900  0.323  0.677  0.000   -0.7351\n",
              "8901  0.000  0.838  0.162    0.4019"
            ]
          },
          "metadata": {
            "tags": []
          },
          "execution_count": 85
        }
      ]
    },
    {
      "cell_type": "code",
      "metadata": {
        "id": "CnzP3d9maZFF",
        "colab_type": "code",
        "colab": {
          "base_uri": "https://localhost:8080/",
          "height": 202
        },
        "outputId": "0fbb0e6c-f119-4242-8231-343c13a61d8c"
      },
      "source": [
        "sentimental_score['val'] = sentimental_score['compound'].apply(lambda x: 'neutral' if x == 0 else ('positive' if x > 0 else 'negative'))\n",
        "sentimental_score.head()"
      ],
      "execution_count": 86,
      "outputs": [
        {
          "output_type": "execute_result",
          "data": {
            "text/html": [
              "<div>\n",
              "<style scoped>\n",
              "    .dataframe tbody tr th:only-of-type {\n",
              "        vertical-align: middle;\n",
              "    }\n",
              "\n",
              "    .dataframe tbody tr th {\n",
              "        vertical-align: top;\n",
              "    }\n",
              "\n",
              "    .dataframe thead th {\n",
              "        text-align: right;\n",
              "    }\n",
              "</style>\n",
              "<table border=\"1\" class=\"dataframe\">\n",
              "  <thead>\n",
              "    <tr style=\"text-align: right;\">\n",
              "      <th></th>\n",
              "      <th>neg</th>\n",
              "      <th>neu</th>\n",
              "      <th>pos</th>\n",
              "      <th>compound</th>\n",
              "      <th>val</th>\n",
              "    </tr>\n",
              "  </thead>\n",
              "  <tbody>\n",
              "    <tr>\n",
              "      <th>0</th>\n",
              "      <td>0.417</td>\n",
              "      <td>0.583</td>\n",
              "      <td>0.000</td>\n",
              "      <td>-0.6486</td>\n",
              "      <td>negative</td>\n",
              "    </tr>\n",
              "    <tr>\n",
              "      <th>1</th>\n",
              "      <td>0.000</td>\n",
              "      <td>1.000</td>\n",
              "      <td>0.000</td>\n",
              "      <td>0.0000</td>\n",
              "      <td>neutral</td>\n",
              "    </tr>\n",
              "    <tr>\n",
              "      <th>2</th>\n",
              "      <td>0.126</td>\n",
              "      <td>0.755</td>\n",
              "      <td>0.119</td>\n",
              "      <td>-0.0258</td>\n",
              "      <td>negative</td>\n",
              "    </tr>\n",
              "    <tr>\n",
              "      <th>3</th>\n",
              "      <td>0.000</td>\n",
              "      <td>0.841</td>\n",
              "      <td>0.159</td>\n",
              "      <td>0.1779</td>\n",
              "      <td>positive</td>\n",
              "    </tr>\n",
              "    <tr>\n",
              "      <th>4</th>\n",
              "      <td>0.127</td>\n",
              "      <td>0.760</td>\n",
              "      <td>0.114</td>\n",
              "      <td>-0.0598</td>\n",
              "      <td>negative</td>\n",
              "    </tr>\n",
              "  </tbody>\n",
              "</table>\n",
              "</div>"
            ],
            "text/plain": [
              "     neg    neu    pos  compound       val\n",
              "0  0.417  0.583  0.000   -0.6486  negative\n",
              "1  0.000  1.000  0.000    0.0000   neutral\n",
              "2  0.126  0.755  0.119   -0.0258  negative\n",
              "3  0.000  0.841  0.159    0.1779  positive\n",
              "4  0.127  0.760  0.114   -0.0598  negative"
            ]
          },
          "metadata": {
            "tags": []
          },
          "execution_count": 86
        }
      ]
    },
    {
      "cell_type": "code",
      "metadata": {
        "id": "VQHMVtJFb6H7",
        "colab_type": "code",
        "colab": {
          "base_uri": "https://localhost:8080/",
          "height": 303
        },
        "outputId": "b5c996d5-ac06-4bb0-812e-2eb77faa61f9"
      },
      "source": [
        "sent_count = pd.DataFrame.from_dict(Counter(sentimental_score['val']), orient = 'index').reset_index()\n",
        "sent_count.columns = ['sentiment', 'count']\n",
        "\n",
        "sns.barplot(y=\"count\", x='sentiment', data=sent_count)"
      ],
      "execution_count": 87,
      "outputs": [
        {
          "output_type": "execute_result",
          "data": {
            "text/plain": [
              "<matplotlib.axes._subplots.AxesSubplot at 0x7fe643ffe320>"
            ]
          },
          "metadata": {
            "tags": []
          },
          "execution_count": 87
        },
        {
          "output_type": "display_data",
          "data": {
            "image/png": "[encoded data removed]",
            "text/plain": [
              "<Figure size 432x288 with 1 Axes>"
            ]
          },
          "metadata": {
            "tags": []
          }
        }
      ]
    },
    {
      "cell_type": "code",
      "metadata": {
        "id": "6R0irv18cBPf",
        "colab_type": "code",
        "colab": {}
      },
      "source": [
        "sentiments_time = pd.DataFrame()\n",
        "sentiments_time['time'] = df2['Date']\n",
        "sentiments_time['polarity'] = sentimental_score['compound']\n",
        "sentiments_time.index = pd.to_datetime(sentiments_time['time'])"
      ],
      "execution_count": 88,
      "outputs": []
    },
    {
      "cell_type": "code",
      "metadata": {
        "id": "7gCkkW-zcVzj",
        "colab_type": "code",
        "colab": {
          "base_uri": "https://localhost:8080/",
          "height": 373
        },
        "outputId": "4ed96628-f21f-4c61-b14e-c5c8b2a8a0b4"
      },
      "source": [
        "fig = plt.figure(figsize=(10,5))\n",
        "ax = fig.add_subplot(111)\n",
        "ax.set(title='Tweet Sentiments distribution', xlabel='polarity', ylabel='frequency')\n",
        "sns.distplot(sentiments_time['polarity'], bins=30, ax=ax)"
      ],
      "execution_count": 89,
      "outputs": [
        {
          "output_type": "execute_result",
          "data": {
            "text/plain": [
              "<matplotlib.axes._subplots.AxesSubplot at 0x7fe643fce2e8>"
            ]
          },
          "metadata": {
            "tags": []
          },
          "execution_count": 89
        },
        {
          "output_type": "display_data",
          "data": {
            "image/png": "[encoded data removed]",
            "text/plain": [
              "<Figure size 720x360 with 1 Axes>"
            ]
          },
          "metadata": {
            "tags": []
          }
        }
      ]
    },
    {
      "cell_type": "code",
      "metadata": {
        "id": "Pzki62Qcccjv",
        "colab_type": "code",
        "colab": {
          "base_uri": "https://localhost:8080/",
          "height": 720
        },
        "outputId": "0d582010-6cd5-4f43-82ba-cb62bcece400"
      },
      "source": [
        "sns.set(style=\"darkgrid\")\n",
        "counts = Counter(words).most_common(50)\n",
        "counts_df = pd.DataFrame(counts)\n",
        "counts_df\n",
        "counts_df.columns = ['word', 'frequency']\n",
        "\n",
        "fig, ax = plt.subplots(figsize = (12, 12))\n",
        "ax = sns.barplot(y=\"word\", x='frequency', ax = ax, data=counts_df)"
      ],
      "execution_count": 90,
      "outputs": [
        {
          "output_type": "display_data",
          "data": {
            "image/png": "[encoded data removed]",
            "text/plain": [
              "<Figure size 864x864 with 1 Axes>"
            ]
          },
          "metadata": {
            "tags": []
          }
        }
      ]
    },
    {
      "cell_type": "code",
      "metadata": {
        "id": "hsoz0SAXcjQD",
        "colab_type": "code",
        "colab": {
          "base_uri": "https://localhost:8080/",
          "height": 382
        },
        "outputId": "bd8742f9-cde0-430f-ba1e-6a9e909b67c0"
      },
      "source": [
        "from wordcloud import WordCloud\n",
        "wordcloud=WordCloud(background_color='black',max_words=75,max_font_size=50,scale=5,collocations=False,\n",
        "                      normalize_plurals=True).generate(' '.join(words))\n",
        "                       \n",
        "plt.figure(figsize = (12, 12), facecolor=\"None\") \n",
        "plt.imshow(wordcloud,interpolation='bilinear') \n",
        "plt.axis(\"off\") \n",
        "plt.title(\"WordCloud of Corona-Tweets\")\n",
        "plt.show()"
      ],
      "execution_count": 91,
      "outputs": [
        {
          "output_type": "display_data",
          "data": {
            "image/png": "[encoded data removed]",
            "text/plain": [
              "<Figure size 864x864 with 1 Axes>"
            ]
          },
          "metadata": {
            "tags": [],
            "needs_background": "light"
          }
        }
      ]
    },
    {
      "cell_type": "markdown",
      "metadata": {
        "id": "b9J-es-m8zzz",
        "colab_type": "text"
      },
      "source": [
        "\n",
        "From the sentiment analysis and the visualizations plots made, we can conclude that the people are more neutral and negative attitude towards tTrump. "
      ]
    }
  ]
}