{
 "cells": [
  {
   "cell_type": "code",
   "execution_count": 1,
   "metadata": {},
   "outputs": [],
   "source": [
    "import numpy as np\n",
    "import pandas as pd\n",
    "import matplotlib.pyplot as plt\n",
    "import seaborn as sns\n",
    "\n",
    "import re\n",
    "import string\n",
    "\n",
    "import nltk\n",
    "from nltk.tokenize import sent_tokenize\n",
    "from nltk.corpus import words\n",
    "from nltk.corpus import stopwords\n",
    "from nltk.tokenize import word_tokenize\n",
    "from nltk.stem import WordNetLemmatizer\n",
    "from nltk.stem import PorterStemmer\n",
    "from nltk.sentiment.vader import SentimentIntensityAnalyzer\n",
    "from nltk.sentiment.util import *\n",
    "from textblob import TextBlob\n",
    "from sklearn.feature_extraction.text import TfidfVectorizer\n",
    "\n",
    "import preprocessor as p"
   ]
  },
  {
   "cell_type": "code",
   "execution_count": 2,
   "metadata": {},
   "outputs": [],
   "source": [
    "df = pd.read_csv(\"US_Elections//Biden_No_Retweet_Full_Text.csv\",engine=\"python\", encoding= \"utf-8\",error_bad_lines=False)"
   ]
  },
  {
   "cell_type": "code",
   "execution_count": 3,
   "metadata": {},
   "outputs": [
    {
     "name": "stdout",
     "output_type": "stream",
     "text": [
      "<class 'pandas.core.frame.DataFrame'>\n",
      "RangeIndex: 15098 entries, 0 to 15097\n",
      "Data columns (total 11 columns):\n",
      " #   Column     Non-Null Count  Dtype \n",
      "---  ------     --------------  ----- \n",
      " 0   Date       15098 non-null  object\n",
      " 1   Tweet_id   15098 non-null  int64 \n",
      " 2   Verified   15098 non-null  bool  \n",
      " 3   Tweet      15098 non-null  object\n",
      " 4   User       15098 non-null  object\n",
      " 5   Location   11032 non-null  object\n",
      " 6   Source     15098 non-null  object\n",
      " 7   Likes      15098 non-null  int64 \n",
      " 8   Followers  15098 non-null  int64 \n",
      " 9   Following  15098 non-null  int64 \n",
      " 10  Retweets   15098 non-null  int64 \n",
      "dtypes: bool(1), int64(5), object(5)\n",
      "memory usage: 1.2+ MB\n"
     ]
    }
   ],
   "source": [
    "df.info()"
   ]
  },
  {
   "cell_type": "markdown",
   "metadata": {},
   "source": [
    "## Cleaning Process"
   ]
  },
  {
   "cell_type": "code",
   "execution_count": 4,
   "metadata": {},
   "outputs": [],
   "source": [
    "df.drop_duplicates(subset = \"Tweet\", keep = \"first\",inplace = True,ignore_index = True) #Removing duplicates"
   ]
  },
  {
   "cell_type": "code",
   "execution_count": 12,
   "metadata": {},
   "outputs": [
    {
     "data": {
      "text/plain": [
       "0    @JoeBiden VP Biden I wish you wouldn't debate ...\n",
       "1    #GeorgeWill , it’s so sad you wake up everyday...\n",
       "2    Question:\\nIf @JoeBiden doesn’t pick a woman o...\n",
       "3    Right? 🤣🤣🤣 #Biden formally implicated in #Ukra...\n",
       "4    These idiots let Trump do anything he wants. W...\n",
       "Name: Tweet, dtype: object"
      ]
     },
     "execution_count": 12,
     "metadata": {},
     "output_type": "execute_result"
    }
   ],
   "source": [
    "tweet_list = []\n",
    "df[\"Tweet\"].head()"
   ]
  },
  {
   "cell_type": "code",
   "execution_count": 13,
   "metadata": {},
   "outputs": [],
   "source": [
    "for x in df[\"Tweet\"]:\n",
    "    tweet_list.append(p.clean(x)) #Cleaning tweets and appending to a list\n",
    "    \n",
    "tweet_list = [re.sub('[^a-zA-Z]', ' ',i) for i in tweet_list] #Removing punctuatuons"
   ]
  },
  {
   "cell_type": "code",
   "execution_count": 14,
   "metadata": {},
   "outputs": [
    {
     "name": "stdout",
     "output_type": "stream",
     "text": [
      "----Before----\n",
      "These idiots let Trump do anything he wants. When Biden gets elected, I don't want to hear a word. \n",
      "\n",
      "I hope #Biden and #Barack come through like: https://t.co/2ZIbeGqQc8\n",
      "----After----\n",
      "These idiots let Trump do anything he wants  When Biden gets elected  I don t want to hear a word  I hope and come through like \n"
     ]
    }
   ],
   "source": [
    "print(\"----Before----\")\n",
    "print(df[\"Tweet\"][4])\n",
    "\n",
    "print(\"----After----\")\n",
    "print(tweet_list[4])"
   ]
  },
  {
   "cell_type": "code",
   "execution_count": 27,
   "metadata": {},
   "outputs": [
    {
     "name": "stderr",
     "output_type": "stream",
     "text": [
      "[nltk_data] Downloading package stopwords to\n",
      "[nltk_data]     C:\\Users\\Bhavya\\AppData\\Roaming\\nltk_data...\n",
      "[nltk_data]   Package stopwords is already up-to-date!\n",
      "[nltk_data] Downloading package wordnet to\n",
      "[nltk_data]     C:\\Users\\Bhavya\\AppData\\Roaming\\nltk_data...\n",
      "[nltk_data]   Unzipping corpora\\wordnet.zip.\n"
     ]
    },
    {
     "data": {
      "text/plain": [
       "True"
      ]
     },
     "execution_count": 27,
     "metadata": {},
     "output_type": "execute_result"
    }
   ],
   "source": [
    "clean_tweets = [] #List for tweets without stopwords\n",
    "\n",
    "nltk.download(\"stopwords\")\n",
    "nltk.download(\"wordnet\")"
   ]
  },
  {
   "cell_type": "markdown",
   "metadata": {},
   "source": [
    "### Removing Stopwords"
   ]
  },
  {
   "cell_type": "code",
   "execution_count": 16,
   "metadata": {},
   "outputs": [],
   "source": [
    "#stopwords = [\":\",\"a\", \"about\", \"above\", \"after\", \"again\", \"against\", \"ain\", \"all\", \"am\", \"an\", \"and\", \"any\", \"are\", \"aren\", \"aren't\", \"as\", \"at\", \"be\", \"because\", \"been\", \"before\", \"being\", \"below\", \"between\", \"both\", \"but\", \"by\", \"can\", \"couldn\", \"couldn't\", \"d\", \"did\", \"didn\", \"didn't\", \"do\", \"does\", \"doesn\", \"doesn't\", \"doing\", \"don\", \"don't\", \"down\", \"during\", \"each\", \"few\", \"for\", \"from\", \"further\", \"had\", \"hadn\", \"hadn't\", \"has\", \"hasn\", \"hasn't\", \"have\", \"haven\", \"haven't\", \"having\", \"he\", \"her\", \"here\", \"hers\", \"herself\", \"him\", \"himself\", \"his\", \"how\", \"i\", \"if\", \"in\", \"into\", \"is\", \"isn\", \"isn't\", \"it\", \"it's\", \"its\", \"itself\", \"just\", \"ll\", \"m\", \"ma\", \"me\", \"mightn\", \"mightn't\", \"more\", \"most\", \"mustn\", \"mustn't\", \"my\", \"myself\", \"needn\", \"needn't\", \"no\", \"nor\", \"not\", \"now\", \"o\", \"of\", \"off\", \"on\", \"once\", \"only\", \"or\", \"other\", \"our\", \"ours\", \"ourselves\", \"out\", \"over\", \"own\", \"re\", \"s\", \"same\", \"shan\", \"shan't\", \"she\", \"she's\", \"should\", \"should've\", \"shouldn\", \"shouldn't\", \"so\", \"some\", \"such\", \"t\", \"than\", \"that\", \"that'll\", \"the\", \"their\", \"theirs\", \"them\", \"themselves\", \"then\", \"there\", \"these\", \"they\", \"this\", \"those\", \"through\", \"to\", \"too\", \"under\", \"until\", \"up\", \"ve\", \"very\", \"was\", \"wasn\", \"wasn't\", \"we\", \"were\", \"weren\", \"weren't\", \"what\", \"when\", \"where\", \"which\", \"while\", \"who\", \"whom\", \"why\", \"will\", \"with\", \"won\", \"won't\", \"wouldn\", \"wouldn't\", \"y\", \"you\", \"you'd\", \"you'll\", \"you're\", \"you've\", \"your\", \"yours\", \"yourself\", \"yourselves\", \"could\", \"he'd\", \"he'll\", \"he's\", \"here's\", \"how's\", \"i'd\", \"i'll\", \"i'm\", \"i've\", \"let's\", \"ought\", \"she'd\", \"she'll\", \"that's\", \"there's\", \"they'd\", \"they'll\", \"they're\", \"they've\", \"we'd\", \"we'll\", \"we're\", \"we've\", \"what's\", \"when's\", \"where's\", \"who's\", \"why's\", \"would\"]\n",
    "for tweet in tweet_list: #Removing stopwords\n",
    "        for word in set(stopwords.words(\"english\")):\n",
    "            token = \" \"+word+\" \"\n",
    "            tweet = tweet.replace(token, \" \")\n",
    "        clean_tweets.append(tweet)"
   ]
  },
  {
   "cell_type": "code",
   "execution_count": 17,
   "metadata": {},
   "outputs": [
    {
     "data": {
      "text/plain": [
       "['VP Biden I wish debate Trump unless  Debate Trump shows taxesDebate Tells Putin stop killing soldiersDebate Put sanctions Putin election hacks amp  I wish publicly challenge   Rice',\n",
       " '  sad wake everyday forgetting YOU George Will    like Swampers badly need disinfect  Youre new breed SenileElites  Same man plan vote for',\n",
       " 'Question If doesnt pick woman color  would black community hold ',\n",
       " 'Right  formally implicated scandal reported afternoon',\n",
       " 'These idiots let Trump anything wants  When Biden gets elected  I want hear word  I hope come like ',\n",
       " 'How could        I dont buy Anyone buy ',\n",
       " 'There never teaching religion public school I went I want watch pander islamDisgusting People Dumb  This Christian country People believe NO god OUTNUMBER non Christian religions combined USABiden   BS',\n",
       " 'In dreams   There going a sweep House  Senate  President Biden November  ',\n",
       " 'Joy one woman mission expose  none good fit POTUS  I happy  She put space time ',\n",
       " 'I slept better OBAMA BIDEN JOE BIDEN MAKE AMERICA BETTER AGAIN']"
      ]
     },
     "execution_count": 17,
     "metadata": {},
     "output_type": "execute_result"
    }
   ],
   "source": [
    "clean_tweets[:10]"
   ]
  },
  {
   "cell_type": "markdown",
   "metadata": {},
   "source": [
    "### Stemming"
   ]
  },
  {
   "cell_type": "code",
   "execution_count": 21,
   "metadata": {},
   "outputs": [],
   "source": [
    "stemmed = []\n",
    "for word in clean_tweets:\n",
    "    stemmed.append(PorterStemmer().stem(word))"
   ]
  },
  {
   "cell_type": "code",
   "execution_count": 24,
   "metadata": {},
   "outputs": [
    {
     "data": {
      "text/plain": [
       "['vp biden i wish debate trump unless  debate trump shows taxesdebate tells putin stop killing soldiersdebate put sanctions putin election hacks amp  i wish publicly challenge   ric',\n",
       " '  sad wake everyday forgetting you george will    like swampers badly need disinfect  youre new breed senileelites  same man plan vote for',\n",
       " 'question if doesnt pick woman color  would black community hold ',\n",
       " 'right  formally implicated scandal reported afternoon',\n",
       " 'these idiots let trump anything wants  when biden gets elected  i want hear word  i hope come like ',\n",
       " 'how could        i dont buy anyone buy ',\n",
       " 'there never teaching religion public school i went i want watch pander islamdisgusting people dumb  this christian country people believe no god outnumber non christian religions combined usabiden   b',\n",
       " 'in dreams   there going a sweep house  senate  president biden november  ',\n",
       " 'joy one woman mission expose  none good fit potus  i happy  she put space time ',\n",
       " 'i slept better obama biden joe biden make america better again']"
      ]
     },
     "execution_count": 24,
     "metadata": {},
     "output_type": "execute_result"
    }
   ],
   "source": [
    "stemmed[:10]"
   ]
  },
  {
   "cell_type": "code",
   "execution_count": 38,
   "metadata": {},
   "outputs": [],
   "source": [
    "df[\"Processed\"] = stemmed"
   ]
  },
  {
   "cell_type": "markdown",
   "metadata": {},
   "source": [
    "### TfidfVectorizer"
   ]
  },
  {
   "cell_type": "code",
   "execution_count": 58,
   "metadata": {},
   "outputs": [
    {
     "data": {
      "text/html": [
       "<div>\n",
       "<style scoped>\n",
       "    .dataframe tbody tr th:only-of-type {\n",
       "        vertical-align: middle;\n",
       "    }\n",
       "\n",
       "    .dataframe tbody tr th {\n",
       "        vertical-align: top;\n",
       "    }\n",
       "\n",
       "    .dataframe thead th {\n",
       "        text-align: right;\n",
       "    }\n",
       "</style>\n",
       "<table border=\"1\" class=\"dataframe\">\n",
       "  <thead>\n",
       "    <tr style=\"text-align: right;\">\n",
       "      <th></th>\n",
       "      <th>all</th>\n",
       "      <th>already</th>\n",
       "      <th>also</th>\n",
       "      <th>america</th>\n",
       "      <th>american</th>\n",
       "      <th>americans</th>\n",
       "      <th>amp</th>\n",
       "      <th>and</th>\n",
       "      <th>another</th>\n",
       "      <th>anyone</th>\n",
       "      <th>...</th>\n",
       "      <th>will</th>\n",
       "      <th>win</th>\n",
       "      <th>wins</th>\n",
       "      <th>work</th>\n",
       "      <th>world</th>\n",
       "      <th>would</th>\n",
       "      <th>years</th>\n",
       "      <th>yes</th>\n",
       "      <th>you</th>\n",
       "      <th>your</th>\n",
       "    </tr>\n",
       "  </thead>\n",
       "  <tbody>\n",
       "    <tr>\n",
       "      <th>0</th>\n",
       "      <td>0.0</td>\n",
       "      <td>0.0</td>\n",
       "      <td>0.0</td>\n",
       "      <td>0.000000</td>\n",
       "      <td>0.0</td>\n",
       "      <td>0.0</td>\n",
       "      <td>0.290424</td>\n",
       "      <td>0.0</td>\n",
       "      <td>0.0</td>\n",
       "      <td>0.000000</td>\n",
       "      <td>...</td>\n",
       "      <td>0.00000</td>\n",
       "      <td>0.0</td>\n",
       "      <td>0.0</td>\n",
       "      <td>0.0</td>\n",
       "      <td>0.0</td>\n",
       "      <td>0.000000</td>\n",
       "      <td>0.0</td>\n",
       "      <td>0.0</td>\n",
       "      <td>0.000000</td>\n",
       "      <td>0.0</td>\n",
       "    </tr>\n",
       "    <tr>\n",
       "      <th>1</th>\n",
       "      <td>0.0</td>\n",
       "      <td>0.0</td>\n",
       "      <td>0.0</td>\n",
       "      <td>0.000000</td>\n",
       "      <td>0.0</td>\n",
       "      <td>0.0</td>\n",
       "      <td>0.000000</td>\n",
       "      <td>0.0</td>\n",
       "      <td>0.0</td>\n",
       "      <td>0.000000</td>\n",
       "      <td>...</td>\n",
       "      <td>0.38754</td>\n",
       "      <td>0.0</td>\n",
       "      <td>0.0</td>\n",
       "      <td>0.0</td>\n",
       "      <td>0.0</td>\n",
       "      <td>0.000000</td>\n",
       "      <td>0.0</td>\n",
       "      <td>0.0</td>\n",
       "      <td>0.299623</td>\n",
       "      <td>0.0</td>\n",
       "    </tr>\n",
       "    <tr>\n",
       "      <th>2</th>\n",
       "      <td>0.0</td>\n",
       "      <td>0.0</td>\n",
       "      <td>0.0</td>\n",
       "      <td>0.000000</td>\n",
       "      <td>0.0</td>\n",
       "      <td>0.0</td>\n",
       "      <td>0.000000</td>\n",
       "      <td>0.0</td>\n",
       "      <td>0.0</td>\n",
       "      <td>0.000000</td>\n",
       "      <td>...</td>\n",
       "      <td>0.00000</td>\n",
       "      <td>0.0</td>\n",
       "      <td>0.0</td>\n",
       "      <td>0.0</td>\n",
       "      <td>0.0</td>\n",
       "      <td>0.516294</td>\n",
       "      <td>0.0</td>\n",
       "      <td>0.0</td>\n",
       "      <td>0.000000</td>\n",
       "      <td>0.0</td>\n",
       "    </tr>\n",
       "    <tr>\n",
       "      <th>3</th>\n",
       "      <td>0.0</td>\n",
       "      <td>0.0</td>\n",
       "      <td>0.0</td>\n",
       "      <td>0.000000</td>\n",
       "      <td>0.0</td>\n",
       "      <td>0.0</td>\n",
       "      <td>0.000000</td>\n",
       "      <td>0.0</td>\n",
       "      <td>0.0</td>\n",
       "      <td>0.000000</td>\n",
       "      <td>...</td>\n",
       "      <td>0.00000</td>\n",
       "      <td>0.0</td>\n",
       "      <td>0.0</td>\n",
       "      <td>0.0</td>\n",
       "      <td>0.0</td>\n",
       "      <td>0.000000</td>\n",
       "      <td>0.0</td>\n",
       "      <td>0.0</td>\n",
       "      <td>0.000000</td>\n",
       "      <td>0.0</td>\n",
       "    </tr>\n",
       "    <tr>\n",
       "      <th>4</th>\n",
       "      <td>0.0</td>\n",
       "      <td>0.0</td>\n",
       "      <td>0.0</td>\n",
       "      <td>0.000000</td>\n",
       "      <td>0.0</td>\n",
       "      <td>0.0</td>\n",
       "      <td>0.000000</td>\n",
       "      <td>0.0</td>\n",
       "      <td>0.0</td>\n",
       "      <td>0.000000</td>\n",
       "      <td>...</td>\n",
       "      <td>0.00000</td>\n",
       "      <td>0.0</td>\n",
       "      <td>0.0</td>\n",
       "      <td>0.0</td>\n",
       "      <td>0.0</td>\n",
       "      <td>0.000000</td>\n",
       "      <td>0.0</td>\n",
       "      <td>0.0</td>\n",
       "      <td>0.000000</td>\n",
       "      <td>0.0</td>\n",
       "    </tr>\n",
       "    <tr>\n",
       "      <th>5</th>\n",
       "      <td>0.0</td>\n",
       "      <td>0.0</td>\n",
       "      <td>0.0</td>\n",
       "      <td>0.000000</td>\n",
       "      <td>0.0</td>\n",
       "      <td>0.0</td>\n",
       "      <td>0.000000</td>\n",
       "      <td>0.0</td>\n",
       "      <td>0.0</td>\n",
       "      <td>0.530189</td>\n",
       "      <td>...</td>\n",
       "      <td>0.00000</td>\n",
       "      <td>0.0</td>\n",
       "      <td>0.0</td>\n",
       "      <td>0.0</td>\n",
       "      <td>0.0</td>\n",
       "      <td>0.000000</td>\n",
       "      <td>0.0</td>\n",
       "      <td>0.0</td>\n",
       "      <td>0.000000</td>\n",
       "      <td>0.0</td>\n",
       "    </tr>\n",
       "    <tr>\n",
       "      <th>6</th>\n",
       "      <td>0.0</td>\n",
       "      <td>0.0</td>\n",
       "      <td>0.0</td>\n",
       "      <td>0.000000</td>\n",
       "      <td>0.0</td>\n",
       "      <td>0.0</td>\n",
       "      <td>0.000000</td>\n",
       "      <td>0.0</td>\n",
       "      <td>0.0</td>\n",
       "      <td>0.000000</td>\n",
       "      <td>...</td>\n",
       "      <td>0.00000</td>\n",
       "      <td>0.0</td>\n",
       "      <td>0.0</td>\n",
       "      <td>0.0</td>\n",
       "      <td>0.0</td>\n",
       "      <td>0.000000</td>\n",
       "      <td>0.0</td>\n",
       "      <td>0.0</td>\n",
       "      <td>0.000000</td>\n",
       "      <td>0.0</td>\n",
       "    </tr>\n",
       "    <tr>\n",
       "      <th>7</th>\n",
       "      <td>0.0</td>\n",
       "      <td>0.0</td>\n",
       "      <td>0.0</td>\n",
       "      <td>0.000000</td>\n",
       "      <td>0.0</td>\n",
       "      <td>0.0</td>\n",
       "      <td>0.000000</td>\n",
       "      <td>0.0</td>\n",
       "      <td>0.0</td>\n",
       "      <td>0.000000</td>\n",
       "      <td>...</td>\n",
       "      <td>0.00000</td>\n",
       "      <td>0.0</td>\n",
       "      <td>0.0</td>\n",
       "      <td>0.0</td>\n",
       "      <td>0.0</td>\n",
       "      <td>0.000000</td>\n",
       "      <td>0.0</td>\n",
       "      <td>0.0</td>\n",
       "      <td>0.000000</td>\n",
       "      <td>0.0</td>\n",
       "    </tr>\n",
       "    <tr>\n",
       "      <th>8</th>\n",
       "      <td>0.0</td>\n",
       "      <td>0.0</td>\n",
       "      <td>0.0</td>\n",
       "      <td>0.000000</td>\n",
       "      <td>0.0</td>\n",
       "      <td>0.0</td>\n",
       "      <td>0.000000</td>\n",
       "      <td>0.0</td>\n",
       "      <td>0.0</td>\n",
       "      <td>0.000000</td>\n",
       "      <td>...</td>\n",
       "      <td>0.00000</td>\n",
       "      <td>0.0</td>\n",
       "      <td>0.0</td>\n",
       "      <td>0.0</td>\n",
       "      <td>0.0</td>\n",
       "      <td>0.000000</td>\n",
       "      <td>0.0</td>\n",
       "      <td>0.0</td>\n",
       "      <td>0.000000</td>\n",
       "      <td>0.0</td>\n",
       "    </tr>\n",
       "    <tr>\n",
       "      <th>9</th>\n",
       "      <td>0.0</td>\n",
       "      <td>0.0</td>\n",
       "      <td>0.0</td>\n",
       "      <td>0.284088</td>\n",
       "      <td>0.0</td>\n",
       "      <td>0.0</td>\n",
       "      <td>0.000000</td>\n",
       "      <td>0.0</td>\n",
       "      <td>0.0</td>\n",
       "      <td>0.000000</td>\n",
       "      <td>...</td>\n",
       "      <td>0.00000</td>\n",
       "      <td>0.0</td>\n",
       "      <td>0.0</td>\n",
       "      <td>0.0</td>\n",
       "      <td>0.0</td>\n",
       "      <td>0.000000</td>\n",
       "      <td>0.0</td>\n",
       "      <td>0.0</td>\n",
       "      <td>0.000000</td>\n",
       "      <td>0.0</td>\n",
       "    </tr>\n",
       "  </tbody>\n",
       "</table>\n",
       "<p>10 rows × 150 columns</p>\n",
       "</div>"
      ],
      "text/plain": [
       "   all  already  also   america  american  americans       amp  and  another  \\\n",
       "0  0.0      0.0   0.0  0.000000       0.0        0.0  0.290424  0.0      0.0   \n",
       "1  0.0      0.0   0.0  0.000000       0.0        0.0  0.000000  0.0      0.0   \n",
       "2  0.0      0.0   0.0  0.000000       0.0        0.0  0.000000  0.0      0.0   \n",
       "3  0.0      0.0   0.0  0.000000       0.0        0.0  0.000000  0.0      0.0   \n",
       "4  0.0      0.0   0.0  0.000000       0.0        0.0  0.000000  0.0      0.0   \n",
       "5  0.0      0.0   0.0  0.000000       0.0        0.0  0.000000  0.0      0.0   \n",
       "6  0.0      0.0   0.0  0.000000       0.0        0.0  0.000000  0.0      0.0   \n",
       "7  0.0      0.0   0.0  0.000000       0.0        0.0  0.000000  0.0      0.0   \n",
       "8  0.0      0.0   0.0  0.000000       0.0        0.0  0.000000  0.0      0.0   \n",
       "9  0.0      0.0   0.0  0.284088       0.0        0.0  0.000000  0.0      0.0   \n",
       "\n",
       "     anyone  ...     will  win  wins  work  world     would  years  yes  \\\n",
       "0  0.000000  ...  0.00000  0.0   0.0   0.0    0.0  0.000000    0.0  0.0   \n",
       "1  0.000000  ...  0.38754  0.0   0.0   0.0    0.0  0.000000    0.0  0.0   \n",
       "2  0.000000  ...  0.00000  0.0   0.0   0.0    0.0  0.516294    0.0  0.0   \n",
       "3  0.000000  ...  0.00000  0.0   0.0   0.0    0.0  0.000000    0.0  0.0   \n",
       "4  0.000000  ...  0.00000  0.0   0.0   0.0    0.0  0.000000    0.0  0.0   \n",
       "5  0.530189  ...  0.00000  0.0   0.0   0.0    0.0  0.000000    0.0  0.0   \n",
       "6  0.000000  ...  0.00000  0.0   0.0   0.0    0.0  0.000000    0.0  0.0   \n",
       "7  0.000000  ...  0.00000  0.0   0.0   0.0    0.0  0.000000    0.0  0.0   \n",
       "8  0.000000  ...  0.00000  0.0   0.0   0.0    0.0  0.000000    0.0  0.0   \n",
       "9  0.000000  ...  0.00000  0.0   0.0   0.0    0.0  0.000000    0.0  0.0   \n",
       "\n",
       "        you  your  \n",
       "0  0.000000   0.0  \n",
       "1  0.299623   0.0  \n",
       "2  0.000000   0.0  \n",
       "3  0.000000   0.0  \n",
       "4  0.000000   0.0  \n",
       "5  0.000000   0.0  \n",
       "6  0.000000   0.0  \n",
       "7  0.000000   0.0  \n",
       "8  0.000000   0.0  \n",
       "9  0.000000   0.0  \n",
       "\n",
       "[10 rows x 150 columns]"
      ]
     },
     "execution_count": 58,
     "metadata": {},
     "output_type": "execute_result"
    }
   ],
   "source": [
    "from sklearn.feature_extraction.text import TfidfVectorizer\n",
    "\n",
    "vect = TfidfVectorizer(ngram_range=(1,1), max_features=150).fit(df[\"Processed\"]) # Define the vectorizer \n",
    "\n",
    "X_txt = vect.transform(df[\"Processed\"])  # Transform the vectorizer\n",
    "\n",
    "X=pd.DataFrame(X_txt.toarray(), columns=vect.get_feature_names()) # Transforming to a data frame \n",
    "X.head(10)"
   ]
  },
  {
   "cell_type": "markdown",
   "metadata": {},
   "source": [
    "## Sentiment Analysis"
   ]
  },
  {
   "cell_type": "code",
   "execution_count": 59,
   "metadata": {},
   "outputs": [],
   "source": [
    "from textblob import TextBlob"
   ]
  },
  {
   "cell_type": "code",
   "execution_count": 60,
   "metadata": {},
   "outputs": [],
   "source": [
    "pol = []\n",
    "for tweet in df[\"Processed\"]:\n",
    "    blob = TextBlob(tweet)\n",
    "    pol.append(blob.sentiment.polarity)"
   ]
  },
  {
   "cell_type": "code",
   "execution_count": 61,
   "metadata": {},
   "outputs": [
    {
     "data": {
      "text/html": [
       "<div>\n",
       "<style scoped>\n",
       "    .dataframe tbody tr th:only-of-type {\n",
       "        vertical-align: middle;\n",
       "    }\n",
       "\n",
       "    .dataframe tbody tr th {\n",
       "        vertical-align: top;\n",
       "    }\n",
       "\n",
       "    .dataframe thead th {\n",
       "        text-align: right;\n",
       "    }\n",
       "</style>\n",
       "<table border=\"1\" class=\"dataframe\">\n",
       "  <thead>\n",
       "    <tr style=\"text-align: right;\">\n",
       "      <th></th>\n",
       "      <th>Date</th>\n",
       "      <th>Tweet_id</th>\n",
       "      <th>Verified</th>\n",
       "      <th>Tweet</th>\n",
       "      <th>User</th>\n",
       "      <th>Location</th>\n",
       "      <th>Source</th>\n",
       "      <th>Likes</th>\n",
       "      <th>Followers</th>\n",
       "      <th>Following</th>\n",
       "      <th>Retweets</th>\n",
       "      <th>Processed</th>\n",
       "      <th>Polarity</th>\n",
       "    </tr>\n",
       "  </thead>\n",
       "  <tbody>\n",
       "    <tr>\n",
       "      <th>0</th>\n",
       "      <td>2020-07-21 23:59:43</td>\n",
       "      <td>1285726179907993601</td>\n",
       "      <td>False</td>\n",
       "      <td>@JoeBiden VP Biden I wish you wouldn't debate ...</td>\n",
       "      <td>BballmomEjZay</td>\n",
       "      <td>United States</td>\n",
       "      <td>Twitter for Android</td>\n",
       "      <td>0</td>\n",
       "      <td>54</td>\n",
       "      <td>192</td>\n",
       "      <td>0</td>\n",
       "      <td>vp biden i wish debate trump unless  debate tr...</td>\n",
       "      <td>0.000000</td>\n",
       "    </tr>\n",
       "    <tr>\n",
       "      <th>1</th>\n",
       "      <td>2020-07-21 23:59:27</td>\n",
       "      <td>1285726110513344520</td>\n",
       "      <td>False</td>\n",
       "      <td>#GeorgeWill , it’s so sad you wake up everyday...</td>\n",
       "      <td>TalbotMac</td>\n",
       "      <td>East Aurora, NY</td>\n",
       "      <td>Twitter for iPhone</td>\n",
       "      <td>0</td>\n",
       "      <td>882</td>\n",
       "      <td>1554</td>\n",
       "      <td>0</td>\n",
       "      <td>sad wake everyday forgetting you george will...</td>\n",
       "      <td>-0.252727</td>\n",
       "    </tr>\n",
       "    <tr>\n",
       "      <th>2</th>\n",
       "      <td>2020-07-21 23:59:24</td>\n",
       "      <td>1285726099239055361</td>\n",
       "      <td>False</td>\n",
       "      <td>Question:\\nIf @JoeBiden doesn’t pick a woman o...</td>\n",
       "      <td>bk_middleclass</td>\n",
       "      <td>Nashville, TN</td>\n",
       "      <td>Twitter for iPhone</td>\n",
       "      <td>0</td>\n",
       "      <td>1294</td>\n",
       "      <td>1213</td>\n",
       "      <td>0</td>\n",
       "      <td>question if doesnt pick woman color  would bla...</td>\n",
       "      <td>-0.166667</td>\n",
       "    </tr>\n",
       "    <tr>\n",
       "      <th>3</th>\n",
       "      <td>2020-07-21 23:58:47</td>\n",
       "      <td>1285725945849151490</td>\n",
       "      <td>False</td>\n",
       "      <td>Right? 🤣🤣🤣 #Biden formally implicated in #Ukra...</td>\n",
       "      <td>MMorganBlair</td>\n",
       "      <td>United States</td>\n",
       "      <td>Twitter for iPhone</td>\n",
       "      <td>1</td>\n",
       "      <td>2476</td>\n",
       "      <td>3334</td>\n",
       "      <td>1</td>\n",
       "      <td>right  formally implicated scandal reported af...</td>\n",
       "      <td>-0.057143</td>\n",
       "    </tr>\n",
       "    <tr>\n",
       "      <th>4</th>\n",
       "      <td>2020-07-21 23:58:02</td>\n",
       "      <td>1285725754961965056</td>\n",
       "      <td>False</td>\n",
       "      <td>These idiots let Trump do anything he wants. W...</td>\n",
       "      <td>realfacade1</td>\n",
       "      <td>Purgatory</td>\n",
       "      <td>Twitter for Android</td>\n",
       "      <td>0</td>\n",
       "      <td>2764</td>\n",
       "      <td>3799</td>\n",
       "      <td>0</td>\n",
       "      <td>these idiots let trump anything wants  when bi...</td>\n",
       "      <td>-0.300000</td>\n",
       "    </tr>\n",
       "  </tbody>\n",
       "</table>\n",
       "</div>"
      ],
      "text/plain": [
       "                  Date             Tweet_id  Verified  \\\n",
       "0  2020-07-21 23:59:43  1285726179907993601     False   \n",
       "1  2020-07-21 23:59:27  1285726110513344520     False   \n",
       "2  2020-07-21 23:59:24  1285726099239055361     False   \n",
       "3  2020-07-21 23:58:47  1285725945849151490     False   \n",
       "4  2020-07-21 23:58:02  1285725754961965056     False   \n",
       "\n",
       "                                               Tweet            User  \\\n",
       "0  @JoeBiden VP Biden I wish you wouldn't debate ...   BballmomEjZay   \n",
       "1  #GeorgeWill , it’s so sad you wake up everyday...       TalbotMac   \n",
       "2  Question:\\nIf @JoeBiden doesn’t pick a woman o...  bk_middleclass   \n",
       "3  Right? 🤣🤣🤣 #Biden formally implicated in #Ukra...    MMorganBlair   \n",
       "4  These idiots let Trump do anything he wants. W...     realfacade1   \n",
       "\n",
       "          Location               Source  Likes  Followers  Following  \\\n",
       "0    United States  Twitter for Android      0         54        192   \n",
       "1  East Aurora, NY   Twitter for iPhone      0        882       1554   \n",
       "2    Nashville, TN   Twitter for iPhone      0       1294       1213   \n",
       "3    United States   Twitter for iPhone      1       2476       3334   \n",
       "4       Purgatory   Twitter for Android      0       2764       3799   \n",
       "\n",
       "   Retweets                                          Processed  Polarity  \n",
       "0         0  vp biden i wish debate trump unless  debate tr...  0.000000  \n",
       "1         0    sad wake everyday forgetting you george will... -0.252727  \n",
       "2         0  question if doesnt pick woman color  would bla... -0.166667  \n",
       "3         1  right  formally implicated scandal reported af... -0.057143  \n",
       "4         0  these idiots let trump anything wants  when bi... -0.300000  "
      ]
     },
     "execution_count": 61,
     "metadata": {},
     "output_type": "execute_result"
    }
   ],
   "source": [
    "df['Polarity']=pol\n",
    "df.head(5)"
   ]
  },
  {
   "cell_type": "code",
   "execution_count": 62,
   "metadata": {},
   "outputs": [],
   "source": [
    "positive ,negative, neutral = 0,0,0\n",
    "\n",
    "for pol in df[\"Polarity\"]:\n",
    "    if pol > 0:\n",
    "        positive += 1\n",
    "    elif pol < 0:\n",
    "        negative += 1\n",
    "    else:\n",
    "        neutral += 1"
   ]
  },
  {
   "cell_type": "markdown",
   "metadata": {},
   "source": [
    "## Result"
   ]
  },
  {
   "cell_type": "code",
   "execution_count": 63,
   "metadata": {},
   "outputs": [
    {
     "name": "stdout",
     "output_type": "stream",
     "text": [
      "Positive : 6031\n",
      "Negative : 3607\n",
      "Neutral : 5408\n"
     ]
    }
   ],
   "source": [
    "print(\"Positive :\",positive)\n",
    "print(\"Negative :\",negative)\n",
    "print(\"Neutral :\",neutral)"
   ]
  }
 ],
 "metadata": {
  "kernelspec": {
   "display_name": "Python [conda env:env1]",
   "language": "python",
   "name": "conda-env-env1-py"
  },
  "language_info": {
   "codemirror_mode": {
    "name": "ipython",
    "version": 3
   },
   "file_extension": ".py",
   "mimetype": "text/x-python",
   "name": "python",
   "nbconvert_exporter": "python",
   "pygments_lexer": "ipython3",
   "version": "3.7.7"
  }
 },
 "nbformat": 4,
 "nbformat_minor": 4
}
