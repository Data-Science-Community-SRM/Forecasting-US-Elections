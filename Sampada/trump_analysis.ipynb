{
 "cells": [
  {
   "cell_type": "markdown",
   "metadata": {},
   "source": [
    "**Introduction**\n",
    "\n",
    "Objective: Extraction of tweets and Perform sentiment analysis on the presidential candidature of Donald Trump, Joe Biden and Kanye West in the upcoming elections in US in November,2020.\n",
    "\n",
    "In this project we've extracted tweets using Twitter's API, and GetOldTweets library to overcome the timeframe limitations of Twitter API. After extraction, we have done preprocessing for cleaning the datasets, basic EDA, sentiment analysis to observe polarity towards each candidate, used classification models on these sentiments and created visualisations.\n",
    "\n",
    "Use of Natural Language Processing, Machine larning classification models,"
   ]
  },
  {
   "cell_type": "markdown",
   "metadata": {},
   "source": [
    " **Understanding the Dataset**\n",
    "\n",
    "In this dataset, we have tweets by people ragarding the candidature of Joe Biden as the president for the upcoming elections in November 2020. \n",
    "\n",
    "Aim : to perform sentiment analysis on these tweets and predict a general reaction towards his candidature."
   ]
  },
  {
   "cell_type": "markdown",
   "metadata": {},
   "source": [
    "Importing Libraries"
   ]
  },
  {
   "cell_type": "code",
   "execution_count": 166,
   "metadata": {},
   "outputs": [],
   "source": [
    "import re\n",
    "import numpy as np\n",
    "import matplotlib.pyplot as plt\n",
    "import pandas as pd\n",
    "import nltk\n",
    "import seaborn as sns \n",
    "import string\n",
    "import os\n",
    "import json\n",
    "import datetime as dt\n",
    "from collections import Counter\n",
    "from nltk.tokenize import sent_tokenize\n",
    "from nltk.tokenize import word_tokenize\n",
    "from nltk.corpus import words\n",
    "from nltk.corpus import stopwords\n",
    "from nltk.stem import PorterStemmer\n",
    "from nltk.stem import WordNetLemmatizer"
   ]
  },
  {
   "cell_type": "markdown",
   "metadata": {},
   "source": [
    "Importing dataset and reading the file"
   ]
  },
  {
   "cell_type": "code",
   "execution_count": 167,
   "metadata": {},
   "outputs": [],
   "source": [
    "tweets = pd.read_csv(r'C:\\Users\\Sampada Bareja\\Trump_Combined.csv')"
   ]
  },
  {
   "cell_type": "code",
   "execution_count": 168,
   "metadata": {},
   "outputs": [
    {
     "data": {
      "text/html": [
       "<div>\n",
       "<style scoped>\n",
       "    .dataframe tbody tr th:only-of-type {\n",
       "        vertical-align: middle;\n",
       "    }\n",
       "\n",
       "    .dataframe tbody tr th {\n",
       "        vertical-align: top;\n",
       "    }\n",
       "\n",
       "    .dataframe thead th {\n",
       "        text-align: right;\n",
       "    }\n",
       "</style>\n",
       "<table border=\"1\" class=\"dataframe\">\n",
       "  <thead>\n",
       "    <tr style=\"text-align: right;\">\n",
       "      <th></th>\n",
       "      <th>Date</th>\n",
       "      <th>Tweet_id</th>\n",
       "      <th>Verified</th>\n",
       "      <th>Tweet</th>\n",
       "      <th>User</th>\n",
       "      <th>Location</th>\n",
       "      <th>Source</th>\n",
       "      <th>Likes</th>\n",
       "      <th>Followers</th>\n",
       "      <th>Following</th>\n",
       "      <th>Retweets</th>\n",
       "    </tr>\n",
       "  </thead>\n",
       "  <tbody>\n",
       "    <tr>\n",
       "      <td>0</td>\n",
       "      <td>2020-07-21 23:59:54</td>\n",
       "      <td>1285726226813014016</td>\n",
       "      <td>False</td>\n",
       "      <td>You are amazing, @chicagosmayor.  I hope you g...</td>\n",
       "      <td>rathacat</td>\n",
       "      <td>Patterson, CA</td>\n",
       "      <td>Twitter Web App</td>\n",
       "      <td>1</td>\n",
       "      <td>2429</td>\n",
       "      <td>3710</td>\n",
       "      <td>0</td>\n",
       "    </tr>\n",
       "    <tr>\n",
       "      <td>1</td>\n",
       "      <td>2020-07-21 23:59:51</td>\n",
       "      <td>1285726213001093127</td>\n",
       "      <td>False</td>\n",
       "      <td>#Trump finally admitted that the spread of the...</td>\n",
       "      <td>Nor_Kan_1965</td>\n",
       "      <td>NaN</td>\n",
       "      <td>Twitter for Android</td>\n",
       "      <td>1</td>\n",
       "      <td>112</td>\n",
       "      <td>73</td>\n",
       "      <td>1</td>\n",
       "    </tr>\n",
       "    <tr>\n",
       "      <td>2</td>\n",
       "      <td>2020-07-21 23:59:30</td>\n",
       "      <td>1285726126820794368</td>\n",
       "      <td>False</td>\n",
       "      <td>@NavygirlLaura @GOP A sure sign the #GOP party...</td>\n",
       "      <td>ShannsolSolberg</td>\n",
       "      <td>Texas, USA</td>\n",
       "      <td>Twitter for iPhone</td>\n",
       "      <td>1</td>\n",
       "      <td>1359</td>\n",
       "      <td>1745</td>\n",
       "      <td>0</td>\n",
       "    </tr>\n",
       "    <tr>\n",
       "      <td>3</td>\n",
       "      <td>2020-07-21 23:59:20</td>\n",
       "      <td>1285726083455877121</td>\n",
       "      <td>False</td>\n",
       "      <td>Why is #Trump silent when cops beat a #Veteran...</td>\n",
       "      <td>in_pubs</td>\n",
       "      <td>NJ-DC-NY-🌍</td>\n",
       "      <td>Twitter for iPhone</td>\n",
       "      <td>650</td>\n",
       "      <td>78851</td>\n",
       "      <td>17726</td>\n",
       "      <td>254</td>\n",
       "    </tr>\n",
       "    <tr>\n",
       "      <td>4</td>\n",
       "      <td>2020-07-21 23:58:51</td>\n",
       "      <td>1285725963024818183</td>\n",
       "      <td>False</td>\n",
       "      <td>@gtconway3d Speaking of falling, please be car...</td>\n",
       "      <td>dfwcitizen</td>\n",
       "      <td>• GOD BLESS AMERICA •</td>\n",
       "      <td>Twitter for iPhone</td>\n",
       "      <td>2</td>\n",
       "      <td>5333</td>\n",
       "      <td>375</td>\n",
       "      <td>0</td>\n",
       "    </tr>\n",
       "  </tbody>\n",
       "</table>\n",
       "</div>"
      ],
      "text/plain": [
       "                  Date             Tweet_id  Verified  \\\n",
       "0  2020-07-21 23:59:54  1285726226813014016     False   \n",
       "1  2020-07-21 23:59:51  1285726213001093127     False   \n",
       "2  2020-07-21 23:59:30  1285726126820794368     False   \n",
       "3  2020-07-21 23:59:20  1285726083455877121     False   \n",
       "4  2020-07-21 23:58:51  1285725963024818183     False   \n",
       "\n",
       "                                               Tweet             User  \\\n",
       "0  You are amazing, @chicagosmayor.  I hope you g...         rathacat   \n",
       "1  #Trump finally admitted that the spread of the...     Nor_Kan_1965   \n",
       "2  @NavygirlLaura @GOP A sure sign the #GOP party...  ShannsolSolberg   \n",
       "3  Why is #Trump silent when cops beat a #Veteran...          in_pubs   \n",
       "4  @gtconway3d Speaking of falling, please be car...       dfwcitizen   \n",
       "\n",
       "                Location               Source  Likes  Followers  Following  \\\n",
       "0          Patterson, CA      Twitter Web App      1       2429       3710   \n",
       "1                    NaN  Twitter for Android      1        112         73   \n",
       "2             Texas, USA   Twitter for iPhone      1       1359       1745   \n",
       "3             NJ-DC-NY-🌍   Twitter for iPhone    650      78851      17726   \n",
       "4  • GOD BLESS AMERICA •   Twitter for iPhone      2       5333        375   \n",
       "\n",
       "   Retweets  \n",
       "0         0  \n",
       "1         1  \n",
       "2         0  \n",
       "3       254  \n",
       "4         0  "
      ]
     },
     "execution_count": 168,
     "metadata": {},
     "output_type": "execute_result"
    }
   ],
   "source": [
    "tweets.head(5)"
   ]
  },
  {
   "cell_type": "code",
   "execution_count": 169,
   "metadata": {},
   "outputs": [
    {
     "name": "stdout",
     "output_type": "stream",
     "text": [
      "<class 'pandas.core.frame.DataFrame'>\n",
      "RangeIndex: 47652 entries, 0 to 47651\n",
      "Data columns (total 11 columns):\n",
      "Date         47652 non-null object\n",
      "Tweet_id     47652 non-null int64\n",
      "Verified     47652 non-null bool\n",
      "Tweet        47652 non-null object\n",
      "User         47652 non-null object\n",
      "Location     34414 non-null object\n",
      "Source       47650 non-null object\n",
      "Likes        47652 non-null int64\n",
      "Followers    47652 non-null int64\n",
      "Following    47652 non-null int64\n",
      "Retweets     47652 non-null int64\n",
      "dtypes: bool(1), int64(5), object(5)\n",
      "memory usage: 3.7+ MB\n"
     ]
    }
   ],
   "source": [
    "tweets.info() #gives the columnwise info of the data like datatype, nature of entry (null/not null),etc."
   ]
  },
  {
   "cell_type": "code",
   "execution_count": 170,
   "metadata": {},
   "outputs": [
    {
     "data": {
      "text/plain": [
       "(47652, 11)"
      ]
     },
     "execution_count": 170,
     "metadata": {},
     "output_type": "execute_result"
    }
   ],
   "source": [
    "tweets.shape"
   ]
  },
  {
   "cell_type": "markdown",
   "metadata": {},
   "source": [
    " The dataset Contains 47652 rows and 11 Columns."
   ]
  },
  {
   "cell_type": "code",
   "execution_count": 171,
   "metadata": {},
   "outputs": [
    {
     "data": {
      "text/html": [
       "<div>\n",
       "<style scoped>\n",
       "    .dataframe tbody tr th:only-of-type {\n",
       "        vertical-align: middle;\n",
       "    }\n",
       "\n",
       "    .dataframe tbody tr th {\n",
       "        vertical-align: top;\n",
       "    }\n",
       "\n",
       "    .dataframe thead th {\n",
       "        text-align: right;\n",
       "    }\n",
       "</style>\n",
       "<table border=\"1\" class=\"dataframe\">\n",
       "  <thead>\n",
       "    <tr style=\"text-align: right;\">\n",
       "      <th></th>\n",
       "      <th>Tweet_id</th>\n",
       "      <th>Likes</th>\n",
       "      <th>Followers</th>\n",
       "      <th>Following</th>\n",
       "      <th>Retweets</th>\n",
       "    </tr>\n",
       "  </thead>\n",
       "  <tbody>\n",
       "    <tr>\n",
       "      <td>count</td>\n",
       "      <td>4.765200e+04</td>\n",
       "      <td>47652.000000</td>\n",
       "      <td>4.765200e+04</td>\n",
       "      <td>47652.000000</td>\n",
       "      <td>47652.000000</td>\n",
       "    </tr>\n",
       "    <tr>\n",
       "      <td>mean</td>\n",
       "      <td>1.284343e+18</td>\n",
       "      <td>6.437610</td>\n",
       "      <td>1.087270e+04</td>\n",
       "      <td>2845.463506</td>\n",
       "      <td>2.391442</td>\n",
       "    </tr>\n",
       "    <tr>\n",
       "      <td>std</td>\n",
       "      <td>9.123231e+14</td>\n",
       "      <td>208.995361</td>\n",
       "      <td>2.482166e+05</td>\n",
       "      <td>9375.136948</td>\n",
       "      <td>78.189956</td>\n",
       "    </tr>\n",
       "    <tr>\n",
       "      <td>min</td>\n",
       "      <td>1.283023e+18</td>\n",
       "      <td>0.000000</td>\n",
       "      <td>0.000000e+00</td>\n",
       "      <td>0.000000</td>\n",
       "      <td>0.000000</td>\n",
       "    </tr>\n",
       "    <tr>\n",
       "      <td>25%</td>\n",
       "      <td>1.283427e+18</td>\n",
       "      <td>0.000000</td>\n",
       "      <td>1.070000e+02</td>\n",
       "      <td>198.000000</td>\n",
       "      <td>0.000000</td>\n",
       "    </tr>\n",
       "    <tr>\n",
       "      <td>50%</td>\n",
       "      <td>1.284272e+18</td>\n",
       "      <td>0.000000</td>\n",
       "      <td>5.770000e+02</td>\n",
       "      <td>778.000000</td>\n",
       "      <td>0.000000</td>\n",
       "    </tr>\n",
       "    <tr>\n",
       "      <td>75%</td>\n",
       "      <td>1.285316e+18</td>\n",
       "      <td>1.000000</td>\n",
       "      <td>2.569000e+03</td>\n",
       "      <td>2728.250000</td>\n",
       "      <td>0.000000</td>\n",
       "    </tr>\n",
       "    <tr>\n",
       "      <td>max</td>\n",
       "      <td>1.285726e+18</td>\n",
       "      <td>36213.000000</td>\n",
       "      <td>1.389605e+07</td>\n",
       "      <td>630285.000000</td>\n",
       "      <td>13732.000000</td>\n",
       "    </tr>\n",
       "  </tbody>\n",
       "</table>\n",
       "</div>"
      ],
      "text/plain": [
       "           Tweet_id         Likes     Followers      Following      Retweets\n",
       "count  4.765200e+04  47652.000000  4.765200e+04   47652.000000  47652.000000\n",
       "mean   1.284343e+18      6.437610  1.087270e+04    2845.463506      2.391442\n",
       "std    9.123231e+14    208.995361  2.482166e+05    9375.136948     78.189956\n",
       "min    1.283023e+18      0.000000  0.000000e+00       0.000000      0.000000\n",
       "25%    1.283427e+18      0.000000  1.070000e+02     198.000000      0.000000\n",
       "50%    1.284272e+18      0.000000  5.770000e+02     778.000000      0.000000\n",
       "75%    1.285316e+18      1.000000  2.569000e+03    2728.250000      0.000000\n",
       "max    1.285726e+18  36213.000000  1.389605e+07  630285.000000  13732.000000"
      ]
     },
     "execution_count": 171,
     "metadata": {},
     "output_type": "execute_result"
    }
   ],
   "source": [
    "tweets.describe() "
   ]
  },
  {
   "cell_type": "markdown",
   "metadata": {},
   "source": [
    "Here we have the statistical summary of our data i.e. only about columns with numeric values."
   ]
  },
  {
   "cell_type": "code",
   "execution_count": 172,
   "metadata": {},
   "outputs": [
    {
     "data": {
      "text/plain": [
       "False    46788\n",
       "True       864\n",
       "Name: Verified, dtype: int64"
      ]
     },
     "execution_count": 172,
     "metadata": {},
     "output_type": "execute_result"
    }
   ],
   "source": [
    "tweets.Verified.value_counts()"
   ]
  },
  {
   "cell_type": "markdown",
   "metadata": {},
   "source": [
    "There are 864 verified accounts."
   ]
  },
  {
   "cell_type": "markdown",
   "metadata": {},
   "source": [
    "**Data Preprocessing**\n",
    "Removing the unwanted characters, numbers, punctuations, urls, emojis, omitting stopwords and obtaining root words."
   ]
  },
  {
   "cell_type": "code",
   "execution_count": 173,
   "metadata": {},
   "outputs": [],
   "source": [
    "#removing unnecessary special characters, numbers, punctuations in a new column called clean tweets\n",
    "tweets['clean_tweets'] = tweets.Tweet.str.replace(\"[^a-zA-Z]\", \" \")\n"
   ]
  },
  {
   "cell_type": "code",
   "execution_count": 174,
   "metadata": {},
   "outputs": [],
   "source": [
    "#converting into lower case \n",
    "tweets.Tweet = [low.lower() for low in tweets.Tweet]\n"
   ]
  },
  {
   "cell_type": "code",
   "execution_count": 175,
   "metadata": {},
   "outputs": [],
   "source": [
    "#removing urls\n",
    "\n",
    "tweets.Tweet = tweets.Tweet.apply(lambda x: re.sub(r\"https\\S+\", \"\", str(x)))\n"
   ]
  },
  {
   "cell_type": "code",
   "execution_count": 176,
   "metadata": {},
   "outputs": [
    {
     "data": {
      "text/plain": [
       "0    you are amazing chicagosmayor i hope you get a...\n",
       "1     trump finally admitted that the spread of the...\n",
       "2     navygirllaura gop a sure sign the gop party i...\n",
       "3    why is trump silent when cops beat a veteran a...\n",
       "4     gtconway3d speaking of falling please be care...\n",
       "Name: Tweet, dtype: object"
      ]
     },
     "execution_count": 176,
     "metadata": {},
     "output_type": "execute_result"
    }
   ],
   "source": [
    "#removing emojis\n",
    "def noemoji(Tweet):\n",
    "    emojis = re.findall('(?::|;|=)(?:-)?(?:\\)|\\(|D|P)',Tweet)\n",
    "    Tweet = re.sub('[\\W]+',' ', Tweet.lower()) +\\\n",
    "    ' '.join(emojis).replace('-','')\n",
    "     \n",
    "    return Tweet\n",
    "    \n",
    "tweets.Tweet=tweets.Tweet.apply(noemoji)\n",
    "\n",
    "tweets.Tweet.head(5)"
   ]
  },
  {
   "cell_type": "code",
   "execution_count": 177,
   "metadata": {},
   "outputs": [
    {
     "data": {
      "text/plain": [
       "Twitter Web App        17539\n",
       "Twitter for iPhone     13156\n",
       "Twitter for Android    10024\n",
       "Twitter for iPad        2327\n",
       "TweetDeck                816\n",
       "                       ...  \n",
       "chirr.app                  1\n",
       "diagonals                  1\n",
       "tvpunjab                   1\n",
       "OS X                       1\n",
       "mehabe                     1\n",
       "Name: Source, Length: 204, dtype: int64"
      ]
     },
     "execution_count": 177,
     "metadata": {},
     "output_type": "execute_result"
    }
   ],
   "source": [
    "tweets['Source'].value_counts()"
   ]
  },
  {
   "cell_type": "markdown",
   "metadata": {},
   "source": [
    "This shows the sources and the frequency of each one of them used by people to tweet. Max no is from web application followed by iphone, android, ipad, tweetdeck and so on."
   ]
  },
  {
   "cell_type": "code",
   "execution_count": 178,
   "metadata": {},
   "outputs": [
    {
     "data": {
      "text/plain": [
       "0"
      ]
     },
     "execution_count": 178,
     "metadata": {},
     "output_type": "execute_result"
    }
   ],
   "source": [
    "count = 0    #checking for retweets\n",
    "for i in tweets['Tweet']:\n",
    "    if re.match(r'^RT', i):  \n",
    "        df.drop(df.loc[tweets['Tweet']==i].index,inplace = True)\n",
    "        count+=1\n",
    "    \n",
    "count"
   ]
  },
  {
   "cell_type": "markdown",
   "metadata": {},
   "source": [
    "The output shows that there are no retweets in this as we had eliminated them at the time of extraction."
   ]
  },
  {
   "cell_type": "markdown",
   "metadata": {},
   "source": [
    "**Removing stopwords**\n",
    "\n",
    "Stop words are words that do not add much to the sentiment and can be ignored.\n"
   ]
  },
  {
   "cell_type": "code",
   "execution_count": 179,
   "metadata": {},
   "outputs": [
    {
     "name": "stdout",
     "output_type": "stream",
     "text": [
      "['when', 'have', \"aren't\", 'itself', 'through', 'by', \"it's\", 'on', 'where', \"should've\", 'yours', \"don't\", 'from', 'isn', 'were', 'before', 'you', 'won', 'having', 'do', 'does', 'at', \"mightn't\", 'just', 'doing', 'up', 'above', 'mustn', 'ain', \"wouldn't\", 'not', 'so', 'whom', 'didn', 'or', 'as', 'after', 'her', 'd', 'aren', \"isn't\", 'while', 'once', \"weren't\", 'but', \"you'll\", 'ourselves', 'this', 'which', 'these', 'ours', 'too', \"shouldn't\", 'here', 'himself', 'will', 'below', 're', 'why', \"she's\", 'our', 'such', 'very', \"hasn't\", 'shouldn', 'me', 'to', \"you'd\", 'only', 'are', 'was', 'how', 'more', 'nor', 'hadn', 'both', 'has', 'yourself', 'those', 'hers', 'all', 'm', 'myself', 'own', 'their', 'been', \"mustn't\", 'most', 'into', 'there', 'then', \"doesn't\", 'between', \"you're\", 'being', 'down', 'its', 'few', 'themselves', 'should', 'in', \"shan't\", 'it', 'again', 'mightn', 'your', 'am', 'further', 'them', 'no', 'y', \"didn't\", 'is', 'what', 'than', 'now', 'my', \"needn't\", 'who', 'yourselves', 'don', 'she', \"that'll\", 'a', 'if', 'shan', 'couldn', 'an', \"haven't\", 'out', 'ma', 'the', 'had', 'that', 'o', 'wouldn', 'his', 'over', 'for', 've', 'weren', 'each', 'other', 'him', 'did', 'until', 'needn', 'herself', \"couldn't\", 'of', \"won't\", 'with', 'can', 'doesn', 'wasn', 'because', 'about', 'during', 'be', 'off', 'and', 'same', 'any', 'll', 'hasn', \"you've\", 'under', 't', 'against', \"wasn't\", 'theirs', 's', \"hadn't\", 'some', 'he', 'we', 'i', 'they', 'haven']\n"
     ]
    }
   ],
   "source": [
    "stop_words = set(stopwords.words('english')) \n",
    "stop_words = list(stop_words)\n",
    "print(stop_words)"
   ]
  },
  {
   "cell_type": "code",
   "execution_count": 180,
   "metadata": {},
   "outputs": [],
   "source": [
    "tweets['Tweet'] = tweets.Tweet.apply(lambda x: ' '.join(w for w in x.split() if w not in stop_words)) "
   ]
  },
  {
   "cell_type": "code",
   "execution_count": 181,
   "metadata": {},
   "outputs": [
    {
     "data": {
      "text/plain": [
       "0        amazing chicagosmayor hope get support need re...\n",
       "1        trump finally admitted spread coronavirus get ...\n",
       "2        navygirllaura gop sure sign gop party breaking...\n",
       "3        trump silent cops beat veteran put hospital bl...\n",
       "4        gtconway3d speaking falling please careful cli...\n",
       "                               ...                        \n",
       "47647    looks like borisjohnson pandering trump ready ...\n",
       "47648    us map must look like november 3rd like agree ...\n",
       "47649    thehill death count 7 14 countries took prompt...\n",
       "47650    human one possess empathy moral daniel lewis l...\n",
       "47651    douglas london former cia senior operations of...\n",
       "Name: Tweet, Length: 47652, dtype: object"
      ]
     },
     "execution_count": 181,
     "metadata": {},
     "output_type": "execute_result"
    }
   ],
   "source": [
    "tweets['Tweet']"
   ]
  },
  {
   "cell_type": "code",
   "execution_count": 222,
   "metadata": {},
   "outputs": [],
   "source": [
    "verified = tweets.query('Verified == True')"
   ]
  },
  {
   "cell_type": "code",
   "execution_count": 223,
   "metadata": {},
   "outputs": [
    {
     "data": {
      "text/plain": [
       "Cairo67Unedited    43\n",
       "AndyOstroy         39\n",
       "alana_austin       27\n",
       "DeeTwoCents        24\n",
       "Rasmussen_Poll     21\n",
       "                   ..\n",
       "loriacarter         1\n",
       "NewsMobileIndia     1\n",
       "nickoza1            1\n",
       "rosswilsonmusic     1\n",
       "DonnaLeinwand       1\n",
       "Name: User, Length: 323, dtype: int64"
      ]
     },
     "execution_count": 223,
     "metadata": {},
     "output_type": "execute_result"
    }
   ],
   "source": [
    "verified['User'].value_counts()"
   ]
  },
  {
   "cell_type": "markdown",
   "metadata": {},
   "source": [
    "Max no of tweets are by a user named Cairo67Unedited. "
   ]
  },
  {
   "cell_type": "markdown",
   "metadata": {},
   "source": [
    "**Tokenizing**\n",
    "\n",
    "Breaking down the text into smaller units. Here, we are tokenizing into words."
   ]
  },
  {
   "cell_type": "code",
   "execution_count": 182,
   "metadata": {},
   "outputs": [],
   "source": [
    "tweets['Tweet'] = tweets['Tweet'].apply(lambda x: word_tokenize(x))"
   ]
  },
  {
   "cell_type": "code",
   "execution_count": 183,
   "metadata": {},
   "outputs": [
    {
     "data": {
      "text/plain": [
       "0        [amazing, chicagosmayor, hope, get, support, n...\n",
       "1        [trump, finally, admitted, spread, coronavirus...\n",
       "2        [navygirllaura, gop, sure, sign, gop, party, b...\n",
       "3        [trump, silent, cops, beat, veteran, put, hosp...\n",
       "4        [gtconway3d, speaking, falling, please, carefu...\n",
       "                               ...                        \n",
       "47647    [looks, like, borisjohnson, pandering, trump, ...\n",
       "47648    [us, map, must, look, like, november, 3rd, lik...\n",
       "47649    [thehill, death, count, 7, 14, countries, took...\n",
       "47650    [human, one, possess, empathy, moral, daniel, ...\n",
       "47651    [douglas, london, former, cia, senior, operati...\n",
       "Name: Tweet, Length: 47652, dtype: object"
      ]
     },
     "execution_count": 183,
     "metadata": {},
     "output_type": "execute_result"
    }
   ],
   "source": [
    "tweets['Tweet']"
   ]
  },
  {
   "cell_type": "markdown",
   "metadata": {},
   "source": [
    "**Stemming & Lemmatization**\n",
    "\n",
    "Stemming and lemmatization are both process of obtaining root words from their other forms to narrow down the word cloud. Lemmatization always generates and actual word, whereas output of stemming may not be an actual word, although stemming follows an algorithm with steps which makes it faster."
   ]
  },
  {
   "cell_type": "code",
   "execution_count": 184,
   "metadata": {},
   "outputs": [
    {
     "name": "stderr",
     "output_type": "stream",
     "text": [
      "[nltk_data] Downloading package wordnet to C:\\Users\\Sampada\n",
      "[nltk_data]     Bareja\\AppData\\Roaming\\nltk_data...\n",
      "[nltk_data]   Package wordnet is already up-to-date!\n"
     ]
    },
    {
     "data": {
      "text/plain": [
       "True"
      ]
     },
     "execution_count": 184,
     "metadata": {},
     "output_type": "execute_result"
    }
   ],
   "source": [
    "import nltk\n",
    "nltk.download('wordnet')"
   ]
  },
  {
   "cell_type": "code",
   "execution_count": 185,
   "metadata": {},
   "outputs": [],
   "source": [
    "def lemmatize_stemming(text):\n",
    "    stemmer=PorterStemmer()\n",
    "    return stemmer.stem(WordNetLemmatizer().lemmatize(text, pos='v'))"
   ]
  },
  {
   "cell_type": "code",
   "execution_count": 186,
   "metadata": {},
   "outputs": [],
   "source": [
    "tweets['Tweet'] = tweets['Tweet'].apply(lambda x: [lemmatize_stemming(i) for i in x])"
   ]
  },
  {
   "cell_type": "code",
   "execution_count": 224,
   "metadata": {},
   "outputs": [
    {
     "data": {
      "text/plain": [
       "0        [amaz, chicagosmayor, hope, get, support, need...\n",
       "1        [trump, final, admit, spread, coronaviru, get,...\n",
       "2        [navygirllaura, gop, sure, sign, gop, parti, b...\n",
       "3        [trump, silent, cop, beat, veteran, put, hospi...\n",
       "4        [gtconway3d, speak, fall, pleas, care, climb, ...\n",
       "                               ...                        \n",
       "47647    [look, like, borisjohnson, pander, trump, read...\n",
       "47648    [us, map, must, look, like, novemb, 3rd, like,...\n",
       "47649    [thehil, death, count, 7, 14, countri, take, p...\n",
       "47650    [human, one, possess, empathi, moral, daniel, ...\n",
       "47651    [dougla, london, former, cia, senior, oper, of...\n",
       "Name: Tweet, Length: 47652, dtype: object"
      ]
     },
     "execution_count": 224,
     "metadata": {},
     "output_type": "execute_result"
    }
   ],
   "source": [
    "tweets['Tweet'] \n"
   ]
  },
  {
   "cell_type": "markdown",
   "metadata": {},
   "source": [
    "**EDA**"
   ]
  },
  {
   "cell_type": "code",
   "execution_count": 188,
   "metadata": {},
   "outputs": [
    {
     "data": {
      "image/png": "[encoded data removed]",
      "text/plain": [
       "<Figure size 432x288 with 1 Axes>"
      ]
     },
     "metadata": {
      "needs_background": "light"
     },
     "output_type": "display_data"
    }
   ],
   "source": [
    "p = sns.countplot(tweets['Verified'])"
   ]
  },
  {
   "cell_type": "markdown",
   "metadata": {},
   "source": [
    "The graph depicts the huge difference between verified and non-verified accounts."
   ]
  },
  {
   "cell_type": "code",
   "execution_count": 194,
   "metadata": {},
   "outputs": [
    {
     "name": "stdout",
     "output_type": "stream",
     "text": [
      "C:\\Users\\Sampada Bareja\\Anaconda3\\python.exe\n"
     ]
    }
   ],
   "source": [
    "import sys\n",
    "print(sys.executable)"
   ]
  },
  {
   "cell_type": "markdown",
   "metadata": {},
   "source": [
    "**SENTIMENT ANALYSIS**"
   ]
  },
  {
   "cell_type": "code",
   "execution_count": 204,
   "metadata": {},
   "outputs": [
    {
     "data": {
      "text/html": [
       "<div>\n",
       "<style scoped>\n",
       "    .dataframe tbody tr th:only-of-type {\n",
       "        vertical-align: middle;\n",
       "    }\n",
       "\n",
       "    .dataframe tbody tr th {\n",
       "        vertical-align: top;\n",
       "    }\n",
       "\n",
       "    .dataframe thead th {\n",
       "        text-align: right;\n",
       "    }\n",
       "</style>\n",
       "<table border=\"1\" class=\"dataframe\">\n",
       "  <thead>\n",
       "    <tr style=\"text-align: right;\">\n",
       "      <th></th>\n",
       "      <th>clean_tweets</th>\n",
       "      <th>date</th>\n",
       "      <th>followers</th>\n",
       "      <th>following</th>\n",
       "      <th>likes</th>\n",
       "      <th>location</th>\n",
       "      <th>retweets</th>\n",
       "      <th>source</th>\n",
       "      <th>tweet</th>\n",
       "      <th>tweet_id</th>\n",
       "      <th>user</th>\n",
       "      <th>verified</th>\n",
       "    </tr>\n",
       "  </thead>\n",
       "  <tbody>\n",
       "    <tr>\n",
       "      <td>0</td>\n",
       "      <td>0.0</td>\n",
       "      <td>1.0</td>\n",
       "      <td>0.0</td>\n",
       "      <td>0.0</td>\n",
       "      <td>0.0</td>\n",
       "      <td>0.0</td>\n",
       "      <td>0.0</td>\n",
       "      <td>0.0</td>\n",
       "      <td>0.0</td>\n",
       "      <td>0.0</td>\n",
       "      <td>0.0</td>\n",
       "      <td>0.0</td>\n",
       "    </tr>\n",
       "    <tr>\n",
       "      <td>1</td>\n",
       "      <td>0.0</td>\n",
       "      <td>0.0</td>\n",
       "      <td>0.0</td>\n",
       "      <td>0.0</td>\n",
       "      <td>0.0</td>\n",
       "      <td>0.0</td>\n",
       "      <td>0.0</td>\n",
       "      <td>0.0</td>\n",
       "      <td>0.0</td>\n",
       "      <td>1.0</td>\n",
       "      <td>0.0</td>\n",
       "      <td>0.0</td>\n",
       "    </tr>\n",
       "    <tr>\n",
       "      <td>2</td>\n",
       "      <td>0.0</td>\n",
       "      <td>0.0</td>\n",
       "      <td>0.0</td>\n",
       "      <td>0.0</td>\n",
       "      <td>0.0</td>\n",
       "      <td>0.0</td>\n",
       "      <td>0.0</td>\n",
       "      <td>0.0</td>\n",
       "      <td>0.0</td>\n",
       "      <td>0.0</td>\n",
       "      <td>0.0</td>\n",
       "      <td>1.0</td>\n",
       "    </tr>\n",
       "    <tr>\n",
       "      <td>3</td>\n",
       "      <td>0.0</td>\n",
       "      <td>0.0</td>\n",
       "      <td>0.0</td>\n",
       "      <td>0.0</td>\n",
       "      <td>0.0</td>\n",
       "      <td>0.0</td>\n",
       "      <td>0.0</td>\n",
       "      <td>0.0</td>\n",
       "      <td>1.0</td>\n",
       "      <td>0.0</td>\n",
       "      <td>0.0</td>\n",
       "      <td>0.0</td>\n",
       "    </tr>\n",
       "    <tr>\n",
       "      <td>4</td>\n",
       "      <td>0.0</td>\n",
       "      <td>0.0</td>\n",
       "      <td>0.0</td>\n",
       "      <td>0.0</td>\n",
       "      <td>0.0</td>\n",
       "      <td>0.0</td>\n",
       "      <td>0.0</td>\n",
       "      <td>0.0</td>\n",
       "      <td>0.0</td>\n",
       "      <td>0.0</td>\n",
       "      <td>1.0</td>\n",
       "      <td>0.0</td>\n",
       "    </tr>\n",
       "  </tbody>\n",
       "</table>\n",
       "</div>"
      ],
      "text/plain": [
       "   clean_tweets  date  followers  following  likes  location  retweets  \\\n",
       "0           0.0   1.0        0.0        0.0    0.0       0.0       0.0   \n",
       "1           0.0   0.0        0.0        0.0    0.0       0.0       0.0   \n",
       "2           0.0   0.0        0.0        0.0    0.0       0.0       0.0   \n",
       "3           0.0   0.0        0.0        0.0    0.0       0.0       0.0   \n",
       "4           0.0   0.0        0.0        0.0    0.0       0.0       0.0   \n",
       "\n",
       "   source  tweet  tweet_id  user  verified  \n",
       "0     0.0    0.0       0.0   0.0       0.0  \n",
       "1     0.0    0.0       1.0   0.0       0.0  \n",
       "2     0.0    0.0       0.0   0.0       1.0  \n",
       "3     0.0    1.0       0.0   0.0       0.0  \n",
       "4     0.0    0.0       0.0   1.0       0.0  "
      ]
     },
     "execution_count": 204,
     "metadata": {},
     "output_type": "execute_result"
    }
   ],
   "source": [
    "from sklearn.feature_extraction.text import TfidfVectorizer\n",
    "\n",
    "vect = TfidfVectorizer(ngram_range=(1,1), max_features=100).fit(tweets) #defining vector\n",
    "X_txt = vect.transform(tweets) #transforming the vectorizer\n",
    "X=pd.DataFrame(X_txt.toarray(), columns=vect.get_feature_names())\n",
    "X.head(5)"
   ]
  },
  {
   "cell_type": "markdown",
   "metadata": {},
   "source": [
    "Converting the tweets into strings."
   ]
  },
  {
   "cell_type": "code",
   "execution_count": 231,
   "metadata": {},
   "outputs": [],
   "source": [
    "texts = [] \n",
    "texts = tweets.Tweet.apply(lambda x: [i for i in x] )"
   ]
  },
  {
   "cell_type": "code",
   "execution_count": 232,
   "metadata": {},
   "outputs": [],
   "source": [
    "all_words = []\n",
    "for i in texts:\n",
    "    all_words.append(\" \".join(i))"
   ]
  },
  {
   "cell_type": "code",
   "execution_count": 233,
   "metadata": {},
   "outputs": [],
   "source": [
    "text = []\n",
    "for i in texts:\n",
    "    for j in i:\n",
    "        text.append(j)"
   ]
  },
  {
   "cell_type": "code",
   "execution_count": 234,
   "metadata": {},
   "outputs": [
    {
     "data": {
      "text/plain": [
       "800882"
      ]
     },
     "execution_count": 234,
     "metadata": {},
     "output_type": "execute_result"
    }
   ],
   "source": [
    "len(text)"
   ]
  },
  {
   "cell_type": "markdown",
   "metadata": {},
   "source": [
    "**WORDCLOUD**"
   ]
  },
  {
   "cell_type": "code",
   "execution_count": 243,
   "metadata": {},
   "outputs": [
    {
     "name": "stdout",
     "output_type": "stream",
     "text": [
      "Requirement already satisfied: wordcloud in c:\\users\\sampada bareja\\anaconda3\\lib\\site-packages (1.7.0)\n",
      "Requirement already satisfied: numpy>=1.6.1 in c:\\users\\sampada bareja\\anaconda3\\lib\\site-packages (from wordcloud) (1.16.5)\n",
      "Requirement already satisfied: pillow in c:\\users\\sampada bareja\\anaconda3\\lib\\site-packages (from wordcloud) (6.2.0)\n",
      "Requirement already satisfied: matplotlib in c:\\users\\sampada bareja\\anaconda3\\lib\\site-packages (from wordcloud) (3.1.1)\n",
      "Requirement already satisfied: cycler>=0.10 in c:\\users\\sampada bareja\\anaconda3\\lib\\site-packages (from matplotlib->wordcloud) (0.10.0)\n",
      "Requirement already satisfied: kiwisolver>=1.0.1 in c:\\users\\sampada bareja\\anaconda3\\lib\\site-packages (from matplotlib->wordcloud) (1.1.0)\n",
      "Requirement already satisfied: pyparsing!=2.0.4,!=2.1.2,!=2.1.6,>=2.0.1 in c:\\users\\sampada bareja\\anaconda3\\lib\\site-packages (from matplotlib->wordcloud) (2.4.2)\n",
      "Requirement already satisfied: python-dateutil>=2.1 in c:\\users\\sampada bareja\\anaconda3\\lib\\site-packages (from matplotlib->wordcloud) (2.8.0)\n",
      "Requirement already satisfied: six in c:\\users\\sampada bareja\\appdata\\roaming\\python\\python37\\site-packages (from cycler>=0.10->matplotlib->wordcloud) (1.15.0)\n",
      "Requirement already satisfied: setuptools in c:\\users\\sampada bareja\\anaconda3\\lib\\site-packages (from kiwisolver>=1.0.1->matplotlib->wordcloud) (41.4.0)\n"
     ]
    }
   ],
   "source": [
    "!python -m pip install wordcloud"
   ]
  },
  {
   "cell_type": "code",
   "execution_count": 246,
   "metadata": {},
   "outputs": [
    {
     "data": {
      "image/png": "[encoded data removed]",
      "text/plain": [
       "<Figure size 720x504 with 1 Axes>"
      ]
     },
     "metadata": {
      "needs_background": "light"
     },
     "output_type": "display_data"
    }
   ],
   "source": [
    "wordcloud = WordCloud(width=500, height=300, random_state=21, max_font_size=100).generate(' '.join(text))\n",
    "\n",
    "plt.figure(figsize=(10, 7))\n",
    "plt.imshow(wordcloud, interpolation=\"bilinear\")\n",
    "plt.axis('off')\n",
    "plt.title(\"WordCloud of Trump's Tweets\")\n",
    "plt.show()"
   ]
  },
  {
   "cell_type": "markdown",
   "metadata": {},
   "source": [
    "Thus we got the wordcloud of Trump's tweets."
   ]
  },
  {
   "cell_type": "markdown",
   "metadata": {},
   "source": [
    "**Generating the polarity of the tweets**"
   ]
  },
  {
   "cell_type": "code",
   "execution_count": 241,
   "metadata": {},
   "outputs": [
    {
     "name": "stdout",
     "output_type": "stream",
     "text": [
      "Requirement already up-to-date: textblob in c:\\users\\sampada bareja\\anaconda3\\lib\\site-packages (0.15.3)\n",
      "Requirement already satisfied, skipping upgrade: nltk>=3.1 in c:\\users\\sampada bareja\\anaconda3\\lib\\site-packages (from textblob) (3.4.5)\n",
      "Requirement already satisfied, skipping upgrade: six in c:\\users\\sampada bareja\\appdata\\roaming\\python\\python37\\site-packages (from nltk>=3.1->textblob) (1.15.0)\n",
      "Finished.\n"
     ]
    },
    {
     "name": "stderr",
     "output_type": "stream",
     "text": [
      "[nltk_data] Downloading package brown to C:\\Users\\Sampada\n",
      "[nltk_data]     Bareja\\AppData\\Roaming\\nltk_data...\n",
      "[nltk_data]   Package brown is already up-to-date!\n",
      "[nltk_data] Downloading package punkt to C:\\Users\\Sampada\n",
      "[nltk_data]     Bareja\\AppData\\Roaming\\nltk_data...\n",
      "[nltk_data]   Package punkt is already up-to-date!\n",
      "[nltk_data] Downloading package wordnet to C:\\Users\\Sampada\n",
      "[nltk_data]     Bareja\\AppData\\Roaming\\nltk_data...\n",
      "[nltk_data]   Package wordnet is already up-to-date!\n",
      "[nltk_data] Downloading package averaged_perceptron_tagger to\n",
      "[nltk_data]     C:\\Users\\Sampada Bareja\\AppData\\Roaming\\nltk_data...\n",
      "[nltk_data]   Package averaged_perceptron_tagger is already up-to-\n",
      "[nltk_data]       date!\n",
      "[nltk_data] Downloading package conll2000 to C:\\Users\\Sampada\n",
      "[nltk_data]     Bareja\\AppData\\Roaming\\nltk_data...\n",
      "[nltk_data]   Package conll2000 is already up-to-date!\n",
      "[nltk_data] Downloading package movie_reviews to C:\\Users\\Sampada\n",
      "[nltk_data]     Bareja\\AppData\\Roaming\\nltk_data...\n",
      "[nltk_data]   Package movie_reviews is already up-to-date!\n"
     ]
    }
   ],
   "source": [
    " !pip install -U textblob\n",
    " !python -m textblob.download_corpora"
   ]
  },
  {
   "cell_type": "code",
   "execution_count": 213,
   "metadata": {},
   "outputs": [],
   "source": [
    "from textblob import TextBlob "
   ]
  },
  {
   "cell_type": "code",
   "execution_count": 235,
   "metadata": {},
   "outputs": [],
   "source": [
    " \n",
    "polarity=[]\n",
    "for Tweet in all_words:\n",
    "    blob = TextBlob(Tweet)\n",
    "    polarity.append(blob.sentiment.polarity)\n",
    "    "
   ]
  },
  {
   "cell_type": "code",
   "execution_count": 237,
   "metadata": {},
   "outputs": [
    {
     "data": {
      "text/plain": [
       "47652"
      ]
     },
     "execution_count": 237,
     "metadata": {},
     "output_type": "execute_result"
    }
   ],
   "source": [
    "len(polarity)"
   ]
  },
  {
   "cell_type": "code",
   "execution_count": 238,
   "metadata": {},
   "outputs": [
    {
     "data": {
      "text/plain": [
       "0        [amaz, chicagosmayor, hope, get, support, need...\n",
       "1        [trump, final, admit, spread, coronaviru, get,...\n",
       "2        [navygirllaura, gop, sure, sign, gop, parti, b...\n",
       "3        [trump, silent, cop, beat, veteran, put, hospi...\n",
       "4        [gtconway3d, speak, fall, pleas, care, climb, ...\n",
       "                               ...                        \n",
       "47647    [look, like, borisjohnson, pander, trump, read...\n",
       "47648    [us, map, must, look, like, novemb, 3rd, like,...\n",
       "47649    [thehil, death, count, 7, 14, countri, take, p...\n",
       "47650    [human, one, possess, empathi, moral, daniel, ...\n",
       "47651    [dougla, london, former, cia, senior, oper, of...\n",
       "Name: Tweet, Length: 47652, dtype: object"
      ]
     },
     "execution_count": 238,
     "metadata": {},
     "output_type": "execute_result"
    }
   ],
   "source": [
    "tweets['Tweet']"
   ]
  },
  {
   "cell_type": "code",
   "execution_count": 257,
   "metadata": {},
   "outputs": [
    {
     "name": "stdout",
     "output_type": "stream",
     "text": [
      "Positive Tweets: 15878\n",
      "Negative Tweets: 11410\n",
      "Neutral Tweets 20364\n"
     ]
    }
   ],
   "source": [
    "positive=0  #classifying into positive, negative and neutral\n",
    "negative=0\n",
    "neutral=0\n",
    "for i in polarity:\n",
    "    if i>0:\n",
    "        positive+=1\n",
    "    elif i<0:\n",
    "        negative+=1\n",
    "    else:\n",
    "        neutral+=1\n",
    "print(\"Positive Tweets:\",positive)\n",
    "print(\"Negative Tweets:\",negative)\n",
    "print(\"Neutral Tweets\",neutral)"
   ]
  },
  {
   "cell_type": "code",
   "execution_count": 250,
   "metadata": {},
   "outputs": [
    {
     "name": "stdout",
     "output_type": "stream",
     "text": [
      "Requirement already satisfied: vaderSentiment in c:\\users\\sampada bareja\\anaconda3\\lib\\site-packages (3.3.2)\n",
      "Requirement already satisfied: requests in c:\\users\\sampada bareja\\anaconda3\\lib\\site-packages (from vaderSentiment) (2.22.0)\n",
      "Requirement already satisfied: chardet<3.1.0,>=3.0.2 in c:\\users\\sampada bareja\\anaconda3\\lib\\site-packages (from requests->vaderSentiment) (3.0.4)\n",
      "Requirement already satisfied: idna<2.9,>=2.5 in c:\\users\\sampada bareja\\anaconda3\\lib\\site-packages (from requests->vaderSentiment) (2.8)\n",
      "Requirement already satisfied: certifi>=2017.4.17 in c:\\users\\sampada bareja\\anaconda3\\lib\\site-packages (from requests->vaderSentiment) (2019.9.11)\n",
      "Requirement already satisfied: urllib3!=1.25.0,!=1.25.1,<1.26,>=1.21.1 in c:\\users\\sampada bareja\\anaconda3\\lib\\site-packages (from requests->vaderSentiment) (1.24.2)\n"
     ]
    }
   ],
   "source": [
    "!pip install vaderSentiment"
   ]
  },
  {
   "cell_type": "code",
   "execution_count": 251,
   "metadata": {},
   "outputs": [],
   "source": [
    "from vaderSentiment.vaderSentiment import SentimentIntensityAnalyzer\n",
    "sia = SentimentIntensityAnalyzer()\n",
    "sentiment_scores= []\n",
    "for i in all_words:\n",
    "    sentiment_scores.append([sia.polarity_scores(i)])"
   ]
  },
  {
   "cell_type": "code",
   "execution_count": 252,
   "metadata": {},
   "outputs": [],
   "source": [
    "value = []\n",
    "for i in sentiment_scores:\n",
    "    for dict1 in i:\n",
    "        value.append(list(dict1.values()))\n"
   ]
  },
  {
   "cell_type": "code",
   "execution_count": 253,
   "metadata": {},
   "outputs": [
    {
     "data": {
      "text/html": [
       "<div>\n",
       "<style scoped>\n",
       "    .dataframe tbody tr th:only-of-type {\n",
       "        vertical-align: middle;\n",
       "    }\n",
       "\n",
       "    .dataframe tbody tr th {\n",
       "        vertical-align: top;\n",
       "    }\n",
       "\n",
       "    .dataframe thead th {\n",
       "        text-align: right;\n",
       "    }\n",
       "</style>\n",
       "<table border=\"1\" class=\"dataframe\">\n",
       "  <thead>\n",
       "    <tr style=\"text-align: right;\">\n",
       "      <th></th>\n",
       "      <th>Negative</th>\n",
       "      <th>Neutral</th>\n",
       "      <th>Positive</th>\n",
       "      <th>Compound</th>\n",
       "    </tr>\n",
       "  </thead>\n",
       "  <tbody>\n",
       "    <tr>\n",
       "      <td>0</td>\n",
       "      <td>0.000</td>\n",
       "      <td>0.663</td>\n",
       "      <td>0.337</td>\n",
       "      <td>0.6808</td>\n",
       "    </tr>\n",
       "    <tr>\n",
       "      <td>1</td>\n",
       "      <td>0.000</td>\n",
       "      <td>0.723</td>\n",
       "      <td>0.277</td>\n",
       "      <td>0.7096</td>\n",
       "    </tr>\n",
       "    <tr>\n",
       "      <td>2</td>\n",
       "      <td>0.147</td>\n",
       "      <td>0.756</td>\n",
       "      <td>0.097</td>\n",
       "      <td>-0.2960</td>\n",
       "    </tr>\n",
       "    <tr>\n",
       "      <td>3</td>\n",
       "      <td>0.101</td>\n",
       "      <td>0.754</td>\n",
       "      <td>0.146</td>\n",
       "      <td>0.2263</td>\n",
       "    </tr>\n",
       "    <tr>\n",
       "      <td>4</td>\n",
       "      <td>0.000</td>\n",
       "      <td>0.842</td>\n",
       "      <td>0.158</td>\n",
       "      <td>0.4939</td>\n",
       "    </tr>\n",
       "    <tr>\n",
       "      <td>...</td>\n",
       "      <td>...</td>\n",
       "      <td>...</td>\n",
       "      <td>...</td>\n",
       "      <td>...</td>\n",
       "    </tr>\n",
       "    <tr>\n",
       "      <td>47647</td>\n",
       "      <td>0.000</td>\n",
       "      <td>0.815</td>\n",
       "      <td>0.185</td>\n",
       "      <td>0.3612</td>\n",
       "    </tr>\n",
       "    <tr>\n",
       "      <td>47648</td>\n",
       "      <td>0.000</td>\n",
       "      <td>0.750</td>\n",
       "      <td>0.250</td>\n",
       "      <td>0.6124</td>\n",
       "    </tr>\n",
       "    <tr>\n",
       "      <td>47649</td>\n",
       "      <td>0.253</td>\n",
       "      <td>0.678</td>\n",
       "      <td>0.069</td>\n",
       "      <td>-0.8957</td>\n",
       "    </tr>\n",
       "    <tr>\n",
       "      <td>47650</td>\n",
       "      <td>0.000</td>\n",
       "      <td>1.000</td>\n",
       "      <td>0.000</td>\n",
       "      <td>0.0000</td>\n",
       "    </tr>\n",
       "    <tr>\n",
       "      <td>47651</td>\n",
       "      <td>0.087</td>\n",
       "      <td>0.827</td>\n",
       "      <td>0.087</td>\n",
       "      <td>0.0000</td>\n",
       "    </tr>\n",
       "  </tbody>\n",
       "</table>\n",
       "<p>47652 rows × 4 columns</p>\n",
       "</div>"
      ],
      "text/plain": [
       "       Negative  Neutral  Positive  Compound\n",
       "0         0.000    0.663     0.337    0.6808\n",
       "1         0.000    0.723     0.277    0.7096\n",
       "2         0.147    0.756     0.097   -0.2960\n",
       "3         0.101    0.754     0.146    0.2263\n",
       "4         0.000    0.842     0.158    0.4939\n",
       "...         ...      ...       ...       ...\n",
       "47647     0.000    0.815     0.185    0.3612\n",
       "47648     0.000    0.750     0.250    0.6124\n",
       "47649     0.253    0.678     0.069   -0.8957\n",
       "47650     0.000    1.000     0.000    0.0000\n",
       "47651     0.087    0.827     0.087    0.0000\n",
       "\n",
       "[47652 rows x 4 columns]"
      ]
     },
     "execution_count": 253,
     "metadata": {},
     "output_type": "execute_result"
    }
   ],
   "source": [
    "sentimental_score_df = pd.DataFrame(data = value, columns = ['Negative','Neutral','Positive','Compound'])\n",
    "sentimental_score_df"
   ]
  },
  {
   "cell_type": "code",
   "execution_count": 254,
   "metadata": {},
   "outputs": [
    {
     "data": {
      "text/html": [
       "<div>\n",
       "<style scoped>\n",
       "    .dataframe tbody tr th:only-of-type {\n",
       "        vertical-align: middle;\n",
       "    }\n",
       "\n",
       "    .dataframe tbody tr th {\n",
       "        vertical-align: top;\n",
       "    }\n",
       "\n",
       "    .dataframe thead th {\n",
       "        text-align: right;\n",
       "    }\n",
       "</style>\n",
       "<table border=\"1\" class=\"dataframe\">\n",
       "  <thead>\n",
       "    <tr style=\"text-align: right;\">\n",
       "      <th></th>\n",
       "      <th>Negative</th>\n",
       "      <th>Neutral</th>\n",
       "      <th>Positive</th>\n",
       "      <th>Compound</th>\n",
       "      <th>val</th>\n",
       "    </tr>\n",
       "  </thead>\n",
       "  <tbody>\n",
       "    <tr>\n",
       "      <td>0</td>\n",
       "      <td>0.000</td>\n",
       "      <td>0.663</td>\n",
       "      <td>0.337</td>\n",
       "      <td>0.6808</td>\n",
       "      <td>Positive</td>\n",
       "    </tr>\n",
       "    <tr>\n",
       "      <td>1</td>\n",
       "      <td>0.000</td>\n",
       "      <td>0.723</td>\n",
       "      <td>0.277</td>\n",
       "      <td>0.7096</td>\n",
       "      <td>Positive</td>\n",
       "    </tr>\n",
       "    <tr>\n",
       "      <td>2</td>\n",
       "      <td>0.147</td>\n",
       "      <td>0.756</td>\n",
       "      <td>0.097</td>\n",
       "      <td>-0.2960</td>\n",
       "      <td>Negative</td>\n",
       "    </tr>\n",
       "    <tr>\n",
       "      <td>3</td>\n",
       "      <td>0.101</td>\n",
       "      <td>0.754</td>\n",
       "      <td>0.146</td>\n",
       "      <td>0.2263</td>\n",
       "      <td>Positive</td>\n",
       "    </tr>\n",
       "    <tr>\n",
       "      <td>4</td>\n",
       "      <td>0.000</td>\n",
       "      <td>0.842</td>\n",
       "      <td>0.158</td>\n",
       "      <td>0.4939</td>\n",
       "      <td>Positive</td>\n",
       "    </tr>\n",
       "  </tbody>\n",
       "</table>\n",
       "</div>"
      ],
      "text/plain": [
       "   Negative  Neutral  Positive  Compound       val\n",
       "0     0.000    0.663     0.337    0.6808  Positive\n",
       "1     0.000    0.723     0.277    0.7096  Positive\n",
       "2     0.147    0.756     0.097   -0.2960  Negative\n",
       "3     0.101    0.754     0.146    0.2263  Positive\n",
       "4     0.000    0.842     0.158    0.4939  Positive"
      ]
     },
     "execution_count": 254,
     "metadata": {},
     "output_type": "execute_result"
    }
   ],
   "source": [
    "sentimental_score_df['val'] = sentimental_score_df['Compound'].apply(lambda x: 'Neutral' if x == 0 else ('Positive' if x > 0 else 'Negative'))\n",
    "sentimental_score_df.head()"
   ]
  },
  {
   "cell_type": "code",
   "execution_count": 261,
   "metadata": {},
   "outputs": [
    {
     "data": {
      "text/plain": [
       "<matplotlib.axes._subplots.AxesSubplot at 0x19cbd567488>"
      ]
     },
     "execution_count": 261,
     "metadata": {},
     "output_type": "execute_result"
    },
    {
     "data": {
      "image/png": "[encoded data removed]",
      "text/plain": [
       "<Figure size 432x288 with 1 Axes>"
      ]
     },
     "metadata": {
      "needs_background": "light"
     },
     "output_type": "display_data"
    }
   ],
   "source": [
    "sen_count = pd.DataFrame.from_dict(Counter(sentimental_score_df['val']), orient = 'index').reset_index()\n",
    "sen_count.columns = ['sentiment', 'count']\n",
    "\n",
    "sns.barplot(y=\"count\", x='sentiment', data=sen_count)"
   ]
  }
 ],
 "metadata": {
  "kernelspec": {
   "display_name": "Python 3",
   "language": "python",
   "name": "python3"
  },
  "language_info": {
   "codemirror_mode": {
    "name": "ipython",
    "version": 3
   },
   "file_extension": ".py",
   "mimetype": "text/x-python",
   "name": "python",
   "nbconvert_exporter": "python",
   "pygments_lexer": "ipython3",
   "version": "3.7.4"
  }
 },
 "nbformat": 4,
 "nbformat_minor": 4
}
