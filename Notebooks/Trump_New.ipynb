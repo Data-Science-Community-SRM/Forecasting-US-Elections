{
  "nbformat": 4,
  "nbformat_minor": 0,
  "metadata": {
    "colab": {
      "name": "Trumph New",
      "provenance": [],
      "collapsed_sections": []
    },
    "kernelspec": {
      "name": "python3",
      "display_name": "Python 3"
    }
  },
  "cells": [
    {
      "cell_type": "code",
      "metadata": {
        "id": "treUUo1-FATk",
        "colab_type": "code",
        "colab": {}
      },
      "source": [
        "\n",
        "import re\n",
        "import numpy as np\n",
        "import matplotlib.pyplot as plt\n",
        "import pandas as pd\n",
        "import nltk\n",
        "import seaborn as sns \n",
        "import datetime as dt\n",
        "from collections import Counter\n",
        "from nltk.tokenize import sent_tokenize\n",
        "from nltk.tokenize import TweetTokenizer\n",
        "from nltk.tokenize import word_tokenize\n",
        "from nltk.corpus import words\n",
        "from nltk.corpus import stopwords\n",
        "from nltk.stem import PorterStemmer\n",
        "from nltk.stem import WordNetLemmatizer\n",
        "from sklearn.feature_extraction.text import CountVectorizer\n",
        "from sklearn.model_selection import train_test_split\n",
        "from sklearn.naive_bayes import GaussianNB\n",
        "from sklearn.metrics import confusion_matrix\n",
        "from sklearn.tree import DecisionTreeClassifier\n",
        "from sklearn.ensemble import RandomForestClassifier\n",
        "from sklearn.preprocessing import LabelEncoder \n",
        "from sklearn.model_selection import GridSearchCV\n",
        "from sklearn.model_selection import cross_val_score\n",
        "\n",
        "from sklearn.metrics import accuracy_score\n",
        "from sklearn.metrics import precision_score\n",
        "from sklearn.metrics import recall_score\n",
        "from sklearn.metrics import f1_score"
      ],
      "execution_count": 167,
      "outputs": []
    },
    {
      "cell_type": "code",
      "metadata": {
        "id": "JCMlSyYhF0B0",
        "colab_type": "code",
        "colab": {
          "resources": {
            "http://localhost:8080/nbextensions/google.colab/files.js": {
              "data": "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",
              "ok": true,
              "headers": [
                [
                  "content-type",
                  "application/javascript"
                ]
              ],
              "status": 200,
              "status_text": ""
            }
          },
          "base_uri": "https://localhost:8080/",
          "height": 73
        },
        "outputId": "06e968e8-3c5a-4e7c-9760-a55eae5073dc"
      },
      "source": [
        "from google.colab import files\n",
        "uploaded = files.upload()"
      ],
      "execution_count": 168,
      "outputs": [
        {
          "output_type": "display_data",
          "data": {
            "text/html": [
              "\n",
              "     <input type=\"file\" id=\"files-ae03ecf9-35bf-4b8d-91f8-9a81ebd02700\" name=\"files[]\" multiple disabled\n",
              "        style=\"border:none\" />\n",
              "     <output id=\"result-ae03ecf9-35bf-4b8d-91f8-9a81ebd02700\">\n",
              "      Upload widget is only available when the cell has been executed in the\n",
              "      current browser session. Please rerun this cell to enable.\n",
              "      </output>\n",
              "      <script src=\"/nbextensions/google.colab/files.js\"></script> "
            ],
            "text/plain": [
              "<IPython.core.display.HTML object>"
            ]
          },
          "metadata": {
            "tags": []
          }
        },
        {
          "output_type": "stream",
          "text": [
            "Saving trumph_new.csv to trumph_new (6).csv\n"
          ],
          "name": "stdout"
        }
      ]
    },
    {
      "cell_type": "code",
      "metadata": {
        "id": "FdWv-oKMG_5C",
        "colab_type": "code",
        "colab": {}
      },
      "source": [
        "import io\n",
        "df = pd.read_csv(io.BytesIO(uploaded['trumph_new.csv']))"
      ],
      "execution_count": 169,
      "outputs": []
    },
    {
      "cell_type": "code",
      "metadata": {
        "id": "LVq6GJq0HDt4",
        "colab_type": "code",
        "colab": {
          "base_uri": "https://localhost:8080/",
          "height": 306
        },
        "outputId": "94df05cd-45c7-4be9-d0fc-c44ec7339047"
      },
      "source": [
        "df.head(5)"
      ],
      "execution_count": 170,
      "outputs": [
        {
          "output_type": "execute_result",
          "data": {
            "text/html": [
              "<div>\n",
              "<style scoped>\n",
              "    .dataframe tbody tr th:only-of-type {\n",
              "        vertical-align: middle;\n",
              "    }\n",
              "\n",
              "    .dataframe tbody tr th {\n",
              "        vertical-align: top;\n",
              "    }\n",
              "\n",
              "    .dataframe thead th {\n",
              "        text-align: right;\n",
              "    }\n",
              "</style>\n",
              "<table border=\"1\" class=\"dataframe\">\n",
              "  <thead>\n",
              "    <tr style=\"text-align: right;\">\n",
              "      <th></th>\n",
              "      <th>Date</th>\n",
              "      <th>Tweet_id</th>\n",
              "      <th>Verified</th>\n",
              "      <th>Tweet</th>\n",
              "      <th>User</th>\n",
              "      <th>Location</th>\n",
              "      <th>Source</th>\n",
              "      <th>Likes</th>\n",
              "      <th>Followers</th>\n",
              "      <th>Following</th>\n",
              "      <th>Retweets</th>\n",
              "    </tr>\n",
              "  </thead>\n",
              "  <tbody>\n",
              "    <tr>\n",
              "      <th>0</th>\n",
              "      <td>2020-07-21 23:59:54</td>\n",
              "      <td>1285726226813014016</td>\n",
              "      <td>False</td>\n",
              "      <td>You are amazing, @chicagosmayor.  I hope you g...</td>\n",
              "      <td>rathacat</td>\n",
              "      <td>Patterson, CA</td>\n",
              "      <td>Twitter Web App</td>\n",
              "      <td>1</td>\n",
              "      <td>2429</td>\n",
              "      <td>3710</td>\n",
              "      <td>0</td>\n",
              "    </tr>\n",
              "    <tr>\n",
              "      <th>1</th>\n",
              "      <td>2020-07-21 23:59:51</td>\n",
              "      <td>1285726213001093127</td>\n",
              "      <td>False</td>\n",
              "      <td>#Trump finally admitted that the spread of the...</td>\n",
              "      <td>Nor_Kan_1965</td>\n",
              "      <td>NaN</td>\n",
              "      <td>Twitter for Android</td>\n",
              "      <td>1</td>\n",
              "      <td>112</td>\n",
              "      <td>73</td>\n",
              "      <td>1</td>\n",
              "    </tr>\n",
              "    <tr>\n",
              "      <th>2</th>\n",
              "      <td>2020-07-21 23:59:30</td>\n",
              "      <td>1285726126820794368</td>\n",
              "      <td>False</td>\n",
              "      <td>@NavygirlLaura @GOP A sure sign the #GOP party...</td>\n",
              "      <td>ShannsolSolberg</td>\n",
              "      <td>Texas, USA</td>\n",
              "      <td>Twitter for iPhone</td>\n",
              "      <td>1</td>\n",
              "      <td>1359</td>\n",
              "      <td>1745</td>\n",
              "      <td>0</td>\n",
              "    </tr>\n",
              "    <tr>\n",
              "      <th>3</th>\n",
              "      <td>2020-07-21 23:59:20</td>\n",
              "      <td>1285726083455877121</td>\n",
              "      <td>False</td>\n",
              "      <td>Why is #Trump silent when cops beat a #Veteran...</td>\n",
              "      <td>in_pubs</td>\n",
              "      <td>NJ-DC-NY-🌍</td>\n",
              "      <td>Twitter for iPhone</td>\n",
              "      <td>650</td>\n",
              "      <td>78851</td>\n",
              "      <td>17726</td>\n",
              "      <td>254</td>\n",
              "    </tr>\n",
              "    <tr>\n",
              "      <th>4</th>\n",
              "      <td>2020-07-21 23:58:51</td>\n",
              "      <td>1285725963024818183</td>\n",
              "      <td>False</td>\n",
              "      <td>@gtconway3d Speaking of falling, please be car...</td>\n",
              "      <td>dfwcitizen</td>\n",
              "      <td>• GOD BLESS AMERICA •</td>\n",
              "      <td>Twitter for iPhone</td>\n",
              "      <td>2</td>\n",
              "      <td>5333</td>\n",
              "      <td>375</td>\n",
              "      <td>0</td>\n",
              "    </tr>\n",
              "  </tbody>\n",
              "</table>\n",
              "</div>"
            ],
            "text/plain": [
              "                  Date             Tweet_id  ...  Following Retweets\n",
              "0  2020-07-21 23:59:54  1285726226813014016  ...       3710        0\n",
              "1  2020-07-21 23:59:51  1285726213001093127  ...         73        1\n",
              "2  2020-07-21 23:59:30  1285726126820794368  ...       1745        0\n",
              "3  2020-07-21 23:59:20  1285726083455877121  ...      17726      254\n",
              "4  2020-07-21 23:58:51  1285725963024818183  ...        375        0\n",
              "\n",
              "[5 rows x 11 columns]"
            ]
          },
          "metadata": {
            "tags": []
          },
          "execution_count": 170
        }
      ]
    },
    {
      "cell_type": "code",
      "metadata": {
        "id": "3aFZ_XAbHLhJ",
        "colab_type": "code",
        "colab": {
          "base_uri": "https://localhost:8080/",
          "height": 329
        },
        "outputId": "b8df5780-54db-47e8-ac6f-79ccca0e4cf5"
      },
      "source": [
        "\n",
        "df.info()"
      ],
      "execution_count": 171,
      "outputs": [
        {
          "output_type": "stream",
          "text": [
            "<class 'pandas.core.frame.DataFrame'>\n",
            "RangeIndex: 47652 entries, 0 to 47651\n",
            "Data columns (total 11 columns):\n",
            " #   Column     Non-Null Count  Dtype \n",
            "---  ------     --------------  ----- \n",
            " 0   Date       47652 non-null  object\n",
            " 1   Tweet_id   47652 non-null  int64 \n",
            " 2   Verified   47652 non-null  bool  \n",
            " 3   Tweet      47652 non-null  object\n",
            " 4   User       47652 non-null  object\n",
            " 5   Location   34414 non-null  object\n",
            " 6   Source     47650 non-null  object\n",
            " 7   Likes      47652 non-null  int64 \n",
            " 8   Followers  47652 non-null  int64 \n",
            " 9   Following  47652 non-null  int64 \n",
            " 10  Retweets   47652 non-null  int64 \n",
            "dtypes: bool(1), int64(5), object(5)\n",
            "memory usage: 3.7+ MB\n"
          ],
          "name": "stdout"
        }
      ]
    },
    {
      "cell_type": "code",
      "metadata": {
        "id": "uYfiUsuZHZMM",
        "colab_type": "code",
        "colab": {
          "base_uri": "https://localhost:8080/",
          "height": 35
        },
        "outputId": "7f41d6e7-5992-4c44-876b-0863daee00e4"
      },
      "source": [
        "df.shape"
      ],
      "execution_count": 172,
      "outputs": [
        {
          "output_type": "execute_result",
          "data": {
            "text/plain": [
              "(47652, 11)"
            ]
          },
          "metadata": {
            "tags": []
          },
          "execution_count": 172
        }
      ]
    },
    {
      "cell_type": "markdown",
      "metadata": {
        "id": "yW8IGTvDHpek",
        "colab_type": "text"
      },
      "source": [
        "# Data Preprocessing and cleaning"
      ]
    },
    {
      "cell_type": "code",
      "metadata": {
        "id": "-bdVAwvcHMnd",
        "colab_type": "code",
        "colab": {}
      },
      "source": [
        "df['Date'] = df['Date'].apply(lambda x: dt.datetime.strptime(x,'%Y-%m-%d %H:%M:%S')) #Convert to date time format"
      ],
      "execution_count": 173,
      "outputs": []
    },
    {
      "cell_type": "code",
      "metadata": {
        "id": "aHbfhOB6H7JZ",
        "colab_type": "code",
        "colab": {
          "base_uri": "https://localhost:8080/",
          "height": 225
        },
        "outputId": "e4b316ae-4964-4260-b119-4d5c63a159cb"
      },
      "source": [
        "\n",
        "df.dtypes"
      ],
      "execution_count": 174,
      "outputs": [
        {
          "output_type": "execute_result",
          "data": {
            "text/plain": [
              "Date         datetime64[ns]\n",
              "Tweet_id              int64\n",
              "Verified               bool\n",
              "Tweet                object\n",
              "User                 object\n",
              "Location             object\n",
              "Source               object\n",
              "Likes                 int64\n",
              "Followers             int64\n",
              "Following             int64\n",
              "Retweets              int64\n",
              "dtype: object"
            ]
          },
          "metadata": {
            "tags": []
          },
          "execution_count": 174
        }
      ]
    },
    {
      "cell_type": "code",
      "metadata": {
        "id": "ETJb-G5QPYOQ",
        "colab_type": "code",
        "colab": {
          "base_uri": "https://localhost:8080/",
          "height": 225
        },
        "outputId": "64408568-4468-4a5e-8645-047247323c53"
      },
      "source": [
        "df.isnull().sum()"
      ],
      "execution_count": 175,
      "outputs": [
        {
          "output_type": "execute_result",
          "data": {
            "text/plain": [
              "Date             0\n",
              "Tweet_id         0\n",
              "Verified         0\n",
              "Tweet            0\n",
              "User             0\n",
              "Location     13238\n",
              "Source           2\n",
              "Likes            0\n",
              "Followers        0\n",
              "Following        0\n",
              "Retweets         0\n",
              "dtype: int64"
            ]
          },
          "metadata": {
            "tags": []
          },
          "execution_count": 175
        }
      ]
    },
    {
      "cell_type": "markdown",
      "metadata": {
        "id": "j5PV_eauPjpA",
        "colab_type": "text"
      },
      "source": [
        "The location column has upto 13238 values as null. This may be the case since many users didn't voluntarily put it up. However this is not of much concern for our project. Hence we would leave it to null only"
      ]
    },
    {
      "cell_type": "code",
      "metadata": {
        "id": "ae1LUqWDPqyt",
        "colab_type": "code",
        "colab": {
          "base_uri": "https://localhost:8080/",
          "height": 225
        },
        "outputId": "fa428458-0313-4291-93db-8f8263acec7e"
      },
      "source": [
        "df['Source'].value_counts()"
      ],
      "execution_count": 176,
      "outputs": [
        {
          "output_type": "execute_result",
          "data": {
            "text/plain": [
              "Twitter Web App        17539\n",
              "Twitter for iPhone     13156\n",
              "Twitter for Android    10024\n",
              "Twitter for iPad        2327\n",
              "TweetDeck                816\n",
              "                       ...  \n",
              "National Herald            1\n",
              "__CryptoNews               1\n",
              "TrumpTweetWeather          1\n",
              "Hn_bot                     1\n",
              "Stop it Bot                1\n",
              "Name: Source, Length: 204, dtype: int64"
            ]
          },
          "metadata": {
            "tags": []
          },
          "execution_count": 176
        }
      ]
    },
    {
      "cell_type": "code",
      "metadata": {
        "id": "9z10i4_LPwX6",
        "colab_type": "code",
        "colab": {
          "base_uri": "https://localhost:8080/",
          "height": 35
        },
        "outputId": "795505e1-ad93-4343-fff5-de9ac7ab4e8f"
      },
      "source": [
        "df['Location'].nunique()"
      ],
      "execution_count": 177,
      "outputs": [
        {
          "output_type": "execute_result",
          "data": {
            "text/plain": [
              "6621"
            ]
          },
          "metadata": {
            "tags": []
          },
          "execution_count": 177
        }
      ]
    },
    {
      "cell_type": "code",
      "metadata": {
        "id": "9bjDkQKBP0I8",
        "colab_type": "code",
        "colab": {
          "base_uri": "https://localhost:8080/",
          "height": 35
        },
        "outputId": "2e20eb1d-fd15-4da7-e60f-1d7e570d150b"
      },
      "source": [
        "\n",
        "tweets_list = df['Tweet'].tolist()\n",
        "len(tweets_list)"
      ],
      "execution_count": 178,
      "outputs": [
        {
          "output_type": "execute_result",
          "data": {
            "text/plain": [
              "47652"
            ]
          },
          "metadata": {
            "tags": []
          },
          "execution_count": 178
        }
      ]
    },
    {
      "cell_type": "code",
      "metadata": {
        "id": "J6ZHiAeYP4E3",
        "colab_type": "code",
        "colab": {
          "base_uri": "https://localhost:8080/",
          "height": 35
        },
        "outputId": "d93b8abb-7a9b-407c-d5f3-e81326216c3c"
      },
      "source": [
        "tweets_list_updated = set(tweets_list)\n",
        "len(tweets_list_updated)"
      ],
      "execution_count": 179,
      "outputs": [
        {
          "output_type": "execute_result",
          "data": {
            "text/plain": [
              "47093"
            ]
          },
          "metadata": {
            "tags": []
          },
          "execution_count": 179
        }
      ]
    },
    {
      "cell_type": "code",
      "metadata": {
        "id": "Z9eG_gYtP76f",
        "colab_type": "code",
        "colab": {
          "base_uri": "https://localhost:8080/",
          "height": 35
        },
        "outputId": "86b4776b-919a-48bb-fe87-30f36c69b4e1"
      },
      "source": [
        "tweets_list_updated  = list(tweets_list_updated)\n",
        "type(tweets_list_updated)\n"
      ],
      "execution_count": 180,
      "outputs": [
        {
          "output_type": "execute_result",
          "data": {
            "text/plain": [
              "list"
            ]
          },
          "metadata": {
            "tags": []
          },
          "execution_count": 180
        }
      ]
    },
    {
      "cell_type": "code",
      "metadata": {
        "id": "Q_HUzXOlP_M5",
        "colab_type": "code",
        "colab": {
          "base_uri": "https://localhost:8080/",
          "height": 35
        },
        "outputId": "ba16643e-a5cd-4a96-d2a0-9c295af7bcc7"
      },
      "source": [
        "df['Tweet'].duplicated().sum()\n"
      ],
      "execution_count": 108,
      "outputs": [
        {
          "output_type": "execute_result",
          "data": {
            "text/plain": [
              "559"
            ]
          },
          "metadata": {
            "tags": []
          },
          "execution_count": 108
        }
      ]
    },
    {
      "cell_type": "code",
      "metadata": {
        "id": "k-M2lbGfQB59",
        "colab_type": "code",
        "colab": {
          "base_uri": "https://localhost:8080/",
          "height": 35
        },
        "outputId": "e0207994-d782-41e4-818e-585a2fd651c8"
      },
      "source": [
        "\n",
        "df = df.drop_duplicates(subset = 'Tweet', keep = 'first',ignore_index = True)\n",
        "df.shape"
      ],
      "execution_count": 181,
      "outputs": [
        {
          "output_type": "execute_result",
          "data": {
            "text/plain": [
              "(47093, 11)"
            ]
          },
          "metadata": {
            "tags": []
          },
          "execution_count": 181
        }
      ]
    },
    {
      "cell_type": "code",
      "metadata": {
        "id": "7j_Dsj9YQEnr",
        "colab_type": "code",
        "colab": {
          "base_uri": "https://localhost:8080/",
          "height": 35
        },
        "outputId": "e6b9157d-135c-48b8-a17c-0c46155d9d08"
      },
      "source": [
        "df['Tweet'].duplicated().sum()"
      ],
      "execution_count": 182,
      "outputs": [
        {
          "output_type": "execute_result",
          "data": {
            "text/plain": [
              "0"
            ]
          },
          "metadata": {
            "tags": []
          },
          "execution_count": 182
        }
      ]
    },
    {
      "cell_type": "markdown",
      "metadata": {
        "id": "pD9POdg0QHjT",
        "colab_type": "text"
      },
      "source": [
        "# Removing emojis"
      ]
    },
    {
      "cell_type": "code",
      "metadata": {
        "id": "Bilv0xFtQoUi",
        "colab_type": "code",
        "colab": {}
      },
      "source": [
        "def remove_emoji(tweet):\n",
        "    emoji_pattern = re.compile(\"[\"\n",
        "            u\"\\U0001F600-\\U0001F64F\"  # emoticons\n",
        "            u\"\\U0001F300-\\U0001F5FF\"  # symbols & pictographs\n",
        "            u\"\\U0001F680-\\U0001F6FF\"  # transport & map symbols\n",
        "            u\"\\U0001F1E0-\\U0001F1FF\"  # flags (iOS)\n",
        "                               \"]+\", flags=re.UNICODE)\n",
        "    return emoji_pattern.sub(r'', tweet)\n",
        "\n",
        "\n",
        "\n",
        "df['Processed_Tweet']=df.Tweet.apply(remove_emoji)\n"
      ],
      "execution_count": 183,
      "outputs": []
    },
    {
      "cell_type": "code",
      "metadata": {
        "id": "gC-8oinlQ57S",
        "colab_type": "code",
        "colab": {
          "base_uri": "https://localhost:8080/",
          "height": 35
        },
        "outputId": "f360c243-d847-4976-c55c-d50cd282efc6"
      },
      "source": [
        "\n",
        "count = 0\n",
        "for i in df['Processed_Tweet']:\n",
        "    if re.match(r'^RT', i):  #remove any rows that contain RT\n",
        "        df.drop(df.loc[df['Processed_Tweet']==i].index,inplace = True)\n",
        "        count+=1\n",
        "    \n",
        "count"
      ],
      "execution_count": 184,
      "outputs": [
        {
          "output_type": "execute_result",
          "data": {
            "text/plain": [
              "1"
            ]
          },
          "metadata": {
            "tags": []
          },
          "execution_count": 184
        }
      ]
    },
    {
      "cell_type": "code",
      "metadata": {
        "id": "THgaluCFQ9ap",
        "colab_type": "code",
        "colab": {
          "base_uri": "https://localhost:8080/",
          "height": 35
        },
        "outputId": "abde2137-3a78-4a1b-9fba-7884849e6b26"
      },
      "source": [
        "\n",
        "df.shape"
      ],
      "execution_count": 185,
      "outputs": [
        {
          "output_type": "execute_result",
          "data": {
            "text/plain": [
              "(47092, 12)"
            ]
          },
          "metadata": {
            "tags": []
          },
          "execution_count": 185
        }
      ]
    },
    {
      "cell_type": "code",
      "metadata": {
        "id": "8o3FvgwMRRgO",
        "colab_type": "code",
        "colab": {
          "base_uri": "https://localhost:8080/",
          "height": 225
        },
        "outputId": "a8470c3c-f43e-4192-f33f-4fa5283a6395"
      },
      "source": [
        "df['Processed_Tweet']"
      ],
      "execution_count": 186,
      "outputs": [
        {
          "output_type": "execute_result",
          "data": {
            "text/plain": [
              "0        You are amazing, @chicagosmayor.  I hope you g...\n",
              "1        #Trump finally admitted that the spread of the...\n",
              "2        @NavygirlLaura @GOP A sure sign the #GOP party...\n",
              "3        Why is #Trump silent when cops beat a #Veteran...\n",
              "4        @gtconway3d Speaking of falling, please be car...\n",
              "                               ...                        \n",
              "47088    Looks like #BorisJohnson is pandering to #Trum...\n",
              "47089    This is what the US map MUST look like on NOVE...\n",
              "47090    @thehill Death-count 7/14 in countries that to...\n",
              "47091    To be human, one has to possess empathy and mo...\n",
              "47092    Douglas London, a former CIA senior operations...\n",
              "Name: Processed_Tweet, Length: 47092, dtype: object"
            ]
          },
          "metadata": {
            "tags": []
          },
          "execution_count": 186
        }
      ]
    },
    {
      "cell_type": "markdown",
      "metadata": {
        "id": "AnHwSMavRVlq",
        "colab_type": "text"
      },
      "source": [
        "\n",
        "# Remove Retweets"
      ]
    },
    {
      "cell_type": "code",
      "metadata": {
        "id": "8OhIy6IGRZRo",
        "colab_type": "code",
        "colab": {}
      },
      "source": [
        "df['Processed_Tweet'] = [re.sub('^RT[\\s]','',i) for i in df['Processed_Tweet']]  #Remove RT substring"
      ],
      "execution_count": 187,
      "outputs": []
    },
    {
      "cell_type": "code",
      "metadata": {
        "id": "xF3RiIsCReod",
        "colab_type": "code",
        "colab": {
          "base_uri": "https://localhost:8080/",
          "height": 225
        },
        "outputId": "9712fe03-9f5b-4eee-a997-9f5d58806df8"
      },
      "source": [
        "df['Processed_Tweet']"
      ],
      "execution_count": 188,
      "outputs": [
        {
          "output_type": "execute_result",
          "data": {
            "text/plain": [
              "0        You are amazing, @chicagosmayor.  I hope you g...\n",
              "1        #Trump finally admitted that the spread of the...\n",
              "2        @NavygirlLaura @GOP A sure sign the #GOP party...\n",
              "3        Why is #Trump silent when cops beat a #Veteran...\n",
              "4        @gtconway3d Speaking of falling, please be car...\n",
              "                               ...                        \n",
              "47088    Looks like #BorisJohnson is pandering to #Trum...\n",
              "47089    This is what the US map MUST look like on NOVE...\n",
              "47090    @thehill Death-count 7/14 in countries that to...\n",
              "47091    To be human, one has to possess empathy and mo...\n",
              "47092    Douglas London, a former CIA senior operations...\n",
              "Name: Processed_Tweet, Length: 47092, dtype: object"
            ]
          },
          "metadata": {
            "tags": []
          },
          "execution_count": 188
        }
      ]
    },
    {
      "cell_type": "markdown",
      "metadata": {
        "id": "1d90SBOaRis1",
        "colab_type": "text"
      },
      "source": [
        "\n",
        "# Remove Usernames"
      ]
    },
    {
      "cell_type": "code",
      "metadata": {
        "id": "4QVZlsgaRj-7",
        "colab_type": "code",
        "colab": {}
      },
      "source": [
        "df['Processed_Tweet'] = [re.sub('@[^\\s]+', ' ', i) for i in df['Processed_Tweet']] #remove usernames"
      ],
      "execution_count": 189,
      "outputs": []
    },
    {
      "cell_type": "code",
      "metadata": {
        "id": "wnYGy7niSBuc",
        "colab_type": "code",
        "colab": {
          "base_uri": "https://localhost:8080/",
          "height": 225
        },
        "outputId": "6b4bb2cf-209c-47dd-ad56-c66d253f91ab"
      },
      "source": [
        "\n",
        "df['Processed_Tweet']"
      ],
      "execution_count": 190,
      "outputs": [
        {
          "output_type": "execute_result",
          "data": {
            "text/plain": [
              "0        You are amazing,    I hope you get all the sup...\n",
              "1        #Trump finally admitted that the spread of the...\n",
              "2            A sure sign the #GOP party is breaking apa...\n",
              "3        Why is #Trump silent when cops beat a #Veteran...\n",
              "4          Speaking of falling, please be careful climb...\n",
              "                               ...                        \n",
              "47088    Looks like #BorisJohnson is pandering to #Trum...\n",
              "47089    This is what the US map MUST look like on NOVE...\n",
              "47090      Death-count 7/14 in countries that took prom...\n",
              "47091    To be human, one has to possess empathy and mo...\n",
              "47092    Douglas London, a former CIA senior operations...\n",
              "Name: Processed_Tweet, Length: 47092, dtype: object"
            ]
          },
          "metadata": {
            "tags": []
          },
          "execution_count": 190
        }
      ]
    },
    {
      "cell_type": "code",
      "metadata": {
        "id": "ssJHf8-OSGln",
        "colab_type": "code",
        "colab": {}
      },
      "source": [
        "df['Processed_Tweet'] = [re.sub('((www\\.[^\\s]+)|(https?://[^\\s]+))', '', i) for i in df['Processed_Tweet']] #Remove urls"
      ],
      "execution_count": 191,
      "outputs": []
    },
    {
      "cell_type": "code",
      "metadata": {
        "id": "86C8lQl5SKp-",
        "colab_type": "code",
        "colab": {}
      },
      "source": [
        "df['Processed_Tweet'] = [re.sub(r'#([^\\s]+)', r'\\1', i) for i in df['Processed_Tweet']] # remove the # in #hashtag"
      ],
      "execution_count": 192,
      "outputs": []
    },
    {
      "cell_type": "code",
      "metadata": {
        "id": "rrHTuo0UfhyT",
        "colab_type": "code",
        "colab": {
          "base_uri": "https://localhost:8080/",
          "height": 35
        },
        "outputId": "ffc763d2-7c13-4af4-e409-2672435e26c8"
      },
      "source": [
        "!pip install tweet-preprocessor\n"
      ],
      "execution_count": 193,
      "outputs": [
        {
          "output_type": "stream",
          "text": [
            "Requirement already satisfied: tweet-preprocessor in /usr/local/lib/python3.6/dist-packages (0.6.0)\n"
          ],
          "name": "stdout"
        }
      ]
    },
    {
      "cell_type": "code",
      "metadata": {
        "id": "skS-632qmq1-",
        "colab_type": "code",
        "colab": {}
      },
      "source": [
        "import preprocessor.api as p\n",
        "df['Processed_Tweet'] = [p.clean(i) for i in df['Processed_Tweet']]"
      ],
      "execution_count": 194,
      "outputs": []
    },
    {
      "cell_type": "code",
      "metadata": {
        "id": "HwaLhIfKm06D",
        "colab_type": "code",
        "colab": {
          "base_uri": "https://localhost:8080/",
          "height": 225
        },
        "outputId": "29229433-4db6-4bf4-9098-6b8375a1e179"
      },
      "source": [
        "\n",
        "df['Processed_Tweet']"
      ],
      "execution_count": 195,
      "outputs": [
        {
          "output_type": "execute_result",
          "data": {
            "text/plain": [
              "0        You are amazing, I hope you get all the suppor...\n",
              "1        Trump finally admitted that the spread of the ...\n",
              "2        A sure sign the GOP party is breaking apart is...\n",
              "3        Why is Trump silent when cops beat a Veteran a...\n",
              "4        Speaking of falling, please be careful climbin...\n",
              "                               ...                        \n",
              "47088    Looks like BorisJohnson is pandering to Trump ...\n",
              "47089    This is what the US map MUST look like on NOVE...\n",
              "47090    Death-count /14 in countries that took prompt ...\n",
              "47091    To be human, one has to possess empathy and mo...\n",
              "47092    Douglas London, a former CIA senior operations...\n",
              "Name: Processed_Tweet, Length: 47092, dtype: object"
            ]
          },
          "metadata": {
            "tags": []
          },
          "execution_count": 195
        }
      ]
    },
    {
      "cell_type": "markdown",
      "metadata": {
        "id": "xvDOxdqwnYHf",
        "colab_type": "text"
      },
      "source": [
        "\n",
        "# Removing Any Special Characters, Numbers, Punctuations etc."
      ]
    },
    {
      "cell_type": "code",
      "metadata": {
        "id": "jPqJSSa0nVbv",
        "colab_type": "code",
        "colab": {}
      },
      "source": [
        "#removing unnecessary special characters, numbers, punctuations in tweets\n",
        "df.Processed_Tweet = df.Processed_Tweet.str.replace(\"[^a-zA-Z]\", \" \")\n",
        "df.Processed_Tweet = [low.lower() for low in df.Processed_Tweet] #Converting into lower case\n",
        "df.Processed_Tweet =  df.Processed_Tweet.str.replace(\"amp\", \"\")"
      ],
      "execution_count": 196,
      "outputs": []
    },
    {
      "cell_type": "code",
      "metadata": {
        "id": "3r05_mu6nj6u",
        "colab_type": "code",
        "colab": {
          "base_uri": "https://localhost:8080/",
          "height": 35
        },
        "outputId": "29336484-5e27-4827-f797-c74f21d93a57"
      },
      "source": [
        "df['Processed_Tweet'][40] #Sample tweet"
      ],
      "execution_count": 197,
      "outputs": [
        {
          "output_type": "execute_result",
          "data": {
            "application/vnd.google.colaboratory.intrinsic+json": {
              "type": "string"
            },
            "text/plain": [
              "'it wasnt just hitlerit isnt just trumpboth these men were enabled by their societies  the chilling reality '"
            ]
          },
          "metadata": {
            "tags": []
          },
          "execution_count": 197
        }
      ]
    },
    {
      "cell_type": "markdown",
      "metadata": {
        "id": "PrQwRFVSoUHH",
        "colab_type": "text"
      },
      "source": [
        "\n",
        "# EDA"
      ]
    },
    {
      "cell_type": "code",
      "metadata": {
        "id": "9M7eixSIoTWu",
        "colab_type": "code",
        "colab": {
          "base_uri": "https://localhost:8080/",
          "height": 225
        },
        "outputId": "2e33ea97-2955-44c6-f855-4a081c407c8d"
      },
      "source": [
        "df['User'].value_counts()"
      ],
      "execution_count": 198,
      "outputs": [
        {
          "output_type": "execute_result",
          "data": {
            "text/plain": [
              "FOREXEAASSARV10    453\n",
              "Hotpage_News       307\n",
              "robinsnewswire     304\n",
              "Haidji             181\n",
              "TweetyThings1      164\n",
              "                  ... \n",
              "mydemocracy          1\n",
              "FredericEsq          1\n",
              "NinjaWateCowboy      1\n",
              "taunya_durant        1\n",
              "godfatherofchao      1\n",
              "Name: User, Length: 18123, dtype: int64"
            ]
          },
          "metadata": {
            "tags": []
          },
          "execution_count": 198
        }
      ]
    },
    {
      "cell_type": "code",
      "metadata": {
        "id": "Sx61tH-6oaqF",
        "colab_type": "code",
        "colab": {
          "base_uri": "https://localhost:8080/",
          "height": 1000
        },
        "outputId": "fc0e7b33-d840-4c26-b60f-a0a8b11e3fff"
      },
      "source": [
        "df.query('User == \"FOREXEAASSARV10\"').Processed_Tweet.tolist()"
      ],
      "execution_count": 199,
      "outputs": [
        {
          "output_type": "execute_result",
          "data": {
            "text/plain": [
              "['ex laguna beach officer held gun to colleague s head after bar hopping  prosecutors say click the link plandemic news trump nwo wakeup covid   covidiots covid   coronavirus breakingnews breaking',\n",
              " 'pilot truck stop empire moves away from family leadership click the link plandemic news trump nwo wakeup covid   covidiots covid   coronavirus breakingnews breaking',\n",
              " 'nasdaq takes a turn to new session lows click the link plandemic news trump nwo wakeup covid   covidiots covid   coronavirus breakingnews breaking',\n",
              " 'little noticed  filipino americans are dying of covid    at an alarming rate click the link plandemic news trump nwo wakeup covid   covidiots covid   coronavirus breakingnews breaking',\n",
              " 'apple pledges to be carbon neutral by click the link plandemic news trump nwo wakeup covid   covidiots covid   coronavirus breakingnews breaking',\n",
              " 'eur gbp price forecast  eurgbp tests key psychological level click the link plandemic news trump nwo wakeup covid   covidiots covid   coronavirus breakingnews breaking',\n",
              " 'us dollar breakdown  eur usd  aud usd  gbp usd break outs click the link plandemic news trump nwo wakeup covid   covidiots covid   coronavirus breakingnews breaking',\n",
              " 'wti crude oil futures for august delivery settles at        click the link plandemic news trump nwo wakeup covid   covidiots covid   coronavirus breakingnews breaking',\n",
              " 'more mcconnell  there are some differences of opinion on payroll tax cut click the link plandemic news trump nwo wakeup covid   covidiots covid   coronavirus breakingnews breaking',\n",
              " 'trump fed nominees shelton  waller confirmed by senate committee click the link plandemic news trump nwo wakeup covid   covidiots covid   coronavirus breakingnews breaking',\n",
              " 'us senate panel advances judy shelton nomination for fed board click the link plandemic news trump nwo wakeup covid   covidiots covid   coronavirus breakingnews breaking',\n",
              " 'california case count rises by vs  yesterday click the link plandemic news trump nwo wakeup covid   covidiots covid   coronavirus breakingnews breaking',\n",
              " 'orange county now has second worst coronavirus outbreak in california click the link plandemic news trump nwo wakeup covid   covidiots covid   coronavirus breakingnews breaking',\n",
              " 'audusd runs to the highest level since april click the link plandemic news trump nwo wakeup covid   covidiots covid   coronavirus breakingnews breaking',\n",
              " 'mississippi cases rise by   new record increase  click the link plandemic news trump nwo wakeup covid   covidiots covid   coronavirus breakingnews breaking',\n",
              " 'mnuchin on budget discussions  want to finish by end of july click the link plandemic news trump nwo wakeup covid   covidiots covid   coronavirus breakingnews breaking',\n",
              " 'men s wearhouse  jos  a  bank parent looks to close more than third of stores click the link plandemic news trump nwo wakeup covid   covidiots covid   coronavirus breakingnews breaking',\n",
              " 'covid    prompts walmart to close stores on thanksgiving day click the link plandemic news trump nwo wakeup covid   covidiots covid   coronavirus breakingnews breaking',\n",
              " 'us senate majority leader mcconnell  coronavirus bill require bipartisan discussions click the link plandemic news trump nwo wakeup covid   covidiots covid   coronavirus breakingnews breaking',\n",
              " 'wsj journalists ask publisher for clearer distinction between news and opinion content click the link plandemic news trump nwo wakeup covid   covidiots covid   coronavirus breakingnews breaking',\n",
              " 'usdjpy runs lower toward the recent low extremes click the link plandemic news trump nwo wakeup covid   covidiots covid   coronavirus breakingnews breaking',\n",
              " 'btc price outlook  bitcoin chart coiled  pennant breakout eyed click the link plandemic news trump nwo wakeup covid   covidiots covid   coronavirus breakingnews breaking',\n",
              " 'european shares end the session higher but off the highest levels  click the link plandemic news trump nwo wakeup covid   covidiots covid   coronavirus breakingnews breaking',\n",
              " 'eurusd trade to the highest level since january click the link plandemic news trump nwo wakeup covid   covidiots covid   coronavirus breakingnews breaking',\n",
              " 'aud jpy price forecast  ascending triangle breach confirmed click the link plandemic news trump nwo wakeup covid   covidiots covid   coronavirus breakingnews breaking',\n",
              " 'gold extends the run to the upside and reaches the highest level since september click the link plandemic news trump nwo wakeup covid   covidiots covid   coronavirus breakingnews breaking',\n",
              " 'new york covid cases      up from yesterday click the link plandemic news trump nwo wakeup covid   covidiots covid   coronavirus breakingnews breaking',\n",
              " 'wearing masks could help you avoid major illness even if you get coronavirus  experts say click the link plandemic news trump nwo wakeup covid   covidiots covid   coronavirus breakingnews breaking',\n",
              " 'eurusd extends to new highs and tests the high for click the link plandemic news trump nwo wakeup covid   covidiots covid   coronavirus breakingnews breaking',\n",
              " 'arizona coronavirus cases vs  yesterday click the link plandemic news trump nwo wakeup covid   covidiots covid   coronavirus breakingnews breaking',\n",
              " 'triple shooting at burbank home leaves men dead  woman in critical condition click the link plandemic news trump nwo wakeup covid   covidiots covid   coronavirus breakingnews breaking',\n",
              " 'blacklisting of chinese firms rattles american supply chains click the link plandemic news trump nwo wakeup covid   covidiots covid   coronavirus breakingnews breaking',\n",
              " 'us accuses chinese hackers of stealing covid trade secrets click the link plandemic news trump nwo wakeup covid   covidiots covid   coronavirus breakingnews breaking',\n",
              " 'with indoor dining upended  some restaurants call it quits click the link plandemic news trump nwo wakeup covid   covidiots covid   coronavirus breakingnews breaking',\n",
              " 'uk foreign secretary raab meets with us secretary of state pompeo click the link plandemic news trump nwo wakeup covid   covidiots covid   coronavirus breakingnews breaking',\n",
              " 'how to trade the euro  nok and sek using the core perimeter model click the link plandemic news trump nwo wakeup covid   covidiots covid   coronavirus breakingnews breaking',\n",
              " 'california sets new records for coronavirus cases and related deaths click the link plandemic news trump nwo wakeup covid   covidiots covid   coronavirus breakingnews breaking',\n",
              " 'elon musk aims tesla at fourth straight profitable quarter click the link plandemic news trump nwo wakeup covid   covidiots covid   coronavirus breakingnews breaking',\n",
              " 'florida coronavirus cases rise   vs  previous day average of   click the link plandemic news trump nwo wakeup covid   covidiots covid   coronavirus breakingnews breaking',\n",
              " 'prepare to lose a bundle on stocks boosted by a coronavirus vaccine click the link plandemic news trump nwo wakeup covid   covidiots covid   coronavirus breakingnews breaking',\n",
              " 'gbpusd trading above and below the day ma today click the link plandemic news trump nwo wakeup covid   covidiots covid   coronavirus breakingnews breaking',\n",
              " 'white house works to sell gop senators on payroll tax cut click the link plandemic news trump nwo wakeup covid   covidiots covid   coronavirus breakingnews breaking',\n",
              " 'eurusd chops up and down  but stays above the hour ma  click the link plandemic news trump nwo wakeup covid   covidiots covid   coronavirus breakingnews breaking',\n",
              " 'how jack ma s ant group went from business disrupter to chinese tech chion click the link plandemic news trump nwo wakeup covid   covidiots covid   coronavirus breakingnews breaking',\n",
              " 'major indices open higher  but off premarket high levels click the link plandemic news trump nwo wakeup covid   covidiots covid   coronavirus breakingnews breaking',\n",
              " 'how online school will be better this fallbut still a burden on parents click the link plandemic news trump nwo wakeup covid   covidiots covid   coronavirus breakingnews breaking',\n",
              " 'nasdaq trades in the red as sellers push back down click the link plandemic news trump nwo wakeup covid   covidiots covid   coronavirus breakingnews breaking',\n",
              " 'battle over uber drivers  employment status resurfaces in europe click the link plandemic news trump nwo wakeup covid   covidiots covid   coronavirus breakingnews breaking',\n",
              " 'can  retail sales  chicago fed national activity index the highlights today click the link plandemic news trump nwo wakeup covid   covidiots covid   coronavirus breakingnews breaking',\n",
              " 'lockheed martin boosts guidance click the link plandemic news trump nwo wakeup covid   covidiots covid   coronavirus breakingnews breaking',\n",
              " 'rep  kevin mccarthy  r  speaking on cnbc click the link plandemic news trump nwo wakeup covid   covidiots covid   coronavirus breakingnews breaking',\n",
              " 'covid could breathe renewed life into what s left of iac click the link plandemic news trump nwo wakeup covid   covidiots covid   coronavirus breakingnews breaking',\n",
              " 'usdcad trades to the lowest level since june click the link plandemic news trump nwo wakeup covid   covidiots covid   coronavirus breakingnews breaking',\n",
              " 'l a  may face a grim distinction  the biggest u s  city with a second stay home order click the link plandemic news trump nwo wakeup covid   covidiots covid   coronavirus breakingnews breaking',\n",
              " 'ceo of tapestry  parent of coach and kate spade brands  resigns click the link plandemic news trump nwo wakeup covid   covidiots covid   coronavirus breakingnews breaking',\n",
              " 'canada retail sales for may   vs    estimate click the link plandemic news trump nwo wakeup covid   covidiots covid   coronavirus breakingnews breaking',\n",
              " 'many latino workers fear getting tested for covid     a san francisco program aims to change that click the link plandemic news trump nwo wakeup covid   covidiots covid   coronavirus breakingnews breaking',\n",
              " 'summer rise in covid    hot spots derailing hotel recovery click the link plandemic news trump nwo wakeup covid   covidiots covid   coronavirus breakingnews breaking',\n",
              " 'chicago fed national activity index for june vs  estimate click the link plandemic news trump nwo wakeup covid   covidiots covid   coronavirus breakingnews breaking',\n",
              " 'skepticism about eu recovery fund could undermine eur usd   webinar click the link plandemic news trump nwo wakeup covid   covidiots covid   coronavirus breakingnews breaking',\n",
              " 'a  year old called out trader joe s  now the chain is dropping offensive labeling click the link plandemic news trump nwo wakeup covid   covidiots covid   coronavirus breakingnews breaking',\n",
              " 'coca cola sales fall   with fewer products sold at bars  restaurants click the link plandemic news trump nwo wakeup covid   covidiots covid   coronavirus breakingnews breaking',\n",
              " 'the aud is the strongest and the eur is the weakest as na traders enter for the day click the link plandemic news trump nwo wakeup covid   covidiots covid   coronavirus breakingnews breaking',\n",
              " 'forexlive european fx news wrap  eu agrees on recovery fund  risk rallies click the link plandemic news trump nwo wakeup covid   covidiots covid   coronavirus breakingnews breaking',\n",
              " 'another record high for the nasdaq click the link plandemic news trump nwo wakeup covid   covidiots covid   coronavirus breakingnews breaking',\n",
              " 'eur usd  usd cad charts     more click the link plandemic news trump nwo wakeup covid   covidiots covid   coronavirus breakingnews breaking',\n",
              " 'tokyo governor calls for residents to avoid going out over the coming long weekend click the link plandemic news trump nwo wakeup covid   covidiots covid   coronavirus breakingnews breaking',\n",
              " 'gold  xau usd  hits a nine year high  silver  xag usd  breaks above     oz  click the link plandemic news trump nwo wakeup covid   covidiots covid   coronavirus breakingnews breaking',\n",
              " 'china president xi jinping  chinese economic recovery leads the world click the link plandemic news trump nwo wakeup covid   covidiots covid   coronavirus breakingnews breaking',\n",
              " 'ebay to sell classified ad business to norwegian firm for      billion click the link plandemic news trump nwo wakeup covid   covidiots covid   coronavirus breakingnews breaking',\n",
              " 'nzd usd flirts with   looks to break away from the recent highs click the link plandemic news trump nwo wakeup covid   covidiots covid   coronavirus breakingnews breaking',\n",
              " 'linkedin to lay off about   of its workforce click the link plandemic news trump nwo wakeup covid   covidiots covid   coronavirus breakingnews breaking',\n",
              " 'germany s altmaier  eu summit deal increases chances of economic recovery in h click the link plandemic news trump nwo wakeup covid   covidiots covid   coronavirus breakingnews breaking',\n",
              " 'gold prices at risk despite push to  month high as earnings loom click the link plandemic news trump nwo wakeup covid   covidiots covid   coronavirus breakingnews breaking',\n",
              " 'euro stoxx   ftse mib  ibex react to symbolic eu deal click the link plandemic news trump nwo wakeup covid   covidiots covid   coronavirus breakingnews breaking',\n",
              " 'more us stimulus talks to follow in the day ahead click the link plandemic news trump nwo wakeup covid   covidiots covid   coronavirus breakingnews breaking',\n",
              " 'germany dax erases losses for the year click the link plandemic news trump nwo wakeup covid   covidiots covid   coronavirus breakingnews breaking',\n",
              " 'what to know before you start your trading day click the link plandemic news trump nwo wakeup covid   covidiots covid   coronavirus breakingnews breaking',\n",
              " 'audjpy longs look attractive click the link plandemic news trump nwo wakeup covid   covidiots covid   coronavirus breakingnews breaking',\n",
              " 'switzerland june trade balance chf billion vs chf billion prior click the link plandemic news trump nwo wakeup covid   covidiots covid   coronavirus breakingnews breaking',\n",
              " 'ecb s schnabel  it is likely that pepp envelope will be used in full click the link plandemic news trump nwo wakeup covid   covidiots covid   coronavirus breakingnews breaking',\n",
              " 'china says will take necessary measures to ensure firms  rights after us blacklist move click the link plandemic news trump nwo wakeup covid   covidiots covid   coronavirus breakingnews breaking',\n",
              " 'british pound  gbp  latest  eur gbp testing after eu summit deal click the link plandemic news trump nwo wakeup covid   covidiots covid   coronavirus breakingnews breaking',\n",
              " 'uk june public sector net borrowing billion vs billion expected click the link plandemic news trump nwo wakeup covid   covidiots covid   coronavirus breakingnews breaking',\n",
              " 'italian bonds higher after european leaders seal agreement on recovery fund click the link plandemic news trump nwo wakeup covid   covidiots covid   coronavirus breakingnews breaking',\n",
              " 'is retail sentiment important for swing trading  click the link plandemic news trump nwo wakeup covid   covidiots covid   coronavirus breakingnews breaking',\n",
              " 'dollar eases to start the session as risk mood keeps more upbeat click the link plandemic news trump nwo wakeup covid   covidiots covid   coronavirus breakingnews breaking',\n",
              " 'european equities open higher to start the day click the link plandemic news trump nwo wakeup covid   covidiots covid   coronavirus breakingnews breaking',\n",
              " 'canadian dollar outlook  usd cad may slide on upcoming retail sales data click the link plandemic news trump nwo wakeup covid   covidiots covid   coronavirus breakingnews breaking',\n",
              " 'going for gold again click the link plandemic news trump nwo wakeup covid   covidiots covid   coronavirus breakingnews breaking',\n",
              " 'aussie looks poised to keep above amid more buoyant risk mood click the link plandemic news trump nwo wakeup covid   covidiots covid   coronavirus breakingnews breaking',\n",
              " 'tokyo reportedly finds new coronavirus cases in latest update today click the link plandemic news trump nwo wakeup covid   covidiots covid   coronavirus breakingnews breaking',\n",
              " 'eurostoxx futures       in early european trading click the link plandemic news trump nwo wakeup covid   covidiots covid   coronavirus breakingnews breaking',\n",
              " 'nikkei closes higher by   at click the link plandemic news trump nwo wakeup covid   covidiots covid   coronavirus breakingnews breaking',\n",
              " 'rba governor lowe is speaking at the top of the hour live link click the link plandemic news trump nwo wakeup covid   covidiots covid   coronavirus breakingnews breaking',\n",
              " 'trade ideas thread european session july click the link plandemic news trump nwo wakeup covid   covidiots covid   coronavirus breakingnews breaking',\n",
              " 'silver on the move in break to fresh highs since click the link plandemic news trump nwo wakeup covid   covidiots covid   coronavirus breakingnews breaking',\n",
              " 'the eu leaders meeting on the recovery fund has recommenced  again  click the link plandemic news trump nwo wakeup covid   covidiots covid   coronavirus breakingnews breaking',\n",
              " 'eur usd pulls back from july high as eu splits covid recovery fund click the link plandemic news trump nwo wakeup covid   covidiots covid   coronavirus breakingnews breaking',\n",
              " 'economic data coming up in the european session click the link plandemic news trump nwo wakeup covid   covidiots covid   coronavirus breakingnews breaking',\n",
              " 'france s macron  there is no perfect world  but we have made progress click the link plandemic news trump nwo wakeup covid   covidiots covid   coronavirus breakingnews breaking',\n",
              " 'euro slips on  buy the rumour  sell the fact  play after recovery fund agreement click the link plandemic news trump nwo wakeup covid   covidiots covid   coronavirus breakingnews breaking',\n",
              " 'eu s von der leyen  it is a pivotal moment in eu history click the link plandemic news trump nwo wakeup covid   covidiots covid   coronavirus breakingnews breaking',\n",
              " 'germany s merkel   very relieved  about agreement on recovery fund click the link plandemic news trump nwo wakeup covid   covidiots covid   coronavirus breakingnews breaking',\n",
              " 'singapore central bank wants tighter control over cryptocurrency click the link plandemic news trump nwo wakeup covid   covidiots covid   coronavirus breakingnews breaking',\n",
              " 'more from rba gov lowe welcomes government income support extension plan click the link plandemic news trump nwo wakeup covid   covidiots covid   coronavirus breakingnews breaking',\n",
              " 'eu reaches a deal on recovery fund click the link plandemic news trump nwo wakeup covid   covidiots covid   coronavirus breakingnews breaking',\n",
              " 'anz on oil what s supporting it  what s not click the link plandemic news trump nwo wakeup covid   covidiots covid   coronavirus breakingnews breaking',\n",
              " 'rba s lowe says the aud is broadly in line with fundamentals click the link plandemic news trump nwo wakeup covid   covidiots covid   coronavirus breakingnews breaking',\n",
              " 'indian rupee gains on us tariff rollback proposal  nifty to follow  click the link plandemic news trump nwo wakeup covid   covidiots covid   coronavirus breakingnews breaking',\n",
              " 'forexlive asia fx news wrap  usd sellers about in asia click the link plandemic news trump nwo wakeup covid   covidiots covid   coronavirus breakingnews breaking',\n",
              " 'japan economy minister nishimura coronavirus panel to meet wednesday afternoon click the link plandemic news trump nwo wakeup covid   covidiots covid   coronavirus breakingnews breaking',\n",
              " 'goldman sachs says if you like fading crowded trades you may be plain out of luck click the link plandemic news trump nwo wakeup covid   covidiots covid   coronavirus breakingnews breaking',\n",
              " 'column  the latest rallying cry of coronavirus deniers  brought to you by orange county click the link plandemic news trump nwo wakeup covid   covidiots covid   coronavirus breakingnews breaking',\n",
              " 'australia coronavirus lock down in melbourne consumer spending evaporating click the link plandemic news trump nwo wakeup covid   covidiots covid   coronavirus breakingnews breaking',\n",
              " 'silver outlook  xag usd poised to rise as stimulus underpins metal prices click the link plandemic news trump nwo wakeup covid   covidiots covid   coronavirus breakingnews breaking',\n",
              " 'san bernardino county hits record for icu patients hospitalized for covid    symptoms click the link plandemic news trump nwo wakeup covid   covidiots covid   coronavirus breakingnews breaking',\n",
              " 'australia has extended its income support scheme but at reduced  and tiered  rates click the link plandemic news trump nwo wakeup covid   covidiots covid   coronavirus breakingnews breaking',\n",
              " 'back to school in orange county without masks and social distancing  many call that reckless click the link plandemic news trump nwo wakeup covid   covidiots covid   coronavirus breakingnews breaking',\n",
              " 'fx option expiries for tuesday july at the am ny cut click the link plandemic news trump nwo wakeup covid   covidiots covid   coronavirus breakingnews breaking',\n",
              " 'news analysis  as coronavirus surges  new pressure on gov  newsom for a schools reopening plan click the link plandemic news trump nwo wakeup covid   covidiots covid   coronavirus breakingnews breaking',\n",
              " 'rba july meeting minutes easy policy to stay as long as needed click the link plandemic news trump nwo wakeup covid   covidiots covid   coronavirus breakingnews breaking',\n",
              " 'black bears stealing food prompt csite closures at lassen volcanic national park click the link plandemic news trump nwo wakeup covid   covidiots covid   coronavirus breakingnews breaking',\n",
              " 'former fox news anchor ed henry accused of rape in lawsuit click the link plandemic news trump nwo wakeup covid   covidiots covid   coronavirus breakingnews breaking',\n",
              " 'pboc sets usd  cny reference rate for today at  vs  yesterday at   click the link plandemic news trump nwo wakeup covid   covidiots covid   coronavirus breakingnews breaking',\n",
              " 'asx faces resistance at   nikkei edging higher click the link plandemic news trump nwo wakeup covid   covidiots covid   coronavirus breakingnews breaking',\n",
              " 'l a  county fair chief miguel santana is stepping down click the link plandemic news trump nwo wakeup covid   covidiots covid   coronavirus breakingnews breaking',\n",
              " 'citi s reasons for buying gold click the link plandemic news trump nwo wakeup covid   covidiots covid   coronavirus breakingnews breaking',\n",
              " 'california fails to protect latino workers as coronavirus ravages communities of color click the link plandemic news trump nwo wakeup covid   covidiots covid   coronavirus breakingnews breaking',\n",
              " 'disney fires top abc news executive for racially insensitive remarks click the link plandemic news trump nwo wakeup covid   covidiots covid   coronavirus breakingnews breaking',\n",
              " 'japan data for june  headline cpi   y y  expected    click the link plandemic news trump nwo wakeup covid   covidiots covid   coronavirus breakingnews breaking',\n",
              " 'coronavirus testing for half a million l a  students each week  easier said than done click the link plandemic news trump nwo wakeup covid   covidiots covid   coronavirus breakingnews breaking',\n",
              " 'u s  companies get tax reprieve in irs foreign income rules click the link plandemic news trump nwo wakeup covid   covidiots covid   coronavirus breakingnews breaking',\n",
              " 'south korea first days of july exports down   y y click the link plandemic news trump nwo wakeup covid   covidiots covid   coronavirus breakingnews breaking',\n",
              " 'nzd usd crowding behavior persist as rsi diverges with price click the link plandemic news trump nwo wakeup covid   covidiots covid   coronavirus breakingnews breaking',\n",
              " 'stranded chimpanzees need permanent new homes click the link plandemic news trump nwo wakeup covid   covidiots covid   coronavirus breakingnews breaking',\n",
              " 'australia says mining  energy sectors underpinning the domestic economy due to demand from china click the link plandemic news trump nwo wakeup covid   covidiots covid   coronavirus breakingnews breaking',\n",
              " 'la pride is leaving west hollywood after four decades in the city click the link plandemic news trump nwo wakeup covid   covidiots covid   coronavirus breakingnews breaking',\n",
              " 'cansinobio  a coronavirus vaccine contender  says no serious adverse reaction to its vaccine trial click the link plandemic news trump nwo wakeup covid   covidiots covid   coronavirus breakingnews breaking',\n",
              " 'euro in limbo on eu summit  gbp     usd brace for brexit     us fiscal debate click the link plandemic news trump nwo wakeup covid   covidiots covid   coronavirus breakingnews breaking',\n",
              " 'mineral fire in fresno county grows to acres as firefighters battle  extreme  behavior click the link plandemic news trump nwo wakeup covid   covidiots covid   coronavirus breakingnews breaking',\n",
              " 'australia data snippet card spending on the week bounced   y y click the link plandemic news trump nwo wakeup covid   covidiots covid   coronavirus breakingnews breaking',\n",
              " 'australian dollar eyes rba minutes  euro hung up on eu summit click the link plandemic news trump nwo wakeup covid   covidiots covid   coronavirus breakingnews breaking',\n",
              " 'admissions scandal  newport beach socialite sentenced to five weeks in prison click the link plandemic news trump nwo wakeup covid   covidiots covid   coronavirus breakingnews breaking',\n",
              " 'final round of brexit talks in mid august chances of a deal fading fast  key disagreements  and gbp outlook  click the link plandemic news trump nwo wakeup covid   covidiots covid   coronavirus breakingnews breaking',\n",
              " 'california cuses likely to remain closed amid coronavirus spike  state schools chief says click the link plandemic news trump nwo wakeup covid   covidiots covid   coronavirus breakingnews breaking',\n",
              " 'la county    texas coronavirus cases up a combined    k click the link plandemic news trump nwo wakeup covid   covidiots covid   coronavirus breakingnews breaking',\n",
              " 'earthquake  temblor strikes near bakersfield click the link plandemic news trump nwo wakeup covid   covidiots covid   coronavirus breakingnews breaking',\n",
              " 'ecb s schnabel says balance of risks still towards the down side click the link plandemic news trump nwo wakeup covid   covidiots covid   coronavirus breakingnews breaking',\n",
              " 'the rose parade is canceled for first time in years click the link plandemic news trump nwo wakeup covid   covidiots covid   coronavirus breakingnews breaking',\n",
              " 'nzd traders heads up for the gdt dairy auction coming up tuesday click the link plandemic news trump nwo wakeup covid   covidiots covid   coronavirus breakingnews breaking',\n",
              " 'judge denies request to block lapd from using batons  projectiles click the link plandemic news trump nwo wakeup covid   covidiots covid   coronavirus breakingnews breaking',\n",
              " 'warner bros  postpones  tenet  release indefinitely click the link plandemic news trump nwo wakeup covid   covidiots covid   coronavirus breakingnews breaking',\n",
              " 'eur traders rumour out of the eu summit is a deal is  imminent  click the link plandemic news trump nwo wakeup covid   covidiots covid   coronavirus breakingnews breaking',\n",
              " 'orange county opens new covid    testing sites  but appointments are hard to get click the link plandemic news trump nwo wakeup covid   covidiots covid   coronavirus breakingnews breaking',\n",
              " 'fda bans sale of puff bar e cigarettes click the link plandemic news trump nwo wakeup covid   covidiots covid   coronavirus breakingnews breaking',\n",
              " 'more on that australian consumer spending data the lock down state lags badly click the link plandemic news trump nwo wakeup covid   covidiots covid   coronavirus breakingnews breaking',\n",
              " 'aud usd     asx price forecast  aussie assets probe resistance click the link plandemic news trump nwo wakeup covid   covidiots covid   coronavirus breakingnews breaking',\n",
              " 'need a trim  newsom allows haircuts  salon services to resume outdoors amid coronavirus click the link plandemic news trump nwo wakeup covid   covidiots covid   coronavirus breakingnews breaking',\n",
              " 'bayer loses roundup appeal click the link plandemic news trump nwo wakeup covid   covidiots covid   coronavirus breakingnews breaking',\n",
              " 'forexlive americas fx news wrap  nasdaq propelled to a record close  eu recovery package moves toward compromise click the link plandemic news trump nwo wakeup covid   covidiots covid   coronavirus breakingnews breaking',\n",
              " 'coronavirus spikes in california hot spot counties drive up cases click the link plandemic news trump nwo wakeup covid   covidiots covid   coronavirus breakingnews breaking',\n",
              " 'ibm earnings falter as pandemic accelerates turnaround push click the link plandemic news trump nwo wakeup covid   covidiots covid   coronavirus breakingnews breaking',\n",
              " 'heads up for a tuesday report to come on nvax covid   vaccine news  but no data  click the link plandemic news trump nwo wakeup covid   covidiots covid   coronavirus breakingnews breaking',\n",
              " 'ventura county bars can reopen outdoors if they serve food  officials say click the link plandemic news trump nwo wakeup covid   covidiots covid   coronavirus breakingnews breaking',\n",
              " 'protesters urge support for black workers click the link plandemic news trump nwo wakeup covid   covidiots covid   coronavirus breakingnews breaking',\n",
              " 'eur usd forecasts raised positives for the pair  and the negatives   click the link plandemic news trump nwo wakeup covid   covidiots covid   coronavirus breakingnews breaking',\n",
              " 'sheriff s chief of staff reassigned after he posted andres guardado  chose his fate  click the link plandemic news trump nwo wakeup covid   covidiots covid   coronavirus breakingnews breaking',\n",
              " 'here is whats on the economic calendar in asia today rba events for the aud traders click the link plandemic news trump nwo wakeup covid   covidiots covid   coronavirus breakingnews breaking',\n",
              " 'san francisco in coronavirus  red zone   freezes reopenings click the link plandemic news trump nwo wakeup covid   covidiots covid   coronavirus breakingnews breaking',\n",
              " 'nasdaq index rises over   on the day  new record close click the link plandemic news trump nwo wakeup covid   covidiots covid   coronavirus breakingnews breaking',\n",
              " 'admissions scandal  david sidoo  former canadian football player  sentenced to days in prison click the link plandemic news trump nwo wakeup covid   covidiots covid   coronavirus breakingnews breaking',\n",
              " 'mexican economy minister says actively seeking companies to relocate from china click the link plandemic news trump nwo wakeup covid   covidiots covid   coronavirus breakingnews breaking',\n",
              " 'o c  prosecutors committed malpractice in handling of informant in mass killer case  review finds click the link plandemic news trump nwo wakeup covid   covidiots covid   coronavirus breakingnews breaking',\n",
              " 'us virus cases rise    click the link plandemic news trump nwo wakeup covid   covidiots covid   coronavirus breakingnews breaking',\n",
              " 'coronavirus testing hits snags in inland empire click the link plandemic news trump nwo wakeup covid   covidiots covid   coronavirus breakingnews breaking',\n",
              " 'pres  trump tweets with a mask on  click the link plandemic news trump nwo wakeup covid   covidiots covid   coronavirus breakingnews breaking',\n",
              " 'o c  officials warn residents of  dangerous  sex offender released from mental hospital click the link plandemic news trump nwo wakeup covid   covidiots covid   coronavirus breakingnews breaking',\n",
              " 'pres  trump  coronavirus is a worldwide problem  to lead coronavirus briefings starting tomorrow click the link plandemic news trump nwo wakeup covid   covidiots covid   coronavirus breakingnews breaking',\n",
              " 'coronavirus outbreak infects inmates at imperial county s calipatria state prison click the link plandemic news trump nwo wakeup covid   covidiots covid   coronavirus breakingnews breaking',\n",
              " 'california gov  newsom  hospitalizations are rising at a slower pace click the link plandemic news trump nwo wakeup covid   covidiots covid   coronavirus breakingnews breaking',\n",
              " 'megan thee stallion says she got shot in the hollywood hills  lapd says it was a foot injury click the link plandemic news trump nwo wakeup covid   covidiots covid   coronavirus breakingnews breaking',\n",
              " 'california reports cases vs  day average of click the link plandemic news trump nwo wakeup covid   covidiots covid   coronavirus breakingnews breaking',\n",
              " 'charges dismissed against social workers linked to gabriel fernandez s killing click the link plandemic news trump nwo wakeup covid   covidiots covid   coronavirus breakingnews breaking',\n",
              " 'nasdaq index up over points on the day click the link plandemic news trump nwo wakeup covid   covidiots covid   coronavirus breakingnews breaking',\n",
              " 'gold price forecast  xau  gold threaten bullish breakout click the link plandemic news trump nwo wakeup covid   covidiots covid   coronavirus breakingnews breaking',\n",
              " 'ventura county sees increase in number of positive coronavirus cases among farmworkers click the link plandemic news trump nwo wakeup covid   covidiots covid   coronavirus breakingnews breaking',\n",
              " 'wti crude oil futures settle at        click the link plandemic news trump nwo wakeup covid   covidiots covid   coronavirus breakingnews breaking',\n",
              " 'kiwi price analysis  wedge holds nzd usd for now click the link plandemic news trump nwo wakeup covid   covidiots covid   coronavirus breakingnews breaking',\n",
              " 'two men charged in    million kidnapping of luxury car dealer whose body was found in the mojave desert click the link plandemic news trump nwo wakeup covid   covidiots covid   coronavirus breakingnews breaking',\n",
              " 'eurgbp retests hour ma  second test today  click the link plandemic news trump nwo wakeup covid   covidiots covid   coronavirus breakingnews breaking',\n",
              " 'l a  latino  black students suffered deep disparities in online learning  records show click the link plandemic news trump nwo wakeup covid   covidiots covid   coronavirus breakingnews breaking',\n",
              " 'eu proposes billion pandemic stimulus fund click the link plandemic news trump nwo wakeup covid   covidiots covid   coronavirus breakingnews breaking',\n",
              " 'column  the making of activists  how two santa monica women came to stand up for black lives click the link plandemic news trump nwo wakeup covid   covidiots covid   coronavirus breakingnews breaking',\n",
              " 'usdcad makes new session low and looks toward click the link plandemic news trump nwo wakeup covid   covidiots covid   coronavirus breakingnews breaking',\n",
              " 'column one  the true story of the heartthrob prince of qatar and his time at usc click the link plandemic news trump nwo wakeup covid   covidiots covid   coronavirus breakingnews breaking',\n",
              " 'caesars and eldorado close       billion merger click the link plandemic news trump nwo wakeup covid   covidiots covid   coronavirus breakingnews breaking',\n",
              " 'us cdc reports new cases vs click the link plandemic news trump nwo wakeup covid   covidiots covid   coronavirus breakingnews breaking',\n",
              " 'californians turn against each other amid nd coronavirus shutdown click the link plandemic news trump nwo wakeup covid   covidiots covid   coronavirus breakingnews breaking',\n",
              " 'coronavirus rewrites the disney playbook click the link plandemic news trump nwo wakeup covid   covidiots covid   coronavirus breakingnews breaking',\n",
              " 'rep  mccarthy  says stimulus includes payroll tax cut and direct payments click the link plandemic news trump nwo wakeup covid   covidiots covid   coronavirus breakingnews breaking',\n",
              " 'dollar vs mexican peso price outlook  usd mxn range contraction click the link plandemic news trump nwo wakeup covid   covidiots covid   coronavirus breakingnews breaking',\n",
              " 'man found shot to death inside truck in santa ana neighborhood click the link plandemic news trump nwo wakeup covid   covidiots covid   coronavirus breakingnews breaking',\n",
              " 'eurjpy bounces off the hour ma ahead of trend line click the link plandemic news trump nwo wakeup covid   covidiots covid   coronavirus breakingnews breaking',\n",
              " 'can california contain coronavirus surge  next two weeks will be critical click the link plandemic news trump nwo wakeup covid   covidiots covid   coronavirus breakingnews breaking',\n",
              " 'houston area virus icu census plunges   to week low of click the link plandemic news trump nwo wakeup covid   covidiots covid   coronavirus breakingnews breaking',\n",
              " 'junpero serra statues to come down in ventura  city leaders decide click the link plandemic news trump nwo wakeup covid   covidiots covid   coronavirus breakingnews breaking',\n",
              " 'new jersey governor  schools will open in the fall click the link plandemic news trump nwo wakeup covid   covidiots covid   coronavirus breakingnews breaking',\n",
              " 'tenants keeping up rent payments during pandemic  but wave of evictions could loom click the link plandemic news trump nwo wakeup covid   covidiots covid   coronavirus breakingnews breaking',\n",
              " 'gold trades to the highest level since september click the link plandemic news trump nwo wakeup covid   covidiots covid   coronavirus breakingnews breaking',\n",
              " 'coronavirus spreading rapidly in l a  workplaces that ignore safety rules click the link plandemic news trump nwo wakeup covid   covidiots covid   coronavirus breakingnews breaking',\n",
              " 'european shares end higher on hopes for a eu recovery compromise click the link plandemic news trump nwo wakeup covid   covidiots covid   coronavirus breakingnews breaking',\n",
              " 'for the first time  latinos are the largest group of californians admitted to uc click the link plandemic news trump nwo wakeup covid   covidiots covid   coronavirus breakingnews breaking',\n",
              " 'boe haldane  we are reviewing negative rates click the link plandemic news trump nwo wakeup covid   covidiots covid   coronavirus breakingnews breaking',\n",
              " 'nasdaq   dow jones  dax forecasts for the week click the link plandemic news trump nwo wakeup covid   covidiots covid   coronavirus breakingnews breaking',\n",
              " 'l a  county expands coronavirus testing in hard hit black  latino communities click the link plandemic news trump nwo wakeup covid   covidiots covid   coronavirus breakingnews breaking',\n",
              " 'cal maine sales rose as consumers stocked up on eggs click the link plandemic news trump nwo wakeup covid   covidiots covid   coronavirus breakingnews breaking',\n",
              " 'mnuchin  starting with another trillion dollars in next stimulus click the link plandemic news trump nwo wakeup covid   covidiots covid   coronavirus breakingnews breaking',\n",
              " 'as covid    spreads  potentially deadly fungus infects l a  county healthcare facility click the link plandemic news trump nwo wakeup covid   covidiots covid   coronavirus breakingnews breaking',\n",
              " 'oxford university  astrazeneca covid    vaccine front runner shows promise in trials click the link plandemic news trump nwo wakeup covid   covidiots covid   coronavirus breakingnews breaking',\n",
              " 'eu recovery talks delayed till gmt click the link plandemic news trump nwo wakeup covid   covidiots covid   coronavirus breakingnews breaking',\n",
              " 'us dollar forecast  sitting at major channel support key levels for dxy index click the link plandemic news trump nwo wakeup covid   covidiots covid   coronavirus breakingnews breaking',\n",
              " 'california worker safety agency  missing in action  during the coronavirus  critics say click the link plandemic news trump nwo wakeup covid   covidiots covid   coronavirus breakingnews breaking',\n",
              " 'autonomous vehicles to race at indianapolis motor speedway click the link plandemic news trump nwo wakeup covid   covidiots covid   coronavirus breakingnews breaking',\n",
              " 'nzdusd remains stock near the middle of the trading range click the link plandemic news trump nwo wakeup covid   covidiots covid   coronavirus breakingnews breaking',\n",
              " 'usc paid former president c l  max nikias more than      million in exit package click the link plandemic news trump nwo wakeup covid   covidiots covid   coronavirus breakingnews breaking',\n",
              " 'walmart has revived asda sale process click the link plandemic news trump nwo wakeup covid   covidiots covid   coronavirus breakingnews breaking',\n",
              " 'usdjpy rotates back lower after big fail at the session highs today click the link plandemic news trump nwo wakeup covid   covidiots covid   coronavirus breakingnews breaking',\n",
              " 'younger l a  county residents are increasingly catching covid    click the link plandemic news trump nwo wakeup covid   covidiots covid   coronavirus breakingnews breaking',\n",
              " 'china may retaliate against nokia  ericsson if eu countries ban huawei click the link plandemic news trump nwo wakeup covid   covidiots covid   coronavirus breakingnews breaking',\n",
              " 'eurusd has b of option expires at click the link plandemic news trump nwo wakeup covid   covidiots covid   coronavirus breakingnews breaking',\n",
              " 'three california churches sue newsom over singing ban click the link plandemic news trump nwo wakeup covid   covidiots covid   coronavirus breakingnews breaking',\n",
              " 'back to school shopping has rough start click the link plandemic news trump nwo wakeup covid   covidiots covid   coronavirus breakingnews breaking',\n",
              " 'oxford vaccine shows good antibody t cell response click the link plandemic news trump nwo wakeup covid   covidiots covid   coronavirus breakingnews breaking',\n",
              " 'after george floyd protests  activists hope spotlight shines on police shootings of latinos click the link plandemic news trump nwo wakeup covid   covidiots covid   coronavirus breakingnews breaking',\n",
              " 'for some stocks  bad news is now good news click the link plandemic news trump nwo wakeup covid   covidiots covid   coronavirus breakingnews breaking',\n",
              " 'a big earnings calendar this week  click the link plandemic news trump nwo wakeup covid   covidiots covid   coronavirus breakingnews breaking',\n",
              " 'column  as an uncertain future looms  los angeles  swap meet vendors live in the moment click the link plandemic news trump nwo wakeup covid   covidiots covid   coronavirus breakingnews breaking',\n",
              " 'photojobz   get paid to take photos  news covid   coronavirus china kanye trump plandemic filmyourhospital cryptocurrency bitcoin crypto breaking breakingnews',\n",
              " 'admissions scandal  socialite sentenced to weeks in prison news covid   coronavirus china kanye trump plandemic filmyourhospital cryptocurrency bitcoin crypto breaking breakingnews',\n",
              " 'zero to hero fx signals become an fx trading hero news covid   coronavirus china kanye trump plandemic filmyourhospital cryptocurrency bitcoin crypto breaking breakingnews',\n",
              " 'assar v   trend scalper  june update  setup video news covid   coronavirus china kanye trump plandemic filmyourhospital cryptocurrency bitcoin crypto breaking breakingnews',\n",
              " 'ecb likely a placeholder meeting without a sustained eur impact news covid   coronavirus china kanye trump plandemic filmyourhospital cryptocurrency bitcoin crypto breaking breakingnews',\n",
              " 'wow   crazy  need to let this get out  plandemic news covid   coronavirus china kanye trump plandemic filmyourhospital cryptocurrency bitcoin crypto breaking breakingnews',\n",
              " 'the bomb to implode bitcoin is ticking news covid   coronavirus china kanye trump plandemic filmyourhospital cryptocurrency bitcoin crypto breaking breakingnews',\n",
              " 'austin davis commercial real estate investor training news covid   coronavirus china kanye trump plandemic filmyourhospital cryptocurrency bitcoin crypto breaking breakingnews',\n",
              " 'mexican peso outlook at the mercy of us economic trends news covid   coronavirus china kanye trump plandemic filmyourhospital cryptocurrency bitcoin crypto breaking breakingnews',\n",
              " 'forex master method evolution by russ horn news covid   coronavirus china kanye trump plandemic filmyourhospital cryptocurrency bitcoin crypto breaking breakingnews',\n",
              " 'assar v   trend scalper  june update  manual lots setup video news covid   coronavirus china kanye trump plandemic filmyourhospital cryptocurrency bitcoin crypto breaking breakingnews',\n",
              " 'mineral fire in fresno county grows to acres news covid   coronavirus china kanye trump plandemic filmyourhospital cryptocurrency bitcoin crypto breaking breakingnews',\n",
              " 'the reasons i actively invest in cryptocurrency news covid   coronavirus china kanye trump plandemic filmyourhospital cryptocurrency bitcoin crypto breaking breakingnews',\n",
              " 'cryptoversity bitcoin cryptocurrency    blockchain courses news covid   coronavirus china kanye trump plandemic filmyourhospital cryptocurrency bitcoin crypto breaking breakingnews',\n",
              " 'stocks retreat from highs  s  turns positive for year but backs off again  nasdaq dips into the red for the day  news covid   coronavirus china kanye trump plandemic filmyourhospital cryptocurrency bitcoin crypto breaking breakingnews',\n",
              " 'best forex robots from automated forex tools news covid   coronavirus china kanye trump plandemic filmyourhospital cryptocurrency bitcoin crypto breaking breakingnews',\n",
              " 'assar v   trend scalper  june update  live trading news covid   coronavirus china kanye trump plandemic filmyourhospital cryptocurrency bitcoin crypto breaking breakingnews',\n",
              " 'canadian dollar mixed on boc decision  qe continues as cpi slumps news covid   coronavirus china kanye trump plandemic filmyourhospital cryptocurrency bitcoin crypto breaking breakingnews',\n",
              " 'why chainlink  link  will be the rd biggest cryptocurrency   news covid   coronavirus china kanye trump plandemic filmyourhospital cryptocurrency bitcoin crypto breaking breakingnews',\n",
              " 'employees feel pressured as bosses order them back to offices during pandemic news covid   coronavirus china kanye trump plandemic filmyourhospital cryptocurrency bitcoin crypto breaking breakingnews',\n",
              " 'forex ninja bot presentation how to make passive income news covid   coronavirus china kanye trump plandemic filmyourhospital cryptocurrency bitcoin crypto breaking breakingnews',\n",
              " 'four things to watch for in the bank of canada decision news covid   coronavirus china kanye trump plandemic filmyourhospital cryptocurrency bitcoin crypto breaking breakingnews',\n",
              " 'forex   when to enter and exit a trade     accurate   forex trading news covid   coronavirus china kanye trump plandemic filmyourhospital cryptocurrency bitcoin crypto breaking breakingnews',\n",
              " 'make money as freelancer news covid   coronavirus china kanye trump plandemic filmyourhospital cryptocurrency bitcoin crypto breaking breakingnews',\n",
              " 'audio recap  turnaround for the pound news covid   coronavirus china kanye trump plandemic filmyourhospital cryptocurrency bitcoin crypto breaking breakingnews',\n",
              " 'forex shark news covid   coronavirus china kanye trump plandemic filmyourhospital cryptocurrency bitcoin crypto breaking breakingnews',\n",
              " 'when did it get classified an epidemic from plandemic  news covid   coronavirus china kanye trump plandemic filmyourhospital cryptocurrency bitcoin crypto breaking breakingnews',\n",
              " 'how to make money constantly in forex    news covid   coronavirus china kanye trump plandemic filmyourhospital cryptocurrency bitcoin crypto breaking breakingnews',\n",
              " 'google to invest      billion in indias jio platforms news covid   coronavirus china kanye trump plandemic filmyourhospital cryptocurrency bitcoin crypto breaking breakingnews',\n",
              " 'business coaching certified news covid   coronavirus china kanye trump plandemic filmyourhospital cryptocurrency bitcoin crypto breaking breakingnews',\n",
              " 'vaccine hopes bolster risk sentiment news covid   coronavirus china kanye trump plandemic filmyourhospital cryptocurrency bitcoin crypto breaking breakingnews',\n",
              " 'the forex system for success news covid   coronavirus china kanye trump plandemic filmyourhospital cryptocurrency bitcoin crypto breaking breakingnews',\n",
              " 'from joshua allison of the assarv   trading team  news covid   coronavirus china kanye trump plandemic filmyourhospital cryptocurrency bitcoin crypto breaking breakingnews',\n",
              " 'sooooo let me get this straight the only way to test for covid   chinavirus news covid   coronavirus china kanye trump plandemic filmyourhospital cryptocurrency bitcoin crypto breaking breakingnews',\n",
              " 'bitcoin is getting so close to a huge breakout this bitcoin pattern prove it  news covid   coronavirus china kanye trump plandemic filmyourhospital cryptocurrency bitcoin crypto breaking breakingnews',\n",
              " 'eur usd rallies ahead of eu summit  eyes on high news covid   coronavirus china kanye trump plandemic filmyourhospital cryptocurrency bitcoin crypto breaking breakingnews',\n",
              " 'the forex system for success news covid   coronavirus china kanye trump plandemic filmyourhospital cryptocurrency bitcoin crypto breaking breakingnews',\n",
              " 'stolen disney memorabilia found in online auction  authorities say news covid   coronavirus china kanye trump plandemic filmyourhospital cryptocurrency bitcoin crypto breaking breakingnews',\n",
              " 'forex all weather indicator news covid   coronavirus china kanye trump plandemic filmyourhospital cryptocurrency bitcoin crypto breaking breakingnews',\n",
              " 'how to install assar v    the right way  the assarv   team news covid   coronavirus china kanye trump plandemic filmyourhospital cryptocurrency bitcoin crypto breaking breakingnews',\n",
              " 'the only illness we need to worry about now is the virus of the brain infecting news covid   coronavirus china kanye trump plandemic filmyourhospital cryptocurrency bitcoin crypto breaking breakingnews',\n",
              " 'inside the cryptocurrency revolution   vice on hbo news covid   coronavirus china kanye trump plandemic filmyourhospital cryptocurrency bitcoin crypto breaking breakingnews',\n",
              " 'apple wins major tax battle against eu news covid   coronavirus china kanye trump plandemic filmyourhospital cryptocurrency bitcoin crypto breaking breakingnews',\n",
              " 'trader review stock trading news covid   coronavirus china kanye trump plandemic filmyourhospital cryptocurrency bitcoin crypto breaking breakingnews',\n",
              " 'usd cad eyes us dollar weakness and bank of canada policy decision news covid   coronavirus china kanye trump plandemic filmyourhospital cryptocurrency bitcoin crypto breaking breakingnews',\n",
              " 'forex signals   trusted forex trading signals   pipbuilder news covid   coronavirus china kanye trump plandemic filmyourhospital cryptocurrency bitcoin crypto breaking breakingnews',\n",
              " 'forex trading strategy    instant profit forex trading strategy  news covid   coronavirus china kanye trump plandemic filmyourhospital cryptocurrency bitcoin crypto breaking breakingnews',\n",
              " 'good questions canada coronavirus hoax fraud filmyourhospital hospitals n news covid   coronavirus china kanye trump plandemic filmyourhospital cryptocurrency bitcoin crypto breaking breakingnews',\n",
              " 'xrp  ripple  price prediction new    news covid   coronavirus china kanye trump plandemic filmyourhospital cryptocurrency bitcoin crypto breaking breakingnews',\n",
              " 'internet marketing fastlane   a training lesson for complete beginners news covid   coronavirus china kanye trump plandemic filmyourhospital cryptocurrency bitcoin crypto breaking breakingnews',\n",
              " 'winds fuel fresno county fire to acres  homes evacuated news covid   coronavirus china kanye trump plandemic filmyourhospital cryptocurrency bitcoin crypto breaking breakingnews',\n",
              " 'bari weiss quits new york times opinion  alleging hostile work environment news covid   coronavirus china kanye trump plandemic filmyourhospital cryptocurrency bitcoin crypto breaking breakingnews',\n",
              " 'simple forex tester   the best mt  based testing platform news covid   coronavirus china kanye trump plandemic filmyourhospital cryptocurrency bitcoin crypto breaking breakingnews',\n",
              " 'forex trading strategy    instant profit forex trading strategy  news covid   coronavirus china kanye trump plandemic filmyourhospital cryptocurrency bitcoin crypto breaking breakingnews',\n",
              " 'this is why i wont be using any such apps  covididiots plandemic covid  re news covid   coronavirus china kanye trump plandemic filmyourhospital cryptocurrency bitcoin crypto breaking breakingnews',\n",
              " 'forex this strategy can make nearly anyone profitable  fast  news covid   coronavirus china kanye trump plandemic filmyourhospital cryptocurrency bitcoin crypto breaking breakingnews',\n",
              " 'internet marketing fastlane   a training lesson for complete beginners news covid   coronavirus china kanye trump plandemic filmyourhospital cryptocurrency bitcoin crypto breaking breakingnews',\n",
              " 'ready to vote for further action as necessary to help the economy news covid   coronavirus china kanye trump plandemic filmyourhospital cryptocurrency bitcoin crypto breaking breakingnews',\n",
              " 'forex trend detector the official website news covid   coronavirus china kanye trump plandemic filmyourhospital cryptocurrency bitcoin crypto breaking breakingnews',\n",
              " 'assar elite pro forex scalper v    download free   news covid   coronavirus china kanye trump plandemic filmyourhospital cryptocurrency bitcoin crypto breaking breakingnews',\n",
              " 'how to grow      to        in days trading forex in   news covid   coronavirus china kanye trump plandemic filmyourhospital cryptocurrency bitcoin crypto breaking breakingnews',\n",
              " 'the affiliate manager course   affiliate program management made easy news covid   coronavirus china kanye trump plandemic filmyourhospital cryptocurrency bitcoin crypto breaking breakingnews',\n",
              " 'there are still various measures available for further easing news covid   coronavirus china kanye trump plandemic filmyourhospital cryptocurrency bitcoin crypto breaking breakingnews',\n",
              " 'zero to pro forex school learn to trade forex news covid   coronavirus china kanye trump plandemic filmyourhospital cryptocurrency bitcoin crypto breaking breakingnews',\n",
              " 'are you still having trouble investing in the markets  news covid   coronavirus china kanye trump plandemic filmyourhospital cryptocurrency bitcoin crypto breaking breakingnews',\n",
              " 'man charged with hate crime after hitting black people with car news covid   coronavirus china kanye trump plandemic filmyourhospital cryptocurrency bitcoin crypto breaking breakingnews',\n",
              " 'not turn to panic  thats their whole initiative  they want everyone scared so t news covid   coronavirus china kanye trump plandemic filmyourhospital cryptocurrency bitcoin crypto breaking breakingnews',\n",
              " 'bitcoin live chainlink  link  going for moon   ep      crypto technical analysis news covid   coronavirus china kanye trump plandemic filmyourhospital cryptocurrency bitcoin crypto breaking breakingnews',\n",
              " 'laptop earnings   real ways to make money from home news covid   coronavirus china kanye trump plandemic filmyourhospital cryptocurrency bitcoin crypto breaking breakingnews',\n",
              " 'eurostoxx futures       in early european trading news covid   coronavirus china kanye trump plandemic filmyourhospital cryptocurrency bitcoin crypto breaking breakingnews',\n",
              " 'forex signals boost your fx trading   fx jet pack news covid   coronavirus china kanye trump plandemic filmyourhospital cryptocurrency bitcoin crypto breaking breakingnews',\n",
              " 'redlands water supply in jeopardy after massive leak news covid   coronavirus china kanye trump plandemic filmyourhospital cryptocurrency bitcoin crypto breaking breakingnews',\n",
              " 'absolutely  this shit needs to stop  fakepandemic firefauci backtoschool     news covid   coronavirus china kanye trump plandemic filmyourhospital cryptocurrency bitcoin crypto breaking breakingnews',\n",
              " 'top ten altcoins to watch in best cryptocurrency investments july news covid   coronavirus china kanye trump plandemic filmyourhospital cryptocurrency bitcoin crypto breaking breakingnews',\n",
              " 'cashing in on used cars news covid   coronavirus china kanye trump plandemic filmyourhospital cryptocurrency bitcoin crypto breaking breakingnews',\n",
              " 'ethereum exploding why isn t price mooning yet   explained  crypto news news covid   coronavirus china kanye trump plandemic filmyourhospital cryptocurrency bitcoin crypto breaking breakingnews',\n",
              " 'burglary suspect found hiding in his underwear  police say news covid   coronavirus china kanye trump plandemic filmyourhospital cryptocurrency bitcoin crypto breaking breakingnews',\n",
              " 'terminix was here doing their routine pest control and that guy is wide awake it news covid   coronavirus china kanye trump plandemic filmyourhospital cryptocurrency bitcoin crypto breaking breakingnews',\n",
              " 'ten tips for beginner forex traders  news covid   coronavirus china kanye trump plandemic filmyourhospital cryptocurrency bitcoin crypto breaking breakingnews',\n",
              " 'the bitcoin trading bot is under construction news covid   coronavirus china kanye trump plandemic filmyourhospital cryptocurrency bitcoin crypto breaking breakingnews',\n",
              " 'pboc sets usd  cny reference rate for today at  vs  yesterday at   news covid   coronavirus china kanye trump plandemic filmyourhospital cryptocurrency bitcoin crypto breaking breakingnews',\n",
              " 'just like nothing logically made sense about the     official narrative and lie news covid   coronavirus china kanye trump plandemic filmyourhospital cryptocurrency bitcoin crypto breaking breakingnews',\n",
              " 'the great artist who first photographed san gabriel mission news covid   coronavirus china kanye trump plandemic filmyourhospital cryptocurrency bitcoin crypto breaking breakingnews',\n",
              " 'my dumb a   got scammed by forex lost      news covid   coronavirus china kanye trump plandemic filmyourhospital cryptocurrency bitcoin crypto breaking breakingnews',\n",
              " 'candlestick patterns forex brain trainer news covid   coronavirus china kanye trump plandemic filmyourhospital cryptocurrency bitcoin crypto breaking breakingnews',\n",
              " 'police shooting of  year old girl justified  prosecutors say news covid   coronavirus china kanye trump plandemic filmyourhospital cryptocurrency bitcoin crypto breaking breakingnews',\n",
              " 'three things are certain in life  death  taxes  and bitcoin robert kiyosaki and robert breedlove news covid   coronavirus china kanye trump plandemic filmyourhospital cryptocurrency bitcoin crypto breaking breakingnews',\n",
              " '  so obvious the bias i turn the channel as soon as it comes on  news covid   coronavirus china kanye trump plandemic filmyourhospital cryptocurrency bitcoin crypto breaking breakingnews',\n",
              " 'naya rivera death was an accidental drowning  medical examiner rules news covid   coronavirus china kanye trump plandemic filmyourhospital cryptocurrency bitcoin crypto breaking breakingnews',\n",
              " 'the united states sec just said yes to cryptocurrency    best cryptocurrency news online news covid   coronavirus china kanye trump plandemic filmyourhospital cryptocurrency bitcoin crypto breaking breakingnews',\n",
              " 'make money online ebook millionaire incorporated news covid   coronavirus china kanye trump plandemic filmyourhospital cryptocurrency bitcoin crypto breaking breakingnews',\n",
              " 'forex profit strategy  news covid   coronavirus china kanye trump plandemic filmyourhospital cryptocurrency bitcoin crypto breaking breakingnews',\n",
              " 'bitcoin  cryptocurrency  finance    global news july th news covid   coronavirus china kanye trump plandemic filmyourhospital cryptocurrency bitcoin crypto breaking breakingnews',\n",
              " 'craft business success  how to be successful in your craft business   craft business   home craft business news covid   coronavirus china kanye trump plandemic filmyourhospital cryptocurrency bitcoin crypto breaking breakingnews',\n",
              " 'ryalor profit system   forex  binaries and stock trading software news covid   coronavirus china kanye trump plandemic filmyourhospital cryptocurrency bitcoin crypto breaking breakingnews',\n",
              " 'it was always a demonic plan  hoax fakepandemic news covid   coronavirus china kanye trump plandemic filmyourhospital cryptocurrency bitcoin crypto breaking breakingnews',\n",
              " 'lapd officer accuses garcetti advisor of sexual harassment news covid   coronavirus china kanye trump plandemic filmyourhospital cryptocurrency bitcoin crypto breaking breakingnews',\n",
              " 'a new chapter   my forex trading journey news covid   coronavirus china kanye trump plandemic filmyourhospital cryptocurrency bitcoin crypto breaking breakingnews',\n",
              " 'birddogbot real estate deal finding solution for investors news covid   coronavirus china kanye trump plandemic filmyourhospital cryptocurrency bitcoin crypto breaking breakingnews',\n",
              " 'fapturbo latest real money forex trading robot   automated forex trading on autopilot news covid   coronavirus china kanye trump plandemic filmyourhospital cryptocurrency bitcoin crypto breaking breakingnews',\n",
              " 'arrested on suspicion of assaulting police during l a  protest news covid   coronavirus china kanye trump plandemic filmyourhospital cryptocurrency bitcoin crypto breaking breakingnews',\n",
              " 'i tried day trading forex with         news covid   coronavirus china kanye trump plandemic filmyourhospital cryptocurrency bitcoin crypto breaking breakingnews',\n",
              " 'ace forex signals news covid   coronavirus china kanye trump plandemic filmyourhospital cryptocurrency bitcoin crypto breaking breakingnews',\n",
              " 'do you live under a rock    there is a world pandemic and your ignorance should news covid   coronavirus china kanye trump plandemic filmyourhospital cryptocurrency bitcoin crypto breaking breakingnews',\n",
              " 'white house eco adviser kudlow says the trade deal with china is still engaged news covid   coronavirus china kanye trump plandemic filmyourhospital cryptocurrency bitcoin crypto breaking breakingnews',\n",
              " 'urgent  bitcoin hasn t shown this since november th     near   accurate indicator   news covid   coronavirus china kanye trump plandemic filmyourhospital cryptocurrency bitcoin crypto breaking breakingnews',\n",
              " 'art of marketing elite news covid   coronavirus china kanye trump plandemic filmyourhospital cryptocurrency bitcoin crypto breaking breakingnews',\n",
              " 'fxmagnetic best forex indicator for mt  with success rate     news covid   coronavirus china kanye trump plandemic filmyourhospital cryptocurrency bitcoin crypto breaking breakingnews',\n",
              " 'weakening only modestly after poor uk gdp data news covid   coronavirus china kanye trump plandemic filmyourhospital cryptocurrency bitcoin crypto breaking breakingnews',\n",
              " 'how to buy cryptocurrency for beginners  updated ultimate guide  news covid   coronavirus china kanye trump plandemic filmyourhospital cryptocurrency bitcoin crypto breaking breakingnews',\n",
              " 'crack the financial markets course coffer lattice news covid   coronavirus china kanye trump plandemic filmyourhospital cryptocurrency bitcoin crypto breaking breakingnews',\n",
              " 'tony manso forex take your forex trading to the next level news covid   coronavirus china kanye trump plandemic filmyourhospital cryptocurrency bitcoin crypto breaking breakingnews',\n",
              " 'you would think the media would be all over children missing  children being mol news covid   coronavirus china kanye trump plandemic filmyourhospital cryptocurrency bitcoin crypto breaking breakingnews',\n",
              " 'boj as expected  no change to monetary policy news covid   coronavirus china kanye trump plandemic filmyourhospital cryptocurrency bitcoin crypto breaking breakingnews',\n",
              " 'please see this link  showing deaths directly as a result of apparent covid news covid   coronavirus china kanye trump plandemic filmyourhospital cryptocurrency bitcoin crypto breaking breakingnews',\n",
              " 'prepare to never see this bitcoin price level again  chainlink breaking all time highs    more news covid   coronavirus china kanye trump plandemic filmyourhospital cryptocurrency bitcoin crypto breaking breakingnews',\n",
              " 'the world works in mysterious ways   ironically   if ghislaine gives up all info news covid   coronavirus china kanye trump plandemic filmyourhospital cryptocurrency bitcoin crypto breaking breakingnews',\n",
              " 'breakout on the horizon  eu summit in focus news covid   coronavirus china kanye trump plandemic filmyourhospital cryptocurrency bitcoin crypto breaking breakingnews',\n",
              " 'if you had been paying attention for months  youd know those tests pick up fr news covid   coronavirus china kanye trump plandemic filmyourhospital cryptocurrency bitcoin crypto breaking breakingnews',\n",
              " 'professional forex trading course lesson by adam khoo news covid   coronavirus china kanye trump plandemic filmyourhospital cryptocurrency bitcoin crypto breaking breakingnews',\n",
              " 'royalties university how to earn royalties from intellectual property news covid   coronavirus china kanye trump plandemic filmyourhospital cryptocurrency bitcoin crypto breaking breakingnews',\n",
              " 'a time tested forex trading system with documented proof  news covid   coronavirus china kanye trump plandemic filmyourhospital cryptocurrency bitcoin crypto breaking breakingnews',\n",
              " 'eurgbp turns sharply higher after failed breakdown news covid   coronavirus china kanye trump plandemic filmyourhospital cryptocurrency bitcoin crypto breaking breakingnews',\n",
              " 'how forex changed my life  in months     news covid   coronavirus china kanye trump plandemic filmyourhospital cryptocurrency bitcoin crypto breaking breakingnews',\n",
              " 'ewen chias fast track cash  news covid   coronavirus china kanye trump plandemic filmyourhospital cryptocurrency bitcoin crypto breaking breakingnews',\n",
              " 'mt  trend indicator trend following system with free signals news covid   coronavirus china kanye trump plandemic filmyourhospital cryptocurrency bitcoin crypto breaking breakingnews',\n",
              " 'eur usd heading to a formidable barrier at news covid   coronavirus china kanye trump plandemic filmyourhospital cryptocurrency bitcoin crypto breaking breakingnews',\n",
              " 'this coin just pumped   in hour      pump    dump       bitcoin calm before the storm  news covid   coronavirus china kanye trump plandemic filmyourhospital cryptocurrency bitcoin crypto breaking breakingnews',\n",
              " 'usd cad range remains for now news covid   coronavirus china kanye trump plandemic filmyourhospital cryptocurrency bitcoin crypto breaking breakingnews',\n",
              " 'the bitcoin blackbook news covid   coronavirus china kanye trump plandemic filmyourhospital cryptocurrency bitcoin crypto breaking breakingnews',\n",
              " 'trader on chart mt  app to make forex trading easier news covid   coronavirus china kanye trump plandemic filmyourhospital cryptocurrency bitcoin crypto breaking breakingnews',\n",
              " 'nurse sent in unused swabs with fake names  all came back positive think news covid   coronavirus china kanye trump plandemic filmyourhospital cryptocurrency bitcoin crypto breaking breakingnews',\n",
              " 'cryptocurrencies  last week tonight with john oliver  hbo  news covid   coronavirus china kanye trump plandemic filmyourhospital cryptocurrency bitcoin crypto breaking breakingnews',\n",
              " 'joe rogan reveals the true potential of bitcoin and cryptocurrency in   invest in bitcoin news covid   coronavirus breaking breakingnews pandemic china trump kanye plandemic covidhoax plandemic',\n",
              " 'bari weiss quits new york times opinion  alleging hostile work environment news covid   coronavirus breaking breakingnews pandemic china trump kanye plandemic covidhoax plandemic',\n",
              " 'donald trump handshake with mike pence after speech election day news covid   forextrader forextrading forexsignals forexmarket forexlifestyle forexsignal trump',\n",
              " 'stuck at home due to the coronavirus lockdown  just about time to make some extra buck  check our step by step guide on how to earn crypto  news covid   coronavirus breaking breakingnews pandemic china trump kanye plandemic covidhoax plandemic',\n",
              " 'uk press reports masks could be compulsory in all public spaces  eg  workplaces  news covid   forextrader forextrading forexsignals forexmarket forexlifestyle forexsignal trump',\n",
              " 'how rich is donald trump    the real net worth news covid   forextrader forextrading forexsignals forexmarket forexlifestyle forexsignal trump',\n",
              " 'police shooting of  year old girl justified  prosecutors say news covid   forextrader forextrading forexsignals forexmarket forexlifestyle forexsignal trump',\n",
              " 'this  minute video exposes trump s pandemic insanity news covid   forextrader forextrading forexsignals forexmarket forexlifestyle forexsignal trump',\n",
              " 'naya rivera death was an accidental drowning  medical examiner rules news covid   forextrader forextrading forexsignals forexmarket forexlifestyle forexsignal trump',\n",
              " 'donald trump is he a success  nigel green ceo devere news covid   forextrader forextrading forexsignals forexmarket forexlifestyle forexsignal trump',\n",
              " 'reports that trump is expected to sign china sanctions bill soon news covid   forextrader forextrading forexsignals forexmarket forexlifestyle forexsignal trump',\n",
              " 'fox guest complains  trump s crimes aren t as sexy as my scandals  news covid   forextrader forextrading forexsignals forexmarket forexlifestyle forexsignal trump',\n",
              " 'abcs george stephanopoulos confronts adam schiff for making up president trumps phone call news covid   forextrader forextrading forexsignals forexmarket forexlifestyle forexsignal trump',\n",
              " 'trade ideas thread wednesday july news covid   forextrader forextrading forexsignals forexmarket forexlifestyle forexsignal trump',\n",
              " 'the laddie is a trump stingalongs news covid   forextrader forextrading forexsignals forexmarket forexlifestyle forexsignal trump',\n",
              " 'private oil survey data shows a large draw in crude oil inventory news covid   forextrader forextrading forexsignals forexmarket forexlifestyle forexsignal trump',\n",
              " 'lindsay graham attacks aoc in idiotic defense of trump tweets news covid   forextrader forextrading forexsignals forexmarket forexlifestyle forexsignal trump',\n",
              " 'the great artist who first photographed san gabriel mission news covid   forextrader forextrading forexsignals forexmarket forexlifestyle forexsignal trump',\n",
              " 'robert reich  how trump plays the press news covid   forextrader forextrading forexsignals forexmarket forexlifestyle forexsignal trump',\n",
              " 'here is whats on the economic calendar in asia today news covid   forextrader forextrading forexsignals forexmarket forexlifestyle forexsignal trump',\n",
              " 'trump s uk state visit sky news promo news covid   forextrader forextrading forexsignals forexmarket forexlifestyle forexsignal trump',\n",
              " 'nasdaq turns negative once again news covid   forextrader forextrading forexsignals forexmarket forexlifestyle forexsignal trump',\n",
              " 'tanker owner calls bs on trump s iran video news covid   forextrader forextrading forexsignals forexmarket forexlifestyle forexsignal trump',\n",
              " 'fed s harker  economy remains  mired in a crisis  news covid   forextrader forextrading forexsignals forexmarket forexlifestyle forexsignal trump',\n",
              " 'trump s statements are racist  but we don t know why news covid   forextrader forextrading forexsignals forexmarket forexlifestyle forexsignal trump',\n",
              " 'trump s racist tweets fan hatred  defining the coming election news covid   forextrader forextrading forexsignals forexmarket forexlifestyle forexsignal trump',\n",
              " 'the world according to jamie dimon  its not pretty  news covid   forextrader forextrading forexsignals forexmarket forexlifestyle forexsignal trump',\n",
              " 'how trump plans to fund his border wall  a timeline news covid   forextrader forextrading forexsignals forexmarket forexlifestyle forexsignal trump',\n",
              " 'richard branson secures lifeline for virgin atlantic news covid   forextrader forextrading forexsignals forexmarket forexlifestyle forexsignal trump',\n",
              " 'trumps dangerous misunderstanding of tariffs news covid   forextrader forextrading forexsignals forexmarket forexlifestyle forexsignal trump',\n",
              " 'wti crude oil futures settle at        news covid   forextrader forextrading forexsignals forexmarket forexlifestyle forexsignal trump',\n",
              " 'trump by the numbers  two years in office news covid   forextrader forextrading forexsignals forexmarket forexlifestyle forexsignal trump',\n",
              " 'usd cad range remains for now news covid   forextrader forextrading forexsignals forexmarket forexlifestyle forexsignal trump',\n",
              " 'economic data stronger than expected in may and june news covid   forextrader forextrading forexsignals forexmarket forexlifestyle forexsignal trump',\n",
              " 'eric trump catches self dissing bob woodward   news covid   forextrader forextrading forexsignals forexmarket forexlifestyle forexsignal trump',\n",
              " 'google steers users to youtube over rivals news covid   forextrader forextrading forexsignals forexmarket forexlifestyle forexsignal trump',\n",
              " 'former obama biden defense sec  robert gates praises president trump s leadership on foreign policy news covid   forextrader forextrading forexsignals forexmarket forexlifestyle forexsignal trump',\n",
              " 'forward guidance is a vital way to provide necessary accommodation news covid   forextrader forextrading forexsignals forexmarket forexlifestyle forexsignal trump',\n",
              " 'eurgbp turns sharply higher after failed breakdown news covid   forextrader forextrading forexsignals forexmarket forexlifestyle forexsignal trump',\n",
              " 'trump reacts to supreme court rulings on financial records   nbc nightly news news covid   forextrader forextrading forexsignals forexmarket forexlifestyle forexsignal trump',\n",
              " 'autonation ceo cheryl miller wont return after medical leave news covid   forextrader forextrading forexsignals forexmarket forexlifestyle forexsignal trump',\n",
              " 'hot take crew ballistic over supreme court s trump tax returns ruling news covid   forextrader forextrading forexsignals forexmarket forexlifestyle forexsignal trump',\n",
              " 'burglary suspect found hiding in his underwear  police say news covid   forextrader forextrading forexsignals forexmarket forexlifestyle forexsignal trump',\n",
              " 'saagar enjeti  biden embarrasses trump by outdoing him on economic populism news covid   forextrader forextrading forexsignals forexmarket forexlifestyle forexsignal trump',\n",
              " 'agreement on eu recovery plan is urgent news covid   forextrader forextrading forexsignals forexmarket forexlifestyle forexsignal trump',\n",
              " 'trump goes full racist as his presidency crumbles news covid   forextrader forextrading forexsignals forexmarket forexlifestyle forexsignal trump',\n",
              " 'man charged with hate crime after hitting black people with car news covid   forextrader forextrading forexsignals forexmarket forexlifestyle forexsignal trump',\n",
              " 'trump corruptly commutes roger stone sentence  news covid   forextrader forextrading forexsignals forexmarket forexlifestyle forexsignal trump',\n",
              " 'reports that google is looking to enter the food delivery business  news covid   forextrader forextrading forexsignals forexmarket forexlifestyle forexsignal trump',\n",
              " 'breaking  president trump wears mask during visit to walter reed hospital news covid   forextrader forextrading forexsignals forexmarket forexlifestyle forexsignal trump',\n",
              " 'redlands water supply in jeopardy after massive leak news covid   forextrader forextrading forexsignals forexmarket forexlifestyle forexsignal trump',\n",
              " 'schiff  trump commuting stone s sentence is  so destructive  to the rule of law   msnbc news covid   forextrader forextrading forexsignals forexmarket forexlifestyle forexsignal trump',\n",
              " 'trump aides cheer him up with toys news covid   forextrader forextrading forexsignals forexmarket forexlifestyle forexsignal trump',\n",
              " 'gbpusd moves higher and erases declines news covid   forextrader forextrading forexsignals forexmarket forexlifestyle forexsignal trump',\n",
              " 'william barr  decapitates  third u s  attorney s office looking at trump   rachel maddow   msnbc news covid   forextrader forextrading forexsignals forexmarket forexlifestyle forexsignal trump',\n",
              " 'eurusd back above and pushes toward the next upside targets news covid   forextrader forextrading forexsignals forexmarket forexlifestyle forexsignal trump',\n",
              " 'watch  roger stone reacts after being granted clemency by president trump news covid   forextrader forextrading forexsignals forexmarket forexlifestyle forexsignal trump',\n",
              " 'the most embarrassing trump story yet news covid   forextrader forextrading forexsignals forexmarket forexlifestyle forexsignal trump',\n",
              " 'falling treasury yields weigh on us dollar news covid   forextrader forextrading forexsignals forexmarket forexlifestyle forexsignal trump',\n",
              " 'european shares end the session with declines news covid   forextrader forextrading forexsignals forexmarket forexlifestyle forexsignal trump',\n",
              " 'frank figliuzzi  stone could put trump in jail with what he knows   the th hour   msnbc news covid   forextrader forextrading forexsignals forexmarket forexlifestyle forexsignal trump',\n",
              " 'rep  adam schiff  trump commuting stone an appalling attack on rule of law   rachel maddow   msnbc news covid   forextrader forextrading forexsignals forexmarket forexlifestyle forexsignal trump',\n",
              " 'trump returns to washington dc on air force news covid   forextrader forextrading forexsignals forexmarket forexlifestyle forexsignal trump',\n",
              " 'audusd stays in the range news covid   forextrader forextrading forexsignals forexmarket forexlifestyle forexsignal trump',\n",
              " 'hillary clinton voter suppression  roger stone     trump   the daily social distancing show news covid   forextrader forextrading forexsignals forexmarket forexlifestyle forexsignal trump',\n",
              " 'norah o donnell on trump s attacks  it doesn t bother me if i know we have our facts straight news covid   forextrader forextrading forexsignals forexmarket forexlifestyle forexsignal trump',\n",
              " 'usdchf falls to new session lows news covid   forextrader forextrading forexsignals forexmarket forexlifestyle forexsignal trump',\n",
              " 'fmr  cia officer  trump knew what russia was doing   the last word   msnbc news covid   forextrader forextrading forexsignals forexmarket forexlifestyle forexsignal trump',\n",
              " 'president trump finally wears a mask in public   the tonight show news covid   forextrader forextrading forexsignals forexmarket forexlifestyle forexsignal trump',\n",
              " 'new zealand dollar bounce from after hitting  day low news covid   forextrader forextrading forexsignals forexmarket forexlifestyle forexsignal trump',\n",
              " 'roger stone gives fiery first interview following commutation from trump news covid   forextrader forextrading forexsignals forexmarket forexlifestyle forexsignal trump',\n",
              " 'not a good day for the pound news covid   forextrader forextrading forexsignals forexmarket forexlifestyle forexsignal trump',\n",
              " 'trump fails second attempt at exact same question news covid   forextrader forextrading forexsignals forexmarket forexlifestyle forexsignal trump',\n",
              " 'black lives matter painted outside trump tower covered up news covid   forextrader forextrading forexsignals forexmarket forexlifestyle forexsignal trump',\n",
              " 'usdjpy down and up today and runs into topside resistance news covid   forextrader forextrading forexsignals forexmarket forexlifestyle forexsignal trump',\n",
              " 'us stocks trading mixed  nasdaq leads the way to the downside news covid   forextrader forextrading forexsignals forexmarket forexlifestyle forexsignal trump',\n",
              " 'trump endangers his entire party with bombshell move   no lie podcast news covid   forextrader forextrading forexsignals forexmarket forexlifestyle forexsignal trump',\n",
              " 'us stock futures fall into negative territory news covid   forextrader forextrading forexsignals forexmarket forexlifestyle forexsignal trump',\n",
              " 'trump admits he has no clue what to do in his second term news covid   forextrader forextrading forexsignals forexmarket forexlifestyle forexsignal trump',\n",
              " 'gbpusd stalls the fall near the   retracement  can the price get below  news covid   forextrader forextrading forexsignals forexmarket forexlifestyle forexsignal trump',\n",
              " 'taking on media  president trump unleashed during roger stone questions news covid   forextrader forextrading forexsignals forexmarket forexlifestyle forexsignal trump',\n",
              " 'china theatens to sanction lockheed martin over taiwan arms deal news covid   forextrader forextrading forexsignals forexmarket forexlifestyle forexsignal trump']"
            ]
          },
          "metadata": {
            "tags": []
          },
          "execution_count": 199
        }
      ]
    },
    {
      "cell_type": "code",
      "metadata": {
        "id": "ljmT40b7p4uN",
        "colab_type": "code",
        "colab": {
          "base_uri": "https://localhost:8080/",
          "height": 279
        },
        "outputId": "675656c1-3629-4b6b-8a17-7951fece65e0"
      },
      "source": [
        "bar = sns.countplot(df['Verified'])"
      ],
      "execution_count": 200,
      "outputs": [
        {
          "output_type": "display_data",
          "data": {
            "image/png": "[encoded data removed]",
            "text/plain": [
              "<Figure size 432x288 with 1 Axes>"
            ]
          },
          "metadata": {
            "tags": [],
            "needs_background": "light"
          }
        }
      ]
    },
    {
      "cell_type": "code",
      "metadata": {
        "id": "rpqX71lTp9UC",
        "colab_type": "code",
        "colab": {
          "base_uri": "https://localhost:8080/",
          "height": 69
        },
        "outputId": "6ad031ce-d8b5-4a31-e543-130fb0e7833b"
      },
      "source": [
        "df['Verified'].value_counts()"
      ],
      "execution_count": 201,
      "outputs": [
        {
          "output_type": "execute_result",
          "data": {
            "text/plain": [
              "False    46230\n",
              "True       862\n",
              "Name: Verified, dtype: int64"
            ]
          },
          "metadata": {
            "tags": []
          },
          "execution_count": 201
        }
      ]
    },
    {
      "cell_type": "code",
      "metadata": {
        "id": "3cRXfD5Hp_4q",
        "colab_type": "code",
        "colab": {}
      },
      "source": [
        "df_verified = df.query('Verified == True')"
      ],
      "execution_count": 202,
      "outputs": []
    },
    {
      "cell_type": "code",
      "metadata": {
        "id": "I1zjYNrwqCUk",
        "colab_type": "code",
        "colab": {
          "base_uri": "https://localhost:8080/",
          "height": 225
        },
        "outputId": "3149cd0c-4502-4870-c17e-9e6cce37b5f6"
      },
      "source": [
        "\n",
        "df_verified['User'].value_counts()"
      ],
      "execution_count": 203,
      "outputs": [
        {
          "output_type": "execute_result",
          "data": {
            "text/plain": [
              "Cairo67Unedited    43\n",
              "AndyOstroy         38\n",
              "alana_austin       27\n",
              "DeeTwoCents        24\n",
              "Rasmussen_Poll     21\n",
              "                   ..\n",
              "hotpress            1\n",
              "KLTV7               1\n",
              "PISM_Poland         1\n",
              "bhairavigoswami     1\n",
              "petermaer           1\n",
              "Name: User, Length: 323, dtype: int64"
            ]
          },
          "metadata": {
            "tags": []
          },
          "execution_count": 203
        }
      ]
    },
    {
      "cell_type": "code",
      "metadata": {
        "id": "zr8q7-5bqEM1",
        "colab_type": "code",
        "colab": {
          "base_uri": "https://localhost:8080/",
          "height": 783
        },
        "outputId": "2df14b68-3849-4387-e519-463102e9f689"
      },
      "source": [
        "df_verified.query('User == \"Cairo67Unedited\"').Processed_Tweet.tolist()"
      ],
      "execution_count": 204,
      "outputs": [
        {
          "output_type": "execute_result",
          "data": {
            "text/plain": [
              "['well that didn t take long press conference where trump said maskupwas minutes ago new scandal trumps request of an ambassador  get the british open for me',\n",
              " 'trump says   virus will get worse before it gets better now more than u s  military members have contracted the virus  and the infection rate in the armed services has tripled over the past six weeks ',\n",
              " 'ignorance can kill and trump politicized this pandemicthe result today there is an r next to of top statesr florida d california r texas r arizona    r georgia r tennessee     r south carolina     r oklahoma     r louisiana     r mississippi     ',\n",
              " 'someone in trump  s inner circle got to trump  convinced  if you don t change the narrative on covid   you will definitely lose in november i suspected it when he announced the presser today and after this show it is a certaintyhe said  it will get worse before it gets better ',\n",
              " 'trump comm director tim murtaugh thought  incorrectly  he could bully the brilliant with one lying talking point after another nope i cant hold on a second when you are not being honest  covid   via',\n",
              " 'another republican living in his alternate dreamland just like his hero trumpdesantis touts progress on the same day florida hits record coronavirus hospitalizations via',\n",
              " 'zero commitment to testing and tracing is right but the presser is political opportunism trump knows his ship is being sunk by his criminally negligent indifference to covid   that s why  politically he is getting back to it his ego   ratings obsession is the rest',\n",
              " 'leave it to a white republican  ted yoho  to call a progressive woc  disgusting   and a  fucking bitch  when he is intellectually intimidated to a point where it uncovers his inner racist misogynist trump would be proud ',\n",
              " 'wapo says trump to turn attention back to covid but the reality is he is being forced to hold the pressers for two reasons  because he cant hold in person rallies  because he is getting slaughtered in polls on covid handling',\n",
              " 'trump can celebrate them all he wants but true law    order is punishing those two gun nuts mark and patricia mccloskey threatened a group of peaceful black lives matter protesters with their weapons late last month  via',\n",
              " 'headline correction americans protested a trump clone in florida today you are welcome protesters accuse florida governor of lying about coronavirus pandemic',\n",
              " 'take it from an american whose motherland  egypt   has been under autocratic rule since  turning dhs into his own personal police force is authoritarian move by trumpwithout immediate bipartisan pressure by senate  congress our democracy  literally  is under armed threat ',\n",
              " 'in a capsule  wearing a flag pin and a red tie  white shirt  and blue jacket doesnt change the fact that this man is a traitor  trump',\n",
              " '  trump gives off the aura of a man who cannot cope with reality because reality says hes a failure opinion   theres a reason trump stars in pro biden ads',\n",
              " 'heil trump thats what he is going for and yet people s cognitive dissonance is so powerful they don t want to believe it ',\n",
              " 'if gop em senators go along with this crime they should also go on trial minute trump loses as americans we would be negligent if we didnt push for thistrump administration pushing to block new money for testing  tracing  cdc in upcoming covid bill',\n",
              " 'utterly horrible meanwhile trump  effectively  says  not our business  as his aides telegraph that message over and over    infants tested positive for coronavirus in texas county as u s  sets new daily case record via',\n",
              " 'this trump lackey  unconfirmed till now  is militarizing our nation and we cannot take it sitting down or silently dhs under boss  were taking this national via',\n",
              " 'trump   the racist  orders flags flown at half staff for one of the greatest civil rights heroes in the history of this nation   for one day johnlewisgoodtrouble',\n",
              " 'the  conscience of congress   passed away last night  our country s foremost civil rights scion is in the heavens but hours later trump  s silence is deafening ',\n",
              " 'to be on fox you have to be an actor and an excellent one     of these criminal propagandists know the truth and deliver disinformation to a  largely  under educated trump core base ',\n",
              " 'when we try trump for criminal negligence we should all remember this quote from the w h about covid    not really working this anymore  he doesnt want to be distracted by it  hes not calling and asking about data  hes not worried about cases ',\n",
              " 'shocked  shocked i tell ya trump faces rising disapproval and widespread distrust on coronavirus  post abc poll finds',\n",
              " 'they dont call him  mini trump    for nothinhere lets loose with his latest cockamamie  if you are in very good shape you have a very very low likelihood of ending up in serious condition  covid   florida',\n",
              " 'yet  as sure as the sun will shine tomorrow  trump  in all his caign stops  will say   biden wants to defund the police ',\n",
              " 'it the height of stupidity by the trump c and many in who support him to come down against masks why without masks there will be an additional tens of thousands of deaths before nov  and this will all but guarantee a decimation of the incumbent in the elections ',\n",
              " 'a lot of people are saddened that trump  a racist  continues to use dog whistles in in his reelection caign i am not because   this will shift many independents to biden in light of a changed landscape georgefloyd trump s failure on covid   costing him older whites',\n",
              " 'atlanta mayor blasts pro trump governor kemp  i will continue to do everything in my power to protect the people of atlanta  she said  and the governor has simply overstepped his bounds and his authority  and well see him in court ',\n",
              " 'by insisting on early openings trump and republican governors are killing more americans numbers dont lie after the recent surge in coronavirus cases  deaths are now rising too',\n",
              " 'it is sentiments like these from hard core trump supporters that should have his c terrified  if trump  s people are this worried how do you think independents and moderate republicans are reacting ',\n",
              " 'there is no end to his corruption and stupidity trump',\n",
              " 'the mole in the w h is doing his jobrussia used trump  s intelligence sharing to try to assassinate chechen dissidents in europe  sources say',\n",
              " 'no  goya s ceo kissed trump ring so there is a boycott so she is helping his business ',\n",
              " 'elect trump because he will fight for windows is there a doctor in the house ',\n",
              " 'by the way donald j trump   the president of the united states of america  today  in defended the confederate flag as  free speech  today in this country ',\n",
              " 'know why i m feeling optimistic about getting the quickly mentally deteriorating trump out of office and into a jail cell you guessed it  he is quickly mentally deteriorating right before our very eyes  so let him speak it will guarantee a democratic tsunami ',\n",
              " 'covid   cases     dead our new sickening normal but trump wants to talk about joe biden and tells   what a terrible question to ask  when the question is posed about african american deaths at the hands of police ',\n",
              " 'donald trump is either a liar or plain ignorant more likely he is both and with those qualities  plus his blunt force racism how can this man ever be reelected ',\n",
              " 'mary trump   the president s niece he is utterly incapable of leading this country based on what she was asked by her experience her  entire adult life    she asserted his own family doesn t trust him bidenforpresident    ',\n",
              " ' im doing very well in the polls  said trump today funny thing numbers    ',\n",
              " 'trump w h needs to read this israeli data show school openings were a disaster that wiped out lockdown gains via',\n",
              " 'breakingtrump administration has rescinded a rule that would have required international students to transfer schools or leave the country if their colleges hold classes entirely online   covid  ',\n",
              " 'trump supporter setting up an event for him in nh  there is no pandemic anymore his ignorance kills   literally ']"
            ]
          },
          "metadata": {
            "tags": []
          },
          "execution_count": 204
        }
      ]
    },
    {
      "cell_type": "code",
      "metadata": {
        "id": "dEJjzzkxqi_8",
        "colab_type": "code",
        "colab": {
          "base_uri": "https://localhost:8080/",
          "height": 696
        },
        "outputId": "444ff3d8-113a-44e4-bea5-2927b109be1b"
      },
      "source": [
        "df_verified.query('User == \"AndyOstroy\"').Processed_Tweet.tolist()"
      ],
      "execution_count": 205,
      "outputs": [
        {
          "output_type": "execute_result",
          "data": {
            "text/plain": [
              "['to everyone wanking off right now to trump s big  pivot  today of  embracing  masks and distancing   please don t make me rub it in your face tomorrow when he returns to being a mask mocking sociopath    covid   coronavirus',\n",
              " 'republicans  definition of trump derangement syndrome january   he s living rent free in libtards  heads  now   good lord   he s gonna cost us the white house and the senate    ',\n",
              " 'this might be a tad psychological  but if we re ever to truly understand trump s deranged pathology we ll need to understand why he wishes unconscionably corrupt evil people like ghislainemaxwell  well    ',\n",
              " 'so  in stunningly meaningless minutes from we learn that covid   s gonna get worse before it gets better    and that he carries a mask in his pocket  do coronavirus droplets spread through cheap  s suits  trump',\n",
              " ' trump just said twice about global child sex trafficker ghislainemaxwell   i wish her well    ',\n",
              " 'wrote this years ago  not such a stretch now  is it     trump civilwar election    ',\n",
              " 'this is why there were riots  because whether a black man takes a knee in protest or takes to the streets    racists like trump will never accept any of it    blacklivesmatter',\n",
              " 'because they worked out so well for trump last time  wake the kids   the shitshow continues    covid   coronavirus',\n",
              " 'you are the only corrupt election stealing thief america must worry about  because you know you cannot win fairly  but we will not let you steal this one    trump election    ',\n",
              " 'you fired flynn because he lied to pence and the fbi  your words   in case you forgot    trump',\n",
              " 'were the epicenter of the world  our fire is raging out of control  and your incompetence and leadership failure is staggering  stop talking    trump covid   coronavirus',\n",
              " 'i just made the fascinating realization that i havent been accused of  or even seen heard the term  trump derangement syndrome in a very long time  thats because republicans have also been suffering from it trump',\n",
              " '   says the sociopath who pushed hydroxychloroquine like a crack dealer and said we should inject lysol     trump covid   coronavirus',\n",
              " 'ate you kidding   everyone saw you as beyond ignorant  incompetent  dishonest and off the rails batshit crazy    trump chriswallace',\n",
              " 'oh boy  many people are saying head is exploding over this new ad about  whos blocked me   please do not retweet it bc its just gonna make them both even angrier    ivanka trump trysomethingnew',\n",
              " '  stupidity is rivaled only by his pathetic fealty to trump    briankilmeade aoc foxandfriends',\n",
              " 'i believe on nov rd were going to witness the biggest  most humiliating  most historic backlash against and republicans this country has ever seen and could ever have imagined    election     biden trump',\n",
              " '  is a trump enabling racist who s had the votingrightsact on his desk since dec  you wanna  honor  johnlewis  then pass this damn bill  spare us the bullshit platitudes and actually do something to help black people    mcconnell',\n",
              " 'hey moron   all of this darkness  despair  dysfunction  disease  death you re showing here happened on your watch  great ad for biden     trump election    ',\n",
              " 'no youre not  you played golf all fucking day before saying one word about johnlewis  youre not sad at all  just begrudgingly obligated    trump',\n",
              " 'what in the fucking fuck of fucks is happening with this nazi ss stormtrooper shit  what fucking country are we living in    portlandprotests trump barr',\n",
              " 'this is so critical  please    upport portlandprotests trump barrsarmy aclu',\n",
              " 'are you fucking kidding  you ve been enabling the racist in chief so much you might as well be handing him a klan robe    trump mcconnell johnlewis',\n",
              " 'aides  sir  it s      you ve tweeted  you ve eaten  you re still golfing   you have to say something about lewis  death  people keep calling you a racist    this isn t helpingtrump  i ll get to huey lewis  jerry lewis  whatever you call him  when    if i m ready   johnlewis',\n",
              " 'let s get one thing perfectly clear  if after    yrs you still support that racist pos in the oval you do not get to say anything about johnlewis   whose courageous lifelong dedication to civil rights is undermined every day by trump    those like you who enable him   ',\n",
              " 'here s what happening at the wh today   aides  mr  president  you have to say something about johnlewis s passing i don t want to  yet  i will  maybe  who knows  he did a lot of bad things  hated trumpaides  sir  you have tot  you can t make me ',\n",
              " '  spot on assessment of failing caign  its the candidate  stupid    trump',\n",
              " 'kudos chriswallace  manbaby just hates being caught in his pathetic lies    trump biden',\n",
              " 'dear america   there s only one reason is doing this  bc he knows how dangerous it s gonna be to send your children to school  we must vote this sociopath out of office b  he kills you    your kids    trump covid   coronavirus',\n",
              " 'hey literally proving that everything says about you is right    trump marytrump',\n",
              " 'hey only we d just stop counting deaths no one would be dying  right  covid   coronavirus trump',\n",
              " '  w     trump is a colossal coward  and he hates losing more than anything  if the polling is terrible  he will not subject himself to the biggest  most humiliating landslide in history  he will drop the mic even before the election   ',\n",
              " 'killer ad from trump pence covid   coronavirus',\n",
              " 'okl just recorded its highest  day covid   cases wks after tulsarally      now has it  maybe one day repubs will understand    accept the ruthlessness of this deadly beast  wear a mask   keep safe distance   wash your hands    coronavirus trump',\n",
              " 'whats more disgusting    peternavarro writing this hit piece on fauci or the fact that hes a weak feckless coward because we know trump made him do it and he didnt have the balls to say no   ',\n",
              " 'you do realize the chaos  violence  looting  riots and fires you show warn about in your biden ad actually happened on your watch  right trump',\n",
              " 'andy ostroy   if trump wins re election it s game over    ',\n",
              " 'mr  law    order just broke the law  again  trump']"
            ]
          },
          "metadata": {
            "tags": []
          },
          "execution_count": 205
        }
      ]
    },
    {
      "cell_type": "code",
      "metadata": {
        "id": "70nqV3jeqqh4",
        "colab_type": "code",
        "colab": {}
      },
      "source": [
        "days = df['Date'].dt.day.tolist()"
      ],
      "execution_count": 206,
      "outputs": []
    },
    {
      "cell_type": "code",
      "metadata": {
        "id": "Xm5Cx15mqvVs",
        "colab_type": "code",
        "colab": {
          "base_uri": "https://localhost:8080/",
          "height": 35
        },
        "outputId": "1363d65e-02e1-4ba7-d32c-71c95d870680"
      },
      "source": [
        "no_of_days = Counter(days)\n",
        "no_of_days"
      ],
      "execution_count": 207,
      "outputs": [
        {
          "output_type": "execute_result",
          "data": {
            "text/plain": [
              "Counter({14: 5786, 15: 10238, 17: 7564, 18: 7850, 20: 5509, 21: 10145})"
            ]
          },
          "metadata": {
            "tags": []
          },
          "execution_count": 207
        }
      ]
    },
    {
      "cell_type": "code",
      "metadata": {
        "id": "VP0pGItyqzHs",
        "colab_type": "code",
        "colab": {
          "base_uri": "https://localhost:8080/",
          "height": 475
        },
        "outputId": "624e1c04-916c-4b24-f5dd-1522c0ccfe3a"
      },
      "source": [
        "fig = plt.figure(figsize = (15,7))\n",
        "plt.bar(range(len(no_of_days)), list(no_of_days.values()), align='center', alpha = 0.5,color = 'red')\n",
        "plt.xticks(range(len(no_of_days)), list(no_of_days.keys()))\n",
        "plt.xlabel(\"Day\")\n",
        "plt.ylabel(\"Count Of Tweets\")\n",
        "plt.title(\"Count Of Extracted Tweets On Each Day\")"
      ],
      "execution_count": 208,
      "outputs": [
        {
          "output_type": "execute_result",
          "data": {
            "text/plain": [
              "Text(0.5, 1.0, 'Count Of Extracted Tweets On Each Day')"
            ]
          },
          "metadata": {
            "tags": []
          },
          "execution_count": 208
        },
        {
          "output_type": "display_data",
          "data": {
            "image/png": "[encoded data removed]",
            "text/plain": [
              "<Figure size 1080x504 with 1 Axes>"
            ]
          },
          "metadata": {
            "tags": [],
            "needs_background": "light"
          }
        }
      ]
    },
    {
      "cell_type": "code",
      "metadata": {
        "id": "ehuw9n_Mq2wQ",
        "colab_type": "code",
        "colab": {}
      },
      "source": [
        "hours = df['Date'].dt.hour.tolist()"
      ],
      "execution_count": 209,
      "outputs": []
    },
    {
      "cell_type": "code",
      "metadata": {
        "id": "Xgrt_79aq52_",
        "colab_type": "code",
        "colab": {
          "base_uri": "https://localhost:8080/",
          "height": 433
        },
        "outputId": "f216dd6d-6c99-4a99-c96e-b65f21bdb25d"
      },
      "source": [
        "\n",
        "no_of_hours = Counter(hours)\n",
        "no_of_hours"
      ],
      "execution_count": 210,
      "outputs": [
        {
          "output_type": "execute_result",
          "data": {
            "text/plain": [
              "Counter({0: 1385,\n",
              "         1: 1485,\n",
              "         2: 1578,\n",
              "         3: 1456,\n",
              "         4: 1090,\n",
              "         5: 936,\n",
              "         6: 816,\n",
              "         7: 695,\n",
              "         8: 630,\n",
              "         9: 706,\n",
              "         10: 831,\n",
              "         11: 1238,\n",
              "         12: 1636,\n",
              "         13: 2477,\n",
              "         14: 2943,\n",
              "         15: 2785,\n",
              "         16: 2799,\n",
              "         17: 2860,\n",
              "         18: 2684,\n",
              "         19: 2727,\n",
              "         20: 2952,\n",
              "         21: 3937,\n",
              "         22: 3587,\n",
              "         23: 2859})"
            ]
          },
          "metadata": {
            "tags": []
          },
          "execution_count": 210
        }
      ]
    },
    {
      "cell_type": "code",
      "metadata": {
        "id": "k6L7K2B-q9Id",
        "colab_type": "code",
        "colab": {
          "base_uri": "https://localhost:8080/",
          "height": 531
        },
        "outputId": "c9d05866-2ffc-407c-ad5e-4568386ceb4d"
      },
      "source": [
        "fig = plt.figure(figsize = (15,8))\n",
        "plt.bar(range(len(no_of_hours)), list(no_of_hours.values()), align='center', alpha = 0.5,color = 'red')\n",
        "plt.xticks(range(len(no_of_hours)), list(no_of_hours.keys()))\n",
        "plt.xlabel(\"Hour\")\n",
        "plt.ylabel(\"Count Of Tweets\")\n",
        "plt.title(\"Count Of Extracted Tweets On Each Hour\")"
      ],
      "execution_count": 211,
      "outputs": [
        {
          "output_type": "execute_result",
          "data": {
            "text/plain": [
              "Text(0.5, 1.0, 'Count Of Extracted Tweets On Each Hour')"
            ]
          },
          "metadata": {
            "tags": []
          },
          "execution_count": 211
        },
        {
          "output_type": "display_data",
          "data": {
            "image/png": "[encoded data removed]",
            "text/plain": [
              "<Figure size 1080x576 with 1 Axes>"
            ]
          },
          "metadata": {
            "tags": [],
            "needs_background": "light"
          }
        }
      ]
    },
    {
      "cell_type": "code",
      "metadata": {
        "id": "43d0H3UXrB2e",
        "colab_type": "code",
        "colab": {}
      },
      "source": [
        "from wordcloud import WordCloud\n",
        "tokenizer = TweetTokenizer()"
      ],
      "execution_count": 212,
      "outputs": []
    },
    {
      "cell_type": "code",
      "metadata": {
        "id": "vqsGwWcErEwc",
        "colab_type": "code",
        "colab": {
          "base_uri": "https://localhost:8080/",
          "height": 89
        },
        "outputId": "ebecef15-1334-4a8d-e0e0-fbf2ea28cd02"
      },
      "source": [
        "import nltk\n",
        "nltk.download('stopwords')\n",
        "from nltk.corpus import words\n",
        "from nltk.corpus import stopwords\n",
        "stop_words = set(stopwords.words('english')) \n",
        "stop_words = list(stop_words)\n",
        "print(stop_words) #remove stop words"
      ],
      "execution_count": 213,
      "outputs": [
        {
          "output_type": "stream",
          "text": [
            "[nltk_data] Downloading package stopwords to /root/nltk_data...\n",
            "[nltk_data]   Package stopwords is already up-to-date!\n",
            "['him', 'me', 'each', 'theirs', 'same', 'yours', 'between', \"weren't\", 'with', 'against', 'now', 'whom', 'himself', \"shan't\", 'yourselves', 'their', 'will', 'did', 'further', 'its', \"should've\", 'been', 'have', 'or', \"it's\", 'just', 'below', 'has', 'as', 'when', 'that', 'hadn', 'i', 'his', 'll', 'her', 'on', 'm', 'shouldn', 'over', 'how', 'should', 'then', 'can', 'once', 'needn', \"needn't\", 'too', 'doesn', 'up', \"shouldn't\", 'itself', 'what', \"couldn't\", 'into', 'am', 'being', 'because', 'some', \"wasn't\", \"hadn't\", 'out', 's', 'all', 'our', \"didn't\", \"doesn't\", 'weren', 'myself', 'which', 'both', \"isn't\", 'this', 'while', 'at', 'no', 'most', 'an', 'off', 'aren', 'them', 'but', 'he', 'only', 'these', \"you'd\", 'after', 'from', \"aren't\", 'ma', 'mightn', 'where', 'wasn', 'didn', 'having', 'such', 'herself', 'they', 'and', 'are', 'about', 'ourselves', 'wouldn', 'those', 'who', \"won't\", 'be', 'doing', 'mustn', 'above', 've', \"haven't\", \"she's\", 'there', 'own', 'under', \"hasn't\", 'the', \"mustn't\", 'does', \"you're\", 'more', 'you', 'was', 'again', 'down', 'ain', 'yourself', 'not', 'my', 'than', 'she', 'couldn', 'themselves', 'of', 'before', 'were', 'had', 'we', 'y', \"don't\", 'nor', \"you'll\", 'few', \"wouldn't\", \"mightn't\", 'is', 're', 't', 'through', 'shan', \"that'll\", 'o', 'very', 'during', 'd', 'here', 'a', 'isn', \"you've\", 'it', 'hasn', 'for', 'haven', 'won', 'do', 'your', 'by', 'if', 'ours', 'any', 'hers', 'why', 'in', 'other', 'so', 'to', 'until', 'don']\n"
          ],
          "name": "stdout"
        }
      ]
    },
    {
      "cell_type": "code",
      "metadata": {
        "id": "j-kC2kb0r5We",
        "colab_type": "code",
        "colab": {}
      },
      "source": [
        "df['Processed_Tweet'] = df.Processed_Tweet.apply(lambda x: ' '.join(w for w in x.split() if w not in stop_words))   #Remove stopwords\n",
        "\n",
        "\n"
      ],
      "execution_count": 214,
      "outputs": []
    },
    {
      "cell_type": "code",
      "metadata": {
        "id": "kyk__nx4twgT",
        "colab_type": "code",
        "colab": {}
      },
      "source": [
        "df['Processed_Tweet'] = df['Processed_Tweet'].apply(lambda x: tokenizer.tokenize(x)) #tokenize"
      ],
      "execution_count": 215,
      "outputs": []
    },
    {
      "cell_type": "code",
      "metadata": {
        "id": "8Sv9acDesLuV",
        "colab_type": "code",
        "colab": {}
      },
      "source": [
        "#Perform stemming \n",
        "def lemmatize_stemming(text):\n",
        "    stemmer=PorterStemmer()\n",
        "    return stemmer.stem(text)"
      ],
      "execution_count": 216,
      "outputs": []
    },
    {
      "cell_type": "code",
      "metadata": {
        "id": "WtK5hj7nsR7m",
        "colab_type": "code",
        "colab": {}
      },
      "source": [
        "df['Processed_Tweet'] = df['Processed_Tweet'].apply(lambda x: [lemmatize_stemming(i) for i in x]) # stemming"
      ],
      "execution_count": 217,
      "outputs": []
    },
    {
      "cell_type": "code",
      "metadata": {
        "id": "M3yBKfRlr8sl",
        "colab_type": "code",
        "colab": {
          "base_uri": "https://localhost:8080/",
          "height": 225
        },
        "outputId": "cf347547-2a64-4f1f-addd-bf9864195af5"
      },
      "source": [
        "df['Processed_Tweet']"
      ],
      "execution_count": 218,
      "outputs": [
        {
          "output_type": "execute_result",
          "data": {
            "text/plain": [
              "0        [amaz, hope, get, support, need, resist, trump...\n",
              "1        [trump, final, admit, spread, coronaviru, get,...\n",
              "2        [sure, sign, gop, parti, break, apart, start, ...\n",
              "3        [trump, silent, cop, beat, veteran, put, hospi...\n",
              "4        [speak, fall, pleas, care, climb, chairthos, p...\n",
              "                               ...                        \n",
              "47088    [look, like, borisjohnson, pander, trump, read...\n",
              "47089    [us, map, must, look, like, novemb, rd, like, ...\n",
              "47090    [death, count, countri, took, prompt, aggress,...\n",
              "47091    [human, one, possess, empathi, moral, daniel, ...\n",
              "47092    [dougla, london, former, cia, senior, oper, of...\n",
              "Name: Processed_Tweet, Length: 47092, dtype: object"
            ]
          },
          "metadata": {
            "tags": []
          },
          "execution_count": 218
        }
      ]
    },
    {
      "cell_type": "code",
      "metadata": {
        "id": "3puXh-XzsZ_z",
        "colab_type": "code",
        "colab": {}
      },
      "source": [
        "df['Processed_Tweet'] = df.Processed_Tweet.apply(lambda x: [i for i in x if len(i)>2])"
      ],
      "execution_count": 219,
      "outputs": []
    },
    {
      "cell_type": "code",
      "metadata": {
        "id": "NVrmJm7Osdpr",
        "colab_type": "code",
        "colab": {
          "base_uri": "https://localhost:8080/",
          "height": 903
        },
        "outputId": "83cb56c0-8264-4d44-c439-d08c23402970"
      },
      "source": [
        "df"
      ],
      "execution_count": 220,
      "outputs": [
        {
          "output_type": "execute_result",
          "data": {
            "text/html": [
              "<div>\n",
              "<style scoped>\n",
              "    .dataframe tbody tr th:only-of-type {\n",
              "        vertical-align: middle;\n",
              "    }\n",
              "\n",
              "    .dataframe tbody tr th {\n",
              "        vertical-align: top;\n",
              "    }\n",
              "\n",
              "    .dataframe thead th {\n",
              "        text-align: right;\n",
              "    }\n",
              "</style>\n",
              "<table border=\"1\" class=\"dataframe\">\n",
              "  <thead>\n",
              "    <tr style=\"text-align: right;\">\n",
              "      <th></th>\n",
              "      <th>Date</th>\n",
              "      <th>Tweet_id</th>\n",
              "      <th>Verified</th>\n",
              "      <th>Tweet</th>\n",
              "      <th>User</th>\n",
              "      <th>Location</th>\n",
              "      <th>Source</th>\n",
              "      <th>Likes</th>\n",
              "      <th>Followers</th>\n",
              "      <th>Following</th>\n",
              "      <th>Retweets</th>\n",
              "      <th>Processed_Tweet</th>\n",
              "    </tr>\n",
              "  </thead>\n",
              "  <tbody>\n",
              "    <tr>\n",
              "      <th>0</th>\n",
              "      <td>2020-07-21 23:59:54</td>\n",
              "      <td>1285726226813014016</td>\n",
              "      <td>False</td>\n",
              "      <td>You are amazing, @chicagosmayor.  I hope you g...</td>\n",
              "      <td>rathacat</td>\n",
              "      <td>Patterson, CA</td>\n",
              "      <td>Twitter Web App</td>\n",
              "      <td>1</td>\n",
              "      <td>2429</td>\n",
              "      <td>3710</td>\n",
              "      <td>0</td>\n",
              "      <td>[amaz, hope, get, support, need, resist, trump...</td>\n",
              "    </tr>\n",
              "    <tr>\n",
              "      <th>1</th>\n",
              "      <td>2020-07-21 23:59:51</td>\n",
              "      <td>1285726213001093127</td>\n",
              "      <td>False</td>\n",
              "      <td>#Trump finally admitted that the spread of the...</td>\n",
              "      <td>Nor_Kan_1965</td>\n",
              "      <td>NaN</td>\n",
              "      <td>Twitter for Android</td>\n",
              "      <td>1</td>\n",
              "      <td>112</td>\n",
              "      <td>73</td>\n",
              "      <td>1</td>\n",
              "      <td>[trump, final, admit, spread, coronaviru, get,...</td>\n",
              "    </tr>\n",
              "    <tr>\n",
              "      <th>2</th>\n",
              "      <td>2020-07-21 23:59:30</td>\n",
              "      <td>1285726126820794368</td>\n",
              "      <td>False</td>\n",
              "      <td>@NavygirlLaura @GOP A sure sign the #GOP party...</td>\n",
              "      <td>ShannsolSolberg</td>\n",
              "      <td>Texas, USA</td>\n",
              "      <td>Twitter for iPhone</td>\n",
              "      <td>1</td>\n",
              "      <td>1359</td>\n",
              "      <td>1745</td>\n",
              "      <td>0</td>\n",
              "      <td>[sure, sign, gop, parti, break, apart, start, ...</td>\n",
              "    </tr>\n",
              "    <tr>\n",
              "      <th>3</th>\n",
              "      <td>2020-07-21 23:59:20</td>\n",
              "      <td>1285726083455877121</td>\n",
              "      <td>False</td>\n",
              "      <td>Why is #Trump silent when cops beat a #Veteran...</td>\n",
              "      <td>in_pubs</td>\n",
              "      <td>NJ-DC-NY-🌍</td>\n",
              "      <td>Twitter for iPhone</td>\n",
              "      <td>650</td>\n",
              "      <td>78851</td>\n",
              "      <td>17726</td>\n",
              "      <td>254</td>\n",
              "      <td>[trump, silent, cop, beat, veteran, put, hospi...</td>\n",
              "    </tr>\n",
              "    <tr>\n",
              "      <th>4</th>\n",
              "      <td>2020-07-21 23:58:51</td>\n",
              "      <td>1285725963024818183</td>\n",
              "      <td>False</td>\n",
              "      <td>@gtconway3d Speaking of falling, please be car...</td>\n",
              "      <td>dfwcitizen</td>\n",
              "      <td>• GOD BLESS AMERICA •</td>\n",
              "      <td>Twitter for iPhone</td>\n",
              "      <td>2</td>\n",
              "      <td>5333</td>\n",
              "      <td>375</td>\n",
              "      <td>0</td>\n",
              "      <td>[speak, fall, pleas, care, climb, chairthos, p...</td>\n",
              "    </tr>\n",
              "    <tr>\n",
              "      <th>...</th>\n",
              "      <td>...</td>\n",
              "      <td>...</td>\n",
              "      <td>...</td>\n",
              "      <td>...</td>\n",
              "      <td>...</td>\n",
              "      <td>...</td>\n",
              "      <td>...</td>\n",
              "      <td>...</td>\n",
              "      <td>...</td>\n",
              "      <td>...</td>\n",
              "      <td>...</td>\n",
              "      <td>...</td>\n",
              "    </tr>\n",
              "    <tr>\n",
              "      <th>47088</th>\n",
              "      <td>2020-07-14 13:00:29</td>\n",
              "      <td>1283023564157923330</td>\n",
              "      <td>False</td>\n",
              "      <td>Looks like #BorisJohnson is pandering to #Trum...</td>\n",
              "      <td>BananaaAlana</td>\n",
              "      <td>Salford, England</td>\n",
              "      <td>Twitter for iPhone</td>\n",
              "      <td>0</td>\n",
              "      <td>804</td>\n",
              "      <td>1447</td>\n",
              "      <td>0</td>\n",
              "      <td>[look, like, borisjohnson, pander, trump, read...</td>\n",
              "    </tr>\n",
              "    <tr>\n",
              "      <th>47089</th>\n",
              "      <td>2020-07-14 13:00:28</td>\n",
              "      <td>1283023556855705600</td>\n",
              "      <td>False</td>\n",
              "      <td>This is what the US map MUST look like on NOVE...</td>\n",
              "      <td>Deleno12</td>\n",
              "      <td>America 🇺🇸🇺🇸</td>\n",
              "      <td>Hypefury</td>\n",
              "      <td>4</td>\n",
              "      <td>493</td>\n",
              "      <td>226</td>\n",
              "      <td>3</td>\n",
              "      <td>[map, must, look, like, novemb, like, agre, vo...</td>\n",
              "    </tr>\n",
              "    <tr>\n",
              "      <th>47090</th>\n",
              "      <td>2020-07-14 13:00:24</td>\n",
              "      <td>1283023541496156162</td>\n",
              "      <td>False</td>\n",
              "      <td>@thehill Death-count 7/14 in countries that to...</td>\n",
              "      <td>tomfervoy</td>\n",
              "      <td>New York, NY</td>\n",
              "      <td>Twitter for iPhone</td>\n",
              "      <td>10</td>\n",
              "      <td>442</td>\n",
              "      <td>1085</td>\n",
              "      <td>7</td>\n",
              "      <td>[death, count, countri, took, prompt, aggress,...</td>\n",
              "    </tr>\n",
              "    <tr>\n",
              "      <th>47091</th>\n",
              "      <td>2020-07-14 13:00:20</td>\n",
              "      <td>1283023527164227584</td>\n",
              "      <td>False</td>\n",
              "      <td>To be human, one has to possess empathy and mo...</td>\n",
              "      <td>CFaurholt</td>\n",
              "      <td>San Diego, CA</td>\n",
              "      <td>Twitter Web App</td>\n",
              "      <td>0</td>\n",
              "      <td>125</td>\n",
              "      <td>774</td>\n",
              "      <td>0</td>\n",
              "      <td>[human, one, possess, empathi, moral, daniel, ...</td>\n",
              "    </tr>\n",
              "    <tr>\n",
              "      <th>47092</th>\n",
              "      <td>2020-07-14 13:00:05</td>\n",
              "      <td>1283023460826931200</td>\n",
              "      <td>False</td>\n",
              "      <td>Douglas London, a former CIA senior operations...</td>\n",
              "      <td>newsbubble3</td>\n",
              "      <td>NaN</td>\n",
              "      <td>newsoath</td>\n",
              "      <td>0</td>\n",
              "      <td>27</td>\n",
              "      <td>365</td>\n",
              "      <td>0</td>\n",
              "      <td>[dougla, london, former, cia, senior, oper, of...</td>\n",
              "    </tr>\n",
              "  </tbody>\n",
              "</table>\n",
              "<p>47092 rows × 12 columns</p>\n",
              "</div>"
            ],
            "text/plain": [
              "                     Date  ...                                    Processed_Tweet\n",
              "0     2020-07-21 23:59:54  ...  [amaz, hope, get, support, need, resist, trump...\n",
              "1     2020-07-21 23:59:51  ...  [trump, final, admit, spread, coronaviru, get,...\n",
              "2     2020-07-21 23:59:30  ...  [sure, sign, gop, parti, break, apart, start, ...\n",
              "3     2020-07-21 23:59:20  ...  [trump, silent, cop, beat, veteran, put, hospi...\n",
              "4     2020-07-21 23:58:51  ...  [speak, fall, pleas, care, climb, chairthos, p...\n",
              "...                   ...  ...                                                ...\n",
              "47088 2020-07-14 13:00:29  ...  [look, like, borisjohnson, pander, trump, read...\n",
              "47089 2020-07-14 13:00:28  ...  [map, must, look, like, novemb, like, agre, vo...\n",
              "47090 2020-07-14 13:00:24  ...  [death, count, countri, took, prompt, aggress,...\n",
              "47091 2020-07-14 13:00:20  ...  [human, one, possess, empathi, moral, daniel, ...\n",
              "47092 2020-07-14 13:00:05  ...  [dougla, london, former, cia, senior, oper, of...\n",
              "\n",
              "[47092 rows x 12 columns]"
            ]
          },
          "metadata": {
            "tags": []
          },
          "execution_count": 220
        }
      ]
    },
    {
      "cell_type": "code",
      "metadata": {
        "id": "dRC7IovLsfGH",
        "colab_type": "code",
        "colab": {}
      },
      "source": [
        "\n",
        "texts = []\n",
        "texts = df.Processed_Tweet.apply(lambda x: [i for i in x] )"
      ],
      "execution_count": 222,
      "outputs": []
    },
    {
      "cell_type": "code",
      "metadata": {
        "id": "QVlMShXNslHs",
        "colab_type": "code",
        "colab": {}
      },
      "source": [
        "\n",
        "all_words = []\n",
        "for i in texts:\n",
        "    all_words.append(\" \".join(i))"
      ],
      "execution_count": 223,
      "outputs": []
    },
    {
      "cell_type": "code",
      "metadata": {
        "id": "Au9VefBNsnGr",
        "colab_type": "code",
        "colab": {}
      },
      "source": [
        "text = []\n",
        "for i in texts:\n",
        "    for j in i:\n",
        "        text.append(j)"
      ],
      "execution_count": 224,
      "outputs": []
    },
    {
      "cell_type": "code",
      "metadata": {
        "id": "GZzlzwzesqu0",
        "colab_type": "code",
        "colab": {
          "base_uri": "https://localhost:8080/",
          "height": 35
        },
        "outputId": "eb24159d-6229-452f-be27-e0dc16d48658"
      },
      "source": [
        "len(text)"
      ],
      "execution_count": 225,
      "outputs": [
        {
          "output_type": "execute_result",
          "data": {
            "text/plain": [
              "699193"
            ]
          },
          "metadata": {
            "tags": []
          },
          "execution_count": 225
        }
      ]
    },
    {
      "cell_type": "code",
      "metadata": {
        "id": "BSzrqpT7suBl",
        "colab_type": "code",
        "colab": {}
      },
      "source": [
        "wordcloud = WordCloud(width=800, height=500, random_state=21, max_font_size=110).generate(' '.join(text))"
      ],
      "execution_count": 226,
      "outputs": []
    },
    {
      "cell_type": "code",
      "metadata": {
        "id": "81GUIyHyszBg",
        "colab_type": "code",
        "colab": {
          "base_uri": "https://localhost:8080/",
          "height": 465
        },
        "outputId": "5ae6f4ed-9a9c-44f7-e9bf-bffd5557e70c"
      },
      "source": [
        "plt.figure(figsize = (12, 12), facecolor=\"None\") \n",
        "plt.imshow(wordcloud,interpolation='bilinear') \n",
        "plt.axis(\"off\") \n",
        "plt.title(\"WordCloud of Biden Tweets\")\n",
        "plt.show()"
      ],
      "execution_count": 227,
      "outputs": [
        {
          "output_type": "display_data",
          "data": {
            "image/png": "[encoded data removed]",
            "text/plain": [
              "<Figure size 864x864 with 1 Axes>"
            ]
          },
          "metadata": {
            "tags": [],
            "needs_background": "light"
          }
        }
      ]
    },
    {
      "cell_type": "markdown",
      "metadata": {
        "id": "Wge3Xp-z4Zqi",
        "colab_type": "text"
      },
      "source": [
        "Word clouds, created by words corresponding to maximum frequency within the twitter data stream help in identifying keywords and trends."
      ]
    },
    {
      "cell_type": "markdown",
      "metadata": {
        "id": "tkRh3d94s4wM",
        "colab_type": "text"
      },
      "source": [
        "# Sentiment Analysis"
      ]
    },
    {
      "cell_type": "code",
      "metadata": {
        "id": "rknAVDN1s_AS",
        "colab_type": "code",
        "colab": {}
      },
      "source": [
        "from textblob import TextBlob"
      ],
      "execution_count": 228,
      "outputs": []
    },
    {
      "cell_type": "code",
      "metadata": {
        "id": "sfi55L9ntFwu",
        "colab_type": "code",
        "colab": {}
      },
      "source": [
        "pol=[]\n",
        "for Tweet in all_words:\n",
        "    blob = TextBlob(Tweet)\n",
        "    pol.append(blob.sentiment.polarity)"
      ],
      "execution_count": 229,
      "outputs": []
    },
    {
      "cell_type": "code",
      "metadata": {
        "id": "sCxTfbC_tH_G",
        "colab_type": "code",
        "colab": {
          "base_uri": "https://localhost:8080/",
          "height": 35
        },
        "outputId": "316b3275-0c56-4528-e3e0-3f52127c47bd"
      },
      "source": [
        "\n",
        "len(pol)"
      ],
      "execution_count": 230,
      "outputs": [
        {
          "output_type": "execute_result",
          "data": {
            "text/plain": [
              "47092"
            ]
          },
          "metadata": {
            "tags": []
          },
          "execution_count": 230
        }
      ]
    },
    {
      "cell_type": "code",
      "metadata": {
        "id": "slx8U-qltKRL",
        "colab_type": "code",
        "colab": {
          "base_uri": "https://localhost:8080/",
          "height": 35
        },
        "outputId": "2c53f0a0-985d-4f85-afb3-f5fac43c9723"
      },
      "source": [
        "len(text)"
      ],
      "execution_count": 231,
      "outputs": [
        {
          "output_type": "execute_result",
          "data": {
            "text/plain": [
              "699193"
            ]
          },
          "metadata": {
            "tags": []
          },
          "execution_count": 231
        }
      ]
    },
    {
      "cell_type": "code",
      "metadata": {
        "id": "JDwZa8srtMdl",
        "colab_type": "code",
        "colab": {
          "base_uri": "https://localhost:8080/",
          "height": 225
        },
        "outputId": "afb2a2d2-f42a-4885-a4b3-510954aba956"
      },
      "source": [
        "df['Processed_Tweet']"
      ],
      "execution_count": 232,
      "outputs": [
        {
          "output_type": "execute_result",
          "data": {
            "text/plain": [
              "0        [amaz, hope, get, support, need, resist, trump...\n",
              "1        [trump, final, admit, spread, coronaviru, get,...\n",
              "2        [sure, sign, gop, parti, break, apart, start, ...\n",
              "3        [trump, silent, cop, beat, veteran, put, hospi...\n",
              "4        [speak, fall, pleas, care, climb, chairthos, p...\n",
              "                               ...                        \n",
              "47088    [look, like, borisjohnson, pander, trump, read...\n",
              "47089    [map, must, look, like, novemb, like, agre, vo...\n",
              "47090    [death, count, countri, took, prompt, aggress,...\n",
              "47091    [human, one, possess, empathi, moral, daniel, ...\n",
              "47092    [dougla, london, former, cia, senior, oper, of...\n",
              "Name: Processed_Tweet, Length: 47092, dtype: object"
            ]
          },
          "metadata": {
            "tags": []
          },
          "execution_count": 232
        }
      ]
    },
    {
      "cell_type": "code",
      "metadata": {
        "id": "AnMgCZGetPBe",
        "colab_type": "code",
        "colab": {
          "base_uri": "https://localhost:8080/",
          "height": 69
        },
        "outputId": "3002dc1d-869c-401b-d3eb-f11f88dc2833"
      },
      "source": [
        "\n",
        "positive=0\n",
        "negative=0\n",
        "neutral=0\n",
        "for i in pol:\n",
        "    if i>0:\n",
        "        positive+=1\n",
        "    elif i<0:\n",
        "        negative+=1\n",
        "    else:\n",
        "        neutral+=1\n",
        "print(\"Positive Tweets:\",positive)\n",
        "print(\"Negative Tweets:\",negative)\n",
        "print(\"Neutral Tweets\",neutral)"
      ],
      "execution_count": 233,
      "outputs": [
        {
          "output_type": "stream",
          "text": [
            "Positive Tweets: 16025\n",
            "Negative Tweets: 11315\n",
            "Neutral Tweets 19752\n"
          ],
          "name": "stdout"
        }
      ]
    },
    {
      "cell_type": "code",
      "metadata": {
        "id": "WWnnDCuptR_T",
        "colab_type": "code",
        "colab": {
          "base_uri": "https://localhost:8080/",
          "height": 52
        },
        "outputId": "ed02cd12-f517-490b-c26f-551fc8f5afe9"
      },
      "source": [
        "import nltk\n",
        "nltk.download('vader_lexicon')"
      ],
      "execution_count": 234,
      "outputs": [
        {
          "output_type": "stream",
          "text": [
            "[nltk_data] Downloading package vader_lexicon to /root/nltk_data...\n"
          ],
          "name": "stdout"
        },
        {
          "output_type": "execute_result",
          "data": {
            "text/plain": [
              "True"
            ]
          },
          "metadata": {
            "tags": []
          },
          "execution_count": 234
        }
      ]
    },
    {
      "cell_type": "code",
      "metadata": {
        "id": "u7Ki65KntUQU",
        "colab_type": "code",
        "colab": {
          "base_uri": "https://localhost:8080/",
          "height": 72
        },
        "outputId": "26a6735b-568c-4de4-84a0-1637f0c70aa6"
      },
      "source": [
        "from nltk.sentiment.vader import SentimentIntensityAnalyzer\n",
        "sid = SentimentIntensityAnalyzer()\n",
        "sentiment_scores= []\n",
        "for i in all_words:\n",
        "    sentiment_scores.append([sid.polarity_scores(i)])\n",
        "#sentimental_score = pd.DataFrame(list(sentiment_scores))\n",
        "#sentimental_score.tail(12)"
      ],
      "execution_count": 235,
      "outputs": [
        {
          "output_type": "stream",
          "text": [
            "/usr/local/lib/python3.6/dist-packages/nltk/twitter/__init__.py:20: UserWarning: The twython library has not been installed. Some functionality from the twitter package will not be available.\n",
            "  warnings.warn(\"The twython library has not been installed. \"\n"
          ],
          "name": "stderr"
        }
      ]
    },
    {
      "cell_type": "code",
      "metadata": {
        "id": "0GjJhK6stZoQ",
        "colab_type": "code",
        "colab": {}
      },
      "source": [
        "value = []\n",
        "for i in sentiment_scores:\n",
        "    for dict1 in i:\n",
        "        value.append(list(dict1.values()))"
      ],
      "execution_count": 236,
      "outputs": []
    },
    {
      "cell_type": "code",
      "metadata": {
        "id": "_dkHH6SbtbjO",
        "colab_type": "code",
        "colab": {
          "base_uri": "https://localhost:8080/",
          "height": 415
        },
        "outputId": "248272eb-80f2-4c93-a596-6e67dc264c8f"
      },
      "source": [
        "\n",
        "sentimental_score_df = pd.DataFrame(data = value, columns = ['Negative','Neutral','Positive','Compound'])\n",
        "sentimental_score_df"
      ],
      "execution_count": 237,
      "outputs": [
        {
          "output_type": "execute_result",
          "data": {
            "text/html": [
              "<div>\n",
              "<style scoped>\n",
              "    .dataframe tbody tr th:only-of-type {\n",
              "        vertical-align: middle;\n",
              "    }\n",
              "\n",
              "    .dataframe tbody tr th {\n",
              "        vertical-align: top;\n",
              "    }\n",
              "\n",
              "    .dataframe thead th {\n",
              "        text-align: right;\n",
              "    }\n",
              "</style>\n",
              "<table border=\"1\" class=\"dataframe\">\n",
              "  <thead>\n",
              "    <tr style=\"text-align: right;\">\n",
              "      <th></th>\n",
              "      <th>Negative</th>\n",
              "      <th>Neutral</th>\n",
              "      <th>Positive</th>\n",
              "      <th>Compound</th>\n",
              "    </tr>\n",
              "  </thead>\n",
              "  <tbody>\n",
              "    <tr>\n",
              "      <th>0</th>\n",
              "      <td>0.000</td>\n",
              "      <td>0.641</td>\n",
              "      <td>0.359</td>\n",
              "      <td>0.6808</td>\n",
              "    </tr>\n",
              "    <tr>\n",
              "      <th>1</th>\n",
              "      <td>0.000</td>\n",
              "      <td>0.699</td>\n",
              "      <td>0.301</td>\n",
              "      <td>0.7096</td>\n",
              "    </tr>\n",
              "    <tr>\n",
              "      <th>2</th>\n",
              "      <td>0.168</td>\n",
              "      <td>0.721</td>\n",
              "      <td>0.111</td>\n",
              "      <td>-0.2960</td>\n",
              "    </tr>\n",
              "    <tr>\n",
              "      <th>3</th>\n",
              "      <td>0.101</td>\n",
              "      <td>0.754</td>\n",
              "      <td>0.146</td>\n",
              "      <td>0.2263</td>\n",
              "    </tr>\n",
              "    <tr>\n",
              "      <th>4</th>\n",
              "      <td>0.000</td>\n",
              "      <td>0.833</td>\n",
              "      <td>0.167</td>\n",
              "      <td>0.4939</td>\n",
              "    </tr>\n",
              "    <tr>\n",
              "      <th>...</th>\n",
              "      <td>...</td>\n",
              "      <td>...</td>\n",
              "      <td>...</td>\n",
              "      <td>...</td>\n",
              "    </tr>\n",
              "    <tr>\n",
              "      <th>47087</th>\n",
              "      <td>0.000</td>\n",
              "      <td>0.828</td>\n",
              "      <td>0.172</td>\n",
              "      <td>0.3612</td>\n",
              "    </tr>\n",
              "    <tr>\n",
              "      <th>47088</th>\n",
              "      <td>0.000</td>\n",
              "      <td>0.706</td>\n",
              "      <td>0.294</td>\n",
              "      <td>0.6124</td>\n",
              "    </tr>\n",
              "    <tr>\n",
              "      <th>47089</th>\n",
              "      <td>0.372</td>\n",
              "      <td>0.525</td>\n",
              "      <td>0.102</td>\n",
              "      <td>-0.8957</td>\n",
              "    </tr>\n",
              "    <tr>\n",
              "      <th>47090</th>\n",
              "      <td>0.000</td>\n",
              "      <td>1.000</td>\n",
              "      <td>0.000</td>\n",
              "      <td>0.0000</td>\n",
              "    </tr>\n",
              "    <tr>\n",
              "      <th>47091</th>\n",
              "      <td>0.090</td>\n",
              "      <td>0.820</td>\n",
              "      <td>0.090</td>\n",
              "      <td>0.0000</td>\n",
              "    </tr>\n",
              "  </tbody>\n",
              "</table>\n",
              "<p>47092 rows × 4 columns</p>\n",
              "</div>"
            ],
            "text/plain": [
              "       Negative  Neutral  Positive  Compound\n",
              "0         0.000    0.641     0.359    0.6808\n",
              "1         0.000    0.699     0.301    0.7096\n",
              "2         0.168    0.721     0.111   -0.2960\n",
              "3         0.101    0.754     0.146    0.2263\n",
              "4         0.000    0.833     0.167    0.4939\n",
              "...         ...      ...       ...       ...\n",
              "47087     0.000    0.828     0.172    0.3612\n",
              "47088     0.000    0.706     0.294    0.6124\n",
              "47089     0.372    0.525     0.102   -0.8957\n",
              "47090     0.000    1.000     0.000    0.0000\n",
              "47091     0.090    0.820     0.090    0.0000\n",
              "\n",
              "[47092 rows x 4 columns]"
            ]
          },
          "metadata": {
            "tags": []
          },
          "execution_count": 237
        }
      ]
    },
    {
      "cell_type": "code",
      "metadata": {
        "id": "vpuA7hb-tcqc",
        "colab_type": "code",
        "colab": {
          "base_uri": "https://localhost:8080/",
          "height": 202
        },
        "outputId": "a85a5611-06dc-46bb-d333-964f79081af6"
      },
      "source": [
        "sentimental_score_df['val'] = sentimental_score_df['Compound'].apply(lambda x: 'Neutral' if x == 0 else ('Positive' if x > 0 else 'Negative'))\n",
        "sentimental_score_df.head()"
      ],
      "execution_count": 238,
      "outputs": [
        {
          "output_type": "execute_result",
          "data": {
            "text/html": [
              "<div>\n",
              "<style scoped>\n",
              "    .dataframe tbody tr th:only-of-type {\n",
              "        vertical-align: middle;\n",
              "    }\n",
              "\n",
              "    .dataframe tbody tr th {\n",
              "        vertical-align: top;\n",
              "    }\n",
              "\n",
              "    .dataframe thead th {\n",
              "        text-align: right;\n",
              "    }\n",
              "</style>\n",
              "<table border=\"1\" class=\"dataframe\">\n",
              "  <thead>\n",
              "    <tr style=\"text-align: right;\">\n",
              "      <th></th>\n",
              "      <th>Negative</th>\n",
              "      <th>Neutral</th>\n",
              "      <th>Positive</th>\n",
              "      <th>Compound</th>\n",
              "      <th>val</th>\n",
              "    </tr>\n",
              "  </thead>\n",
              "  <tbody>\n",
              "    <tr>\n",
              "      <th>0</th>\n",
              "      <td>0.000</td>\n",
              "      <td>0.641</td>\n",
              "      <td>0.359</td>\n",
              "      <td>0.6808</td>\n",
              "      <td>Positive</td>\n",
              "    </tr>\n",
              "    <tr>\n",
              "      <th>1</th>\n",
              "      <td>0.000</td>\n",
              "      <td>0.699</td>\n",
              "      <td>0.301</td>\n",
              "      <td>0.7096</td>\n",
              "      <td>Positive</td>\n",
              "    </tr>\n",
              "    <tr>\n",
              "      <th>2</th>\n",
              "      <td>0.168</td>\n",
              "      <td>0.721</td>\n",
              "      <td>0.111</td>\n",
              "      <td>-0.2960</td>\n",
              "      <td>Negative</td>\n",
              "    </tr>\n",
              "    <tr>\n",
              "      <th>3</th>\n",
              "      <td>0.101</td>\n",
              "      <td>0.754</td>\n",
              "      <td>0.146</td>\n",
              "      <td>0.2263</td>\n",
              "      <td>Positive</td>\n",
              "    </tr>\n",
              "    <tr>\n",
              "      <th>4</th>\n",
              "      <td>0.000</td>\n",
              "      <td>0.833</td>\n",
              "      <td>0.167</td>\n",
              "      <td>0.4939</td>\n",
              "      <td>Positive</td>\n",
              "    </tr>\n",
              "  </tbody>\n",
              "</table>\n",
              "</div>"
            ],
            "text/plain": [
              "   Negative  Neutral  Positive  Compound       val\n",
              "0     0.000    0.641     0.359    0.6808  Positive\n",
              "1     0.000    0.699     0.301    0.7096  Positive\n",
              "2     0.168    0.721     0.111   -0.2960  Negative\n",
              "3     0.101    0.754     0.146    0.2263  Positive\n",
              "4     0.000    0.833     0.167    0.4939  Positive"
            ]
          },
          "metadata": {
            "tags": []
          },
          "execution_count": 238
        }
      ]
    },
    {
      "cell_type": "code",
      "metadata": {
        "id": "SJ8lrw4dthXk",
        "colab_type": "code",
        "colab": {
          "base_uri": "https://localhost:8080/",
          "height": 297
        },
        "outputId": "dbd4176e-a0f6-4412-aa35-4b635f15b70d"
      },
      "source": [
        "sent_count = pd.DataFrame.from_dict(Counter(sentimental_score_df['val']), orient = 'index').reset_index()\n",
        "sent_count.columns = ['sentiment', 'count']\n",
        "\n",
        "sns.barplot(y=\"count\", x='sentiment', data=sent_count)"
      ],
      "execution_count": 239,
      "outputs": [
        {
          "output_type": "execute_result",
          "data": {
            "text/plain": [
              "<matplotlib.axes._subplots.AxesSubplot at 0x7fcd2e8fcb38>"
            ]
          },
          "metadata": {
            "tags": []
          },
          "execution_count": 239
        },
        {
          "output_type": "display_data",
          "data": {
            "image/png": "[encoded data removed]",
            "text/plain": [
              "<Figure size 432x288 with 1 Axes>"
            ]
          },
          "metadata": {
            "tags": [],
            "needs_background": "light"
          }
        }
      ]
    },
    {
      "cell_type": "code",
      "metadata": {
        "id": "xbP1K3Ar8MPn",
        "colab_type": "code",
        "colab": {}
      },
      "source": [
        ""
      ],
      "execution_count": 244,
      "outputs": []
    },
    {
      "cell_type": "code",
      "metadata": {
        "id": "aDos61WX9bHh",
        "colab_type": "code",
        "colab": {
          "base_uri": "https://localhost:8080/",
          "height": 35
        },
        "outputId": "8caaeb11-87fb-497f-afaf-1ef5860d9533"
      },
      "source": [
        "filepath = r\"/content/NRC Emotion Lexicon.txt\"\n",
        "emolex_df = pd.read_csv(filepath,  names=[\"word\", \"emotion\", \"association\"], skiprows=45, sep='\\t')\n",
        "emolex_df.head(12)\n",
        "len(emolex_df)"
      ],
      "execution_count": 245,
      "outputs": [
        {
          "output_type": "execute_result",
          "data": {
            "text/plain": [
              "86343"
            ]
          },
          "metadata": {
            "tags": []
          },
          "execution_count": 245
        }
      ]
    },
    {
      "cell_type": "code",
      "metadata": {
        "id": "0n1NYPvXt9QV",
        "colab_type": "code",
        "colab": {}
      },
      "source": [
        "\n",
        "emotions={'positive':0, 'negative':0, 'surprise':0,'sadness':0,\n",
        "          'anger':0,'joy':0,'negative':0,'trust':0,'fear':0,'anticipation':0,'disgust':0}"
      ],
      "execution_count": 246,
      "outputs": []
    },
    {
      "cell_type": "code",
      "metadata": {
        "id": "5y5oZeOsuAmL",
        "colab_type": "code",
        "colab": {}
      },
      "source": [
        "word_emotion=dict()\n",
        "for i in range(0,86343):\n",
        "    emotion=emolex_df['emotion'][i]\n",
        "    word=emolex_df['word'][i]\n",
        "    association=emolex_df['association'][i]\n",
        "    \n",
        "    if word not in word_emotion:\n",
        "        word_emotion[word]=dict()\n",
        "    word_emotion[word][emotion]=association"
      ],
      "execution_count": 248,
      "outputs": []
    },
    {
      "cell_type": "code",
      "metadata": {
        "id": "xw4O8xzKuEHZ",
        "colab_type": "code",
        "colab": {}
      },
      "source": [
        "for i in range(0,21506):\n",
        "    text=df['Tweet'][i]\n",
        "    for j in text.split():\n",
        "        if j in word_emotion:\n",
        "            for k in word_emotion[j]:\n",
        "                emotions[k]+=word_emotion[j][k]"
      ],
      "execution_count": 320,
      "outputs": []
    },
    {
      "cell_type": "code",
      "metadata": {
        "id": "75qWwgkOuIgf",
        "colab_type": "code",
        "colab": {
          "base_uri": "https://localhost:8080/",
          "height": 191
        },
        "outputId": "cdeacc1b-8f2a-40ed-9504-97af9af4b1f6"
      },
      "source": [
        "emotions"
      ],
      "execution_count": 321,
      "outputs": [
        {
          "output_type": "execute_result",
          "data": {
            "text/plain": [
              "{'anger': 27198.0,\n",
              " 'anticipation': 17742.0,\n",
              " 'disgust': 17823.0,\n",
              " 'fear': 29994.0,\n",
              " 'joy': 14913.0,\n",
              " 'negative': 50823.0,\n",
              " 'positive': 41526.0,\n",
              " 'sadness': 23355.0,\n",
              " 'surprise': 12444.0,\n",
              " 'trust': 26478.0}"
            ]
          },
          "metadata": {
            "tags": []
          },
          "execution_count": 321
        }
      ]
    },
    {
      "cell_type": "code",
      "metadata": {
        "id": "oy-D3yRduKiB",
        "colab_type": "code",
        "colab": {
          "base_uri": "https://localhost:8080/",
          "height": 383
        },
        "outputId": "715e1726-4397-47b8-eeb3-1b00d64a241b"
      },
      "source": [
        "\n",
        "plt.style.use('fivethirtyeight')\n",
        "plt.rcParams[\"figure.figsize\"] = [15,5]\n",
        "plt.bar(list(emotions.keys()),list(emotions.values()),color='red',alpha = 0.6)\n",
        "plt.xlabel('Emotions')\n",
        "plt.ylabel('Count')\n",
        "plt.title('Calculated Emotions Of Users ')\n",
        "plt.show()"
      ],
      "execution_count": 254,
      "outputs": [
        {
          "output_type": "display_data",
          "data": {
            "image/png": "[encoded data removed]",
            "text/plain": [
              "<Figure size 1080x360 with 1 Axes>"
            ]
          },
          "metadata": {
            "tags": []
          }
        }
      ]
    },
    {
      "cell_type": "code",
      "metadata": {
        "id": "qWUUSXRFuM8-",
        "colab_type": "code",
        "colab": {}
      },
      "source": [
        "df.Location  = df.Location.fillna('USA')"
      ],
      "execution_count": 322,
      "outputs": []
    },
    {
      "cell_type": "code",
      "metadata": {
        "id": "JxYC7jfJuciF",
        "colab_type": "code",
        "colab": {
          "base_uri": "https://localhost:8080/",
          "height": 35
        },
        "outputId": "5acdcdfe-9490-4458-d70e-704a2f89ae6f"
      },
      "source": [
        "\n",
        "f = [i for i in df['Location'] if type(i) != str]\n",
        "f"
      ],
      "execution_count": 256,
      "outputs": [
        {
          "output_type": "execute_result",
          "data": {
            "text/plain": [
              "[]"
            ]
          },
          "metadata": {
            "tags": []
          },
          "execution_count": 256
        }
      ]
    },
    {
      "cell_type": "code",
      "metadata": {
        "id": "wkmeCj3wufTS",
        "colab_type": "code",
        "colab": {}
      },
      "source": [
        "df.Location = df.Location.apply(lambda x: x.replace('United States','USA'))"
      ],
      "execution_count": 324,
      "outputs": []
    },
    {
      "cell_type": "code",
      "metadata": {
        "id": "F61Ry5qJuhIM",
        "colab_type": "code",
        "colab": {
          "base_uri": "https://localhost:8080/",
          "height": 225
        },
        "outputId": "84aea87d-80af-49eb-8aae-ea3dd77265ad"
      },
      "source": [
        "\n",
        "df.Location.value_counts()"
      ],
      "execution_count": 325,
      "outputs": [
        {
          "output_type": "execute_result",
          "data": {
            "text/plain": [
              "USA                               15357\n",
              "California, USA                     877\n",
              "Washington, DC                      633\n",
              "Los Angeles, CA                     385\n",
              "New York, NY                        305\n",
              "                                  ...  \n",
              "us                                    1\n",
              "Houston, Texas                        1\n",
              "Bellflower Ca                         1\n",
              "Gananoque/1000 Islands, ON CAN        1\n",
              "New York , NY                         1\n",
              "Name: Location, Length: 6613, dtype: int64"
            ]
          },
          "metadata": {
            "tags": []
          },
          "execution_count": 325
        }
      ]
    },
    {
      "cell_type": "code",
      "metadata": {
        "id": "3bV5_9AlCAJz",
        "colab_type": "code",
        "colab": {}
      },
      "source": [
        "from sklearn.feature_extraction.text import CountVectorizer\n",
        "from sklearn.model_selection import train_test_split\n",
        "from sklearn.naive_bayes import GaussianNB\n",
        "from sklearn.metrics import confusion_matrix\n",
        "from sklearn.tree import DecisionTreeClassifier\n",
        "from sklearn.ensemble import RandomForestClassifier\n",
        "from sklearn.preprocessing import LabelEncoder \n",
        "from sklearn.model_selection import GridSearchCV\n",
        "from sklearn.model_selection import cross_val_score\n",
        " \n",
        "from sklearn.metrics import accuracy_score\n",
        "from sklearn.metrics import precision_score\n",
        "from sklearn.metrics import recall_score\n",
        "from sklearn.metrics import f1_score"
      ],
      "execution_count": 326,
      "outputs": []
    },
    {
      "cell_type": "code",
      "metadata": {
        "id": "H8Ys9SUjujii",
        "colab_type": "code",
        "colab": {
          "base_uri": "https://localhost:8080/",
          "height": 903
        },
        "outputId": "41175f02-b910-4cc6-ee21-10fbf7a3b34d"
      },
      "source": [
        "\n",
        "locations = []\n",
        "locations_1 = []\n",
        "\n",
        "locations = [i.split(',')[-1] for i in df['Location']]\n",
        "locations_1 =  [i.split(',')[0] for i in df['Location']]\n",
        "df['Processed_Location'] = locations_1\n",
        "df"
      ],
      "execution_count": 327,
      "outputs": [
        {
          "output_type": "execute_result",
          "data": {
            "text/html": [
              "<div>\n",
              "<style scoped>\n",
              "    .dataframe tbody tr th:only-of-type {\n",
              "        vertical-align: middle;\n",
              "    }\n",
              "\n",
              "    .dataframe tbody tr th {\n",
              "        vertical-align: top;\n",
              "    }\n",
              "\n",
              "    .dataframe thead th {\n",
              "        text-align: right;\n",
              "    }\n",
              "</style>\n",
              "<table border=\"1\" class=\"dataframe\">\n",
              "  <thead>\n",
              "    <tr style=\"text-align: right;\">\n",
              "      <th></th>\n",
              "      <th>Date</th>\n",
              "      <th>Tweet_id</th>\n",
              "      <th>Verified</th>\n",
              "      <th>Tweet</th>\n",
              "      <th>User</th>\n",
              "      <th>Location</th>\n",
              "      <th>Source</th>\n",
              "      <th>Likes</th>\n",
              "      <th>Followers</th>\n",
              "      <th>Following</th>\n",
              "      <th>Retweets</th>\n",
              "      <th>Processed_Tweet</th>\n",
              "      <th>Processed_Location</th>\n",
              "      <th>sentiment</th>\n",
              "      <th>day</th>\n",
              "      <th>sentiment_1</th>\n",
              "    </tr>\n",
              "  </thead>\n",
              "  <tbody>\n",
              "    <tr>\n",
              "      <th>0</th>\n",
              "      <td>2020-07-21 23:59:54</td>\n",
              "      <td>1285726226813014016</td>\n",
              "      <td>False</td>\n",
              "      <td>You are amazing, @chicagosmayor.  I hope you g...</td>\n",
              "      <td>rathacat</td>\n",
              "      <td>Patterson, CA</td>\n",
              "      <td>Twitter Web App</td>\n",
              "      <td>1</td>\n",
              "      <td>2429</td>\n",
              "      <td>3710</td>\n",
              "      <td>0</td>\n",
              "      <td>[amaz, hope, get, support, need, resist, trump...</td>\n",
              "      <td>Patterson</td>\n",
              "      <td>Positive</td>\n",
              "      <td>21</td>\n",
              "      <td>2</td>\n",
              "    </tr>\n",
              "    <tr>\n",
              "      <th>1</th>\n",
              "      <td>2020-07-21 23:59:51</td>\n",
              "      <td>1285726213001093127</td>\n",
              "      <td>False</td>\n",
              "      <td>#Trump finally admitted that the spread of the...</td>\n",
              "      <td>Nor_Kan_1965</td>\n",
              "      <td>USA</td>\n",
              "      <td>Twitter for Android</td>\n",
              "      <td>1</td>\n",
              "      <td>112</td>\n",
              "      <td>73</td>\n",
              "      <td>1</td>\n",
              "      <td>[trump, final, admit, spread, coronaviru, get,...</td>\n",
              "      <td>USA</td>\n",
              "      <td>Positive</td>\n",
              "      <td>21</td>\n",
              "      <td>2</td>\n",
              "    </tr>\n",
              "    <tr>\n",
              "      <th>2</th>\n",
              "      <td>2020-07-21 23:59:30</td>\n",
              "      <td>1285726126820794368</td>\n",
              "      <td>False</td>\n",
              "      <td>@NavygirlLaura @GOP A sure sign the #GOP party...</td>\n",
              "      <td>ShannsolSolberg</td>\n",
              "      <td>Texas, USA</td>\n",
              "      <td>Twitter for iPhone</td>\n",
              "      <td>1</td>\n",
              "      <td>1359</td>\n",
              "      <td>1745</td>\n",
              "      <td>0</td>\n",
              "      <td>[sure, sign, gop, parti, break, apart, start, ...</td>\n",
              "      <td>Texas</td>\n",
              "      <td>Negative</td>\n",
              "      <td>21</td>\n",
              "      <td>0</td>\n",
              "    </tr>\n",
              "    <tr>\n",
              "      <th>3</th>\n",
              "      <td>2020-07-21 23:59:20</td>\n",
              "      <td>1285726083455877121</td>\n",
              "      <td>False</td>\n",
              "      <td>Why is #Trump silent when cops beat a #Veteran...</td>\n",
              "      <td>in_pubs</td>\n",
              "      <td>NJ-DC-NY-🌍</td>\n",
              "      <td>Twitter for iPhone</td>\n",
              "      <td>650</td>\n",
              "      <td>78851</td>\n",
              "      <td>17726</td>\n",
              "      <td>254</td>\n",
              "      <td>[trump, silent, cop, beat, veteran, put, hospi...</td>\n",
              "      <td>NJ-DC-NY-🌍</td>\n",
              "      <td>Positive</td>\n",
              "      <td>21</td>\n",
              "      <td>2</td>\n",
              "    </tr>\n",
              "    <tr>\n",
              "      <th>4</th>\n",
              "      <td>2020-07-21 23:58:51</td>\n",
              "      <td>1285725963024818183</td>\n",
              "      <td>False</td>\n",
              "      <td>@gtconway3d Speaking of falling, please be car...</td>\n",
              "      <td>dfwcitizen</td>\n",
              "      <td>• GOD BLESS AMERICA •</td>\n",
              "      <td>Twitter for iPhone</td>\n",
              "      <td>2</td>\n",
              "      <td>5333</td>\n",
              "      <td>375</td>\n",
              "      <td>0</td>\n",
              "      <td>[speak, fall, pleas, care, climb, chairthos, p...</td>\n",
              "      <td>• GOD BLESS AMERICA •</td>\n",
              "      <td>Positive</td>\n",
              "      <td>21</td>\n",
              "      <td>2</td>\n",
              "    </tr>\n",
              "    <tr>\n",
              "      <th>...</th>\n",
              "      <td>...</td>\n",
              "      <td>...</td>\n",
              "      <td>...</td>\n",
              "      <td>...</td>\n",
              "      <td>...</td>\n",
              "      <td>...</td>\n",
              "      <td>...</td>\n",
              "      <td>...</td>\n",
              "      <td>...</td>\n",
              "      <td>...</td>\n",
              "      <td>...</td>\n",
              "      <td>...</td>\n",
              "      <td>...</td>\n",
              "      <td>...</td>\n",
              "      <td>...</td>\n",
              "      <td>...</td>\n",
              "    </tr>\n",
              "    <tr>\n",
              "      <th>47088</th>\n",
              "      <td>2020-07-14 13:00:29</td>\n",
              "      <td>1283023564157923330</td>\n",
              "      <td>False</td>\n",
              "      <td>Looks like #BorisJohnson is pandering to #Trum...</td>\n",
              "      <td>BananaaAlana</td>\n",
              "      <td>Salford, England</td>\n",
              "      <td>Twitter for iPhone</td>\n",
              "      <td>0</td>\n",
              "      <td>804</td>\n",
              "      <td>1447</td>\n",
              "      <td>0</td>\n",
              "      <td>[look, like, borisjohnson, pander, trump, read...</td>\n",
              "      <td>Salford</td>\n",
              "      <td>Positive</td>\n",
              "      <td>14</td>\n",
              "      <td>2</td>\n",
              "    </tr>\n",
              "    <tr>\n",
              "      <th>47089</th>\n",
              "      <td>2020-07-14 13:00:28</td>\n",
              "      <td>1283023556855705600</td>\n",
              "      <td>False</td>\n",
              "      <td>This is what the US map MUST look like on NOVE...</td>\n",
              "      <td>Deleno12</td>\n",
              "      <td>America 🇺🇸🇺🇸</td>\n",
              "      <td>Hypefury</td>\n",
              "      <td>4</td>\n",
              "      <td>493</td>\n",
              "      <td>226</td>\n",
              "      <td>3</td>\n",
              "      <td>[map, must, look, like, novemb, like, agre, vo...</td>\n",
              "      <td>America 🇺🇸🇺🇸</td>\n",
              "      <td>Negative</td>\n",
              "      <td>14</td>\n",
              "      <td>0</td>\n",
              "    </tr>\n",
              "    <tr>\n",
              "      <th>47090</th>\n",
              "      <td>2020-07-14 13:00:24</td>\n",
              "      <td>1283023541496156162</td>\n",
              "      <td>False</td>\n",
              "      <td>@thehill Death-count 7/14 in countries that to...</td>\n",
              "      <td>tomfervoy</td>\n",
              "      <td>New York, NY</td>\n",
              "      <td>Twitter for iPhone</td>\n",
              "      <td>10</td>\n",
              "      <td>442</td>\n",
              "      <td>1085</td>\n",
              "      <td>7</td>\n",
              "      <td>[death, count, countri, took, prompt, aggress,...</td>\n",
              "      <td>New York</td>\n",
              "      <td>Neutral</td>\n",
              "      <td>14</td>\n",
              "      <td>1</td>\n",
              "    </tr>\n",
              "    <tr>\n",
              "      <th>47091</th>\n",
              "      <td>2020-07-14 13:00:20</td>\n",
              "      <td>1283023527164227584</td>\n",
              "      <td>False</td>\n",
              "      <td>To be human, one has to possess empathy and mo...</td>\n",
              "      <td>CFaurholt</td>\n",
              "      <td>San Diego, CA</td>\n",
              "      <td>Twitter Web App</td>\n",
              "      <td>0</td>\n",
              "      <td>125</td>\n",
              "      <td>774</td>\n",
              "      <td>0</td>\n",
              "      <td>[human, one, possess, empathi, moral, daniel, ...</td>\n",
              "      <td>San Diego</td>\n",
              "      <td>Neutral</td>\n",
              "      <td>14</td>\n",
              "      <td>1</td>\n",
              "    </tr>\n",
              "    <tr>\n",
              "      <th>47092</th>\n",
              "      <td>2020-07-14 13:00:05</td>\n",
              "      <td>1283023460826931200</td>\n",
              "      <td>False</td>\n",
              "      <td>Douglas London, a former CIA senior operations...</td>\n",
              "      <td>newsbubble3</td>\n",
              "      <td>USA</td>\n",
              "      <td>newsoath</td>\n",
              "      <td>0</td>\n",
              "      <td>27</td>\n",
              "      <td>365</td>\n",
              "      <td>0</td>\n",
              "      <td>[dougla, london, former, cia, senior, oper, of...</td>\n",
              "      <td>USA</td>\n",
              "      <td>nan</td>\n",
              "      <td>14</td>\n",
              "      <td>3</td>\n",
              "    </tr>\n",
              "  </tbody>\n",
              "</table>\n",
              "<p>47092 rows × 16 columns</p>\n",
              "</div>"
            ],
            "text/plain": [
              "                     Date             Tweet_id  ...  day sentiment_1\n",
              "0     2020-07-21 23:59:54  1285726226813014016  ...   21           2\n",
              "1     2020-07-21 23:59:51  1285726213001093127  ...   21           2\n",
              "2     2020-07-21 23:59:30  1285726126820794368  ...   21           0\n",
              "3     2020-07-21 23:59:20  1285726083455877121  ...   21           2\n",
              "4     2020-07-21 23:58:51  1285725963024818183  ...   21           2\n",
              "...                   ...                  ...  ...  ...         ...\n",
              "47088 2020-07-14 13:00:29  1283023564157923330  ...   14           2\n",
              "47089 2020-07-14 13:00:28  1283023556855705600  ...   14           0\n",
              "47090 2020-07-14 13:00:24  1283023541496156162  ...   14           1\n",
              "47091 2020-07-14 13:00:20  1283023527164227584  ...   14           1\n",
              "47092 2020-07-14 13:00:05  1283023460826931200  ...   14           3\n",
              "\n",
              "[47092 rows x 16 columns]"
            ]
          },
          "metadata": {
            "tags": []
          },
          "execution_count": 327
        }
      ]
    },
    {
      "cell_type": "code",
      "metadata": {
        "id": "647CnQZ-umYg",
        "colab_type": "code",
        "colab": {}
      },
      "source": [
        "df1 = df"
      ],
      "execution_count": 328,
      "outputs": []
    },
    {
      "cell_type": "code",
      "metadata": {
        "id": "-2ZOBCGWusNK",
        "colab_type": "code",
        "colab": {}
      },
      "source": [
        "df1['sentiment'] = sentimental_score_df['val']\n",
        "\n"
      ],
      "execution_count": 329,
      "outputs": []
    },
    {
      "cell_type": "code",
      "metadata": {
        "id": "4fXmZTFOuxUf",
        "colab_type": "code",
        "colab": {
          "base_uri": "https://localhost:8080/",
          "height": 430
        },
        "outputId": "23407365-1e79-41d0-ffad-0be707468cd9"
      },
      "source": [
        "df1.head()"
      ],
      "execution_count": 330,
      "outputs": [
        {
          "output_type": "execute_result",
          "data": {
            "text/html": [
              "<div>\n",
              "<style scoped>\n",
              "    .dataframe tbody tr th:only-of-type {\n",
              "        vertical-align: middle;\n",
              "    }\n",
              "\n",
              "    .dataframe tbody tr th {\n",
              "        vertical-align: top;\n",
              "    }\n",
              "\n",
              "    .dataframe thead th {\n",
              "        text-align: right;\n",
              "    }\n",
              "</style>\n",
              "<table border=\"1\" class=\"dataframe\">\n",
              "  <thead>\n",
              "    <tr style=\"text-align: right;\">\n",
              "      <th></th>\n",
              "      <th>Date</th>\n",
              "      <th>Tweet_id</th>\n",
              "      <th>Verified</th>\n",
              "      <th>Tweet</th>\n",
              "      <th>User</th>\n",
              "      <th>Location</th>\n",
              "      <th>Source</th>\n",
              "      <th>Likes</th>\n",
              "      <th>Followers</th>\n",
              "      <th>Following</th>\n",
              "      <th>Retweets</th>\n",
              "      <th>Processed_Tweet</th>\n",
              "      <th>Processed_Location</th>\n",
              "      <th>sentiment</th>\n",
              "      <th>day</th>\n",
              "      <th>sentiment_1</th>\n",
              "    </tr>\n",
              "  </thead>\n",
              "  <tbody>\n",
              "    <tr>\n",
              "      <th>0</th>\n",
              "      <td>2020-07-21 23:59:54</td>\n",
              "      <td>1285726226813014016</td>\n",
              "      <td>False</td>\n",
              "      <td>You are amazing, @chicagosmayor.  I hope you g...</td>\n",
              "      <td>rathacat</td>\n",
              "      <td>Patterson, CA</td>\n",
              "      <td>Twitter Web App</td>\n",
              "      <td>1</td>\n",
              "      <td>2429</td>\n",
              "      <td>3710</td>\n",
              "      <td>0</td>\n",
              "      <td>[amaz, hope, get, support, need, resist, trump...</td>\n",
              "      <td>Patterson</td>\n",
              "      <td>Positive</td>\n",
              "      <td>21</td>\n",
              "      <td>2</td>\n",
              "    </tr>\n",
              "    <tr>\n",
              "      <th>1</th>\n",
              "      <td>2020-07-21 23:59:51</td>\n",
              "      <td>1285726213001093127</td>\n",
              "      <td>False</td>\n",
              "      <td>#Trump finally admitted that the spread of the...</td>\n",
              "      <td>Nor_Kan_1965</td>\n",
              "      <td>USA</td>\n",
              "      <td>Twitter for Android</td>\n",
              "      <td>1</td>\n",
              "      <td>112</td>\n",
              "      <td>73</td>\n",
              "      <td>1</td>\n",
              "      <td>[trump, final, admit, spread, coronaviru, get,...</td>\n",
              "      <td>USA</td>\n",
              "      <td>Positive</td>\n",
              "      <td>21</td>\n",
              "      <td>2</td>\n",
              "    </tr>\n",
              "    <tr>\n",
              "      <th>2</th>\n",
              "      <td>2020-07-21 23:59:30</td>\n",
              "      <td>1285726126820794368</td>\n",
              "      <td>False</td>\n",
              "      <td>@NavygirlLaura @GOP A sure sign the #GOP party...</td>\n",
              "      <td>ShannsolSolberg</td>\n",
              "      <td>Texas, USA</td>\n",
              "      <td>Twitter for iPhone</td>\n",
              "      <td>1</td>\n",
              "      <td>1359</td>\n",
              "      <td>1745</td>\n",
              "      <td>0</td>\n",
              "      <td>[sure, sign, gop, parti, break, apart, start, ...</td>\n",
              "      <td>Texas</td>\n",
              "      <td>Negative</td>\n",
              "      <td>21</td>\n",
              "      <td>0</td>\n",
              "    </tr>\n",
              "    <tr>\n",
              "      <th>3</th>\n",
              "      <td>2020-07-21 23:59:20</td>\n",
              "      <td>1285726083455877121</td>\n",
              "      <td>False</td>\n",
              "      <td>Why is #Trump silent when cops beat a #Veteran...</td>\n",
              "      <td>in_pubs</td>\n",
              "      <td>NJ-DC-NY-🌍</td>\n",
              "      <td>Twitter for iPhone</td>\n",
              "      <td>650</td>\n",
              "      <td>78851</td>\n",
              "      <td>17726</td>\n",
              "      <td>254</td>\n",
              "      <td>[trump, silent, cop, beat, veteran, put, hospi...</td>\n",
              "      <td>NJ-DC-NY-🌍</td>\n",
              "      <td>Positive</td>\n",
              "      <td>21</td>\n",
              "      <td>2</td>\n",
              "    </tr>\n",
              "    <tr>\n",
              "      <th>4</th>\n",
              "      <td>2020-07-21 23:58:51</td>\n",
              "      <td>1285725963024818183</td>\n",
              "      <td>False</td>\n",
              "      <td>@gtconway3d Speaking of falling, please be car...</td>\n",
              "      <td>dfwcitizen</td>\n",
              "      <td>• GOD BLESS AMERICA •</td>\n",
              "      <td>Twitter for iPhone</td>\n",
              "      <td>2</td>\n",
              "      <td>5333</td>\n",
              "      <td>375</td>\n",
              "      <td>0</td>\n",
              "      <td>[speak, fall, pleas, care, climb, chairthos, p...</td>\n",
              "      <td>• GOD BLESS AMERICA •</td>\n",
              "      <td>Positive</td>\n",
              "      <td>21</td>\n",
              "      <td>2</td>\n",
              "    </tr>\n",
              "  </tbody>\n",
              "</table>\n",
              "</div>"
            ],
            "text/plain": [
              "                 Date             Tweet_id  ...  day sentiment_1\n",
              "0 2020-07-21 23:59:54  1285726226813014016  ...   21           2\n",
              "1 2020-07-21 23:59:51  1285726213001093127  ...   21           2\n",
              "2 2020-07-21 23:59:30  1285726126820794368  ...   21           0\n",
              "3 2020-07-21 23:59:20  1285726083455877121  ...   21           2\n",
              "4 2020-07-21 23:58:51  1285725963024818183  ...   21           2\n",
              "\n",
              "[5 rows x 16 columns]"
            ]
          },
          "metadata": {
            "tags": []
          },
          "execution_count": 330
        }
      ]
    },
    {
      "cell_type": "code",
      "metadata": {
        "id": "U2CWPkzHu1Cd",
        "colab_type": "code",
        "colab": {}
      },
      "source": [
        "df1.to_csv('Location.csv',index = False)"
      ],
      "execution_count": 331,
      "outputs": []
    },
    {
      "cell_type": "code",
      "metadata": {
        "id": "qHO8yIsMu5Jn",
        "colab_type": "code",
        "colab": {
          "base_uri": "https://localhost:8080/",
          "height": 430
        },
        "outputId": "5c844b07-65d7-4591-cfc0-7e51842cfa94"
      },
      "source": [
        "\n",
        "df1['day'] = df.Date.dt.day\n",
        "df1.head()"
      ],
      "execution_count": 332,
      "outputs": [
        {
          "output_type": "execute_result",
          "data": {
            "text/html": [
              "<div>\n",
              "<style scoped>\n",
              "    .dataframe tbody tr th:only-of-type {\n",
              "        vertical-align: middle;\n",
              "    }\n",
              "\n",
              "    .dataframe tbody tr th {\n",
              "        vertical-align: top;\n",
              "    }\n",
              "\n",
              "    .dataframe thead th {\n",
              "        text-align: right;\n",
              "    }\n",
              "</style>\n",
              "<table border=\"1\" class=\"dataframe\">\n",
              "  <thead>\n",
              "    <tr style=\"text-align: right;\">\n",
              "      <th></th>\n",
              "      <th>Date</th>\n",
              "      <th>Tweet_id</th>\n",
              "      <th>Verified</th>\n",
              "      <th>Tweet</th>\n",
              "      <th>User</th>\n",
              "      <th>Location</th>\n",
              "      <th>Source</th>\n",
              "      <th>Likes</th>\n",
              "      <th>Followers</th>\n",
              "      <th>Following</th>\n",
              "      <th>Retweets</th>\n",
              "      <th>Processed_Tweet</th>\n",
              "      <th>Processed_Location</th>\n",
              "      <th>sentiment</th>\n",
              "      <th>day</th>\n",
              "      <th>sentiment_1</th>\n",
              "    </tr>\n",
              "  </thead>\n",
              "  <tbody>\n",
              "    <tr>\n",
              "      <th>0</th>\n",
              "      <td>2020-07-21 23:59:54</td>\n",
              "      <td>1285726226813014016</td>\n",
              "      <td>False</td>\n",
              "      <td>You are amazing, @chicagosmayor.  I hope you g...</td>\n",
              "      <td>rathacat</td>\n",
              "      <td>Patterson, CA</td>\n",
              "      <td>Twitter Web App</td>\n",
              "      <td>1</td>\n",
              "      <td>2429</td>\n",
              "      <td>3710</td>\n",
              "      <td>0</td>\n",
              "      <td>[amaz, hope, get, support, need, resist, trump...</td>\n",
              "      <td>Patterson</td>\n",
              "      <td>Positive</td>\n",
              "      <td>21</td>\n",
              "      <td>2</td>\n",
              "    </tr>\n",
              "    <tr>\n",
              "      <th>1</th>\n",
              "      <td>2020-07-21 23:59:51</td>\n",
              "      <td>1285726213001093127</td>\n",
              "      <td>False</td>\n",
              "      <td>#Trump finally admitted that the spread of the...</td>\n",
              "      <td>Nor_Kan_1965</td>\n",
              "      <td>USA</td>\n",
              "      <td>Twitter for Android</td>\n",
              "      <td>1</td>\n",
              "      <td>112</td>\n",
              "      <td>73</td>\n",
              "      <td>1</td>\n",
              "      <td>[trump, final, admit, spread, coronaviru, get,...</td>\n",
              "      <td>USA</td>\n",
              "      <td>Positive</td>\n",
              "      <td>21</td>\n",
              "      <td>2</td>\n",
              "    </tr>\n",
              "    <tr>\n",
              "      <th>2</th>\n",
              "      <td>2020-07-21 23:59:30</td>\n",
              "      <td>1285726126820794368</td>\n",
              "      <td>False</td>\n",
              "      <td>@NavygirlLaura @GOP A sure sign the #GOP party...</td>\n",
              "      <td>ShannsolSolberg</td>\n",
              "      <td>Texas, USA</td>\n",
              "      <td>Twitter for iPhone</td>\n",
              "      <td>1</td>\n",
              "      <td>1359</td>\n",
              "      <td>1745</td>\n",
              "      <td>0</td>\n",
              "      <td>[sure, sign, gop, parti, break, apart, start, ...</td>\n",
              "      <td>Texas</td>\n",
              "      <td>Negative</td>\n",
              "      <td>21</td>\n",
              "      <td>0</td>\n",
              "    </tr>\n",
              "    <tr>\n",
              "      <th>3</th>\n",
              "      <td>2020-07-21 23:59:20</td>\n",
              "      <td>1285726083455877121</td>\n",
              "      <td>False</td>\n",
              "      <td>Why is #Trump silent when cops beat a #Veteran...</td>\n",
              "      <td>in_pubs</td>\n",
              "      <td>NJ-DC-NY-🌍</td>\n",
              "      <td>Twitter for iPhone</td>\n",
              "      <td>650</td>\n",
              "      <td>78851</td>\n",
              "      <td>17726</td>\n",
              "      <td>254</td>\n",
              "      <td>[trump, silent, cop, beat, veteran, put, hospi...</td>\n",
              "      <td>NJ-DC-NY-🌍</td>\n",
              "      <td>Positive</td>\n",
              "      <td>21</td>\n",
              "      <td>2</td>\n",
              "    </tr>\n",
              "    <tr>\n",
              "      <th>4</th>\n",
              "      <td>2020-07-21 23:58:51</td>\n",
              "      <td>1285725963024818183</td>\n",
              "      <td>False</td>\n",
              "      <td>@gtconway3d Speaking of falling, please be car...</td>\n",
              "      <td>dfwcitizen</td>\n",
              "      <td>• GOD BLESS AMERICA •</td>\n",
              "      <td>Twitter for iPhone</td>\n",
              "      <td>2</td>\n",
              "      <td>5333</td>\n",
              "      <td>375</td>\n",
              "      <td>0</td>\n",
              "      <td>[speak, fall, pleas, care, climb, chairthos, p...</td>\n",
              "      <td>• GOD BLESS AMERICA •</td>\n",
              "      <td>Positive</td>\n",
              "      <td>21</td>\n",
              "      <td>2</td>\n",
              "    </tr>\n",
              "  </tbody>\n",
              "</table>\n",
              "</div>"
            ],
            "text/plain": [
              "                 Date             Tweet_id  ...  day sentiment_1\n",
              "0 2020-07-21 23:59:54  1285726226813014016  ...   21           2\n",
              "1 2020-07-21 23:59:51  1285726213001093127  ...   21           2\n",
              "2 2020-07-21 23:59:30  1285726126820794368  ...   21           0\n",
              "3 2020-07-21 23:59:20  1285726083455877121  ...   21           2\n",
              "4 2020-07-21 23:58:51  1285725963024818183  ...   21           2\n",
              "\n",
              "[5 rows x 16 columns]"
            ]
          },
          "metadata": {
            "tags": []
          },
          "execution_count": 332
        }
      ]
    },
    {
      "cell_type": "code",
      "metadata": {
        "id": "wsEHCuygu7eY",
        "colab_type": "code",
        "colab": {
          "base_uri": "https://localhost:8080/",
          "height": 381
        },
        "outputId": "94a254e0-632f-430a-ce23-4a574c7b7705"
      },
      "source": [
        "sns.countplot(df['day'],hue = df['sentiment'])"
      ],
      "execution_count": 333,
      "outputs": [
        {
          "output_type": "execute_result",
          "data": {
            "text/plain": [
              "<matplotlib.axes._subplots.AxesSubplot at 0x7fcd2dcb8b00>"
            ]
          },
          "metadata": {
            "tags": []
          },
          "execution_count": 333
        },
        {
          "output_type": "display_data",
          "data": {
            "image/png": "[encoded data removed]",
            "text/plain": [
              "<Figure size 1080x360 with 1 Axes>"
            ]
          },
          "metadata": {
            "tags": []
          }
        }
      ]
    },
    {
      "cell_type": "code",
      "metadata": {
        "id": "hAeof9LCvJYy",
        "colab_type": "code",
        "colab": {}
      },
      "source": [
        "le = LabelEncoder()  \n"
      ],
      "execution_count": 334,
      "outputs": []
    },
    {
      "cell_type": "code",
      "metadata": {
        "id": "VII6y2JkEsnT",
        "colab_type": "code",
        "colab": {}
      },
      "source": [
        "df1['sentiment'] = df1['sentiment'] .astype(str)"
      ],
      "execution_count": 335,
      "outputs": []
    },
    {
      "cell_type": "code",
      "metadata": {
        "id": "EDNUxeNHCIxI",
        "colab_type": "code",
        "colab": {}
      },
      "source": [
        "df1['sentiment_1']= le.fit_transform(df1['sentiment'])"
      ],
      "execution_count": 336,
      "outputs": []
    },
    {
      "cell_type": "code",
      "metadata": {
        "id": "GQeA77AtPR6p",
        "colab_type": "code",
        "colab": {}
      },
      "source": [
        "Df2 = df1.query('sentiment_1 != 3')"
      ],
      "execution_count": 337,
      "outputs": []
    },
    {
      "cell_type": "code",
      "metadata": {
        "id": "T7DM2xUXvPDU",
        "colab_type": "code",
        "colab": {
          "base_uri": "https://localhost:8080/",
          "height": 903
        },
        "outputId": "abe38edd-73ed-4ed1-a58c-7838c7fe848f"
      },
      "source": [
        "df1"
      ],
      "execution_count": 338,
      "outputs": [
        {
          "output_type": "execute_result",
          "data": {
            "text/html": [
              "<div>\n",
              "<style scoped>\n",
              "    .dataframe tbody tr th:only-of-type {\n",
              "        vertical-align: middle;\n",
              "    }\n",
              "\n",
              "    .dataframe tbody tr th {\n",
              "        vertical-align: top;\n",
              "    }\n",
              "\n",
              "    .dataframe thead th {\n",
              "        text-align: right;\n",
              "    }\n",
              "</style>\n",
              "<table border=\"1\" class=\"dataframe\">\n",
              "  <thead>\n",
              "    <tr style=\"text-align: right;\">\n",
              "      <th></th>\n",
              "      <th>Date</th>\n",
              "      <th>Tweet_id</th>\n",
              "      <th>Verified</th>\n",
              "      <th>Tweet</th>\n",
              "      <th>User</th>\n",
              "      <th>Location</th>\n",
              "      <th>Source</th>\n",
              "      <th>Likes</th>\n",
              "      <th>Followers</th>\n",
              "      <th>Following</th>\n",
              "      <th>Retweets</th>\n",
              "      <th>Processed_Tweet</th>\n",
              "      <th>Processed_Location</th>\n",
              "      <th>sentiment</th>\n",
              "      <th>day</th>\n",
              "      <th>sentiment_1</th>\n",
              "    </tr>\n",
              "  </thead>\n",
              "  <tbody>\n",
              "    <tr>\n",
              "      <th>0</th>\n",
              "      <td>2020-07-21 23:59:54</td>\n",
              "      <td>1285726226813014016</td>\n",
              "      <td>False</td>\n",
              "      <td>You are amazing, @chicagosmayor.  I hope you g...</td>\n",
              "      <td>rathacat</td>\n",
              "      <td>Patterson, CA</td>\n",
              "      <td>Twitter Web App</td>\n",
              "      <td>1</td>\n",
              "      <td>2429</td>\n",
              "      <td>3710</td>\n",
              "      <td>0</td>\n",
              "      <td>[amaz, hope, get, support, need, resist, trump...</td>\n",
              "      <td>Patterson</td>\n",
              "      <td>Positive</td>\n",
              "      <td>21</td>\n",
              "      <td>2</td>\n",
              "    </tr>\n",
              "    <tr>\n",
              "      <th>1</th>\n",
              "      <td>2020-07-21 23:59:51</td>\n",
              "      <td>1285726213001093127</td>\n",
              "      <td>False</td>\n",
              "      <td>#Trump finally admitted that the spread of the...</td>\n",
              "      <td>Nor_Kan_1965</td>\n",
              "      <td>USA</td>\n",
              "      <td>Twitter for Android</td>\n",
              "      <td>1</td>\n",
              "      <td>112</td>\n",
              "      <td>73</td>\n",
              "      <td>1</td>\n",
              "      <td>[trump, final, admit, spread, coronaviru, get,...</td>\n",
              "      <td>USA</td>\n",
              "      <td>Positive</td>\n",
              "      <td>21</td>\n",
              "      <td>2</td>\n",
              "    </tr>\n",
              "    <tr>\n",
              "      <th>2</th>\n",
              "      <td>2020-07-21 23:59:30</td>\n",
              "      <td>1285726126820794368</td>\n",
              "      <td>False</td>\n",
              "      <td>@NavygirlLaura @GOP A sure sign the #GOP party...</td>\n",
              "      <td>ShannsolSolberg</td>\n",
              "      <td>Texas, USA</td>\n",
              "      <td>Twitter for iPhone</td>\n",
              "      <td>1</td>\n",
              "      <td>1359</td>\n",
              "      <td>1745</td>\n",
              "      <td>0</td>\n",
              "      <td>[sure, sign, gop, parti, break, apart, start, ...</td>\n",
              "      <td>Texas</td>\n",
              "      <td>Negative</td>\n",
              "      <td>21</td>\n",
              "      <td>0</td>\n",
              "    </tr>\n",
              "    <tr>\n",
              "      <th>3</th>\n",
              "      <td>2020-07-21 23:59:20</td>\n",
              "      <td>1285726083455877121</td>\n",
              "      <td>False</td>\n",
              "      <td>Why is #Trump silent when cops beat a #Veteran...</td>\n",
              "      <td>in_pubs</td>\n",
              "      <td>NJ-DC-NY-🌍</td>\n",
              "      <td>Twitter for iPhone</td>\n",
              "      <td>650</td>\n",
              "      <td>78851</td>\n",
              "      <td>17726</td>\n",
              "      <td>254</td>\n",
              "      <td>[trump, silent, cop, beat, veteran, put, hospi...</td>\n",
              "      <td>NJ-DC-NY-🌍</td>\n",
              "      <td>Positive</td>\n",
              "      <td>21</td>\n",
              "      <td>2</td>\n",
              "    </tr>\n",
              "    <tr>\n",
              "      <th>4</th>\n",
              "      <td>2020-07-21 23:58:51</td>\n",
              "      <td>1285725963024818183</td>\n",
              "      <td>False</td>\n",
              "      <td>@gtconway3d Speaking of falling, please be car...</td>\n",
              "      <td>dfwcitizen</td>\n",
              "      <td>• GOD BLESS AMERICA •</td>\n",
              "      <td>Twitter for iPhone</td>\n",
              "      <td>2</td>\n",
              "      <td>5333</td>\n",
              "      <td>375</td>\n",
              "      <td>0</td>\n",
              "      <td>[speak, fall, pleas, care, climb, chairthos, p...</td>\n",
              "      <td>• GOD BLESS AMERICA •</td>\n",
              "      <td>Positive</td>\n",
              "      <td>21</td>\n",
              "      <td>2</td>\n",
              "    </tr>\n",
              "    <tr>\n",
              "      <th>...</th>\n",
              "      <td>...</td>\n",
              "      <td>...</td>\n",
              "      <td>...</td>\n",
              "      <td>...</td>\n",
              "      <td>...</td>\n",
              "      <td>...</td>\n",
              "      <td>...</td>\n",
              "      <td>...</td>\n",
              "      <td>...</td>\n",
              "      <td>...</td>\n",
              "      <td>...</td>\n",
              "      <td>...</td>\n",
              "      <td>...</td>\n",
              "      <td>...</td>\n",
              "      <td>...</td>\n",
              "      <td>...</td>\n",
              "    </tr>\n",
              "    <tr>\n",
              "      <th>47088</th>\n",
              "      <td>2020-07-14 13:00:29</td>\n",
              "      <td>1283023564157923330</td>\n",
              "      <td>False</td>\n",
              "      <td>Looks like #BorisJohnson is pandering to #Trum...</td>\n",
              "      <td>BananaaAlana</td>\n",
              "      <td>Salford, England</td>\n",
              "      <td>Twitter for iPhone</td>\n",
              "      <td>0</td>\n",
              "      <td>804</td>\n",
              "      <td>1447</td>\n",
              "      <td>0</td>\n",
              "      <td>[look, like, borisjohnson, pander, trump, read...</td>\n",
              "      <td>Salford</td>\n",
              "      <td>Positive</td>\n",
              "      <td>14</td>\n",
              "      <td>2</td>\n",
              "    </tr>\n",
              "    <tr>\n",
              "      <th>47089</th>\n",
              "      <td>2020-07-14 13:00:28</td>\n",
              "      <td>1283023556855705600</td>\n",
              "      <td>False</td>\n",
              "      <td>This is what the US map MUST look like on NOVE...</td>\n",
              "      <td>Deleno12</td>\n",
              "      <td>America 🇺🇸🇺🇸</td>\n",
              "      <td>Hypefury</td>\n",
              "      <td>4</td>\n",
              "      <td>493</td>\n",
              "      <td>226</td>\n",
              "      <td>3</td>\n",
              "      <td>[map, must, look, like, novemb, like, agre, vo...</td>\n",
              "      <td>America 🇺🇸🇺🇸</td>\n",
              "      <td>Negative</td>\n",
              "      <td>14</td>\n",
              "      <td>0</td>\n",
              "    </tr>\n",
              "    <tr>\n",
              "      <th>47090</th>\n",
              "      <td>2020-07-14 13:00:24</td>\n",
              "      <td>1283023541496156162</td>\n",
              "      <td>False</td>\n",
              "      <td>@thehill Death-count 7/14 in countries that to...</td>\n",
              "      <td>tomfervoy</td>\n",
              "      <td>New York, NY</td>\n",
              "      <td>Twitter for iPhone</td>\n",
              "      <td>10</td>\n",
              "      <td>442</td>\n",
              "      <td>1085</td>\n",
              "      <td>7</td>\n",
              "      <td>[death, count, countri, took, prompt, aggress,...</td>\n",
              "      <td>New York</td>\n",
              "      <td>Neutral</td>\n",
              "      <td>14</td>\n",
              "      <td>1</td>\n",
              "    </tr>\n",
              "    <tr>\n",
              "      <th>47091</th>\n",
              "      <td>2020-07-14 13:00:20</td>\n",
              "      <td>1283023527164227584</td>\n",
              "      <td>False</td>\n",
              "      <td>To be human, one has to possess empathy and mo...</td>\n",
              "      <td>CFaurholt</td>\n",
              "      <td>San Diego, CA</td>\n",
              "      <td>Twitter Web App</td>\n",
              "      <td>0</td>\n",
              "      <td>125</td>\n",
              "      <td>774</td>\n",
              "      <td>0</td>\n",
              "      <td>[human, one, possess, empathi, moral, daniel, ...</td>\n",
              "      <td>San Diego</td>\n",
              "      <td>Neutral</td>\n",
              "      <td>14</td>\n",
              "      <td>1</td>\n",
              "    </tr>\n",
              "    <tr>\n",
              "      <th>47092</th>\n",
              "      <td>2020-07-14 13:00:05</td>\n",
              "      <td>1283023460826931200</td>\n",
              "      <td>False</td>\n",
              "      <td>Douglas London, a former CIA senior operations...</td>\n",
              "      <td>newsbubble3</td>\n",
              "      <td>USA</td>\n",
              "      <td>newsoath</td>\n",
              "      <td>0</td>\n",
              "      <td>27</td>\n",
              "      <td>365</td>\n",
              "      <td>0</td>\n",
              "      <td>[dougla, london, former, cia, senior, oper, of...</td>\n",
              "      <td>USA</td>\n",
              "      <td>nan</td>\n",
              "      <td>14</td>\n",
              "      <td>3</td>\n",
              "    </tr>\n",
              "  </tbody>\n",
              "</table>\n",
              "<p>47092 rows × 16 columns</p>\n",
              "</div>"
            ],
            "text/plain": [
              "                     Date             Tweet_id  ...  day sentiment_1\n",
              "0     2020-07-21 23:59:54  1285726226813014016  ...   21           2\n",
              "1     2020-07-21 23:59:51  1285726213001093127  ...   21           2\n",
              "2     2020-07-21 23:59:30  1285726126820794368  ...   21           0\n",
              "3     2020-07-21 23:59:20  1285726083455877121  ...   21           2\n",
              "4     2020-07-21 23:58:51  1285725963024818183  ...   21           2\n",
              "...                   ...                  ...  ...  ...         ...\n",
              "47088 2020-07-14 13:00:29  1283023564157923330  ...   14           2\n",
              "47089 2020-07-14 13:00:28  1283023556855705600  ...   14           0\n",
              "47090 2020-07-14 13:00:24  1283023541496156162  ...   14           1\n",
              "47091 2020-07-14 13:00:20  1283023527164227584  ...   14           1\n",
              "47092 2020-07-14 13:00:05  1283023460826931200  ...   14           3\n",
              "\n",
              "[47092 rows x 16 columns]"
            ]
          },
          "metadata": {
            "tags": []
          },
          "execution_count": 338
        }
      ]
    },
    {
      "cell_type": "code",
      "metadata": {
        "id": "A0acMiw3KQsh",
        "colab_type": "code",
        "colab": {
          "base_uri": "https://localhost:8080/",
          "height": 35
        },
        "outputId": "7e235605-110d-4dd4-abec-81f7c71ef4d9"
      },
      "source": [
        "df1.sentiment.isnull().sum()"
      ],
      "execution_count": 339,
      "outputs": [
        {
          "output_type": "execute_result",
          "data": {
            "text/plain": [
              "0"
            ]
          },
          "metadata": {
            "tags": []
          },
          "execution_count": 339
        }
      ]
    }
  ]
}